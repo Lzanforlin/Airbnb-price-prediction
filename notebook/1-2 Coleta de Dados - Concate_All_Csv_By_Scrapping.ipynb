{
 "cells": [
  {
   "cell_type": "markdown",
   "metadata": {},
   "source": [
    "# 1.2 Contat All CSV by Scrapping"
   ]
  },
  {
   "cell_type": "code",
   "execution_count": 15,
   "metadata": {},
   "outputs": [],
   "source": [
    "import pandas as pd\n",
    "import numpy as np\n",
    "import os\n",
    "import sys\n",
    "sys.path.append('..')"
   ]
  },
  {
   "cell_type": "code",
   "execution_count": 16,
   "metadata": {},
   "outputs": [],
   "source": [
    "# Import das extrações em csv através de scrapping:\n",
    "\n",
    "guaruja1 = pd.read_csv('../data/data_scrapping/airbnb_guaruja_fev.csv')\n",
    "guaruja2= pd.read_csv('../data/data_scrapping/airbnb_guaruja_mar.csv')\n",
    "praiagrande1 = pd.read_csv('../data/data_scrapping/airbnb_praiagrande_fev.csv')\n",
    "praiagrande2 = pd.read_csv('../data/data_scrapping/airbnb_praiagrande_mar.csv')\n",
    "santos1 = pd.read_csv('../data/data_scrapping/airbnb_santos_fevereiro.csv')\n",
    "santos2 = pd.read_csv('../data/data_scrapping/airbnb_santos_marco_.csv')\n",
    "santos3 = pd.read_csv('../data/data_scrapping/airbnb_santos_abril_.csv')\n",
    "santos4 = pd.read_csv('../data/data_scrapping/airbnbsantos_extracao_24012021_com_id.csv')\n",
    "mongagua1 = pd.read_csv('../data/data_scrapping/airbnb_monguagua_fev.csv')\n",
    "mongagua2 = pd.read_csv('../data/data_scrapping/airbnb_monguagua_mar.csv')\n",
    "bertioga1 = pd.read_csv('../data/data_scrapping/airbnb_bertioga_fev.csv')\n",
    "bertioga2 = pd.read_csv('../data/data_scrapping/airbnb_bertioga_mar.csv')\n",
    "itanhaem1 = pd.read_csv('../data/data_scrapping/airbnb_itanhaem_fev.csv')\n",
    "itanhaem2 = pd.read_csv('../data/data_scrapping/airbnb_itanhaem_mar.csv')\n",
    "peruibe1 = pd.read_csv('../data/data_scrapping/airbnb_peruibe_fev.csv')\n",
    "peruibe2 = pd.read_csv('../data/data_scrapping/airbnb_peruibe_mar.csv')"
   ]
  },
  {
   "cell_type": "code",
   "execution_count": 17,
   "metadata": {},
   "outputs": [],
   "source": [
    "# Concat nos DataFrames\n",
    "df_baixada = pd.concat([guaruja1, \n",
    "                                guaruja2, \n",
    "                                praiagrande1,\n",
    "                                praiagrande2,\n",
    "                                santos1,\n",
    "                                santos2,\n",
    "                                santos3,\n",
    "                                santos4,\n",
    "                                mongagua1,\n",
    "                                mongagua2,\n",
    "                                bertioga1,\n",
    "                               bertioga2,\n",
    "                               itanhaem1,\n",
    "                               itanhaem2,\n",
    "                               peruibe1,\n",
    "                               peruibe2], ignore_index=True)"
   ]
  },
  {
   "cell_type": "code",
   "execution_count": 18,
   "metadata": {},
   "outputs": [
    {
     "data": {
      "text/plain": [
       "(7675, 19)"
      ]
     },
     "execution_count": 18,
     "metadata": {},
     "output_type": "execute_result"
    }
   ],
   "source": [
    "df_baixada.shape"
   ]
  },
  {
   "cell_type": "code",
   "execution_count": 19,
   "metadata": {},
   "outputs": [],
   "source": [
    "df_baixada = df_baixada.drop_duplicates(keep='first')"
   ]
  },
  {
   "cell_type": "code",
   "execution_count": 20,
   "metadata": {},
   "outputs": [
    {
     "data": {
      "text/html": [
       "<div>\n",
       "<style scoped>\n",
       "    .dataframe tbody tr th:only-of-type {\n",
       "        vertical-align: middle;\n",
       "    }\n",
       "\n",
       "    .dataframe tbody tr th {\n",
       "        vertical-align: top;\n",
       "    }\n",
       "\n",
       "    .dataframe thead th {\n",
       "        text-align: right;\n",
       "    }\n",
       "</style>\n",
       "<table border=\"1\" class=\"dataframe\">\n",
       "  <thead>\n",
       "    <tr style=\"text-align: right;\">\n",
       "      <th></th>\n",
       "      <th>Unnamed: 0</th>\n",
       "      <th>id</th>\n",
       "      <th>check-in</th>\n",
       "      <th>check-out</th>\n",
       "      <th>titulo</th>\n",
       "      <th>titulo_2</th>\n",
       "      <th>atributo_1</th>\n",
       "      <th>atributo_2</th>\n",
       "      <th>atributo_3</th>\n",
       "      <th>atributo_4</th>\n",
       "      <th>atributo_5</th>\n",
       "      <th>atributo_6</th>\n",
       "      <th>atributo_7</th>\n",
       "      <th>atributo_8</th>\n",
       "      <th>avaliação</th>\n",
       "      <th>comentários</th>\n",
       "      <th>preço</th>\n",
       "      <th>preço_total</th>\n",
       "      <th>superhost</th>\n",
       "    </tr>\n",
       "  </thead>\n",
       "  <tbody>\n",
       "    <tr>\n",
       "      <th>0</th>\n",
       "      <td>0</td>\n",
       "      <td>20193688</td>\n",
       "      <td>2021-02-26</td>\n",
       "      <td>2021-02-28</td>\n",
       "      <td>Apartamento inteiro em Jardim Las Palmas</td>\n",
       "      <td>Astúrias Apto aconchegante perto da praia</td>\n",
       "      <td>2 hóspedes</td>\n",
       "      <td>1 quarto</td>\n",
       "      <td>1 cama</td>\n",
       "      <td>1 banheiro</td>\n",
       "      <td>Ar-condicionado</td>\n",
       "      <td>Piscina</td>\n",
       "      <td>Cozinha</td>\n",
       "      <td>Estacionamento gratuito</td>\n",
       "      <td>4.82</td>\n",
       "      <td>46</td>\n",
       "      <td>228.0</td>\n",
       "      <td>456.0</td>\n",
       "      <td>Novo preço mais baixo</td>\n",
       "    </tr>\n",
       "    <tr>\n",
       "      <th>1</th>\n",
       "      <td>1</td>\n",
       "      <td>37237280</td>\n",
       "      <td>2021-02-26</td>\n",
       "      <td>2021-02-28</td>\n",
       "      <td>Quarto inteiro em Pitangueiras</td>\n",
       "      <td>Suíte Guarujá apto Frente Mar 2</td>\n",
       "      <td>7 hóspedes</td>\n",
       "      <td>1 quarto</td>\n",
       "      <td>4 camas</td>\n",
       "      <td>1 banheiro e meio</td>\n",
       "      <td>Wi-Fi</td>\n",
       "      <td>Cozinha</td>\n",
       "      <td>Permitido animais</td>\n",
       "      <td>Elevador</td>\n",
       "      <td>4.67</td>\n",
       "      <td>21</td>\n",
       "      <td>185.0</td>\n",
       "      <td>369.0</td>\n",
       "      <td>Novo preço mais baixo</td>\n",
       "    </tr>\n",
       "    <tr>\n",
       "      <th>2</th>\n",
       "      <td>2</td>\n",
       "      <td>44419309</td>\n",
       "      <td>2021-02-26</td>\n",
       "      <td>2021-02-28</td>\n",
       "      <td>Apartamento inteiro em José Menino</td>\n",
       "      <td>Charmoso apartamento em Santos na quadra da praia</td>\n",
       "      <td>4 hóspedes</td>\n",
       "      <td>1 quarto</td>\n",
       "      <td>1 cama</td>\n",
       "      <td>1 banheiro</td>\n",
       "      <td>Wi-Fi</td>\n",
       "      <td>Ar-condicionado</td>\n",
       "      <td>Cozinha</td>\n",
       "      <td>Estacionamento gratuito</td>\n",
       "      <td>4.84</td>\n",
       "      <td>25</td>\n",
       "      <td>171.0</td>\n",
       "      <td>342.0</td>\n",
       "      <td>Novo preço mais baixo</td>\n",
       "    </tr>\n",
       "    <tr>\n",
       "      <th>3</th>\n",
       "      <td>3</td>\n",
       "      <td>39763299</td>\n",
       "      <td>2021-02-26</td>\n",
       "      <td>2021-02-28</td>\n",
       "      <td>Apartamento inteiro em José Menino</td>\n",
       "      <td>Conforto,frente à praia do José menino/Santos</td>\n",
       "      <td>3 hóspedes</td>\n",
       "      <td>Estúdio</td>\n",
       "      <td>2 camas</td>\n",
       "      <td>1 banheiro</td>\n",
       "      <td>Cozinha</td>\n",
       "      <td>Permitido animais</td>\n",
       "      <td>Elevador</td>\n",
       "      <td>Vista para o mar</td>\n",
       "      <td>4.65</td>\n",
       "      <td>51</td>\n",
       "      <td>108.0</td>\n",
       "      <td>296.0</td>\n",
       "      <td>Novo preço mais baixo</td>\n",
       "    </tr>\n",
       "    <tr>\n",
       "      <th>4</th>\n",
       "      <td>4</td>\n",
       "      <td>20774709</td>\n",
       "      <td>2021-02-26</td>\n",
       "      <td>2021-02-28</td>\n",
       "      <td>Apartamento inteiro em Guarujá, Pitangueiras C...</td>\n",
       "      <td>Guarujá Centro Pitangueiras Wi-Fi</td>\n",
       "      <td>4 hóspedes</td>\n",
       "      <td>1 quarto</td>\n",
       "      <td>3 camas</td>\n",
       "      <td>1 banheiro</td>\n",
       "      <td>Cozinha</td>\n",
       "      <td>Estacionamento gratuito</td>\n",
       "      <td>Permitido animais</td>\n",
       "      <td>Elevador</td>\n",
       "      <td>4.49</td>\n",
       "      <td>97</td>\n",
       "      <td>188.0</td>\n",
       "      <td>456.0</td>\n",
       "      <td>Novo preço mais baixo</td>\n",
       "    </tr>\n",
       "  </tbody>\n",
       "</table>\n",
       "</div>"
      ],
      "text/plain": [
       "   Unnamed: 0        id    check-in   check-out  \\\n",
       "0           0  20193688  2021-02-26  2021-02-28   \n",
       "1           1  37237280  2021-02-26  2021-02-28   \n",
       "2           2  44419309  2021-02-26  2021-02-28   \n",
       "3           3  39763299  2021-02-26  2021-02-28   \n",
       "4           4  20774709  2021-02-26  2021-02-28   \n",
       "\n",
       "                                              titulo  \\\n",
       "0           Apartamento inteiro em Jardim Las Palmas   \n",
       "1                     Quarto inteiro em Pitangueiras   \n",
       "2                 Apartamento inteiro em José Menino   \n",
       "3                 Apartamento inteiro em José Menino   \n",
       "4  Apartamento inteiro em Guarujá, Pitangueiras C...   \n",
       "\n",
       "                                            titulo_2  atributo_1 atributo_2  \\\n",
       "0          Astúrias Apto aconchegante perto da praia  2 hóspedes   1 quarto   \n",
       "1                    Suíte Guarujá apto Frente Mar 2  7 hóspedes   1 quarto   \n",
       "2  Charmoso apartamento em Santos na quadra da praia  4 hóspedes   1 quarto   \n",
       "3      Conforto,frente à praia do José menino/Santos  3 hóspedes    Estúdio   \n",
       "4                  Guarujá Centro Pitangueiras Wi-Fi  4 hóspedes   1 quarto   \n",
       "\n",
       "  atributo_3         atributo_4       atributo_5               atributo_6  \\\n",
       "0     1 cama         1 banheiro  Ar-condicionado                  Piscina   \n",
       "1    4 camas  1 banheiro e meio            Wi-Fi                  Cozinha   \n",
       "2     1 cama         1 banheiro            Wi-Fi          Ar-condicionado   \n",
       "3    2 camas         1 banheiro          Cozinha        Permitido animais   \n",
       "4    3 camas         1 banheiro          Cozinha  Estacionamento gratuito   \n",
       "\n",
       "          atributo_7               atributo_8  avaliação  comentários  preço  \\\n",
       "0            Cozinha  Estacionamento gratuito       4.82           46  228.0   \n",
       "1  Permitido animais                 Elevador       4.67           21  185.0   \n",
       "2            Cozinha  Estacionamento gratuito       4.84           25  171.0   \n",
       "3           Elevador         Vista para o mar       4.65           51  108.0   \n",
       "4  Permitido animais                 Elevador       4.49           97  188.0   \n",
       "\n",
       "   preço_total              superhost  \n",
       "0        456.0  Novo preço mais baixo  \n",
       "1        369.0  Novo preço mais baixo  \n",
       "2        342.0  Novo preço mais baixo  \n",
       "3        296.0  Novo preço mais baixo  \n",
       "4        456.0  Novo preço mais baixo  "
      ]
     },
     "execution_count": 20,
     "metadata": {},
     "output_type": "execute_result"
    }
   ],
   "source": [
    "df_baixada.head()"
   ]
  },
  {
   "cell_type": "code",
   "execution_count": 21,
   "metadata": {},
   "outputs": [],
   "source": [
    "# Correção de erros da extração via Scrapping\n",
    "df_baixada['check-out'] = df_baixada['check-out'].replace('previous_page_section_name=1000', '2021-05-02')"
   ]
  },
  {
   "cell_type": "code",
   "execution_count": 22,
   "metadata": {},
   "outputs": [
    {
     "data": {
      "text/plain": [
       "array(['2021-02-28', '2021-02-14', '2021-02-21', '2021-03-28',\n",
       "       '2021-03-07', '2021-03-21', '2021-03-14', '2021-04-11',\n",
       "       '2021-04-25', '2021-04-04', '2021-04-18', '2021-05-02',\n",
       "       '2021-01-31'], dtype=object)"
      ]
     },
     "execution_count": 22,
     "metadata": {},
     "output_type": "execute_result"
    }
   ],
   "source": [
    "df_baixada['check-out'].unique()"
   ]
  },
  {
   "cell_type": "markdown",
   "metadata": {},
   "source": [
    "# 1.2.1 - Função Limpeza Scrapping"
   ]
  },
  {
   "cell_type": "code",
   "execution_count": 23,
   "metadata": {},
   "outputs": [],
   "source": [
    "def limpeza (dataset):\n",
    "    \"\"\"\n",
    "    Funccion of cleaness\n",
    "    dataset: Name of dataframe extracted from AirBnb's scraping\n",
    "    \"\"\"\n",
    "    #drop da coluna unnamed\n",
    "    dataset.drop(['Unnamed: 0'], axis=1, inplace=True)\n",
    "    \n",
    "    #rename columns:\n",
    "    dataset = dataset.rename(columns={'id': 'ID', \n",
    "                                      'check-in': 'Check-In', \n",
    "                                      'check-out': 'Check-Out',\n",
    "                                       'titulo': 'Localização', \n",
    "                                      'atributo_1': 'Número Hóspedes',\n",
    "                                       'atributo_2': 'Número Quartos', \n",
    "                                      'atributo_3': 'Número Camas',\n",
    "                                       'atributo_4': 'Número Banheiros', \n",
    "                                      'atributo_5':'Plus 1',\n",
    "                                      'atributo_6':'Plus 2',\n",
    "                                       'atributo_7':'Plus 3',\n",
    "                                      'atributo_8':'Plus 4', \n",
    "                                      'avaliação':'Avaliação',\n",
    "                                        'comentários': 'Número Comentários', \n",
    "                                      'preço': 'Preço/Noite',\n",
    "                                      'preço_total': 'Preço com taxas',\n",
    "                                       'superhost': 'Superhost'})\n",
    "    #Find out Neighborhood:\n",
    "    dataset['Localização'] = dataset['Localização'].str.replace('Apartamento inteiro em ','')\n",
    "    dataset['Localização'] = dataset['Localização'].str.replace('Condomínio inteiro em ','')\n",
    "    dataset['Localização'] = dataset['Localização'].str.replace('Quarto inteiro em ','')\n",
    "    dataset['Localização'] = dataset['Localização'].str.replace('Flat inteiro em ','')\n",
    "    dataset['Localização'] = dataset['Localização'].str.replace('Loft inteiro em ','')\n",
    "    dataset['Localização'] = dataset['Localização'].str.replace('Suíte de visitas inteira em ','')\n",
    "    \n",
    "    #Only numbers\n",
    "    dataset['Número Hóspedes'] = dataset['Número Hóspedes'].str.replace(' hóspedes','')\n",
    "    dataset['Número Quartos'] = dataset['Número Quartos'].str.replace(' quartos','')\n",
    "    dataset['Número Quartos'] = dataset['Número Quartos'].str.replace(' quarto','')\n",
    "    dataset['Número Camas'] = dataset['Número Camas'].str.replace(' camas','')\n",
    "    dataset['Número Camas'] = dataset['Número Camas'].str.replace(' cama','')\n",
    "    dataset['Número Banheiros'] = dataset['Número Banheiros'].str.replace(' banheiros','')\n",
    "    dataset['Número Banheiros'] = dataset['Número Banheiros'].str.replace(' banheiro','')\n",
    "    \n",
    "    x = dataset.drop_duplicates('Localização')\n",
    "    np.array(x['Localização'])\n",
    "    \n",
    "    # Datatime transforming\n",
    "    dataset['ID'] = dataset['ID'].astype('object')\n",
    "    dataset['Check-In'] = pd.to_datetime(dataset['Check-In'], format='%Y-%m-%d')\n",
    "    dataset['Check-Out'] = pd.to_datetime(dataset['Check-Out'], format='%Y-%m-%d')\n",
    "    \n",
    "    return dataset "
   ]
  },
  {
   "cell_type": "code",
   "execution_count": 24,
   "metadata": {},
   "outputs": [
    {
     "data": {
      "text/html": [
       "<div>\n",
       "<style scoped>\n",
       "    .dataframe tbody tr th:only-of-type {\n",
       "        vertical-align: middle;\n",
       "    }\n",
       "\n",
       "    .dataframe tbody tr th {\n",
       "        vertical-align: top;\n",
       "    }\n",
       "\n",
       "    .dataframe thead th {\n",
       "        text-align: right;\n",
       "    }\n",
       "</style>\n",
       "<table border=\"1\" class=\"dataframe\">\n",
       "  <thead>\n",
       "    <tr style=\"text-align: right;\">\n",
       "      <th></th>\n",
       "      <th>ID</th>\n",
       "      <th>Check-In</th>\n",
       "      <th>Check-Out</th>\n",
       "      <th>Localização</th>\n",
       "      <th>titulo_2</th>\n",
       "      <th>Número Hóspedes</th>\n",
       "      <th>Número Quartos</th>\n",
       "      <th>Número Camas</th>\n",
       "      <th>Número Banheiros</th>\n",
       "      <th>Plus 1</th>\n",
       "      <th>Plus 2</th>\n",
       "      <th>Plus 3</th>\n",
       "      <th>Plus 4</th>\n",
       "      <th>Avaliação</th>\n",
       "      <th>Número Comentários</th>\n",
       "      <th>Preço/Noite</th>\n",
       "      <th>Preço com taxas</th>\n",
       "      <th>Superhost</th>\n",
       "    </tr>\n",
       "  </thead>\n",
       "  <tbody>\n",
       "    <tr>\n",
       "      <th>0</th>\n",
       "      <td>20193688</td>\n",
       "      <td>2021-02-26</td>\n",
       "      <td>2021-02-28</td>\n",
       "      <td>Jardim Las Palmas</td>\n",
       "      <td>Astúrias Apto aconchegante perto da praia</td>\n",
       "      <td>2</td>\n",
       "      <td>1</td>\n",
       "      <td>1</td>\n",
       "      <td>1</td>\n",
       "      <td>Ar-condicionado</td>\n",
       "      <td>Piscina</td>\n",
       "      <td>Cozinha</td>\n",
       "      <td>Estacionamento gratuito</td>\n",
       "      <td>4.82</td>\n",
       "      <td>46</td>\n",
       "      <td>228.0</td>\n",
       "      <td>456.0</td>\n",
       "      <td>Novo preço mais baixo</td>\n",
       "    </tr>\n",
       "    <tr>\n",
       "      <th>1</th>\n",
       "      <td>37237280</td>\n",
       "      <td>2021-02-26</td>\n",
       "      <td>2021-02-28</td>\n",
       "      <td>Pitangueiras</td>\n",
       "      <td>Suíte Guarujá apto Frente Mar 2</td>\n",
       "      <td>7</td>\n",
       "      <td>1</td>\n",
       "      <td>4</td>\n",
       "      <td>1 e meio</td>\n",
       "      <td>Wi-Fi</td>\n",
       "      <td>Cozinha</td>\n",
       "      <td>Permitido animais</td>\n",
       "      <td>Elevador</td>\n",
       "      <td>4.67</td>\n",
       "      <td>21</td>\n",
       "      <td>185.0</td>\n",
       "      <td>369.0</td>\n",
       "      <td>Novo preço mais baixo</td>\n",
       "    </tr>\n",
       "    <tr>\n",
       "      <th>2</th>\n",
       "      <td>44419309</td>\n",
       "      <td>2021-02-26</td>\n",
       "      <td>2021-02-28</td>\n",
       "      <td>José Menino</td>\n",
       "      <td>Charmoso apartamento em Santos na quadra da praia</td>\n",
       "      <td>4</td>\n",
       "      <td>1</td>\n",
       "      <td>1</td>\n",
       "      <td>1</td>\n",
       "      <td>Wi-Fi</td>\n",
       "      <td>Ar-condicionado</td>\n",
       "      <td>Cozinha</td>\n",
       "      <td>Estacionamento gratuito</td>\n",
       "      <td>4.84</td>\n",
       "      <td>25</td>\n",
       "      <td>171.0</td>\n",
       "      <td>342.0</td>\n",
       "      <td>Novo preço mais baixo</td>\n",
       "    </tr>\n",
       "    <tr>\n",
       "      <th>3</th>\n",
       "      <td>39763299</td>\n",
       "      <td>2021-02-26</td>\n",
       "      <td>2021-02-28</td>\n",
       "      <td>José Menino</td>\n",
       "      <td>Conforto,frente à praia do José menino/Santos</td>\n",
       "      <td>3</td>\n",
       "      <td>Estúdio</td>\n",
       "      <td>2</td>\n",
       "      <td>1</td>\n",
       "      <td>Cozinha</td>\n",
       "      <td>Permitido animais</td>\n",
       "      <td>Elevador</td>\n",
       "      <td>Vista para o mar</td>\n",
       "      <td>4.65</td>\n",
       "      <td>51</td>\n",
       "      <td>108.0</td>\n",
       "      <td>296.0</td>\n",
       "      <td>Novo preço mais baixo</td>\n",
       "    </tr>\n",
       "    <tr>\n",
       "      <th>4</th>\n",
       "      <td>20774709</td>\n",
       "      <td>2021-02-26</td>\n",
       "      <td>2021-02-28</td>\n",
       "      <td>Guarujá, Pitangueiras Centro</td>\n",
       "      <td>Guarujá Centro Pitangueiras Wi-Fi</td>\n",
       "      <td>4</td>\n",
       "      <td>1</td>\n",
       "      <td>3</td>\n",
       "      <td>1</td>\n",
       "      <td>Cozinha</td>\n",
       "      <td>Estacionamento gratuito</td>\n",
       "      <td>Permitido animais</td>\n",
       "      <td>Elevador</td>\n",
       "      <td>4.49</td>\n",
       "      <td>97</td>\n",
       "      <td>188.0</td>\n",
       "      <td>456.0</td>\n",
       "      <td>Novo preço mais baixo</td>\n",
       "    </tr>\n",
       "  </tbody>\n",
       "</table>\n",
       "</div>"
      ],
      "text/plain": [
       "         ID   Check-In  Check-Out                   Localização  \\\n",
       "0  20193688 2021-02-26 2021-02-28             Jardim Las Palmas   \n",
       "1  37237280 2021-02-26 2021-02-28                  Pitangueiras   \n",
       "2  44419309 2021-02-26 2021-02-28                   José Menino   \n",
       "3  39763299 2021-02-26 2021-02-28                   José Menino   \n",
       "4  20774709 2021-02-26 2021-02-28  Guarujá, Pitangueiras Centro   \n",
       "\n",
       "                                            titulo_2 Número Hóspedes  \\\n",
       "0          Astúrias Apto aconchegante perto da praia               2   \n",
       "1                    Suíte Guarujá apto Frente Mar 2               7   \n",
       "2  Charmoso apartamento em Santos na quadra da praia               4   \n",
       "3      Conforto,frente à praia do José menino/Santos               3   \n",
       "4                  Guarujá Centro Pitangueiras Wi-Fi               4   \n",
       "\n",
       "  Número Quartos Número Camas Número Banheiros           Plus 1  \\\n",
       "0              1            1                1  Ar-condicionado   \n",
       "1              1            4         1 e meio            Wi-Fi   \n",
       "2              1            1                1            Wi-Fi   \n",
       "3        Estúdio            2                1          Cozinha   \n",
       "4              1            3                1          Cozinha   \n",
       "\n",
       "                    Plus 2             Plus 3                   Plus 4  \\\n",
       "0                  Piscina            Cozinha  Estacionamento gratuito   \n",
       "1                  Cozinha  Permitido animais                 Elevador   \n",
       "2          Ar-condicionado            Cozinha  Estacionamento gratuito   \n",
       "3        Permitido animais           Elevador         Vista para o mar   \n",
       "4  Estacionamento gratuito  Permitido animais                 Elevador   \n",
       "\n",
       "   Avaliação  Número Comentários  Preço/Noite  Preço com taxas  \\\n",
       "0       4.82                  46        228.0            456.0   \n",
       "1       4.67                  21        185.0            369.0   \n",
       "2       4.84                  25        171.0            342.0   \n",
       "3       4.65                  51        108.0            296.0   \n",
       "4       4.49                  97        188.0            456.0   \n",
       "\n",
       "               Superhost  \n",
       "0  Novo preço mais baixo  \n",
       "1  Novo preço mais baixo  \n",
       "2  Novo preço mais baixo  \n",
       "3  Novo preço mais baixo  \n",
       "4  Novo preço mais baixo  "
      ]
     },
     "execution_count": 24,
     "metadata": {},
     "output_type": "execute_result"
    }
   ],
   "source": [
    "df_baixada = limpeza(df_baixada)\n",
    "df_baixada.head()"
   ]
  },
  {
   "cell_type": "code",
   "execution_count": 25,
   "metadata": {},
   "outputs": [
    {
     "name": "stdout",
     "output_type": "stream",
     "text": [
      " 2412 linhas duplicadas\n"
     ]
    }
   ],
   "source": [
    "print(f\" {df_baixada.duplicated().sum()} linhas duplicadas\")"
   ]
  },
  {
   "cell_type": "code",
   "execution_count": 26,
   "metadata": {},
   "outputs": [
    {
     "name": "stdout",
     "output_type": "stream",
     "text": [
      "Total de 0 linhas duplicadas\n"
     ]
    }
   ],
   "source": [
    "df_baixada = df_baixada.drop_duplicates(keep='first')\n",
    "print(f\"Total de {df_baixada.duplicated().sum()} linhas duplicadas\")"
   ]
  },
  {
   "cell_type": "code",
   "execution_count": 27,
   "metadata": {},
   "outputs": [
    {
     "data": {
      "text/plain": [
       "878"
      ]
     },
     "execution_count": 27,
     "metadata": {},
     "output_type": "execute_result"
    }
   ],
   "source": [
    "len(df_baixada['ID'].unique())"
   ]
  },
  {
   "cell_type": "code",
   "execution_count": 28,
   "metadata": {},
   "outputs": [
    {
     "name": "stdout",
     "output_type": "stream",
     "text": [
      "Numero de linhas: 5262\n",
      "Numero de colunas: 18\n"
     ]
    }
   ],
   "source": [
    "print(f'Numero de linhas: {df_baixada.shape[0]}')\n",
    "print(f'Numero de colunas: {df_baixada.shape[1]}')"
   ]
  },
  {
   "cell_type": "code",
   "execution_count": 29,
   "metadata": {},
   "outputs": [
    {
     "data": {
      "text/plain": [
       "7375      1.022\n",
       "7306      1.022\n",
       "7350      1.022\n",
       "7218      1.106\n",
       "6754      1.106\n",
       "         ...   \n",
       "4589    975.000\n",
       "4432    975.000\n",
       "7308    989.000\n",
       "7307    989.000\n",
       "7360    989.000\n",
       "Name: Preço/Noite, Length: 5262, dtype: float64"
      ]
     },
     "execution_count": 29,
     "metadata": {},
     "output_type": "execute_result"
    }
   ],
   "source": [
    "# Segundo Teste\n",
    "df_baixada['Preço/Noite'].sort_values()"
   ]
  },
  {
   "cell_type": "markdown",
   "metadata": {},
   "source": [
    "# 1.2.3. Exportar CSV"
   ]
  },
  {
   "cell_type": "code",
   "execution_count": 30,
   "metadata": {},
   "outputs": [],
   "source": [
    "# Exportar para csv\n",
    "df_baixada.to_csv('../data/baixada_santista.csv')"
   ]
  }
 ],
 "metadata": {
  "kernelspec": {
   "display_name": "Python 3",
   "language": "python",
   "name": "python3"
  },
  "language_info": {
   "codemirror_mode": {
    "name": "ipython",
    "version": 3
   },
   "file_extension": ".py",
   "mimetype": "text/x-python",
   "name": "python",
   "nbconvert_exporter": "python",
   "pygments_lexer": "ipython3",
   "version": "3.8.3"
  }
 },
 "nbformat": 4,
 "nbformat_minor": 4
}
