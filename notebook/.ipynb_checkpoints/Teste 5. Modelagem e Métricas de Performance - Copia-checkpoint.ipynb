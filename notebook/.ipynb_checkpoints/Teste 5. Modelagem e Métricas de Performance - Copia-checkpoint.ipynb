{
 "cells": [
  {
   "cell_type": "markdown",
   "metadata": {},
   "source": [
    "# 5. Modelagem e Métricas de Performance"
   ]
  },
  {
   "cell_type": "code",
   "execution_count": 1,
   "metadata": {},
   "outputs": [],
   "source": [
    "# Libs:\n",
    "import pandas as pd\n",
    "import numpy as np\n",
    "pd.set_option('display.max_columns',30)\n",
    "import matplotlib.pyplot as plt\n",
    "import seaborn as sns\n",
    "\n",
    "from statsmodels.graphics.gofplots import qqplot\n",
    "import statsmodels.api as sm\n",
    "import scipy\n",
    "\n",
    "from sklearn.model_selection import RandomizedSearchCV\n",
    "from sklearn.model_selection import train_test_split, cross_validate, StratifiedKFold, RandomizedSearchCV, learning_curve\n",
    "from sklearn.model_selection import cross_val_score\n",
    "\n",
    "# Transformações:\n",
    "from sklearn.impute import SimpleImputer\n",
    "from sklearn.preprocessing import RobustScaler\n",
    "from sklearn.compose import ColumnTransformer\n",
    "from sklearn.pipeline import Pipeline\n",
    "\n",
    "# Modelos de regressão\n",
    "import statsmodels.api as sm\n",
    "import scipy.stats\n",
    "from sklearn.linear_model import LinearRegression\n",
    "from sklearn.neighbors import KNeighborsRegressor\n",
    "from sklearn.svm import SVR\n",
    "from sklearn.tree import DecisionTreeRegressor\n",
    "from sklearn.ensemble import RandomForestRegressor\n",
    "from lightgbm import LGBMRegressor\n",
    "\n",
    "# Métricas\n",
    "from sklearn.metrics import accuracy_score, precision_score, recall_score, fbeta_score, roc_auc_score, log_loss\n",
    "\n",
    "import warnings\n",
    "warnings.filterwarnings(\"ignore\")"
   ]
  },
  {
   "cell_type": "markdown",
   "metadata": {},
   "source": [
    "## Dados Constantes"
   ]
  },
  {
   "cell_type": "code",
   "execution_count": 2,
   "metadata": {},
   "outputs": [],
   "source": [
    "DATA_INPUT = '../data/DATA_feature_selected_V2.csv'\n",
    "SEED = 123"
   ]
  },
  {
   "cell_type": "code",
   "execution_count": 3,
   "metadata": {},
   "outputs": [],
   "source": [
    "df_train = pd.read_csv(DATA_INPUT)"
   ]
  },
  {
   "cell_type": "code",
   "execution_count": 4,
   "metadata": {},
   "outputs": [
    {
     "data": {
      "text/html": [
       "<div>\n",
       "<style scoped>\n",
       "    .dataframe tbody tr th:only-of-type {\n",
       "        vertical-align: middle;\n",
       "    }\n",
       "\n",
       "    .dataframe tbody tr th {\n",
       "        vertical-align: top;\n",
       "    }\n",
       "\n",
       "    .dataframe thead th {\n",
       "        text-align: right;\n",
       "    }\n",
       "</style>\n",
       "<table border=\"1\" class=\"dataframe\">\n",
       "  <thead>\n",
       "    <tr style=\"text-align: right;\">\n",
       "      <th></th>\n",
       "      <th>Unnamed: 0</th>\n",
       "      <th>Mes</th>\n",
       "      <th>Número Banheiros</th>\n",
       "      <th>Número Camas</th>\n",
       "      <th>Número Comentários</th>\n",
       "      <th>Número Hóspedes</th>\n",
       "      <th>Taxa</th>\n",
       "      <th>Raridade</th>\n",
       "      <th>Novo preço mais baixo</th>\n",
       "      <th>Permitido animais</th>\n",
       "      <th>Jacuzzi</th>\n",
       "      <th>Semana_do_ano</th>\n",
       "      <th>Localização</th>\n",
       "      <th>Academia</th>\n",
       "      <th>É outilier</th>\n",
       "      <th>Piscina</th>\n",
       "      <th>Preço/Noite</th>\n",
       "    </tr>\n",
       "  </thead>\n",
       "  <tbody>\n",
       "    <tr>\n",
       "      <th>0</th>\n",
       "      <td>0</td>\n",
       "      <td>3</td>\n",
       "      <td>1</td>\n",
       "      <td>3</td>\n",
       "      <td>18</td>\n",
       "      <td>4</td>\n",
       "      <td>60.0</td>\n",
       "      <td>0</td>\n",
       "      <td>1</td>\n",
       "      <td>0</td>\n",
       "      <td>0</td>\n",
       "      <td>9</td>\n",
       "      <td>0.029461</td>\n",
       "      <td>0</td>\n",
       "      <td>0</td>\n",
       "      <td>1</td>\n",
       "      <td>184.0</td>\n",
       "    </tr>\n",
       "    <tr>\n",
       "      <th>1</th>\n",
       "      <td>1</td>\n",
       "      <td>3</td>\n",
       "      <td>1</td>\n",
       "      <td>4</td>\n",
       "      <td>41</td>\n",
       "      <td>4</td>\n",
       "      <td>30.0</td>\n",
       "      <td>1</td>\n",
       "      <td>0</td>\n",
       "      <td>0</td>\n",
       "      <td>0</td>\n",
       "      <td>11</td>\n",
       "      <td>0.042766</td>\n",
       "      <td>0</td>\n",
       "      <td>0</td>\n",
       "      <td>1</td>\n",
       "      <td>198.0</td>\n",
       "    </tr>\n",
       "    <tr>\n",
       "      <th>2</th>\n",
       "      <td>2</td>\n",
       "      <td>3</td>\n",
       "      <td>2</td>\n",
       "      <td>8</td>\n",
       "      <td>7</td>\n",
       "      <td>10</td>\n",
       "      <td>0.0</td>\n",
       "      <td>1</td>\n",
       "      <td>0</td>\n",
       "      <td>0</td>\n",
       "      <td>0</td>\n",
       "      <td>9</td>\n",
       "      <td>0.003089</td>\n",
       "      <td>0</td>\n",
       "      <td>0</td>\n",
       "      <td>0</td>\n",
       "      <td>351.0</td>\n",
       "    </tr>\n",
       "    <tr>\n",
       "      <th>3</th>\n",
       "      <td>3</td>\n",
       "      <td>3</td>\n",
       "      <td>1</td>\n",
       "      <td>2</td>\n",
       "      <td>5</td>\n",
       "      <td>4</td>\n",
       "      <td>60.0</td>\n",
       "      <td>1</td>\n",
       "      <td>0</td>\n",
       "      <td>1</td>\n",
       "      <td>0</td>\n",
       "      <td>12</td>\n",
       "      <td>0.018769</td>\n",
       "      <td>0</td>\n",
       "      <td>0</td>\n",
       "      <td>0</td>\n",
       "      <td>191.0</td>\n",
       "    </tr>\n",
       "    <tr>\n",
       "      <th>4</th>\n",
       "      <td>4</td>\n",
       "      <td>2</td>\n",
       "      <td>1</td>\n",
       "      <td>4</td>\n",
       "      <td>3</td>\n",
       "      <td>4</td>\n",
       "      <td>58.0</td>\n",
       "      <td>0</td>\n",
       "      <td>1</td>\n",
       "      <td>1</td>\n",
       "      <td>0</td>\n",
       "      <td>8</td>\n",
       "      <td>0.018769</td>\n",
       "      <td>0</td>\n",
       "      <td>0</td>\n",
       "      <td>0</td>\n",
       "      <td>124.0</td>\n",
       "    </tr>\n",
       "  </tbody>\n",
       "</table>\n",
       "</div>"
      ],
      "text/plain": [
       "   Unnamed: 0  Mes  Número Banheiros  Número Camas  Número Comentários  \\\n",
       "0           0    3                 1             3                  18   \n",
       "1           1    3                 1             4                  41   \n",
       "2           2    3                 2             8                   7   \n",
       "3           3    3                 1             2                   5   \n",
       "4           4    2                 1             4                   3   \n",
       "\n",
       "   Número Hóspedes  Taxa  Raridade  Novo preço mais baixo  Permitido animais  \\\n",
       "0                4  60.0         0                      1                  0   \n",
       "1                4  30.0         1                      0                  0   \n",
       "2               10   0.0         1                      0                  0   \n",
       "3                4  60.0         1                      0                  1   \n",
       "4                4  58.0         0                      1                  1   \n",
       "\n",
       "   Jacuzzi  Semana_do_ano  Localização  Academia  É outilier  Piscina  \\\n",
       "0        0              9     0.029461         0           0        1   \n",
       "1        0             11     0.042766         0           0        1   \n",
       "2        0              9     0.003089         0           0        0   \n",
       "3        0             12     0.018769         0           0        0   \n",
       "4        0              8     0.018769         0           0        0   \n",
       "\n",
       "   Preço/Noite  \n",
       "0        184.0  \n",
       "1        198.0  \n",
       "2        351.0  \n",
       "3        191.0  \n",
       "4        124.0  "
      ]
     },
     "execution_count": 4,
     "metadata": {},
     "output_type": "execute_result"
    }
   ],
   "source": [
    "df_train.head()"
   ]
  },
  {
   "cell_type": "code",
   "execution_count": 5,
   "metadata": {},
   "outputs": [],
   "source": [
    "df_train = df_train.drop('Unnamed: 0', axis=1)"
   ]
  },
  {
   "cell_type": "code",
   "execution_count": 6,
   "metadata": {},
   "outputs": [
    {
     "data": {
      "text/plain": [
       "(4209, 16)"
      ]
     },
     "execution_count": 6,
     "metadata": {},
     "output_type": "execute_result"
    }
   ],
   "source": [
    "df_train.shape"
   ]
  },
  {
   "cell_type": "code",
   "execution_count": 7,
   "metadata": {},
   "outputs": [
    {
     "data": {
      "text/plain": [
       "Mes                        int64\n",
       "Número Banheiros           int64\n",
       "Número Camas               int64\n",
       "Número Comentários         int64\n",
       "Número Hóspedes            int64\n",
       "Taxa                     float64\n",
       "Raridade                   int64\n",
       "Novo preço mais baixo      int64\n",
       "Permitido animais          int64\n",
       "Jacuzzi                    int64\n",
       "Semana_do_ano              int64\n",
       "Localização              float64\n",
       "Academia                   int64\n",
       "É outilier                 int64\n",
       "Piscina                    int64\n",
       "Preço/Noite              float64\n",
       "dtype: object"
      ]
     },
     "execution_count": 7,
     "metadata": {},
     "output_type": "execute_result"
    }
   ],
   "source": [
    "df_train.dtypes"
   ]
  },
  {
   "cell_type": "code",
   "execution_count": 8,
   "metadata": {},
   "outputs": [],
   "source": [
    "X = df_train.drop('Preço/Noite', axis=1)\n",
    "y = df_train['Preço/Noite']"
   ]
  },
  {
   "cell_type": "code",
   "execution_count": 9,
   "metadata": {},
   "outputs": [],
   "source": [
    "coluns = X.columns.tolist()"
   ]
  },
  {
   "cell_type": "markdown",
   "metadata": {},
   "source": [
    "## Tabela Regressão Linear"
   ]
  },
  {
   "cell_type": "code",
   "execution_count": 10,
   "metadata": {},
   "outputs": [],
   "source": [
    "X = sm.add_constant(X)"
   ]
  },
  {
   "cell_type": "code",
   "execution_count": 11,
   "metadata": {},
   "outputs": [],
   "source": [
    "# Descobrindo os betas\n",
    "modelo_linear_multiplo = sm.OLS(y,X)\n",
    "modelo_linear_multiplo = modelo_linear_multiplo.fit()"
   ]
  },
  {
   "cell_type": "code",
   "execution_count": 12,
   "metadata": {
    "scrolled": true
   },
   "outputs": [
    {
     "name": "stdout",
     "output_type": "stream",
     "text": [
      "                            OLS Regression Results                            \n",
      "==============================================================================\n",
      "Dep. Variable:            Preço/Noite   R-squared:                       0.529\n",
      "Model:                            OLS   Adj. R-squared:                  0.527\n",
      "Method:                 Least Squares   F-statistic:                     336.0\n",
      "Date:                Sat, 01 May 2021   Prob (F-statistic):               0.00\n",
      "Time:                        16:50:15   Log-Likelihood:                -25408.\n",
      "No. Observations:                4209   AIC:                         5.085e+04\n",
      "Df Residuals:                    4194   BIC:                         5.094e+04\n",
      "Df Model:                          14                                         \n",
      "Covariance Type:            nonrobust                                         \n",
      "=========================================================================================\n",
      "                            coef    std err          t      P>|t|      [0.025      0.975]\n",
      "-----------------------------------------------------------------------------------------\n",
      "const                    58.8389      5.882     10.003      0.000      47.307      70.371\n",
      "Mes                     -17.6237      5.783     -3.047      0.002     -28.962      -6.285\n",
      "Número Banheiros         77.5654      3.036     25.547      0.000      71.613      83.518\n",
      "Número Camas             -5.8629      0.992     -5.912      0.000      -7.807      -3.919\n",
      "Número Comentários       -0.1509      0.044     -3.411      0.001      -0.238      -0.064\n",
      "Número Hóspedes          17.1457      0.958     17.895      0.000      15.267      19.024\n",
      "Taxa                      0.7655      0.060     12.819      0.000       0.648       0.883\n",
      "Raridade                 32.1882      3.886      8.282      0.000      24.569      39.808\n",
      "Novo preço mais baixo    26.6507      2.903      9.181      0.000      20.959      32.342\n",
      "Permitido animais       -33.5115      4.456     -7.520      0.000     -42.248     -24.775\n",
      "Jacuzzi                 107.5493     13.780      7.805      0.000      80.533     134.566\n",
      "Semana_do_ano            -2.1279      1.505     -1.414      0.157      -5.078       0.822\n",
      "Localização             380.4047     63.945      5.949      0.000     255.038     505.771\n",
      "Academia                 -6.5984      7.854     -0.840      0.401     -21.996       8.799\n",
      "É outilier              -91.1240     14.486     -6.290      0.000    -119.524     -62.724\n",
      "Piscina                  73.7733      3.719     19.837      0.000      66.482      81.064\n",
      "==============================================================================\n",
      "Omnibus:                     1385.271   Durbin-Watson:                   1.982\n",
      "Prob(Omnibus):                  0.000   Jarque-Bera (JB):             8187.092\n",
      "Skew:                           1.442   Prob(JB):                         0.00\n",
      "Kurtosis:                       9.194   Cond. No.                     4.68e+17\n",
      "==============================================================================\n",
      "\n",
      "Warnings:\n",
      "[1] Standard Errors assume that the covariance matrix of the errors is correctly specified.\n",
      "[2] The smallest eigenvalue is 9.23e-29. This might indicate that there are\n",
      "strong multicollinearity problems or that the design matrix is singular.\n"
     ]
    }
   ],
   "source": [
    "# Sumary\n",
    "print(modelo_linear_multiplo.summary())"
   ]
  },
  {
   "cell_type": "markdown",
   "metadata": {},
   "source": [
    "**Considerações do Sumário:**<br>\n",
    "O Beta 0 é igual a: -58.8389 E o R2 do modelo reultou em 52,90% <br>\n",
    "P-valor da Academia e Semana do Ano não são significante <br>\n",
    "Durbin-Watson 1.98 - temos uma correlação positiva"
   ]
  },
  {
   "cell_type": "code",
   "execution_count": 13,
   "metadata": {},
   "outputs": [],
   "source": [
    "predictions = modelo_linear_multiplo.predict(X)"
   ]
  },
  {
   "cell_type": "code",
   "execution_count": 14,
   "metadata": {},
   "outputs": [
    {
     "name": "stdout",
     "output_type": "stream",
     "text": [
      "MSE: 10251.73\n"
     ]
    }
   ],
   "source": [
    "# Erro médio Quadratico\n",
    "mse = np.mean((y - predictions)**2)\n",
    "print(f'MSE: {round(mse, 2)}')"
   ]
  },
  {
   "cell_type": "code",
   "execution_count": 15,
   "metadata": {},
   "outputs": [
    {
     "name": "stdout",
     "output_type": "stream",
     "text": [
      "MAE: 71.85\n"
     ]
    }
   ],
   "source": [
    "# Erro Médio Absoluto\n",
    "mae = np.mean(abs(y - predictions))\n",
    "print(f'MAE: {round(mae, 2)}')"
   ]
  },
  {
   "cell_type": "code",
   "execution_count": 16,
   "metadata": {},
   "outputs": [
    {
     "name": "stdout",
     "output_type": "stream",
     "text": [
      "MAPE: 29.99\n"
     ]
    }
   ],
   "source": [
    "# Porcentagem do Erro médio Absoluto\n",
    "mape = 100*np.mean(abs(y - predictions)/ y)\n",
    "print(f'MAPE: {round(mape, 2)}')"
   ]
  },
  {
   "cell_type": "code",
   "execution_count": 17,
   "metadata": {},
   "outputs": [],
   "source": [
    "def errors(X, y):\n",
    "    predictions = modelo_linear_multiplo.predict(X)\n",
    "    mse = np.mean((y - predictions)**2)\n",
    "    mae = np.mean(abs(y - predictions))\n",
    "    mape = 100*np.mean(abs(y - predictions)/ y)\n",
    "    print(f'Regression Model - Errors:')\n",
    "    print(f'MSE: {round(mse, 2)}')\n",
    "    print(f'MAE: {round(mae, 2)}')\n",
    "    print(f'MAPE: {round(mape, 2)}')"
   ]
  },
  {
   "cell_type": "code",
   "execution_count": 18,
   "metadata": {},
   "outputs": [
    {
     "name": "stdout",
     "output_type": "stream",
     "text": [
      "Regression Model - Errors:\n",
      "MSE: 10251.73\n",
      "MAE: 71.85\n",
      "MAPE: 29.99\n"
     ]
    }
   ],
   "source": [
    "errors(X, y)"
   ]
  },
  {
   "cell_type": "code",
   "execution_count": 75,
   "metadata": {},
   "outputs": [],
   "source": [
    "def summary_linear_regression(X, y):\n",
    "    X = sm.add_constant(X)\n",
    "    modelo_linear_multiplo = sm.OLS(y,X)\n",
    "    modelo_linear_multiplo = modelo_linear_multiplo.fit()\n",
    "    print(modelo_linear_multiplo.summary())"
   ]
  },
  {
   "cell_type": "markdown",
   "metadata": {},
   "source": [
    "## Teste de Normalidade"
   ]
  },
  {
   "cell_type": "markdown",
   "metadata": {},
   "source": [
    "**QQ Plot**"
   ]
  },
  {
   "cell_type": "code",
   "execution_count": 19,
   "metadata": {},
   "outputs": [
    {
     "data": {
      "image/png": "[encoded data removed]",
      "text/plain": [
       "<Figure size 432x288 with 1 Axes>"
      ]
     },
     "metadata": {
      "needs_background": "light"
     },
     "output_type": "display_data"
    }
   ],
   "source": [
    "# qq plot\n",
    "qqplot(y, line='s')\n",
    "plt.show()"
   ]
  },
  {
   "cell_type": "markdown",
   "metadata": {},
   "source": [
    "**Teste Shapiro Wilk**"
   ]
  },
  {
   "cell_type": "code",
   "execution_count": 20,
   "metadata": {},
   "outputs": [],
   "source": [
    "def shapiro_test(df, alpha=0.05):\n",
    "    \"\"\"\n",
    "    Shapiro Wilk test\n",
    "    df = Dataframe\n",
    "    alpha = indice of significancy. Default is 0.05\n",
    "    \"\"\"\n",
    "    stat, p = scipy.stats.shapiro(df)\n",
    "    print('p-valor: p=%.3f' % (p))\n",
    "    # interpret\n",
    "    alpha = alpha\n",
    "    if p > alpha:\n",
    "        print('A amostra parece ser normalmente distribuiída Gaussian. Não rejeitamos H0')\n",
    "    else:\n",
    "        print('A amostra NÃO parece ser normalmente distribuiída Gaussian. Rejeitamos H0')\n",
    "    return stat, p"
   ]
  },
  {
   "cell_type": "code",
   "execution_count": 21,
   "metadata": {},
   "outputs": [
    {
     "name": "stdout",
     "output_type": "stream",
     "text": [
      "p-valor: p=0.000\n",
      "A amostra NÃO parece ser normalmente distribuiída Gaussian. Rejeitamos H0\n"
     ]
    },
    {
     "data": {
      "text/plain": [
       "(0.3452373743057251, 0.0)"
      ]
     },
     "execution_count": 21,
     "metadata": {},
     "output_type": "execute_result"
    }
   ],
   "source": [
    "shapiro_test(df_train)"
   ]
  },
  {
   "cell_type": "markdown",
   "metadata": {},
   "source": [
    "Verificamos que o Target não possui uma distruição Normal, neste caso vamos transforma-la"
   ]
  },
  {
   "cell_type": "markdown",
   "metadata": {},
   "source": [
    "### Transformação para uma Normal"
   ]
  },
  {
   "cell_type": "markdown",
   "metadata": {},
   "source": [
    "**Box Cos**"
   ]
  },
  {
   "cell_type": "code",
   "execution_count": 22,
   "metadata": {},
   "outputs": [],
   "source": [
    "# transformando os dados\n",
    "\n",
    "transformed_y, lambda_found = scipy.stats.boxcox(y)"
   ]
  },
  {
   "cell_type": "code",
   "execution_count": 23,
   "metadata": {},
   "outputs": [
    {
     "name": "stdout",
     "output_type": "stream",
     "text": [
      "Melhor lambda: -0.4897796628352117\n"
     ]
    }
   ],
   "source": [
    "print(f'Melhor lambda: {lambda_found}')"
   ]
  },
  {
   "cell_type": "markdown",
   "metadata": {},
   "source": [
    "Agora vamos plotar o histograma dos nossos dados transformados!"
   ]
  },
  {
   "cell_type": "code",
   "execution_count": 24,
   "metadata": {},
   "outputs": [
    {
     "data": {
      "image/png": "[encoded data removed]",
      "text/plain": [
       "<Figure size 576x576 with 1 Axes>"
      ]
     },
     "metadata": {
      "needs_background": "light"
     },
     "output_type": "display_data"
    }
   ],
   "source": [
    "plt.figure(figsize = (8, 8))\n",
    "sns.distplot(transformed_y)\n",
    "plt.title(f'Variável transformada - Lambda: {lambda_found}')\n",
    "plt.show()"
   ]
  },
  {
   "cell_type": "code",
   "execution_count": 73,
   "metadata": {},
   "outputs": [
    {
     "data": {
      "image/png": "[encoded data removed]",
      "text/plain": [
       "<Figure size 432x288 with 1 Axes>"
      ]
     },
     "metadata": {
      "needs_background": "light"
     },
     "output_type": "display_data"
    }
   ],
   "source": [
    "# qq plot\n",
    "qqplot(transformed_y, line='s')\n",
    "plt.show()"
   ]
  },
  {
   "cell_type": "code",
   "execution_count": 82,
   "metadata": {},
   "outputs": [],
   "source": [
    "# Após realizar alguma previsão para essa variável, preciso aplicar a transformação inversa!"
   ]
  },
  {
   "cell_type": "code",
   "execution_count": 25,
   "metadata": {},
   "outputs": [
    {
     "data": {
      "image/png": "[encoded data removed]",
      "text/plain": [
       "<Figure size 576x576 with 1 Axes>"
      ]
     },
     "metadata": {
      "needs_background": "light"
     },
     "output_type": "display_data"
    }
   ],
   "source": [
    "plt.figure(figsize=(8,8))\n",
    "inverse_data = scipy.special.inv_boxcox(transformed_y, lambda_found)\n",
    "sns.distplot(inverse_data)\n",
    "plt.title('Inversão dos Dados')\n",
    "plt.show()"
   ]
  },
  {
   "cell_type": "code",
   "execution_count": 26,
   "metadata": {},
   "outputs": [
    {
     "name": "stdout",
     "output_type": "stream",
     "text": [
      "Transformação inversa: -9.47517641575783e-16\n"
     ]
    }
   ],
   "source": [
    "print(f'Transformação inversa: {np.mean(((inverse_data - y)/y))*100}')"
   ]
  },
  {
   "cell_type": "markdown",
   "metadata": {},
   "source": [
    "### Yeo-Jhonson"
   ]
  },
  {
   "cell_type": "code",
   "execution_count": 27,
   "metadata": {},
   "outputs": [],
   "source": [
    "# transformando os dados\n",
    "\n",
    "transformed_y_yeo, lambda_found_yeo = scipy.stats.yeojohnson(y)"
   ]
  },
  {
   "cell_type": "code",
   "execution_count": 28,
   "metadata": {},
   "outputs": [
    {
     "name": "stdout",
     "output_type": "stream",
     "text": [
      "Melhor lambda: -0.4961478291897588\n"
     ]
    }
   ],
   "source": [
    "print(f'Melhor lambda: {lambda_found_yeo}')"
   ]
  },
  {
   "cell_type": "code",
   "execution_count": 29,
   "metadata": {},
   "outputs": [
    {
     "data": {
      "image/png": "[encoded data removed]",
      "text/plain": [
       "<Figure size 576x576 with 1 Axes>"
      ]
     },
     "metadata": {
      "needs_background": "light"
     },
     "output_type": "display_data"
    }
   ],
   "source": [
    "plt.figure(figsize = (8, 8))\n",
    "sns.distplot(transformed_y_yeo)\n",
    "plt.title(f'Variável Transformada - Lambda: {lambda_found_yeo}')\n",
    "plt.show()"
   ]
  },
  {
   "cell_type": "code",
   "execution_count": null,
   "metadata": {},
   "outputs": [],
   "source": []
  },
  {
   "cell_type": "markdown",
   "metadata": {},
   "source": [
    "## Data Prep"
   ]
  },
  {
   "cell_type": "code",
   "execution_count": 30,
   "metadata": {},
   "outputs": [],
   "source": [
    "# Vamos utilizar o RobustScaler pois como ele trabalha com os quartis, neutraliza o efeito dos outli\n",
    "pipe = Pipeline(steps=[('scaler', RobustScaler())])"
   ]
  },
  {
   "cell_type": "code",
   "execution_count": 31,
   "metadata": {},
   "outputs": [],
   "source": [
    "X = pipe.fit_transform(X)"
   ]
  },
  {
   "cell_type": "markdown",
   "metadata": {},
   "source": [
    "## Divisão em treino e teste"
   ]
  },
  {
   "cell_type": "code",
   "execution_count": 32,
   "metadata": {},
   "outputs": [],
   "source": [
    "# Validação Cruzada:\n",
    "skf = StratifiedKFold(n_splits=5, shuffle=True, random_state=123)"
   ]
  },
  {
   "cell_type": "code",
   "execution_count": 33,
   "metadata": {},
   "outputs": [],
   "source": [
    "X_train, X_test, y_train, y_test = train_test_split(X,\n",
    "                                                    y,\n",
    "                                                    test_size=0.2,\n",
    "                                                    random_state=123)"
   ]
  },
  {
   "cell_type": "markdown",
   "metadata": {},
   "source": [
    "## Modelos de Regressão"
   ]
  },
  {
   "cell_type": "code",
   "execution_count": 34,
   "metadata": {},
   "outputs": [],
   "source": [
    "def create_pipe(model, transformers_pipeline):\n",
    "    \"\"\"\n",
    "    model = Model funccion\n",
    "    Return a pipeline with model and transformations\n",
    "    \"\"\"\n",
    "    pipe = Pipeline(steps=[('scaler', RobustScaler()),\n",
    "                            ('model', model)])\n",
    "    return pipe"
   ]
  },
  {
   "cell_type": "code",
   "execution_count": 101,
   "metadata": {},
   "outputs": [],
   "source": [
    "def cv_scores(estimator, X, y, cv=5, scoring='neg_mean_absolute_error'):\n",
    "    \"\"\"\n",
    "    Cros Validation \n",
    "    estimatior = create_pipe funccion with model and transformation\n",
    "    X = X\n",
    "    y = target\n",
    "    scoring = score of model. Default is neg_mean_absolute_error for Regression Models\n",
    "    cv = Default is 5 fold. Stratified K Fold is also possible.\n",
    "    Print the score from train and test of modeling\n",
    "    \"\"\"\n",
    "    cv_scores = cross_validate(estimator=estimator,\n",
    "                                X = X,\n",
    "                                y = y,\n",
    "                                scoring =scoring,\n",
    "                                cv = cv,\n",
    "                                return_train_score=True)\n",
    "    print(f'{scoring} no Treino: {np.mean(cv_scores[\"train_score\"]):.4f}')\n",
    "    print(f'{scoring} no Teste: {np.mean(cv_scores[\"test_score\"]):.4f}')"
   ]
  },
  {
   "cell_type": "markdown",
   "metadata": {},
   "source": [
    "r2 = igual Variância Total sem modelo - Variância não explicada pelo modelo / pela Variância não explicada pelo modelo <br>\n",
    "Próximo de 1 explica bem. Próximo de zero não."
   ]
  },
  {
   "cell_type": "markdown",
   "metadata": {},
   "source": [
    "**Linear Regression**"
   ]
  },
  {
   "cell_type": "code",
   "execution_count": 95,
   "metadata": {},
   "outputs": [],
   "source": [
    "pipe_LR = create_pipe(LinearRegression(), pipe)"
   ]
  },
  {
   "cell_type": "code",
   "execution_count": 102,
   "metadata": {},
   "outputs": [
    {
     "name": "stdout",
     "output_type": "stream",
     "text": [
      "neg_mean_absolute_error no Treino: -71.4699\n",
      "neg_mean_absolute_error no Teste: -71.9054\n"
     ]
    }
   ],
   "source": [
    "cv_scores(pipe_LR, X_train, y_train, cv=skf, scoring='neg_mean_absolute_error')"
   ]
  },
  {
   "cell_type": "markdown",
   "metadata": {},
   "source": [
    "**K Neighbors Regressor**"
   ]
  },
  {
   "cell_type": "code",
   "execution_count": 38,
   "metadata": {},
   "outputs": [],
   "source": [
    "pipe_KNR = create_pipe(KNeighborsRegressor(n_neighbors=int(np.sqrt(len(df_train)))), pipe)"
   ]
  },
  {
   "cell_type": "code",
   "execution_count": 103,
   "metadata": {},
   "outputs": [
    {
     "name": "stdout",
     "output_type": "stream",
     "text": [
      "neg_mean_absolute_error no Treino: -67.7496\n",
      "neg_mean_absolute_error no Teste: -68.6244\n"
     ]
    }
   ],
   "source": [
    "cv_scores(pipe_KNR, X_train, y_train, cv=skf, scoring='neg_mean_absolute_error')"
   ]
  },
  {
   "cell_type": "markdown",
   "metadata": {},
   "source": [
    "**SVR**"
   ]
  },
  {
   "cell_type": "code",
   "execution_count": 40,
   "metadata": {},
   "outputs": [],
   "source": [
    "pipe_SVR = create_pipe(SVR(), pipe)"
   ]
  },
  {
   "cell_type": "code",
   "execution_count": 104,
   "metadata": {},
   "outputs": [
    {
     "name": "stdout",
     "output_type": "stream",
     "text": [
      "neg_mean_absolute_error no Treino: -78.7924\n",
      "neg_mean_absolute_error no Teste: -79.2436\n"
     ]
    }
   ],
   "source": [
    "cv_scores(pipe_SVR, X_train, y_train, cv=skf, scoring='neg_mean_absolute_error')"
   ]
  },
  {
   "cell_type": "markdown",
   "metadata": {},
   "source": [
    "**Decision Tree**"
   ]
  },
  {
   "cell_type": "code",
   "execution_count": 42,
   "metadata": {},
   "outputs": [],
   "source": [
    "pipe_Dtree = create_pipe(DecisionTreeRegressor(random_state=123, max_depth=5), pipe)"
   ]
  },
  {
   "cell_type": "code",
   "execution_count": 105,
   "metadata": {},
   "outputs": [
    {
     "name": "stdout",
     "output_type": "stream",
     "text": [
      "neg_mean_absolute_error no Treino: -62.3008\n",
      "neg_mean_absolute_error no Teste: -65.1721\n"
     ]
    }
   ],
   "source": [
    "cv_scores(pipe_Dtree, X_train, y_train, cv=skf, scoring='neg_mean_absolute_error')"
   ]
  },
  {
   "cell_type": "markdown",
   "metadata": {},
   "source": [
    "**Random Forest**"
   ]
  },
  {
   "cell_type": "code",
   "execution_count": 44,
   "metadata": {},
   "outputs": [],
   "source": [
    "pipe_RF = create_pipe(RandomForestRegressor(random_state=123, max_depth=5), pipe)"
   ]
  },
  {
   "cell_type": "code",
   "execution_count": 106,
   "metadata": {},
   "outputs": [
    {
     "name": "stdout",
     "output_type": "stream",
     "text": [
      "neg_mean_absolute_error no Treino: -57.6838\n",
      "neg_mean_absolute_error no Teste: -59.9848\n"
     ]
    }
   ],
   "source": [
    "cv_scores(pipe_RF, X_train, y_train, cv=skf, scoring='neg_mean_absolute_error')"
   ]
  },
  {
   "cell_type": "markdown",
   "metadata": {},
   "source": [
    "**LGBM Regressor**"
   ]
  },
  {
   "cell_type": "code",
   "execution_count": 46,
   "metadata": {},
   "outputs": [],
   "source": [
    "pipe_LGBM = create_pipe(LGBMRegressor(random_state=123), pipe)"
   ]
  },
  {
   "cell_type": "code",
   "execution_count": 107,
   "metadata": {},
   "outputs": [
    {
     "name": "stdout",
     "output_type": "stream",
     "text": [
      "neg_mean_absolute_error no Treino: -26.1177\n",
      "neg_mean_absolute_error no Teste: -35.7881\n"
     ]
    }
   ],
   "source": [
    "cv_scores(pipe_LGBM, X_train, y_train, cv=skf, scoring='neg_mean_absolute_error')"
   ]
  },
  {
   "cell_type": "markdown",
   "metadata": {},
   "source": [
    "## Top 3 modelos"
   ]
  },
  {
   "cell_type": "markdown",
   "metadata": {},
   "source": [
    "Sendo o modelo LGBM Regressor mais complexo, vamos tunar os parametros dos 3 modelos abaixo:<br>\n",
    "* Random Forest <br>\n",
    "* Decision Tree <br>\n",
    "* K Neighbors Regressor <br>"
   ]
  },
  {
   "cell_type": "markdown",
   "metadata": {},
   "source": [
    "# Modelo de regressão com Y transformado - Box Cos"
   ]
  },
  {
   "cell_type": "code",
   "execution_count": 48,
   "metadata": {},
   "outputs": [
    {
     "data": {
      "text/plain": [
       "array([1.88297573, 1.88857655, 1.92602744, ..., 1.86626801, 1.83079755,\n",
       "       1.92386877])"
      ]
     },
     "execution_count": 48,
     "metadata": {},
     "output_type": "execute_result"
    }
   ],
   "source": [
    "transformed_y"
   ]
  },
  {
   "cell_type": "code",
   "execution_count": 115,
   "metadata": {},
   "outputs": [],
   "source": [
    "df_train_transformed = df_train.copy()"
   ]
  },
  {
   "cell_type": "code",
   "execution_count": 116,
   "metadata": {},
   "outputs": [],
   "source": [
    "df_train_transformed['Y'] = transformed_y"
   ]
  },
  {
   "cell_type": "code",
   "execution_count": 117,
   "metadata": {},
   "outputs": [
    {
     "data": {
      "text/html": [
       "<div>\n",
       "<style scoped>\n",
       "    .dataframe tbody tr th:only-of-type {\n",
       "        vertical-align: middle;\n",
       "    }\n",
       "\n",
       "    .dataframe tbody tr th {\n",
       "        vertical-align: top;\n",
       "    }\n",
       "\n",
       "    .dataframe thead th {\n",
       "        text-align: right;\n",
       "    }\n",
       "</style>\n",
       "<table border=\"1\" class=\"dataframe\">\n",
       "  <thead>\n",
       "    <tr style=\"text-align: right;\">\n",
       "      <th></th>\n",
       "      <th>Mes</th>\n",
       "      <th>Número Banheiros</th>\n",
       "      <th>Número Camas</th>\n",
       "      <th>Número Comentários</th>\n",
       "      <th>Número Hóspedes</th>\n",
       "      <th>Taxa</th>\n",
       "      <th>Raridade</th>\n",
       "      <th>Novo preço mais baixo</th>\n",
       "      <th>Permitido animais</th>\n",
       "      <th>Jacuzzi</th>\n",
       "      <th>Semana_do_ano</th>\n",
       "      <th>Localização</th>\n",
       "      <th>Academia</th>\n",
       "      <th>É outilier</th>\n",
       "      <th>Piscina</th>\n",
       "      <th>Preço/Noite</th>\n",
       "      <th>Y</th>\n",
       "    </tr>\n",
       "  </thead>\n",
       "  <tbody>\n",
       "    <tr>\n",
       "      <th>0</th>\n",
       "      <td>3</td>\n",
       "      <td>1</td>\n",
       "      <td>3</td>\n",
       "      <td>18</td>\n",
       "      <td>4</td>\n",
       "      <td>60.0</td>\n",
       "      <td>0</td>\n",
       "      <td>1</td>\n",
       "      <td>0</td>\n",
       "      <td>0</td>\n",
       "      <td>9</td>\n",
       "      <td>0.029461</td>\n",
       "      <td>0</td>\n",
       "      <td>0</td>\n",
       "      <td>1</td>\n",
       "      <td>184.0</td>\n",
       "      <td>1.882976</td>\n",
       "    </tr>\n",
       "    <tr>\n",
       "      <th>1</th>\n",
       "      <td>3</td>\n",
       "      <td>1</td>\n",
       "      <td>4</td>\n",
       "      <td>41</td>\n",
       "      <td>4</td>\n",
       "      <td>30.0</td>\n",
       "      <td>1</td>\n",
       "      <td>0</td>\n",
       "      <td>0</td>\n",
       "      <td>0</td>\n",
       "      <td>11</td>\n",
       "      <td>0.042766</td>\n",
       "      <td>0</td>\n",
       "      <td>0</td>\n",
       "      <td>1</td>\n",
       "      <td>198.0</td>\n",
       "      <td>1.888577</td>\n",
       "    </tr>\n",
       "    <tr>\n",
       "      <th>2</th>\n",
       "      <td>3</td>\n",
       "      <td>2</td>\n",
       "      <td>8</td>\n",
       "      <td>7</td>\n",
       "      <td>10</td>\n",
       "      <td>0.0</td>\n",
       "      <td>1</td>\n",
       "      <td>0</td>\n",
       "      <td>0</td>\n",
       "      <td>0</td>\n",
       "      <td>9</td>\n",
       "      <td>0.003089</td>\n",
       "      <td>0</td>\n",
       "      <td>0</td>\n",
       "      <td>0</td>\n",
       "      <td>351.0</td>\n",
       "      <td>1.926027</td>\n",
       "    </tr>\n",
       "    <tr>\n",
       "      <th>3</th>\n",
       "      <td>3</td>\n",
       "      <td>1</td>\n",
       "      <td>2</td>\n",
       "      <td>5</td>\n",
       "      <td>4</td>\n",
       "      <td>60.0</td>\n",
       "      <td>1</td>\n",
       "      <td>0</td>\n",
       "      <td>1</td>\n",
       "      <td>0</td>\n",
       "      <td>12</td>\n",
       "      <td>0.018769</td>\n",
       "      <td>0</td>\n",
       "      <td>0</td>\n",
       "      <td>0</td>\n",
       "      <td>191.0</td>\n",
       "      <td>1.885853</td>\n",
       "    </tr>\n",
       "    <tr>\n",
       "      <th>4</th>\n",
       "      <td>2</td>\n",
       "      <td>1</td>\n",
       "      <td>4</td>\n",
       "      <td>3</td>\n",
       "      <td>4</td>\n",
       "      <td>58.0</td>\n",
       "      <td>0</td>\n",
       "      <td>1</td>\n",
       "      <td>1</td>\n",
       "      <td>0</td>\n",
       "      <td>8</td>\n",
       "      <td>0.018769</td>\n",
       "      <td>0</td>\n",
       "      <td>0</td>\n",
       "      <td>0</td>\n",
       "      <td>124.0</td>\n",
       "      <td>1.849122</td>\n",
       "    </tr>\n",
       "    <tr>\n",
       "      <th>...</th>\n",
       "      <td>...</td>\n",
       "      <td>...</td>\n",
       "      <td>...</td>\n",
       "      <td>...</td>\n",
       "      <td>...</td>\n",
       "      <td>...</td>\n",
       "      <td>...</td>\n",
       "      <td>...</td>\n",
       "      <td>...</td>\n",
       "      <td>...</td>\n",
       "      <td>...</td>\n",
       "      <td>...</td>\n",
       "      <td>...</td>\n",
       "      <td>...</td>\n",
       "      <td>...</td>\n",
       "      <td>...</td>\n",
       "      <td>...</td>\n",
       "    </tr>\n",
       "    <tr>\n",
       "      <th>4204</th>\n",
       "      <td>3</td>\n",
       "      <td>3</td>\n",
       "      <td>4</td>\n",
       "      <td>34</td>\n",
       "      <td>10</td>\n",
       "      <td>75.0</td>\n",
       "      <td>1</td>\n",
       "      <td>0</td>\n",
       "      <td>0</td>\n",
       "      <td>0</td>\n",
       "      <td>11</td>\n",
       "      <td>0.005940</td>\n",
       "      <td>0</td>\n",
       "      <td>0</td>\n",
       "      <td>1</td>\n",
       "      <td>581.0</td>\n",
       "      <td>1.951336</td>\n",
       "    </tr>\n",
       "    <tr>\n",
       "      <th>4205</th>\n",
       "      <td>3</td>\n",
       "      <td>1</td>\n",
       "      <td>3</td>\n",
       "      <td>16</td>\n",
       "      <td>4</td>\n",
       "      <td>49.5</td>\n",
       "      <td>0</td>\n",
       "      <td>1</td>\n",
       "      <td>1</td>\n",
       "      <td>0</td>\n",
       "      <td>9</td>\n",
       "      <td>0.003326</td>\n",
       "      <td>0</td>\n",
       "      <td>0</td>\n",
       "      <td>0</td>\n",
       "      <td>247.0</td>\n",
       "      <td>1.904297</td>\n",
       "    </tr>\n",
       "    <tr>\n",
       "      <th>4206</th>\n",
       "      <td>3</td>\n",
       "      <td>1</td>\n",
       "      <td>2</td>\n",
       "      <td>6</td>\n",
       "      <td>6</td>\n",
       "      <td>10.0</td>\n",
       "      <td>0</td>\n",
       "      <td>1</td>\n",
       "      <td>1</td>\n",
       "      <td>0</td>\n",
       "      <td>9</td>\n",
       "      <td>0.011879</td>\n",
       "      <td>0</td>\n",
       "      <td>0</td>\n",
       "      <td>0</td>\n",
       "      <td>150.0</td>\n",
       "      <td>1.866268</td>\n",
       "    </tr>\n",
       "    <tr>\n",
       "      <th>4207</th>\n",
       "      <td>3</td>\n",
       "      <td>1</td>\n",
       "      <td>6</td>\n",
       "      <td>38</td>\n",
       "      <td>6</td>\n",
       "      <td>10.0</td>\n",
       "      <td>0</td>\n",
       "      <td>1</td>\n",
       "      <td>0</td>\n",
       "      <td>0</td>\n",
       "      <td>11</td>\n",
       "      <td>0.009979</td>\n",
       "      <td>0</td>\n",
       "      <td>0</td>\n",
       "      <td>0</td>\n",
       "      <td>103.0</td>\n",
       "      <td>1.830798</td>\n",
       "    </tr>\n",
       "    <tr>\n",
       "      <th>4208</th>\n",
       "      <td>3</td>\n",
       "      <td>2</td>\n",
       "      <td>9</td>\n",
       "      <td>7</td>\n",
       "      <td>12</td>\n",
       "      <td>50.0</td>\n",
       "      <td>1</td>\n",
       "      <td>0</td>\n",
       "      <td>0</td>\n",
       "      <td>0</td>\n",
       "      <td>12</td>\n",
       "      <td>0.009028</td>\n",
       "      <td>0</td>\n",
       "      <td>0</td>\n",
       "      <td>1</td>\n",
       "      <td>338.0</td>\n",
       "      <td>1.923869</td>\n",
       "    </tr>\n",
       "  </tbody>\n",
       "</table>\n",
       "<p>4209 rows × 17 columns</p>\n",
       "</div>"
      ],
      "text/plain": [
       "      Mes  Número Banheiros  Número Camas  Número Comentários  \\\n",
       "0       3                 1             3                  18   \n",
       "1       3                 1             4                  41   \n",
       "2       3                 2             8                   7   \n",
       "3       3                 1             2                   5   \n",
       "4       2                 1             4                   3   \n",
       "...   ...               ...           ...                 ...   \n",
       "4204    3                 3             4                  34   \n",
       "4205    3                 1             3                  16   \n",
       "4206    3                 1             2                   6   \n",
       "4207    3                 1             6                  38   \n",
       "4208    3                 2             9                   7   \n",
       "\n",
       "      Número Hóspedes  Taxa  Raridade  Novo preço mais baixo  \\\n",
       "0                   4  60.0         0                      1   \n",
       "1                   4  30.0         1                      0   \n",
       "2                  10   0.0         1                      0   \n",
       "3                   4  60.0         1                      0   \n",
       "4                   4  58.0         0                      1   \n",
       "...               ...   ...       ...                    ...   \n",
       "4204               10  75.0         1                      0   \n",
       "4205                4  49.5         0                      1   \n",
       "4206                6  10.0         0                      1   \n",
       "4207                6  10.0         0                      1   \n",
       "4208               12  50.0         1                      0   \n",
       "\n",
       "      Permitido animais  Jacuzzi  Semana_do_ano  Localização  Academia  \\\n",
       "0                     0        0              9     0.029461         0   \n",
       "1                     0        0             11     0.042766         0   \n",
       "2                     0        0              9     0.003089         0   \n",
       "3                     1        0             12     0.018769         0   \n",
       "4                     1        0              8     0.018769         0   \n",
       "...                 ...      ...            ...          ...       ...   \n",
       "4204                  0        0             11     0.005940         0   \n",
       "4205                  1        0              9     0.003326         0   \n",
       "4206                  1        0              9     0.011879         0   \n",
       "4207                  0        0             11     0.009979         0   \n",
       "4208                  0        0             12     0.009028         0   \n",
       "\n",
       "      É outilier  Piscina  Preço/Noite         Y  \n",
       "0              0        1        184.0  1.882976  \n",
       "1              0        1        198.0  1.888577  \n",
       "2              0        0        351.0  1.926027  \n",
       "3              0        0        191.0  1.885853  \n",
       "4              0        0        124.0  1.849122  \n",
       "...          ...      ...          ...       ...  \n",
       "4204           0        1        581.0  1.951336  \n",
       "4205           0        0        247.0  1.904297  \n",
       "4206           0        0        150.0  1.866268  \n",
       "4207           0        0        103.0  1.830798  \n",
       "4208           0        1        338.0  1.923869  \n",
       "\n",
       "[4209 rows x 17 columns]"
      ]
     },
     "execution_count": 117,
     "metadata": {},
     "output_type": "execute_result"
    }
   ],
   "source": [
    "df_train_transformed"
   ]
  },
  {
   "cell_type": "code",
   "execution_count": 118,
   "metadata": {},
   "outputs": [],
   "source": [
    "df_train_transformed = df_train_transformed.drop('Preço/Noite', axis=1)\n",
    "X_ = df_train_transformed.drop('Y', axis=1)\n",
    "y_ = df_train_transformed['Y']"
   ]
  },
  {
   "cell_type": "code",
   "execution_count": 119,
   "metadata": {},
   "outputs": [],
   "source": [
    "X_ = pipe.fit_transform(X_)"
   ]
  },
  {
   "cell_type": "code",
   "execution_count": 120,
   "metadata": {},
   "outputs": [],
   "source": [
    "X_train_, X_test_, y_train_, y_test_ = train_test_split(X_,\n",
    "                                                        y_,\n",
    "                                                        test_size=0.2,\n",
    "                                                        random_state=123)"
   ]
  },
  {
   "cell_type": "code",
   "execution_count": 121,
   "metadata": {},
   "outputs": [
    {
     "name": "stdout",
     "output_type": "stream",
     "text": [
      "Help on function cv_scores in module __main__:\n",
      "\n",
      "cv_scores(estimator, X, y, cv=5, scoring='neg_mean_absolute_error')\n",
      "    Cros Validation \n",
      "    estimatior = create_pipe funccion with model and transformation\n",
      "    X = X\n",
      "    y = target\n",
      "    scoring = score of model. Default is neg_mean_absolute_error for Regression Models\n",
      "    cv = Default is StratifiedKFold\n",
      "    Print the score from train and test of modeling\n",
      "\n"
     ]
    }
   ],
   "source": [
    "help(cv_scores)"
   ]
  },
  {
   "cell_type": "markdown",
   "metadata": {},
   "source": [
    "**Linear Regression**"
   ]
  },
  {
   "cell_type": "code",
   "execution_count": 122,
   "metadata": {},
   "outputs": [
    {
     "name": "stdout",
     "output_type": "stream",
     "text": [
      "neg_mean_absolute_error no Treino: -0.0185\n",
      "neg_mean_absolute_error no Teste: -0.0186\n"
     ]
    }
   ],
   "source": [
    "cv_scores(pipe_LR, X_train_, y_train_, cv = 5, scoring='neg_mean_absolute_error')"
   ]
  },
  {
   "cell_type": "markdown",
   "metadata": {},
   "source": [
    "**K Neighbors Regressor**"
   ]
  },
  {
   "cell_type": "code",
   "execution_count": 123,
   "metadata": {},
   "outputs": [
    {
     "name": "stdout",
     "output_type": "stream",
     "text": [
      "neg_mean_absolute_error no Treino: -0.0176\n",
      "neg_mean_absolute_error no Teste: -0.0179\n"
     ]
    }
   ],
   "source": [
    "cv_scores(pipe_KNR, X_train_, y_train_, cv = 5, scoring='neg_mean_absolute_error')"
   ]
  },
  {
   "cell_type": "markdown",
   "metadata": {},
   "source": [
    "**SVR**"
   ]
  },
  {
   "cell_type": "code",
   "execution_count": 124,
   "metadata": {},
   "outputs": [
    {
     "name": "stdout",
     "output_type": "stream",
     "text": [
      "neg_mean_absolute_error no Treino: -0.0262\n",
      "neg_mean_absolute_error no Teste: -0.0262\n"
     ]
    }
   ],
   "source": [
    "cv_scores(pipe_SVR, X_train_, y_train_, cv = 5, scoring='neg_mean_absolute_error')"
   ]
  },
  {
   "cell_type": "markdown",
   "metadata": {},
   "source": [
    "**Decision Tree**"
   ]
  },
  {
   "cell_type": "code",
   "execution_count": 125,
   "metadata": {},
   "outputs": [
    {
     "name": "stdout",
     "output_type": "stream",
     "text": [
      "neg_mean_absolute_error no Treino: -0.0161\n",
      "neg_mean_absolute_error no Teste: -0.0167\n"
     ]
    }
   ],
   "source": [
    "cv_scores(pipe_Dtree, X_train_, y_train_, cv = 5, scoring='neg_mean_absolute_error')"
   ]
  },
  {
   "cell_type": "markdown",
   "metadata": {},
   "source": [
    "**Random Forest**"
   ]
  },
  {
   "cell_type": "code",
   "execution_count": 126,
   "metadata": {},
   "outputs": [
    {
     "name": "stdout",
     "output_type": "stream",
     "text": [
      "neg_mean_absolute_error no Treino: -0.0152\n",
      "neg_mean_absolute_error no Teste: -0.0159\n"
     ]
    }
   ],
   "source": [
    "cv_scores(pipe_RF, X_train_, y_train_, cv = 5, scoring='neg_mean_absolute_error')"
   ]
  },
  {
   "cell_type": "markdown",
   "metadata": {},
   "source": [
    "**LGBM Regressor**"
   ]
  },
  {
   "cell_type": "code",
   "execution_count": 127,
   "metadata": {},
   "outputs": [
    {
     "name": "stdout",
     "output_type": "stream",
     "text": [
      "neg_mean_absolute_error no Treino: -0.0066\n",
      "neg_mean_absolute_error no Teste: -0.0093\n"
     ]
    }
   ],
   "source": [
    "cv_scores(pipe_LGBM, X_train_, y_train_, cv=5, scoring='neg_mean_absolute_error')"
   ]
  },
  {
   "cell_type": "markdown",
   "metadata": {},
   "source": [
    "### Top 3 modelos com target transformado em uma normal"
   ]
  },
  {
   "cell_type": "code",
   "execution_count": null,
   "metadata": {},
   "outputs": [],
   "source": []
  },
  {
   "cell_type": "markdown",
   "metadata": {},
   "source": [
    "Mias uma vez o modelo LGBM Regressor sendo mais complexo, vamos tunar os parametros dos 3 modelos abaixo:<br>\n",
    "* Random Forest <br>\n",
    "* Decision Tree <br>\n",
    "* K Neighbors Regressor <br>"
   ]
  },
  {
   "cell_type": "markdown",
   "metadata": {},
   "source": [
    "## Escolha dos Hiperparâmetros"
   ]
  },
  {
   "cell_type": "markdown",
   "metadata": {},
   "source": [
    "**Random Forest**"
   ]
  },
  {
   "cell_type": "code",
   "execution_count": null,
   "metadata": {},
   "outputs": [],
   "source": []
  },
  {
   "cell_type": "markdown",
   "metadata": {},
   "source": [
    "**Decision Tree**"
   ]
  },
  {
   "cell_type": "code",
   "execution_count": null,
   "metadata": {},
   "outputs": [],
   "source": []
  },
  {
   "cell_type": "markdown",
   "metadata": {},
   "source": [
    "**K Neighbors Regressor**"
   ]
  },
  {
   "cell_type": "code",
   "execution_count": null,
   "metadata": {},
   "outputs": [],
   "source": []
  },
  {
   "cell_type": "code",
   "execution_count": null,
   "metadata": {},
   "outputs": [],
   "source": []
  },
  {
   "cell_type": "code",
   "execution_count": null,
   "metadata": {},
   "outputs": [],
   "source": []
  },
  {
   "cell_type": "code",
   "execution_count": null,
   "metadata": {},
   "outputs": [],
   "source": []
  },
  {
   "cell_type": "code",
   "execution_count": null,
   "metadata": {},
   "outputs": [],
   "source": []
  },
  {
   "cell_type": "markdown",
   "metadata": {},
   "source": [
    "Escolha do threshold e métricas"
   ]
  },
  {
   "cell_type": "markdown",
   "metadata": {},
   "source": [
    "Feature Importance"
   ]
  }
 ],
 "metadata": {
  "kernelspec": {
   "display_name": "Python 3",
   "language": "python",
   "name": "python3"
  },
  "language_info": {
   "codemirror_mode": {
    "name": "ipython",
    "version": 3
   },
   "file_extension": ".py",
   "mimetype": "text/x-python",
   "name": "python",
   "nbconvert_exporter": "python",
   "pygments_lexer": "ipython3",
   "version": "3.8.3"
  }
 },
 "nbformat": 4,
 "nbformat_minor": 4
}
