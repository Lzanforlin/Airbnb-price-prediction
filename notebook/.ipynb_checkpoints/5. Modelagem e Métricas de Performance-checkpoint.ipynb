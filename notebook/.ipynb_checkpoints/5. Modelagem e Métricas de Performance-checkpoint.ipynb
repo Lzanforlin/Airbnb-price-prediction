{
 "cells": [
  {
   "cell_type": "markdown",
   "metadata": {},
   "source": [
    "# 5. Modelagem e Métricas de Performance"
   ]
  },
  {
   "cell_type": "code",
   "execution_count": 383,
   "metadata": {},
   "outputs": [],
   "source": [
    "# Libs:\n",
    "import pandas as pd\n",
    "import numpy as np\n",
    "pd.set_option('display.max_columns',30)\n",
    "import os \n",
    "import sys \n",
    "sys.path.append('..')\n",
    "import matplotlib.pyplot as plt\n",
    "import seaborn as sns\n",
    "\n",
    "from statsmodels.graphics.gofplots import qqplot\n",
    "import statsmodels.api as sm\n",
    "import scipy\n",
    "import scipy.stats\n",
    "\n",
    "from sklearn.model_selection import RandomizedSearchCV\n",
    "from sklearn.model_selection import train_test_split, cross_validate, RandomizedSearchCV, learning_curve\n",
    "from sklearn.model_selection import cross_val_score\n",
    "\n",
    "# Transformações:\n",
    "from sklearn.impute import SimpleImputer\n",
    "from sklearn.preprocessing import RobustScaler\n",
    "from sklearn.compose import ColumnTransformer\n",
    "from sklearn.pipeline import Pipeline\n",
    "\n",
    "# Modelos de regressão\n",
    "from sklearn.linear_model import LinearRegression\n",
    "from sklearn.neighbors import KNeighborsRegressor\n",
    "from sklearn.svm import SVR\n",
    "from sklearn.tree import DecisionTreeRegressor\n",
    "from sklearn.ensemble import RandomForestRegressor\n",
    "from lightgbm import LGBMRegressor\n",
    "\n",
    "# Métricas\n",
    "from sklearn.metrics import fbeta_score, log_loss\n",
    "\n",
    "#Feature Importance\n",
    "import shap\n",
    "\n",
    "#Deploy do modelo\n",
    "import pickle\n",
    "\n",
    "import warnings\n",
    "warnings.filterwarnings(\"ignore\")"
   ]
  },
  {
   "cell_type": "markdown",
   "metadata": {},
   "source": [
    "## Dados Constantes"
   ]
  },
  {
   "cell_type": "code",
   "execution_count": 237,
   "metadata": {},
   "outputs": [],
   "source": [
    "DATA_INPUT = '../data/DATA_feature_selected_V2.csv'\n",
    "DATA_TEST_INPUT = '../data/data_test_for_modeling.csv'\n",
    "SEED = 123"
   ]
  },
  {
   "cell_type": "code",
   "execution_count": 102,
   "metadata": {},
   "outputs": [],
   "source": [
    "df_train = pd.read_csv(DATA_INPUT)"
   ]
  },
  {
   "cell_type": "code",
   "execution_count": 103,
   "metadata": {},
   "outputs": [
    {
     "data": {
      "text/html": [
       "<div>\n",
       "<style scoped>\n",
       "    .dataframe tbody tr th:only-of-type {\n",
       "        vertical-align: middle;\n",
       "    }\n",
       "\n",
       "    .dataframe tbody tr th {\n",
       "        vertical-align: top;\n",
       "    }\n",
       "\n",
       "    .dataframe thead th {\n",
       "        text-align: right;\n",
       "    }\n",
       "</style>\n",
       "<table border=\"1\" class=\"dataframe\">\n",
       "  <thead>\n",
       "    <tr style=\"text-align: right;\">\n",
       "      <th></th>\n",
       "      <th>Unnamed: 0</th>\n",
       "      <th>Mes</th>\n",
       "      <th>Número Banheiros</th>\n",
       "      <th>Número Camas</th>\n",
       "      <th>Número Comentários</th>\n",
       "      <th>Número Hóspedes</th>\n",
       "      <th>Taxa</th>\n",
       "      <th>Semana_do_ano</th>\n",
       "      <th>Jacuzzi</th>\n",
       "      <th>Academia</th>\n",
       "      <th>Secadora</th>\n",
       "      <th>Localização</th>\n",
       "      <th>Piscina</th>\n",
       "      <th>Permitido animais</th>\n",
       "      <th>Preço/Noite</th>\n",
       "    </tr>\n",
       "  </thead>\n",
       "  <tbody>\n",
       "    <tr>\n",
       "      <th>0</th>\n",
       "      <td>0</td>\n",
       "      <td>3</td>\n",
       "      <td>1</td>\n",
       "      <td>3</td>\n",
       "      <td>18</td>\n",
       "      <td>4</td>\n",
       "      <td>60.0</td>\n",
       "      <td>9</td>\n",
       "      <td>0</td>\n",
       "      <td>0</td>\n",
       "      <td>0</td>\n",
       "      <td>0.029461</td>\n",
       "      <td>1</td>\n",
       "      <td>0</td>\n",
       "      <td>184.0</td>\n",
       "    </tr>\n",
       "    <tr>\n",
       "      <th>1</th>\n",
       "      <td>1</td>\n",
       "      <td>3</td>\n",
       "      <td>1</td>\n",
       "      <td>4</td>\n",
       "      <td>41</td>\n",
       "      <td>4</td>\n",
       "      <td>30.0</td>\n",
       "      <td>11</td>\n",
       "      <td>0</td>\n",
       "      <td>0</td>\n",
       "      <td>0</td>\n",
       "      <td>0.042766</td>\n",
       "      <td>1</td>\n",
       "      <td>0</td>\n",
       "      <td>198.0</td>\n",
       "    </tr>\n",
       "    <tr>\n",
       "      <th>2</th>\n",
       "      <td>2</td>\n",
       "      <td>3</td>\n",
       "      <td>2</td>\n",
       "      <td>8</td>\n",
       "      <td>7</td>\n",
       "      <td>10</td>\n",
       "      <td>0.0</td>\n",
       "      <td>9</td>\n",
       "      <td>0</td>\n",
       "      <td>0</td>\n",
       "      <td>0</td>\n",
       "      <td>0.003089</td>\n",
       "      <td>0</td>\n",
       "      <td>0</td>\n",
       "      <td>351.0</td>\n",
       "    </tr>\n",
       "    <tr>\n",
       "      <th>3</th>\n",
       "      <td>3</td>\n",
       "      <td>3</td>\n",
       "      <td>1</td>\n",
       "      <td>2</td>\n",
       "      <td>5</td>\n",
       "      <td>4</td>\n",
       "      <td>60.0</td>\n",
       "      <td>12</td>\n",
       "      <td>0</td>\n",
       "      <td>0</td>\n",
       "      <td>0</td>\n",
       "      <td>0.018769</td>\n",
       "      <td>0</td>\n",
       "      <td>1</td>\n",
       "      <td>191.0</td>\n",
       "    </tr>\n",
       "    <tr>\n",
       "      <th>4</th>\n",
       "      <td>4</td>\n",
       "      <td>2</td>\n",
       "      <td>1</td>\n",
       "      <td>4</td>\n",
       "      <td>3</td>\n",
       "      <td>4</td>\n",
       "      <td>58.0</td>\n",
       "      <td>8</td>\n",
       "      <td>0</td>\n",
       "      <td>0</td>\n",
       "      <td>0</td>\n",
       "      <td>0.018769</td>\n",
       "      <td>0</td>\n",
       "      <td>1</td>\n",
       "      <td>124.0</td>\n",
       "    </tr>\n",
       "  </tbody>\n",
       "</table>\n",
       "</div>"
      ],
      "text/plain": [
       "   Unnamed: 0  Mes  Número Banheiros  Número Camas  Número Comentários  \\\n",
       "0           0    3                 1             3                  18   \n",
       "1           1    3                 1             4                  41   \n",
       "2           2    3                 2             8                   7   \n",
       "3           3    3                 1             2                   5   \n",
       "4           4    2                 1             4                   3   \n",
       "\n",
       "   Número Hóspedes  Taxa  Semana_do_ano  Jacuzzi  Academia  Secadora  \\\n",
       "0                4  60.0              9        0         0         0   \n",
       "1                4  30.0             11        0         0         0   \n",
       "2               10   0.0              9        0         0         0   \n",
       "3                4  60.0             12        0         0         0   \n",
       "4                4  58.0              8        0         0         0   \n",
       "\n",
       "   Localização  Piscina  Permitido animais  Preço/Noite  \n",
       "0     0.029461        1                  0        184.0  \n",
       "1     0.042766        1                  0        198.0  \n",
       "2     0.003089        0                  0        351.0  \n",
       "3     0.018769        0                  1        191.0  \n",
       "4     0.018769        0                  1        124.0  "
      ]
     },
     "execution_count": 103,
     "metadata": {},
     "output_type": "execute_result"
    }
   ],
   "source": [
    "df_train.head()"
   ]
  },
  {
   "cell_type": "code",
   "execution_count": 104,
   "metadata": {},
   "outputs": [],
   "source": [
    "df_train = df_train.drop('Unnamed: 0', axis=1)"
   ]
  },
  {
   "cell_type": "code",
   "execution_count": 105,
   "metadata": {},
   "outputs": [
    {
     "data": {
      "text/plain": [
       "(4209, 14)"
      ]
     },
     "execution_count": 105,
     "metadata": {},
     "output_type": "execute_result"
    }
   ],
   "source": [
    "df_train.shape"
   ]
  },
  {
   "cell_type": "code",
   "execution_count": 106,
   "metadata": {},
   "outputs": [
    {
     "data": {
      "text/plain": [
       "Mes                     int64\n",
       "Número Banheiros        int64\n",
       "Número Camas            int64\n",
       "Número Comentários      int64\n",
       "Número Hóspedes         int64\n",
       "Taxa                  float64\n",
       "Semana_do_ano           int64\n",
       "Jacuzzi                 int64\n",
       "Academia                int64\n",
       "Secadora                int64\n",
       "Localização           float64\n",
       "Piscina                 int64\n",
       "Permitido animais       int64\n",
       "Preço/Noite           float64\n",
       "dtype: object"
      ]
     },
     "execution_count": 106,
     "metadata": {},
     "output_type": "execute_result"
    }
   ],
   "source": [
    "df_train.dtypes"
   ]
  },
  {
   "cell_type": "code",
   "execution_count": 107,
   "metadata": {},
   "outputs": [],
   "source": [
    "X = df_train.drop('Preço/Noite', axis=1)\n",
    "y = df_train['Preço/Noite']"
   ]
  },
  {
   "cell_type": "code",
   "execution_count": 108,
   "metadata": {},
   "outputs": [],
   "source": [
    "coluns = X.columns.tolist()"
   ]
  },
  {
   "cell_type": "markdown",
   "metadata": {},
   "source": [
    "## 5.1 Tabela Regressão Linear pelo Stats model - visão inicial"
   ]
  },
  {
   "cell_type": "code",
   "execution_count": 109,
   "metadata": {},
   "outputs": [],
   "source": [
    "X = sm.add_constant(X)"
   ]
  },
  {
   "cell_type": "code",
   "execution_count": 110,
   "metadata": {},
   "outputs": [],
   "source": [
    "# Descobrindo os betas\n",
    "modelo_linear_multiplo = sm.OLS(y,X)\n",
    "modelo_linear_multiplo = modelo_linear_multiplo.fit()"
   ]
  },
  {
   "cell_type": "code",
   "execution_count": 111,
   "metadata": {},
   "outputs": [
    {
     "name": "stdout",
     "output_type": "stream",
     "text": [
      "                            OLS Regression Results                            \n",
      "==============================================================================\n",
      "Dep. Variable:            Preço/Noite   R-squared:                       0.528\n",
      "Model:                            OLS   Adj. R-squared:                  0.526\n",
      "Method:                 Least Squares   F-statistic:                     360.9\n",
      "Date:                Tue, 04 May 2021   Prob (F-statistic):               0.00\n",
      "Time:                        16:47:40   Log-Likelihood:                -25411.\n",
      "No. Observations:                4209   AIC:                         5.085e+04\n",
      "Df Residuals:                    4195   BIC:                         5.094e+04\n",
      "Df Model:                          13                                         \n",
      "Covariance Type:            nonrobust                                         \n",
      "======================================================================================\n",
      "                         coef    std err          t      P>|t|      [0.025      0.975]\n",
      "--------------------------------------------------------------------------------------\n",
      "const                 79.0260      8.368      9.443      0.000      62.619      95.432\n",
      "Mes                  -16.4879      5.749     -2.868      0.004     -27.759      -5.216\n",
      "Número Banheiros      79.4593      3.016     26.350      0.000      73.547      85.371\n",
      "Número Camas          -5.4102      0.987     -5.482      0.000      -7.345      -3.475\n",
      "Número Comentários    -0.1305      0.044     -2.996      0.003      -0.216      -0.045\n",
      "Número Hóspedes       17.1950      0.959     17.938      0.000      15.316      19.074\n",
      "Taxa                   0.7627      0.060     12.792      0.000       0.646       0.880\n",
      "Semana_do_ano         -2.1983      1.505     -1.461      0.144      -5.148       0.752\n",
      "Jacuzzi              129.4994     13.244      9.778      0.000     103.535     155.464\n",
      "Academia              -5.6730      7.849     -0.723      0.470     -21.061       9.715\n",
      "Secadora              45.6888      7.734      5.907      0.000      30.526      60.852\n",
      "Localização          378.7284     63.585      5.956      0.000     254.067     503.390\n",
      "Piscina               75.9069      3.722     20.397      0.000      68.611      83.203\n",
      "Permitido animais    -31.5424      4.469     -7.059      0.000     -40.303     -22.782\n",
      "==============================================================================\n",
      "Omnibus:                     1523.250   Durbin-Watson:                   1.983\n",
      "Prob(Omnibus):                  0.000   Jarque-Bera (JB):            10738.418\n",
      "Skew:                           1.547   Prob(JB):                         0.00\n",
      "Kurtosis:                      10.187   Cond. No.                     2.82e+03\n",
      "==============================================================================\n",
      "\n",
      "Warnings:\n",
      "[1] Standard Errors assume that the covariance matrix of the errors is correctly specified.\n",
      "[2] The condition number is large, 2.82e+03. This might indicate that there are\n",
      "strong multicollinearity or other numerical problems.\n"
     ]
    }
   ],
   "source": [
    "# Sumary\n",
    "print(modelo_linear_multiplo.summary())"
   ]
  },
  {
   "cell_type": "markdown",
   "metadata": {},
   "source": [
    "**Considerações do Sumário:**<br>\n",
    "O Beta 0 é igual a: -79.0260 E o R2 do modelo reultou em 52,80% <br>\n",
    "P-valor da Academia e Semana do Ano não são significante <br>\n",
    "Durbin-Watson 1.98 - temos uma correlação positiva"
   ]
  },
  {
   "cell_type": "code",
   "execution_count": 112,
   "metadata": {},
   "outputs": [],
   "source": [
    "predictions = modelo_linear_multiplo.predict(X)"
   ]
  },
  {
   "cell_type": "code",
   "execution_count": 113,
   "metadata": {},
   "outputs": [
    {
     "name": "stdout",
     "output_type": "stream",
     "text": [
      "MSE: 10268.33\n"
     ]
    }
   ],
   "source": [
    "# Erro médio Quadratico\n",
    "mse = np.mean((y - predictions)**2)\n",
    "print(f'MSE: {round(mse, 2)}')"
   ]
  },
  {
   "cell_type": "code",
   "execution_count": 114,
   "metadata": {},
   "outputs": [
    {
     "name": "stdout",
     "output_type": "stream",
     "text": [
      "MAE: 71.51\n"
     ]
    }
   ],
   "source": [
    "# Erro Médio Absoluto\n",
    "mae = np.mean(abs(y - predictions))\n",
    "print(f'MAE: {round(mae, 2)}')"
   ]
  },
  {
   "cell_type": "code",
   "execution_count": 115,
   "metadata": {},
   "outputs": [
    {
     "name": "stdout",
     "output_type": "stream",
     "text": [
      "MAPE: 29.89\n"
     ]
    }
   ],
   "source": [
    "# Porcentagem do Erro médio Absoluto\n",
    "mape = 100*np.mean(abs(y - predictions)/ y)\n",
    "print(f'MAPE: {round(mape, 2)}')"
   ]
  },
  {
   "cell_type": "code",
   "execution_count": 118,
   "metadata": {},
   "outputs": [],
   "source": [
    "def summary_linear_regression(X, y):\n",
    "    X = sm.add_constant(X)\n",
    "    # Descobrindo os betas\n",
    "    modelo_linear_multiplo = sm.OLS(y,X)\n",
    "    modelo_linear_multiplo = modelo_linear_multiplo.fit()\n",
    "    print(modelo_linear_multiplo.summary())"
   ]
  },
  {
   "cell_type": "markdown",
   "metadata": {},
   "source": [
    "## 5.2 Teste de Normalidade"
   ]
  },
  {
   "cell_type": "markdown",
   "metadata": {},
   "source": [
    "**QQ Plot**"
   ]
  },
  {
   "cell_type": "code",
   "execution_count": 119,
   "metadata": {},
   "outputs": [
    {
     "data": {
      "image/png": "[encoded data removed]",
      "text/plain": [
       "<Figure size 432x288 with 1 Axes>"
      ]
     },
     "metadata": {
      "needs_background": "light"
     },
     "output_type": "display_data"
    }
   ],
   "source": [
    "# qq plot\n",
    "qqplot(y, line='s')\n",
    "plt.show()"
   ]
  },
  {
   "cell_type": "markdown",
   "metadata": {},
   "source": [
    "**Teste Shapiro Wilk**"
   ]
  },
  {
   "cell_type": "code",
   "execution_count": 120,
   "metadata": {},
   "outputs": [],
   "source": [
    "def shapiro_test(df, alpha=0.05):\n",
    "    \"\"\"\n",
    "    Shapiro Wilk test\n",
    "    df = Dataframe\n",
    "    alpha = indice of significancy. Default is 0.05\n",
    "    \"\"\"\n",
    "    stat, p = scipy.stats.shapiro(df)\n",
    "    print('p-valor: p=%.3f' % (p))\n",
    "    # interpret\n",
    "    alpha = alpha\n",
    "    if p > alpha:\n",
    "        print('A amostra parece ser normalmente distribuiída Gaussian. Não rejeitamos H0')\n",
    "    else:\n",
    "        print('A amostra NÃO parece ser normalmente distribuiída Gaussian. Rejeitamos H0')\n",
    "    return stat, p"
   ]
  },
  {
   "cell_type": "code",
   "execution_count": 121,
   "metadata": {},
   "outputs": [
    {
     "name": "stdout",
     "output_type": "stream",
     "text": [
      "p-valor: p=0.000\n",
      "A amostra NÃO parece ser normalmente distribuiída Gaussian. Rejeitamos H0\n"
     ]
    },
    {
     "data": {
      "text/plain": [
       "(0.3734293580055237, 0.0)"
      ]
     },
     "execution_count": 121,
     "metadata": {},
     "output_type": "execute_result"
    }
   ],
   "source": [
    "shapiro_test(df_train)"
   ]
  },
  {
   "cell_type": "markdown",
   "metadata": {},
   "source": [
    "Verificamos que o Target não possui uma distruição Normal, neste caso vamos transforma-la"
   ]
  },
  {
   "cell_type": "markdown",
   "metadata": {},
   "source": [
    "### Transformação para uma Normal"
   ]
  },
  {
   "cell_type": "markdown",
   "metadata": {},
   "source": [
    "**Box Cos**"
   ]
  },
  {
   "cell_type": "code",
   "execution_count": 122,
   "metadata": {},
   "outputs": [],
   "source": [
    "# transformando os dados\n",
    "\n",
    "transformed_y, lambda_found = scipy.stats.boxcox(y)"
   ]
  },
  {
   "cell_type": "code",
   "execution_count": 123,
   "metadata": {},
   "outputs": [
    {
     "name": "stdout",
     "output_type": "stream",
     "text": [
      "Melhor lambda: -0.4897796628352117\n"
     ]
    }
   ],
   "source": [
    "print(f'Melhor lambda: {lambda_found}')"
   ]
  },
  {
   "cell_type": "markdown",
   "metadata": {},
   "source": [
    "Agora vamos plotar o histograma dos nossos dados transformados!"
   ]
  },
  {
   "cell_type": "code",
   "execution_count": 124,
   "metadata": {},
   "outputs": [
    {
     "data": {
      "image/png": "[encoded data removed]",
      "text/plain": [
       "<Figure size 576x576 with 1 Axes>"
      ]
     },
     "metadata": {
      "needs_background": "light"
     },
     "output_type": "display_data"
    }
   ],
   "source": [
    "plt.figure(figsize = (8, 8))\n",
    "sns.distplot(transformed_y)\n",
    "plt.title(f'Variável transformada - Lambda: {lambda_found}')\n",
    "plt.show()"
   ]
  },
  {
   "cell_type": "code",
   "execution_count": 125,
   "metadata": {},
   "outputs": [
    {
     "data": {
      "image/png": "[encoded data removed]",
      "text/plain": [
       "<Figure size 432x288 with 1 Axes>"
      ]
     },
     "metadata": {
      "needs_background": "light"
     },
     "output_type": "display_data"
    }
   ],
   "source": [
    "# qq plot\n",
    "qqplot(transformed_y, line='s')\n",
    "plt.show()"
   ]
  },
  {
   "cell_type": "code",
   "execution_count": 126,
   "metadata": {},
   "outputs": [],
   "source": [
    "# Após realizar alguma previsão para essa variável, preciso aplicar a transformação inversa!"
   ]
  },
  {
   "cell_type": "code",
   "execution_count": 127,
   "metadata": {},
   "outputs": [
    {
     "data": {
      "image/png": "[encoded data removed]",
      "text/plain": [
       "<Figure size 576x576 with 1 Axes>"
      ]
     },
     "metadata": {
      "needs_background": "light"
     },
     "output_type": "display_data"
    }
   ],
   "source": [
    "plt.figure(figsize=(8,8))\n",
    "inverse_data = scipy.special.inv_boxcox(transformed_y, lambda_found)\n",
    "sns.distplot(inverse_data)\n",
    "plt.title('Inversão dos Dados')\n",
    "plt.show()"
   ]
  },
  {
   "cell_type": "code",
   "execution_count": 128,
   "metadata": {},
   "outputs": [
    {
     "name": "stdout",
     "output_type": "stream",
     "text": [
      "Transformação inversa: -9.47517641575783e-16\n"
     ]
    }
   ],
   "source": [
    "print(f'Transformação inversa: {np.mean(((inverse_data - y)/y))*100}')"
   ]
  },
  {
   "cell_type": "markdown",
   "metadata": {},
   "source": [
    "## 5.3 Data Prep"
   ]
  },
  {
   "cell_type": "code",
   "execution_count": 132,
   "metadata": {},
   "outputs": [],
   "source": [
    "# Vamos utilizar o RobustScaler pois como ele trabalha com os quartis, neutraliza o efeito dos outli\n",
    "pipe = Pipeline(steps=[('scaler', RobustScaler())])"
   ]
  },
  {
   "cell_type": "code",
   "execution_count": 133,
   "metadata": {},
   "outputs": [],
   "source": [
    "X = pipe.fit_transform(X)"
   ]
  },
  {
   "cell_type": "markdown",
   "metadata": {},
   "source": [
    "## 5.4 Divisão em treino e teste para avaliação dos modelos sem normalidade no Target"
   ]
  },
  {
   "cell_type": "code",
   "execution_count": 135,
   "metadata": {},
   "outputs": [],
   "source": [
    "X_train, X_test, y_train, y_test = train_test_split(X,\n",
    "                                                    y,\n",
    "                                                    test_size=0.2,\n",
    "                                                    random_state=123)"
   ]
  },
  {
   "cell_type": "markdown",
   "metadata": {},
   "source": [
    "## 5.4.1. Modelos de Regressão"
   ]
  },
  {
   "cell_type": "code",
   "execution_count": 136,
   "metadata": {},
   "outputs": [],
   "source": [
    "def create_pipe(model, transformers_pipeline):\n",
    "    \"\"\"\n",
    "    model = Model funccion\n",
    "    Return a pipeline with model and transformations\n",
    "    \"\"\"\n",
    "    pipe = Pipeline(steps=[('scaler', RobustScaler()),\n",
    "                            ('model', model)])\n",
    "    return pipe"
   ]
  },
  {
   "cell_type": "code",
   "execution_count": 137,
   "metadata": {},
   "outputs": [],
   "source": [
    "def cv_scores(estimator, X, y, cv=5, scoring='neg_mean_absolute_error'):\n",
    "    \"\"\"\n",
    "    Cros Validation \n",
    "    estimatior = create_pipe funccion with model and transformation\n",
    "    X = X\n",
    "    y = target\n",
    "    scoring = score of model. Default is neg_mean_absolute_error for Regression Models\n",
    "    cv = Default is 5 fold. Stratified K Fold is also possible.\n",
    "    Print the score from train and test of modeling\n",
    "    \"\"\"\n",
    "    cv_scores = cross_validate(estimator=estimator,\n",
    "                                X = X,\n",
    "                                y = y,\n",
    "                                scoring =scoring,\n",
    "                                cv = cv,\n",
    "                                return_train_score=True)\n",
    "    print(f'{scoring} no Treino: {np.mean(cv_scores[\"train_score\"]):.4f}')\n",
    "    print(f'{scoring} no Teste: {np.mean(cv_scores[\"test_score\"]):.4f}')"
   ]
  },
  {
   "cell_type": "markdown",
   "metadata": {},
   "source": [
    "Para avaliação dos modelos vamos utilizar Negativo do Erro médio Absoluto <br>\n",
    "Quanto menor melhor, ou seja, mais próximo de zero melhor.<br>\n",
    "Vamos os escolher os **três** melhores."
   ]
  },
  {
   "cell_type": "markdown",
   "metadata": {},
   "source": [
    "**Linear Regression**"
   ]
  },
  {
   "cell_type": "code",
   "execution_count": 138,
   "metadata": {},
   "outputs": [],
   "source": [
    "pipe_LR = create_pipe(LinearRegression(), pipe)"
   ]
  },
  {
   "cell_type": "code",
   "execution_count": 139,
   "metadata": {},
   "outputs": [
    {
     "name": "stdout",
     "output_type": "stream",
     "text": [
      "neg_mean_absolute_error no Treino: -71.0321\n",
      "neg_mean_absolute_error no Teste: -71.4406\n"
     ]
    }
   ],
   "source": [
    "cv_scores(pipe_LR, X_train, y_train, cv=skf, scoring='neg_mean_absolute_error')"
   ]
  },
  {
   "cell_type": "markdown",
   "metadata": {},
   "source": [
    "**K Neighbors Regressor**"
   ]
  },
  {
   "cell_type": "code",
   "execution_count": 140,
   "metadata": {},
   "outputs": [],
   "source": [
    "pipe_KNR = create_pipe(KNeighborsRegressor(n_neighbors=int(np.sqrt(len(df_train)))), pipe)"
   ]
  },
  {
   "cell_type": "code",
   "execution_count": 141,
   "metadata": {},
   "outputs": [
    {
     "name": "stdout",
     "output_type": "stream",
     "text": [
      "neg_mean_absolute_error no Treino: -66.8071\n",
      "neg_mean_absolute_error no Teste: -67.6080\n"
     ]
    }
   ],
   "source": [
    "cv_scores(pipe_KNR, X_train, y_train, cv=skf, scoring='neg_mean_absolute_error')"
   ]
  },
  {
   "cell_type": "markdown",
   "metadata": {},
   "source": [
    "**SVR**"
   ]
  },
  {
   "cell_type": "code",
   "execution_count": 142,
   "metadata": {},
   "outputs": [],
   "source": [
    "pipe_SVR = create_pipe(SVR(), pipe)"
   ]
  },
  {
   "cell_type": "code",
   "execution_count": 143,
   "metadata": {},
   "outputs": [
    {
     "name": "stdout",
     "output_type": "stream",
     "text": [
      "neg_mean_absolute_error no Treino: -78.4037\n",
      "neg_mean_absolute_error no Teste: -78.7871\n"
     ]
    }
   ],
   "source": [
    "cv_scores(pipe_SVR, X_train, y_train, cv=skf, scoring='neg_mean_absolute_error')"
   ]
  },
  {
   "cell_type": "markdown",
   "metadata": {},
   "source": [
    "**Decision Tree**"
   ]
  },
  {
   "cell_type": "code",
   "execution_count": 144,
   "metadata": {},
   "outputs": [],
   "source": [
    "pipe_Dtree = create_pipe(DecisionTreeRegressor(random_state=123, max_depth=5), pipe)"
   ]
  },
  {
   "cell_type": "code",
   "execution_count": 145,
   "metadata": {},
   "outputs": [
    {
     "name": "stdout",
     "output_type": "stream",
     "text": [
      "neg_mean_absolute_error no Treino: -62.2953\n",
      "neg_mean_absolute_error no Teste: -65.1290\n"
     ]
    }
   ],
   "source": [
    "cv_scores(pipe_Dtree, X_train, y_train, cv=skf, scoring='neg_mean_absolute_error')"
   ]
  },
  {
   "cell_type": "markdown",
   "metadata": {},
   "source": [
    "**Random Forest**"
   ]
  },
  {
   "cell_type": "code",
   "execution_count": 146,
   "metadata": {},
   "outputs": [],
   "source": [
    "pipe_RF = create_pipe(RandomForestRegressor(random_state=123, max_depth=5), pipe)"
   ]
  },
  {
   "cell_type": "code",
   "execution_count": 147,
   "metadata": {},
   "outputs": [
    {
     "name": "stdout",
     "output_type": "stream",
     "text": [
      "neg_mean_absolute_error no Treino: -57.6956\n",
      "neg_mean_absolute_error no Teste: -60.0071\n"
     ]
    }
   ],
   "source": [
    "cv_scores(pipe_RF, X_train, y_train, cv=skf, scoring='neg_mean_absolute_error')"
   ]
  },
  {
   "cell_type": "markdown",
   "metadata": {},
   "source": [
    "**LGBM Regressor**"
   ]
  },
  {
   "cell_type": "code",
   "execution_count": 148,
   "metadata": {},
   "outputs": [],
   "source": [
    "pipe_LGBM = create_pipe(LGBMRegressor(random_state=123), pipe)"
   ]
  },
  {
   "cell_type": "code",
   "execution_count": 149,
   "metadata": {},
   "outputs": [
    {
     "name": "stdout",
     "output_type": "stream",
     "text": [
      "neg_mean_absolute_error no Treino: -26.0926\n",
      "neg_mean_absolute_error no Teste: -35.6300\n"
     ]
    }
   ],
   "source": [
    "cv_scores(pipe_LGBM, X_train, y_train, cv=skf, scoring='neg_mean_absolute_error')"
   ]
  },
  {
   "cell_type": "markdown",
   "metadata": {},
   "source": [
    "LGBM é possivel perceber uma tendência para overfitting"
   ]
  },
  {
   "cell_type": "markdown",
   "metadata": {},
   "source": [
    "## Top 3 modelos"
   ]
  },
  {
   "cell_type": "markdown",
   "metadata": {},
   "source": [
    "* Random Forest <br>\n",
    "* Decision Tree <br>\n",
    "* K Neighbors Regressor <br>"
   ]
  },
  {
   "cell_type": "markdown",
   "metadata": {},
   "source": [
    "# 5.5 Modelo de regressão com o Target normalizado pelo Box Cox"
   ]
  },
  {
   "cell_type": "code",
   "execution_count": 150,
   "metadata": {},
   "outputs": [
    {
     "data": {
      "text/plain": [
       "array([1.88297573, 1.88857655, 1.92602744, ..., 1.86626801, 1.83079755,\n",
       "       1.92386877])"
      ]
     },
     "execution_count": 150,
     "metadata": {},
     "output_type": "execute_result"
    }
   ],
   "source": [
    "transformed_y"
   ]
  },
  {
   "cell_type": "code",
   "execution_count": 151,
   "metadata": {},
   "outputs": [],
   "source": [
    "df_train_transformed = df_train.copy()"
   ]
  },
  {
   "cell_type": "code",
   "execution_count": 152,
   "metadata": {},
   "outputs": [],
   "source": [
    "df_train_transformed['Preço/Noite_Normalizado'] = transformed_y"
   ]
  },
  {
   "cell_type": "code",
   "execution_count": 153,
   "metadata": {},
   "outputs": [
    {
     "data": {
      "text/html": [
       "<div>\n",
       "<style scoped>\n",
       "    .dataframe tbody tr th:only-of-type {\n",
       "        vertical-align: middle;\n",
       "    }\n",
       "\n",
       "    .dataframe tbody tr th {\n",
       "        vertical-align: top;\n",
       "    }\n",
       "\n",
       "    .dataframe thead th {\n",
       "        text-align: right;\n",
       "    }\n",
       "</style>\n",
       "<table border=\"1\" class=\"dataframe\">\n",
       "  <thead>\n",
       "    <tr style=\"text-align: right;\">\n",
       "      <th></th>\n",
       "      <th>Mes</th>\n",
       "      <th>Número Banheiros</th>\n",
       "      <th>Número Camas</th>\n",
       "      <th>Número Comentários</th>\n",
       "      <th>Número Hóspedes</th>\n",
       "      <th>Taxa</th>\n",
       "      <th>Semana_do_ano</th>\n",
       "      <th>Jacuzzi</th>\n",
       "      <th>Academia</th>\n",
       "      <th>Secadora</th>\n",
       "      <th>Localização</th>\n",
       "      <th>Piscina</th>\n",
       "      <th>Permitido animais</th>\n",
       "      <th>Preço/Noite</th>\n",
       "      <th>Preço/Noite_Normalizado</th>\n",
       "    </tr>\n",
       "  </thead>\n",
       "  <tbody>\n",
       "    <tr>\n",
       "      <th>0</th>\n",
       "      <td>3</td>\n",
       "      <td>1</td>\n",
       "      <td>3</td>\n",
       "      <td>18</td>\n",
       "      <td>4</td>\n",
       "      <td>60.0</td>\n",
       "      <td>9</td>\n",
       "      <td>0</td>\n",
       "      <td>0</td>\n",
       "      <td>0</td>\n",
       "      <td>0.029461</td>\n",
       "      <td>1</td>\n",
       "      <td>0</td>\n",
       "      <td>184.0</td>\n",
       "      <td>1.882976</td>\n",
       "    </tr>\n",
       "    <tr>\n",
       "      <th>1</th>\n",
       "      <td>3</td>\n",
       "      <td>1</td>\n",
       "      <td>4</td>\n",
       "      <td>41</td>\n",
       "      <td>4</td>\n",
       "      <td>30.0</td>\n",
       "      <td>11</td>\n",
       "      <td>0</td>\n",
       "      <td>0</td>\n",
       "      <td>0</td>\n",
       "      <td>0.042766</td>\n",
       "      <td>1</td>\n",
       "      <td>0</td>\n",
       "      <td>198.0</td>\n",
       "      <td>1.888577</td>\n",
       "    </tr>\n",
       "    <tr>\n",
       "      <th>2</th>\n",
       "      <td>3</td>\n",
       "      <td>2</td>\n",
       "      <td>8</td>\n",
       "      <td>7</td>\n",
       "      <td>10</td>\n",
       "      <td>0.0</td>\n",
       "      <td>9</td>\n",
       "      <td>0</td>\n",
       "      <td>0</td>\n",
       "      <td>0</td>\n",
       "      <td>0.003089</td>\n",
       "      <td>0</td>\n",
       "      <td>0</td>\n",
       "      <td>351.0</td>\n",
       "      <td>1.926027</td>\n",
       "    </tr>\n",
       "    <tr>\n",
       "      <th>3</th>\n",
       "      <td>3</td>\n",
       "      <td>1</td>\n",
       "      <td>2</td>\n",
       "      <td>5</td>\n",
       "      <td>4</td>\n",
       "      <td>60.0</td>\n",
       "      <td>12</td>\n",
       "      <td>0</td>\n",
       "      <td>0</td>\n",
       "      <td>0</td>\n",
       "      <td>0.018769</td>\n",
       "      <td>0</td>\n",
       "      <td>1</td>\n",
       "      <td>191.0</td>\n",
       "      <td>1.885853</td>\n",
       "    </tr>\n",
       "    <tr>\n",
       "      <th>4</th>\n",
       "      <td>2</td>\n",
       "      <td>1</td>\n",
       "      <td>4</td>\n",
       "      <td>3</td>\n",
       "      <td>4</td>\n",
       "      <td>58.0</td>\n",
       "      <td>8</td>\n",
       "      <td>0</td>\n",
       "      <td>0</td>\n",
       "      <td>0</td>\n",
       "      <td>0.018769</td>\n",
       "      <td>0</td>\n",
       "      <td>1</td>\n",
       "      <td>124.0</td>\n",
       "      <td>1.849122</td>\n",
       "    </tr>\n",
       "    <tr>\n",
       "      <th>...</th>\n",
       "      <td>...</td>\n",
       "      <td>...</td>\n",
       "      <td>...</td>\n",
       "      <td>...</td>\n",
       "      <td>...</td>\n",
       "      <td>...</td>\n",
       "      <td>...</td>\n",
       "      <td>...</td>\n",
       "      <td>...</td>\n",
       "      <td>...</td>\n",
       "      <td>...</td>\n",
       "      <td>...</td>\n",
       "      <td>...</td>\n",
       "      <td>...</td>\n",
       "      <td>...</td>\n",
       "    </tr>\n",
       "    <tr>\n",
       "      <th>4204</th>\n",
       "      <td>3</td>\n",
       "      <td>3</td>\n",
       "      <td>4</td>\n",
       "      <td>34</td>\n",
       "      <td>10</td>\n",
       "      <td>75.0</td>\n",
       "      <td>11</td>\n",
       "      <td>0</td>\n",
       "      <td>0</td>\n",
       "      <td>0</td>\n",
       "      <td>0.005940</td>\n",
       "      <td>1</td>\n",
       "      <td>0</td>\n",
       "      <td>581.0</td>\n",
       "      <td>1.951336</td>\n",
       "    </tr>\n",
       "    <tr>\n",
       "      <th>4205</th>\n",
       "      <td>3</td>\n",
       "      <td>1</td>\n",
       "      <td>3</td>\n",
       "      <td>16</td>\n",
       "      <td>4</td>\n",
       "      <td>49.5</td>\n",
       "      <td>9</td>\n",
       "      <td>0</td>\n",
       "      <td>0</td>\n",
       "      <td>0</td>\n",
       "      <td>0.003326</td>\n",
       "      <td>0</td>\n",
       "      <td>1</td>\n",
       "      <td>247.0</td>\n",
       "      <td>1.904297</td>\n",
       "    </tr>\n",
       "    <tr>\n",
       "      <th>4206</th>\n",
       "      <td>3</td>\n",
       "      <td>1</td>\n",
       "      <td>2</td>\n",
       "      <td>6</td>\n",
       "      <td>6</td>\n",
       "      <td>10.0</td>\n",
       "      <td>9</td>\n",
       "      <td>0</td>\n",
       "      <td>0</td>\n",
       "      <td>0</td>\n",
       "      <td>0.011879</td>\n",
       "      <td>0</td>\n",
       "      <td>1</td>\n",
       "      <td>150.0</td>\n",
       "      <td>1.866268</td>\n",
       "    </tr>\n",
       "    <tr>\n",
       "      <th>4207</th>\n",
       "      <td>3</td>\n",
       "      <td>1</td>\n",
       "      <td>6</td>\n",
       "      <td>38</td>\n",
       "      <td>6</td>\n",
       "      <td>10.0</td>\n",
       "      <td>11</td>\n",
       "      <td>0</td>\n",
       "      <td>0</td>\n",
       "      <td>0</td>\n",
       "      <td>0.009979</td>\n",
       "      <td>0</td>\n",
       "      <td>0</td>\n",
       "      <td>103.0</td>\n",
       "      <td>1.830798</td>\n",
       "    </tr>\n",
       "    <tr>\n",
       "      <th>4208</th>\n",
       "      <td>3</td>\n",
       "      <td>2</td>\n",
       "      <td>9</td>\n",
       "      <td>7</td>\n",
       "      <td>12</td>\n",
       "      <td>50.0</td>\n",
       "      <td>12</td>\n",
       "      <td>0</td>\n",
       "      <td>0</td>\n",
       "      <td>0</td>\n",
       "      <td>0.009028</td>\n",
       "      <td>1</td>\n",
       "      <td>0</td>\n",
       "      <td>338.0</td>\n",
       "      <td>1.923869</td>\n",
       "    </tr>\n",
       "  </tbody>\n",
       "</table>\n",
       "<p>4209 rows × 15 columns</p>\n",
       "</div>"
      ],
      "text/plain": [
       "      Mes  Número Banheiros  Número Camas  Número Comentários  \\\n",
       "0       3                 1             3                  18   \n",
       "1       3                 1             4                  41   \n",
       "2       3                 2             8                   7   \n",
       "3       3                 1             2                   5   \n",
       "4       2                 1             4                   3   \n",
       "...   ...               ...           ...                 ...   \n",
       "4204    3                 3             4                  34   \n",
       "4205    3                 1             3                  16   \n",
       "4206    3                 1             2                   6   \n",
       "4207    3                 1             6                  38   \n",
       "4208    3                 2             9                   7   \n",
       "\n",
       "      Número Hóspedes  Taxa  Semana_do_ano  Jacuzzi  Academia  Secadora  \\\n",
       "0                   4  60.0              9        0         0         0   \n",
       "1                   4  30.0             11        0         0         0   \n",
       "2                  10   0.0              9        0         0         0   \n",
       "3                   4  60.0             12        0         0         0   \n",
       "4                   4  58.0              8        0         0         0   \n",
       "...               ...   ...            ...      ...       ...       ...   \n",
       "4204               10  75.0             11        0         0         0   \n",
       "4205                4  49.5              9        0         0         0   \n",
       "4206                6  10.0              9        0         0         0   \n",
       "4207                6  10.0             11        0         0         0   \n",
       "4208               12  50.0             12        0         0         0   \n",
       "\n",
       "      Localização  Piscina  Permitido animais  Preço/Noite  \\\n",
       "0        0.029461        1                  0        184.0   \n",
       "1        0.042766        1                  0        198.0   \n",
       "2        0.003089        0                  0        351.0   \n",
       "3        0.018769        0                  1        191.0   \n",
       "4        0.018769        0                  1        124.0   \n",
       "...           ...      ...                ...          ...   \n",
       "4204     0.005940        1                  0        581.0   \n",
       "4205     0.003326        0                  1        247.0   \n",
       "4206     0.011879        0                  1        150.0   \n",
       "4207     0.009979        0                  0        103.0   \n",
       "4208     0.009028        1                  0        338.0   \n",
       "\n",
       "      Preço/Noite_Normalizado  \n",
       "0                    1.882976  \n",
       "1                    1.888577  \n",
       "2                    1.926027  \n",
       "3                    1.885853  \n",
       "4                    1.849122  \n",
       "...                       ...  \n",
       "4204                 1.951336  \n",
       "4205                 1.904297  \n",
       "4206                 1.866268  \n",
       "4207                 1.830798  \n",
       "4208                 1.923869  \n",
       "\n",
       "[4209 rows x 15 columns]"
      ]
     },
     "execution_count": 153,
     "metadata": {},
     "output_type": "execute_result"
    }
   ],
   "source": [
    "df_train_transformed"
   ]
  },
  {
   "cell_type": "code",
   "execution_count": 154,
   "metadata": {},
   "outputs": [],
   "source": [
    "df_train_transformed = df_train_transformed.drop('Preço/Noite', axis=1)\n",
    "X_ = df_train_transformed.drop('Preço/Noite_Normalizado', axis=1)\n",
    "y_ = df_train_transformed['Preço/Noite_Normalizado']"
   ]
  },
  {
   "cell_type": "markdown",
   "metadata": {},
   "source": [
    "### 5.5.1. Data Prep"
   ]
  },
  {
   "cell_type": "code",
   "execution_count": 155,
   "metadata": {},
   "outputs": [],
   "source": [
    "X_ = pipe.fit_transform(X_)"
   ]
  },
  {
   "cell_type": "markdown",
   "metadata": {},
   "source": [
    "### 5.5.2. Divisão em treino e teste"
   ]
  },
  {
   "cell_type": "code",
   "execution_count": 156,
   "metadata": {},
   "outputs": [],
   "source": [
    "X_train_, X_test_, y_train_, y_test_ = train_test_split(X_,\n",
    "                                                        y_,\n",
    "                                                        test_size=0.2,\n",
    "                                                        random_state=123)"
   ]
  },
  {
   "cell_type": "code",
   "execution_count": 157,
   "metadata": {},
   "outputs": [
    {
     "data": {
      "text/plain": [
       "((3367, 13), (842, 13))"
      ]
     },
     "execution_count": 157,
     "metadata": {},
     "output_type": "execute_result"
    }
   ],
   "source": [
    "X_train_.shape, X_test_.shape"
   ]
  },
  {
   "cell_type": "markdown",
   "metadata": {},
   "source": [
    "## 5.5.3. Modelos de Regressão com o Target normalizado"
   ]
  },
  {
   "cell_type": "markdown",
   "metadata": {},
   "source": [
    "**Linear Regression**"
   ]
  },
  {
   "cell_type": "code",
   "execution_count": 158,
   "metadata": {},
   "outputs": [
    {
     "name": "stdout",
     "output_type": "stream",
     "text": [
      "neg_mean_absolute_error no Treino: -0.0184\n",
      "neg_mean_absolute_error no Teste: -0.0185\n"
     ]
    }
   ],
   "source": [
    "cv_scores(pipe_LR, X_train_, y_train_, cv = 5, scoring='neg_mean_absolute_error')"
   ]
  },
  {
   "cell_type": "markdown",
   "metadata": {},
   "source": [
    "**K Nearest Neighbors Regressor**"
   ]
  },
  {
   "cell_type": "code",
   "execution_count": 159,
   "metadata": {},
   "outputs": [
    {
     "name": "stdout",
     "output_type": "stream",
     "text": [
      "neg_mean_absolute_error no Treino: -0.0175\n",
      "neg_mean_absolute_error no Teste: -0.0178\n"
     ]
    }
   ],
   "source": [
    "cv_scores(pipe_KNR, X_train_, y_train_, cv = 5, scoring='neg_mean_absolute_error')"
   ]
  },
  {
   "cell_type": "markdown",
   "metadata": {},
   "source": [
    "**SVR**"
   ]
  },
  {
   "cell_type": "code",
   "execution_count": 160,
   "metadata": {},
   "outputs": [
    {
     "name": "stdout",
     "output_type": "stream",
     "text": [
      "neg_mean_absolute_error no Treino: -0.0262\n",
      "neg_mean_absolute_error no Teste: -0.0262\n"
     ]
    }
   ],
   "source": [
    "cv_scores(pipe_SVR, X_train_, y_train_, cv = 5, scoring='neg_mean_absolute_error')"
   ]
  },
  {
   "cell_type": "markdown",
   "metadata": {},
   "source": [
    "**Decision Tree**"
   ]
  },
  {
   "cell_type": "code",
   "execution_count": 161,
   "metadata": {},
   "outputs": [
    {
     "name": "stdout",
     "output_type": "stream",
     "text": [
      "neg_mean_absolute_error no Treino: -0.0161\n",
      "neg_mean_absolute_error no Teste: -0.0167\n"
     ]
    }
   ],
   "source": [
    "cv_scores(pipe_Dtree, X_train_, y_train_, cv = 5, scoring='neg_mean_absolute_error')"
   ]
  },
  {
   "cell_type": "markdown",
   "metadata": {},
   "source": [
    "**Random Forest**"
   ]
  },
  {
   "cell_type": "code",
   "execution_count": 162,
   "metadata": {},
   "outputs": [
    {
     "name": "stdout",
     "output_type": "stream",
     "text": [
      "neg_mean_absolute_error no Treino: -0.0152\n",
      "neg_mean_absolute_error no Teste: -0.0159\n"
     ]
    }
   ],
   "source": [
    "cv_scores(pipe_RF, X_train_, y_train_, cv = 5, scoring='neg_mean_absolute_error')"
   ]
  },
  {
   "cell_type": "markdown",
   "metadata": {},
   "source": [
    "**LGBM Regressor**"
   ]
  },
  {
   "cell_type": "code",
   "execution_count": 163,
   "metadata": {},
   "outputs": [
    {
     "name": "stdout",
     "output_type": "stream",
     "text": [
      "neg_mean_absolute_error no Treino: -0.0066\n",
      "neg_mean_absolute_error no Teste: -0.0093\n"
     ]
    }
   ],
   "source": [
    "cv_scores(pipe_LGBM, X_train_, y_train_, cv=5, scoring='neg_mean_absolute_error')"
   ]
  },
  {
   "cell_type": "markdown",
   "metadata": {},
   "source": [
    "### Top 3 modelos com target normalizado"
   ]
  },
  {
   "cell_type": "code",
   "execution_count": 164,
   "metadata": {},
   "outputs": [
    {
     "name": "stdout",
     "output_type": "stream",
     "text": [
      "[-0.0262, -0.0186, -0.0179, -0.0167, -0.0159, 0]\n"
     ]
    }
   ],
   "source": [
    "# Modelos que tiveram os menores erros são aquela que estão próximos a 0.\n",
    "\n",
    "neg_mae_test = [0,-0.0186, -0.0179, -0.0262, -0.0167, -0.0159]\n",
    "print(sorted(neg_mae_test))"
   ]
  },
  {
   "cell_type": "markdown",
   "metadata": {},
   "source": [
    "* Random Forest <br>\n",
    "* Decision Tree <br>\n",
    "* K Nearest Neighbors Regressor <br>"
   ]
  },
  {
   "cell_type": "markdown",
   "metadata": {},
   "source": [
    "## 5.6. Escolha dos Hiperparâmetros - Target Normalizado"
   ]
  },
  {
   "cell_type": "markdown",
   "metadata": {},
   "source": [
    "### K Nearest Neighbors Regressor"
   ]
  },
  {
   "cell_type": "code",
   "execution_count": 165,
   "metadata": {},
   "outputs": [],
   "source": [
    "param_grid_KNR = {\n",
    "                    'model__n_neighbors' : range(1, 100),\n",
    "                    'model__weights' : ['uniform', 'distance'],\n",
    "                    'model__p': range(1,11),\n",
    "                    'model__metric': ['euclidean', 'manhattan', 'chebyshev', 'minkowski', 'wminkowski', 'seuclidean', 'mahalanobis']\n",
    "                    }"
   ]
  },
  {
   "cell_type": "code",
   "execution_count": 166,
   "metadata": {},
   "outputs": [],
   "source": [
    "random_search_KNR = RandomizedSearchCV(estimator=pipe_KNR,\n",
    "                                        param_distributions=param_grid_KNR,\n",
    "                                        scoring='neg_mean_absolute_error',\n",
    "                                        random_state=123,\n",
    "                                        cv=5,\n",
    "                                        n_iter=1000,\n",
    "                                        n_jobs=-1,\n",
    "                                        verbose=1)"
   ]
  },
  {
   "cell_type": "code",
   "execution_count": 167,
   "metadata": {},
   "outputs": [
    {
     "name": "stdout",
     "output_type": "stream",
     "text": [
      "Fitting 5 folds for each of 1000 candidates, totalling 5000 fits\n"
     ]
    },
    {
     "name": "stderr",
     "output_type": "stream",
     "text": [
      "[Parallel(n_jobs=-1)]: Using backend LokyBackend with 8 concurrent workers.\n",
      "[Parallel(n_jobs=-1)]: Done  34 tasks      | elapsed:    5.2s\n",
      "[Parallel(n_jobs=-1)]: Done 328 tasks      | elapsed:    8.2s\n",
      "[Parallel(n_jobs=-1)]: Done 1202 tasks      | elapsed:   20.8s\n",
      "[Parallel(n_jobs=-1)]: Done 2512 tasks      | elapsed:   36.1s\n",
      "[Parallel(n_jobs=-1)]: Done 4248 tasks      | elapsed:  1.0min\n",
      "[Parallel(n_jobs=-1)]: Done 5000 out of 5000 | elapsed:  1.2min finished\n"
     ]
    },
    {
     "data": {
      "text/plain": [
       "RandomizedSearchCV(cv=5,\n",
       "                   estimator=Pipeline(steps=[('scaler', RobustScaler()),\n",
       "                                             ('model',\n",
       "                                              KNeighborsRegressor(n_neighbors=64))]),\n",
       "                   n_iter=1000, n_jobs=-1,\n",
       "                   param_distributions={'model__metric': ['euclidean',\n",
       "                                                          'manhattan',\n",
       "                                                          'chebyshev',\n",
       "                                                          'minkowski',\n",
       "                                                          'wminkowski',\n",
       "                                                          'seuclidean',\n",
       "                                                          'mahalanobis'],\n",
       "                                        'model__n_neighbors': range(1, 100),\n",
       "                                        'model__p': range(1, 11),\n",
       "                                        'model__weights': ['uniform',\n",
       "                                                           'distance']},\n",
       "                   random_state=123, scoring='neg_mean_absolute_error',\n",
       "                   verbose=1)"
      ]
     },
     "execution_count": 167,
     "metadata": {},
     "output_type": "execute_result"
    }
   ],
   "source": [
    "random_search_KNR.fit(X_train_, y_train_)"
   ]
  },
  {
   "cell_type": "code",
   "execution_count": 168,
   "metadata": {},
   "outputs": [
    {
     "name": "stdout",
     "output_type": "stream",
     "text": [
      "Melhor Score do KNRegression: 0.0059\n"
     ]
    }
   ],
   "source": [
    "print(f'Melhor Score do KNRegression: {-random_search_KNR.best_score_:.4f}')"
   ]
  },
  {
   "cell_type": "code",
   "execution_count": 169,
   "metadata": {},
   "outputs": [
    {
     "name": "stdout",
     "output_type": "stream",
     "text": [
      "Mean Absolute Error KNRegression no Teste 0.0051\n"
     ]
    }
   ],
   "source": [
    "best_KNR = random_search_KNR.best_estimator_\n",
    "y_pred_KNR = best_KNR.predict(X_test_)\n",
    "print(f'Mean Absolute Error KNRegression no Teste {np.mean(abs(y_test_ - y_pred_KNR)):.4f}')"
   ]
  },
  {
   "cell_type": "code",
   "execution_count": 170,
   "metadata": {},
   "outputs": [
    {
     "data": {
      "text/plain": [
       "{'model__weights': 'uniform',\n",
       " 'model__p': 5,\n",
       " 'model__n_neighbors': 1,\n",
       " 'model__metric': 'manhattan'}"
      ]
     },
     "execution_count": 170,
     "metadata": {},
     "output_type": "execute_result"
    }
   ],
   "source": [
    "random_search_KNR.best_params_"
   ]
  },
  {
   "cell_type": "markdown",
   "metadata": {},
   "source": [
    "**Houve overfitting no KNN Regression, pois resultou em k = 1**"
   ]
  },
  {
   "cell_type": "markdown",
   "metadata": {},
   "source": [
    "### Decision Tree"
   ]
  },
  {
   "cell_type": "code",
   "execution_count": 171,
   "metadata": {},
   "outputs": [],
   "source": [
    "param_grid_Dtree = {\n",
    "                'model__criterion' : ['mae'],\n",
    "                'model__max_depth' : range(1, 11),\n",
    "                'model__min_samples_split' : range(2, 41, 5),\n",
    "                'model__min_samples_leaf' : range(2, 21, 2),\n",
    "                }"
   ]
  },
  {
   "cell_type": "code",
   "execution_count": 172,
   "metadata": {},
   "outputs": [],
   "source": [
    "random_search_Dtree = RandomizedSearchCV(estimator=pipe_Dtree,\n",
    "                                        param_distributions=param_grid_Dtree,\n",
    "                                        scoring='neg_mean_absolute_error',\n",
    "                                        random_state=123,\n",
    "                                        cv=5,\n",
    "                                        n_jobs=-1,\n",
    "                                        verbose=1,\n",
    "                                        n_iter=1000)"
   ]
  },
  {
   "cell_type": "code",
   "execution_count": 173,
   "metadata": {},
   "outputs": [
    {
     "name": "stderr",
     "output_type": "stream",
     "text": [
      "[Parallel(n_jobs=-1)]: Using backend LokyBackend with 8 concurrent workers.\n"
     ]
    },
    {
     "name": "stdout",
     "output_type": "stream",
     "text": [
      "Fitting 5 folds for each of 800 candidates, totalling 4000 fits\n"
     ]
    },
    {
     "name": "stderr",
     "output_type": "stream",
     "text": [
      "[Parallel(n_jobs=-1)]: Done  52 tasks      | elapsed:    1.5s\n",
      "[Parallel(n_jobs=-1)]: Done 352 tasks      | elapsed:    9.1s\n",
      "[Parallel(n_jobs=-1)]: Done 852 tasks      | elapsed:   28.5s\n",
      "[Parallel(n_jobs=-1)]: Done 1552 tasks      | elapsed:  1.1min\n",
      "[Parallel(n_jobs=-1)]: Done 2452 tasks      | elapsed:  1.9min\n",
      "[Parallel(n_jobs=-1)]: Done 3016 tasks      | elapsed:  2.5min\n",
      "[Parallel(n_jobs=-1)]: Done 3666 tasks      | elapsed:  3.2min\n",
      "[Parallel(n_jobs=-1)]: Done 4000 out of 4000 | elapsed:  3.6min finished\n"
     ]
    },
    {
     "data": {
      "text/plain": [
       "RandomizedSearchCV(cv=5,\n",
       "                   estimator=Pipeline(steps=[('scaler', RobustScaler()),\n",
       "                                             ('model',\n",
       "                                              DecisionTreeRegressor(max_depth=5,\n",
       "                                                                    random_state=123))]),\n",
       "                   n_iter=1000, n_jobs=-1,\n",
       "                   param_distributions={'model__criterion': ['mae'],\n",
       "                                        'model__max_depth': range(1, 11),\n",
       "                                        'model__min_samples_leaf': range(2, 21, 2),\n",
       "                                        'model__min_samples_split': range(2, 41, 5)},\n",
       "                   random_state=123, scoring='neg_mean_absolute_error',\n",
       "                   verbose=1)"
      ]
     },
     "execution_count": 173,
     "metadata": {},
     "output_type": "execute_result"
    }
   ],
   "source": [
    "random_search_Dtree.fit(X_train_, y_train_)"
   ]
  },
  {
   "cell_type": "code",
   "execution_count": 174,
   "metadata": {},
   "outputs": [
    {
     "name": "stdout",
     "output_type": "stream",
     "text": [
      "Melhor Score do Decision Tree Regression: 0.0114\n"
     ]
    }
   ],
   "source": [
    "print(f'Melhor Score do Decision Tree Regression: {-random_search_Dtree.best_score_:.4f}')"
   ]
  },
  {
   "cell_type": "code",
   "execution_count": 175,
   "metadata": {},
   "outputs": [
    {
     "name": "stdout",
     "output_type": "stream",
     "text": [
      "Mean Absolute Error Decision Tree Regression no Teste 0.0113\n"
     ]
    }
   ],
   "source": [
    "best_Dtree = random_search_Dtree.best_estimator_\n",
    "y_pred_Dtree = best_Dtree.predict(X_test_)\n",
    "print(f'Mean Absolute Error Decision Tree Regression no Teste {np.mean(abs(y_test_ - y_pred_Dtree)):.4f}')"
   ]
  },
  {
   "cell_type": "code",
   "execution_count": 176,
   "metadata": {},
   "outputs": [
    {
     "data": {
      "text/plain": [
       "{'model__min_samples_split': 2,\n",
       " 'model__min_samples_leaf': 2,\n",
       " 'model__max_depth': 10,\n",
       " 'model__criterion': 'mae'}"
      ]
     },
     "execution_count": 176,
     "metadata": {},
     "output_type": "execute_result"
    }
   ],
   "source": [
    "random_search_Dtree.best_params_"
   ]
  },
  {
   "cell_type": "code",
   "execution_count": 195,
   "metadata": {},
   "outputs": [
    {
     "data": {
      "text/plain": [
       "Pipeline(steps=[('scaler', RobustScaler()),\n",
       "                ('model',\n",
       "                 DecisionTreeRegressor(criterion='mae', max_depth=10,\n",
       "                                       min_samples_leaf=2, random_state=123))])"
      ]
     },
     "execution_count": 195,
     "metadata": {},
     "output_type": "execute_result"
    }
   ],
   "source": [
    "best_Dtree"
   ]
  },
  {
   "cell_type": "markdown",
   "metadata": {},
   "source": [
    "### Random Forest"
   ]
  },
  {
   "cell_type": "code",
   "execution_count": 177,
   "metadata": {},
   "outputs": [],
   "source": [
    "param_grid_RF = {\n",
    "                'model__n_estimators': [10, 25, 50, 75, 100, 150],\n",
    "                'model__criterion' : ['mae'],\n",
    "                'model__max_depth' : range(1, 11),\n",
    "                'model__min_samples_split' : range(2, 41, 5),\n",
    "                'model__min_samples_leaf' : range(2, 21, 2),\n",
    "                'model__max_features': ['auto', 'sqrt', 'log2'],\n",
    "                }"
   ]
  },
  {
   "cell_type": "code",
   "execution_count": 178,
   "metadata": {},
   "outputs": [],
   "source": [
    "random_search_RF = RandomizedSearchCV(estimator=pipe_RF,\n",
    "                                        param_distributions=param_grid_RF,\n",
    "                                        scoring='neg_mean_absolute_error',\n",
    "                                        random_state=123,\n",
    "                                        cv=5,\n",
    "                                        n_jobs=-1,\n",
    "                                        verbose=1,\n",
    "                                        n_iter=250)"
   ]
  },
  {
   "cell_type": "code",
   "execution_count": 179,
   "metadata": {},
   "outputs": [
    {
     "name": "stdout",
     "output_type": "stream",
     "text": [
      "Fitting 5 folds for each of 250 candidates, totalling 1250 fits\n"
     ]
    },
    {
     "name": "stderr",
     "output_type": "stream",
     "text": [
      "[Parallel(n_jobs=-1)]: Using backend LokyBackend with 8 concurrent workers.\n",
      "[Parallel(n_jobs=-1)]: Done  34 tasks      | elapsed:   34.8s\n",
      "[Parallel(n_jobs=-1)]: Done 184 tasks      | elapsed:  3.1min\n",
      "[Parallel(n_jobs=-1)]: Done 434 tasks      | elapsed:  7.2min\n",
      "[Parallel(n_jobs=-1)]: Done 784 tasks      | elapsed: 12.3min\n",
      "[Parallel(n_jobs=-1)]: Done 1234 tasks      | elapsed: 19.1min\n",
      "[Parallel(n_jobs=-1)]: Done 1250 out of 1250 | elapsed: 19.4min finished\n"
     ]
    },
    {
     "data": {
      "text/plain": [
       "RandomizedSearchCV(cv=5,\n",
       "                   estimator=Pipeline(steps=[('scaler', RobustScaler()),\n",
       "                                             ('model',\n",
       "                                              RandomForestRegressor(max_depth=5,\n",
       "                                                                    random_state=123))]),\n",
       "                   n_iter=250, n_jobs=-1,\n",
       "                   param_distributions={'model__criterion': ['mae'],\n",
       "                                        'model__max_depth': range(1, 11),\n",
       "                                        'model__max_features': ['auto', 'sqrt',\n",
       "                                                                'log2'],\n",
       "                                        'model__min_samples_leaf': range(2, 21, 2),\n",
       "                                        'model__min_samples_split': range(2, 41, 5),\n",
       "                                        'model__n_estimators': [10, 25, 50, 75,\n",
       "                                                                100, 150]},\n",
       "                   random_state=123, scoring='neg_mean_absolute_error',\n",
       "                   verbose=1)"
      ]
     },
     "execution_count": 179,
     "metadata": {},
     "output_type": "execute_result"
    }
   ],
   "source": [
    "random_search_RF.fit(X_train_, y_train_)"
   ]
  },
  {
   "cell_type": "code",
   "execution_count": 180,
   "metadata": {},
   "outputs": [
    {
     "name": "stdout",
     "output_type": "stream",
     "text": [
      "Melhor Score do Random Forest Regression: 0.0107\n"
     ]
    }
   ],
   "source": [
    "print(f'Melhor Score do Random Forest Regression: {-random_search_RF.best_score_:.4f}')"
   ]
  },
  {
   "cell_type": "code",
   "execution_count": 181,
   "metadata": {},
   "outputs": [
    {
     "name": "stdout",
     "output_type": "stream",
     "text": [
      "Mean Absolute Error Random Forest Regression no Teste 0.0099\n"
     ]
    }
   ],
   "source": [
    "best_RF = random_search_RF.best_estimator_\n",
    "y_pred_RF = best_RF.predict(X_test_)\n",
    "print(f'Mean Absolute Error Random Forest Regression no Teste {np.mean(abs(y_test_ - y_pred_RF)):.4f}')"
   ]
  },
  {
   "cell_type": "code",
   "execution_count": 182,
   "metadata": {},
   "outputs": [
    {
     "data": {
      "text/plain": [
       "{'model__n_estimators': 100,\n",
       " 'model__min_samples_split': 7,\n",
       " 'model__min_samples_leaf': 2,\n",
       " 'model__max_features': 'auto',\n",
       " 'model__max_depth': 10,\n",
       " 'model__criterion': 'mae'}"
      ]
     },
     "execution_count": 182,
     "metadata": {},
     "output_type": "execute_result"
    }
   ],
   "source": [
    "random_search_RF.best_params_"
   ]
  },
  {
   "cell_type": "code",
   "execution_count": 352,
   "metadata": {},
   "outputs": [
    {
     "ename": "TypeError",
     "evalue": "learning_curve() got an unexpected keyword argument 'estimator'",
     "output_type": "error",
     "traceback": [
      "\u001b[1;31m---------------------------------------------------------------------------\u001b[0m",
      "\u001b[1;31mTypeError\u001b[0m                                 Traceback (most recent call last)",
      "\u001b[1;32m<ipython-input-352-6d786c0302d1>\u001b[0m in \u001b[0;36m<module>\u001b[1;34m\u001b[0m\n\u001b[0;32m      1\u001b[0m \u001b[0mtrain_sizes\u001b[0m\u001b[1;33m=\u001b[0m \u001b[0mnp\u001b[0m\u001b[1;33m.\u001b[0m\u001b[0mlinspace\u001b[0m\u001b[1;33m(\u001b[0m\u001b[1;36m0.5\u001b[0m\u001b[1;33m,\u001b[0m \u001b[1;36m1\u001b[0m\u001b[1;33m,\u001b[0m \u001b[1;36m5\u001b[0m\u001b[1;33m)\u001b[0m\u001b[1;33m\u001b[0m\u001b[1;33m\u001b[0m\u001b[0m\n\u001b[0;32m      2\u001b[0m \u001b[0mtrain_sizes\u001b[0m\u001b[1;33m,\u001b[0m \u001b[0mtrain_scores\u001b[0m\u001b[1;33m,\u001b[0m \u001b[0mtest_scores\u001b[0m\u001b[1;33m,\u001b[0m \u001b[0mfit_times\u001b[0m\u001b[1;33m,\u001b[0m \u001b[0m_\u001b[0m \u001b[1;33m=\u001b[0m\u001b[0;31m \u001b[0m\u001b[0;31m\\\u001b[0m\u001b[1;33m\u001b[0m\u001b[1;33m\u001b[0m\u001b[0m\n\u001b[1;32m----> 3\u001b[1;33m     learning_curve(estimator=best_RF, \n\u001b[0m\u001b[0;32m      4\u001b[0m                    \u001b[0mX\u001b[0m\u001b[1;33m=\u001b[0m\u001b[0mX_train_\u001b[0m\u001b[1;33m,\u001b[0m\u001b[1;33m\u001b[0m\u001b[1;33m\u001b[0m\u001b[0m\n\u001b[0;32m      5\u001b[0m                    \u001b[0my\u001b[0m\u001b[1;33m=\u001b[0m\u001b[0my_train_\u001b[0m\u001b[1;33m,\u001b[0m\u001b[1;33m\u001b[0m\u001b[1;33m\u001b[0m\u001b[0m\n",
      "\u001b[1;31mTypeError\u001b[0m: learning_curve() got an unexpected keyword argument 'estimator'"
     ]
    }
   ],
   "source": [
    "train_sizes= np.linspace(0.5, 1, 5)\n",
    "train_sizes, train_scores, test_scores, fit_times, _ = \\\n",
    "    learning_curve(estimator=best_RF, \n",
    "                   X=X_train_, \n",
    "                   y=y_train_, \n",
    "                   cv=5, \n",
    "                   scoring='mean_absolute_error',\n",
    "                   n_jobs=-1,\n",
    "                   train_sizes=train_sizes,\n",
    "                   return_times=True)\n",
    "    \n",
    "train_scores_mean = -np.mean(train_scores, axis=1)\n",
    "train_scores_std = -np.std(train_scores, axis=1)\n",
    "test_scores_mean = -np.mean(test_scores, axis=1)\n",
    "test_scores_std = -np.std(test_scores, axis=1)\n",
    "fit_times_mean = -np.mean(fit_times, axis=1)\n",
    "fit_times_std = -np.std(fit_times, axis=1)\n",
    "\n",
    "fig = plt.figure(figsize=(20, 5))\n",
    "\n",
    "plt.title(f'Learning Curve')\n",
    "plt.xlabel(\"Training examples\")\n",
    "plt.ylabel(\"Score\")\n",
    "plt.grid()\n",
    "#plt.ylim((0,1))\n",
    "plt.fill_between(train_sizes, train_scores_mean - train_scores_std,\n",
    "                     train_scores_mean + train_scores_std, alpha=0.1,\n",
    "                     color=\"r\")\n",
    "plt.fill_between(train_sizes, test_scores_mean - test_scores_std,\n",
    "                     test_scores_mean + test_scores_std, alpha=0.1,\n",
    "                     color=\"g\")\n",
    "plt.plot(train_sizes, train_scores_mean, 'o-', color=\"r\",\n",
    "             label=\"Training score\")\n",
    "plt.plot(train_sizes, test_scores_mean, 'o-', color=\"g\",\n",
    "             label=\"Cross-validation score\")\n",
    "plt.legend(loc=\"best\")\n",
    "plt.show()"
   ]
  },
  {
   "cell_type": "markdown",
   "metadata": {},
   "source": [
    "# 5.7 Modelagem"
   ]
  },
  {
   "cell_type": "markdown",
   "metadata": {},
   "source": [
    "### Decision Tree"
   ]
  },
  {
   "cell_type": "code",
   "execution_count": 193,
   "metadata": {},
   "outputs": [
    {
     "data": {
      "text/plain": [
       "Pipeline(steps=[('scaler', RobustScaler()),\n",
       "                ('model',\n",
       "                 DecisionTreeRegressor(criterion='mae', max_depth=10,\n",
       "                                       min_samples_leaf=2, random_state=123))])"
      ]
     },
     "execution_count": 193,
     "metadata": {},
     "output_type": "execute_result"
    }
   ],
   "source": [
    "best_Dtree.fit(X_train_, y_train_)"
   ]
  },
  {
   "cell_type": "code",
   "execution_count": 196,
   "metadata": {},
   "outputs": [],
   "source": [
    "result_Dtree = best_Dtree.predict(X_test_)"
   ]
  },
  {
   "cell_type": "code",
   "execution_count": 197,
   "metadata": {},
   "outputs": [
    {
     "data": {
      "text/plain": [
       "842"
      ]
     },
     "execution_count": 197,
     "metadata": {},
     "output_type": "execute_result"
    }
   ],
   "source": [
    "len(result_Dtree)"
   ]
  },
  {
   "cell_type": "code",
   "execution_count": 198,
   "metadata": {},
   "outputs": [],
   "source": [
    "# reconversão da variável\n",
    "diaria = scipy.special.inv_boxcox(result_Dtree, lambda_found)"
   ]
  },
  {
   "cell_type": "code",
   "execution_count": 199,
   "metadata": {},
   "outputs": [
    {
     "data": {
      "text/plain": [
       "array([ 177.  ,  150.  ,  177.  ,  219.46,  187.  ,  353.  ,  334.99,\n",
       "        218.  ,  251.  ,  165.  ,  180.  ,  250.  ,  158.  ,  166.  ,\n",
       "        180.  ,  559.  ,  145.  ,  232.  ,  193.  ,  226.  ,  180.  ,\n",
       "        180.  ,  206.  ,  158.  ,  218.  ,  206.  ,  211.  ,  218.  ,\n",
       "        144.34,  629.  ,  353.  ,  250.  ,  180.  ,  180.  ,  298.  ,\n",
       "        219.46,  166.  ,  123.  ,  187.  ,  263.  ,  247.  ,  226.  ,\n",
       "        158.  ,  118.  ,  250.  ,  425.  ,  218.  ,  145.  ,   89.  ,\n",
       "        187.  ,  118.  ,  457.  ,  237.  ,   99.  ,  226.  ,  158.  ,\n",
       "        807.  ,  149.  ,  240.  ,  250.  ,  177.  ,  145.  ,  180.  ,\n",
       "        250.  ,  182.  ,  145.  ,  292.  ,  177.  ,  218.  ,  237.  ,\n",
       "        344.  ,  218.  ,  219.46,  218.  ,  144.34,  180.  ,  158.  ,\n",
       "        482.75,  263.  ,  427.  ,  293.  ,  182.98,  760.  ,  182.  ,\n",
       "         94.  ,  207.  ,  194.  ,  206.  ,  218.  ,  158.  ,  218.  ,\n",
       "        180.  ,  193.  ,  187.  ,  460.48,  206.  ,  124.  ,  180.  ,\n",
       "        197.23,  344.  ,  124.  ,  226.  ,   89.  ,  219.  ,  272.  ,\n",
       "        410.  ,  171.  ,  250.  ,  184.  ,   99.  ,  182.  ,  180.  ,\n",
       "        913.  ,  166.  ,  460.48,  263.  ,  177.  ,  336.  ,  457.  ,\n",
       "        425.  ,  218.  ,  180.  ,  180.  ,  807.  ,  353.  ,  187.  ,\n",
       "        110.  ,  351.  ,  356.  ,  365.  ,  149.  ,  180.  ,  187.  ,\n",
       "        193.  ,  232.  ,  263.  ,  108.  ,  203.  ,  218.45,  237.  ,\n",
       "        226.  ,  250.  ,  206.  ,  309.76,  180.  ,  245.  ,  285.  ,\n",
       "        263.  ,  218.  ,  206.  ,  149.  ,  107.  ,  149.  ,  187.  ,\n",
       "        149.  ,  263.  ,  149.  ,  327.  ,  187.  ,  180.  ,  123.  ,\n",
       "        240.  ,  119.49,  166.  ,  175.  ,  298.  ,  131.33,  163.  ,\n",
       "        250.  ,  380.  ,  293.  ,  182.  ,  199.3 ,  108.  ,  578.  ,\n",
       "        180.  ,  278.  ,  294.  ,  171.  ,  158.  ,  226.  ,  187.  ,\n",
       "        234.  ,  145.  ,  187.  ,  284.91,  149.  ,  193.  ,  119.49,\n",
       "        226.  ,  180.  ,  218.  ,  218.  ,  187.  ,  278.  ,  226.  ,\n",
       "        149.  ,  250.  ,  338.  ,  320.  ,  134.84,  559.  ,  218.  ,\n",
       "        238.93,  180.  ,  107.  ,  514.  ,  226.  ,  158.  ,  139.  ,\n",
       "        575.  ,  462.  ,  226.  ,  226.  ,  110.  ,  226.  ,  696.  ,\n",
       "        335.  ,  218.  ,  191.  ,  145.  ,  252.  ,  181.  ,  206.  ,\n",
       "        145.  ,  211.  ,  315.  ,  180.  ,  180.  ,  145.  ,  187.  ,\n",
       "        164.  ,  226.  ,  108.  ,  237.  ,  206.  ,  137.  ,  206.  ,\n",
       "        149.  ,  218.45,  351.  ,  351.  ,  344.  ,  187.  ,  166.  ,\n",
       "        177.  ,  149.  ,  320.  ,  344.  ,  130.  ,  203.  ,  187.  ,\n",
       "        206.  ,  206.  ,  226.  ,  187.  ,  164.  ,  177.  ,  242.  ,\n",
       "        344.  ,  226.  ,  228.  ,  149.  ,  206.  ,  158.  ,  218.  ,\n",
       "        365.  ,  554.  ,  177.  ,  130.  ,  219.46,  228.  ,  187.  ,\n",
       "        180.  ,  250.  ,  410.  ,  226.  ,  145.  ,  218.  ,  247.  ,\n",
       "        187.  ,  123.  ,  166.  ,  180.  ,  348.  ,  107.  ,  187.  ,\n",
       "        629.  ,  344.  ,  206.  ,  143.03,  206.  ,  177.  ,  180.  ,\n",
       "        139.  ,  177.  ,  187.  ,  134.  ,  177.  ,  559.  ,  304.  ,\n",
       "        180.  ,  457.  ,  314.  ,  232.  ,  250.  ,  353.  ,  314.  ,\n",
       "        218.  ,  334.99,  124.  ,  171.  ,  206.  ,  336.  ,  482.75,\n",
       "        177.  ,  559.  ,  514.  ,  182.  ,  177.  ,  206.  ,  156.  ,\n",
       "        118.  ,  311.81,  206.  ,  314.  ,  149.  ,  193.  ,  291.  ,\n",
       "        187.  ,  180.  ,  242.  ,  263.  ,  237.  ,  187.  ,  344.  ,\n",
       "        187.  ,  144.  ,  187.  ,  180.  ,  187.  ,  180.  ,  180.  ,\n",
       "        492.  ,  206.  ,  158.  ,  177.  ,  182.  ,  187.  ,  227.45,\n",
       "        144.  ,  807.  ,  187.  ,  365.  ,  226.  ,  187.  ,  250.  ,\n",
       "        410.  ,  559.  ,  187.  ,  127.  ,  187.  ,  234.  ,  145.  ,\n",
       "        232.  ,  218.  ,  254.  ,  234.  ,  226.  ,  158.  ,  218.  ,\n",
       "        211.  ,  166.  ,  218.  ,  219.46,  250.  ,  180.  ,  180.  ,\n",
       "        180.  ,  193.  ,  263.  ,  180.  ,  457.  ,  180.  ,  180.  ,\n",
       "        179.  ,  262.  ,  314.  ,  180.  ,  166.  ,  218.  ,  145.  ,\n",
       "        108.  ,  913.  ,  286.  ,  353.  ,  180.  ,  344.  ,  166.  ,\n",
       "        180.  ,  206.  ,  206.  ,  284.91,  226.  ,  247.  ,  166.  ,\n",
       "        425.31,  291.  ,  575.  ,  131.  ,  482.75,  149.  ,  218.  ,\n",
       "        180.  ,  171.  ,  142.95,  108.  ,  180.  ,  289.  ,  492.  ,\n",
       "        149.  ,  247.  ,  187.  ,  559.  ,  219.46,  152.  ,  144.  ,\n",
       "        237.  ,  158.  ,  351.  ,  760.  ,  187.  ,  180.  ,  218.  ,\n",
       "        482.75,  457.  ,  180.  ,  382.  ,  226.  ,  218.  ,  166.  ,\n",
       "        164.  ,  206.  ,  119.49,  221.  ,  102.  ,  263.  ,  298.  ,\n",
       "        211.  ,  147.  ,  193.  ,  263.  ,  575.  ,  348.  ,  124.  ,\n",
       "        180.  ,  218.  ,  177.  ,  166.  ,  559.  ,  226.  ,  123.  ,\n",
       "        226.  ,  187.  ,  159.41,  219.46,  130.  ,  629.  ,  144.34,\n",
       "        234.  ,  250.  ,  275.  ,  575.  ,  251.  ,  913.  ,  149.  ,\n",
       "        180.  ,  149.  ,  180.  ,  187.  ,  334.99,  158.  ,  164.  ,\n",
       "        211.  ,  344.  ,  250.  ,  156.  ,  180.  ,  139.  ,  134.  ,\n",
       "        410.  ,  295.  ,  284.  ,  460.48,  187.  ,  263.  ,  238.  ,\n",
       "        206.  ,  145.  ,  149.  ,  211.  ,  134.  ,  272.  ,  575.  ,\n",
       "        492.  ,  275.  ,  286.  ,  158.  ,  180.  ,  314.  ,  338.  ,\n",
       "        177.  ,  149.  ,  171.  ,  275.  ,  262.  ,  226.  ,  187.  ,\n",
       "        250.  ,  344.  ,  238.  ,  119.49,  180.  ,  187.  ,  350.  ,\n",
       "        240.  , 1045.07,  134.84,  206.  ,  144.  ,  218.  ,  218.  ,\n",
       "        180.  ,  293.  ,  559.  ,  344.  ,  261.  ,  177.  ,  226.  ,\n",
       "        913.  ,  559.  ,  290.98,  218.  , 1045.07,  180.  ,  145.  ,\n",
       "        218.  ,  166.  ,  336.  ,  250.  ,  156.  ,  144.  ,  460.48,\n",
       "        219.46,  701.36,  545.  ,  165.  ,  353.  ,  206.  ,  180.  ,\n",
       "        263.  ,  180.  ,  164.  ,  121.46,  206.  ,  206.  ,  410.  ,\n",
       "        492.  ,  357.  ,  180.  ,  344.  ,  237.  ,  187.  ,  314.  ,\n",
       "        701.36,  457.  ,  164.  ,  177.  ,  183.  ,  232.  ,  410.  ,\n",
       "        218.  ,  206.  ,  232.  ,  206.  ,  158.  ,  206.  ,  211.  ,\n",
       "        460.48,  180.  ,  171.  ,  108.  ,  226.  ,  219.46,  274.  ,\n",
       "        263.  ,  356.  ,  182.98,  177.  ,  191.  ,  187.  ,  226.  ,\n",
       "        218.  ,  171.  ,  356.  ,  149.  ,  187.  ,  158.  ,  145.  ,\n",
       "        353.  ,  206.  ,  149.  ,  182.  ,  218.  ,  108.  ,  705.  ,\n",
       "        206.  ,  149.  ,  263.  ,  250.  ,  374.  ,  163.47,  184.  ,\n",
       "        158.  ,  180.  ,  344.  ,  559.  ,  275.  ,  782.97,  177.  ,\n",
       "        206.  ,  285.  ,  191.  ,  218.  ,  135.  ,  226.  ,  237.  ,\n",
       "        218.  ,  145.  ,  206.  ,  293.  ,  142.95,  749.  ,  203.  ,\n",
       "        559.  ,  226.  ,  149.  ,  760.  ,  163.  ,  166.  ,  193.  ,\n",
       "        206.  ,  285.  ,  166.  ,  164.  ,  559.  ,  154.  ,  250.  ,\n",
       "        136.  ,  145.  ,  263.  ,  296.  ,  145.  ,  457.  ,  250.  ,\n",
       "        353.  ,  107.  ,  554.  ,  218.  ,  180.  ,  228.  ,  760.  ,\n",
       "        460.48,  226.  ,  199.  ,  218.  ,  180.  ,  149.  ,  164.89,\n",
       "        250.  ,  145.  ,  425.31,  351.  ,  144.  ,  144.34,  127.  ,\n",
       "        293.  ,  149.  ,  218.  ,  298.  ,  559.  ,  559.  ,  425.31,\n",
       "        180.  ,  234.  ,  234.  ,  263.  ,  218.  ,  149.  ,  149.  ,\n",
       "        180.  ,  218.  ,  226.  ,  180.  ,  760.  ,  206.  ,  298.  ,\n",
       "        182.  ,  226.  ,  226.  ,  171.  ,  275.  ,  149.  ,  218.  ,\n",
       "        237.  ,  149.  ,  272.  ,  237.  ,  263.  ,  187.  ,  180.  ,\n",
       "        154.  ,  180.  ,  171.  ,  180.  ,  289.  ,  182.  ,  180.  ,\n",
       "        705.  ,  482.75,  180.  ,  142.95,  457.  ,  180.  ,  460.48,\n",
       "        226.  ,  226.  ,  250.  ,  180.  ,  187.  ,  206.  ,  425.  ,\n",
       "        166.  ,  187.  ,  250.  ,  124.  ,  179.  ,  226.  ,  545.  ,\n",
       "        124.  ,  129.93,  145.  ,  149.  ,  219.46,  187.  ,  180.  ,\n",
       "        360.  ,  180.  ,  108.  ,  158.  ,  250.  ,  145.  ,  180.  ,\n",
       "        171.  ,  344.  ,  237.  ,  158.  ,  145.  ,  164.89,  559.  ,\n",
       "        250.  ,  145.  ,  171.  ,   86.  ,  124.84,  177.  ,  952.  ,\n",
       "        158.  ,  219.46,  482.75,  218.  ,  760.  ,  404.2 ,  237.  ,\n",
       "        187.  ,  180.  ,  344.  ,  263.  ,  182.  ,  353.  ,  137.  ,\n",
       "        149.  ,  211.  ,   99.  ,  187.  ,  206.  ,  554.  ,  180.  ,\n",
       "        344.  ,  193.  ,  180.  ,  237.  ,  229.34,  171.  ,  110.  ,\n",
       "        218.  ,  206.  ,  275.  ,  134.84,  145.  ,  164.89,  218.  ,\n",
       "        258.  ,  232.  ,  164.  ,  180.  ,  144.  ,  206.  ,  124.  ,\n",
       "        250.  ,  315.  ,  250.  ,   99.  ,  353.  ,  104.  ,  149.  ,\n",
       "        158.  ,  180.  ,  206.  ,  166.  ,  206.  ,  206.  ,  263.  ,\n",
       "        263.  ,  143.03,  175.  ,  149.  ,  158.  ,  237.  ,  180.  ,\n",
       "        226.  ,  250.  ])"
      ]
     },
     "execution_count": 199,
     "metadata": {},
     "output_type": "execute_result"
    }
   ],
   "source": [
    "np.round(diaria,2)"
   ]
  },
  {
   "cell_type": "markdown",
   "metadata": {},
   "source": [
    "### Random Forest"
   ]
  },
  {
   "cell_type": "code",
   "execution_count": 200,
   "metadata": {},
   "outputs": [
    {
     "data": {
      "text/plain": [
       "Pipeline(steps=[('scaler', RobustScaler()),\n",
       "                ('model',\n",
       "                 RandomForestRegressor(criterion='mae', max_depth=10,\n",
       "                                       min_samples_leaf=2, min_samples_split=7,\n",
       "                                       random_state=123))])"
      ]
     },
     "execution_count": 200,
     "metadata": {},
     "output_type": "execute_result"
    }
   ],
   "source": [
    "best_RF.fit(X_train_, y_train_)"
   ]
  },
  {
   "cell_type": "code",
   "execution_count": 201,
   "metadata": {},
   "outputs": [],
   "source": [
    "result_RF = best_RF.predict(X_test_)"
   ]
  },
  {
   "cell_type": "code",
   "execution_count": 202,
   "metadata": {},
   "outputs": [],
   "source": [
    "diaria_RF = scipy.special.inv_boxcox(result_RF, lambda_found)"
   ]
  },
  {
   "cell_type": "code",
   "execution_count": 203,
   "metadata": {},
   "outputs": [
    {
     "data": {
      "text/plain": [
       "array([182.99, 156.62, 186.74, 233.1 , 210.69, 318.06, 324.34, 204.67,\n",
       "       221.8 , 162.33, 183.75, 248.75, 176.51, 160.72, 173.05, 576.65,\n",
       "       144.09, 217.85, 191.  , 194.84, 169.71, 175.54, 195.89, 185.37,\n",
       "       231.16, 216.73, 185.06, 202.39, 190.41, 465.21, 320.84, 241.34,\n",
       "       183.75, 177.84, 292.37, 198.93, 185.1 , 123.24, 254.43, 240.5 ,\n",
       "       192.33, 241.96, 148.41, 122.22, 247.82, 236.52, 184.32, 143.38,\n",
       "       118.95, 224.15, 122.12, 445.21, 223.99, 100.94, 223.72, 156.93,\n",
       "       808.08, 184.67, 222.42, 248.75, 220.28, 148.16, 167.98, 204.48,\n",
       "       172.84, 148.26, 312.57, 180.62, 266.34, 238.33, 328.91, 207.27,\n",
       "       201.71, 275.27, 127.93, 163.35, 157.91, 421.06, 263.31, 348.45,\n",
       "       291.37, 176.75, 597.33, 190.48, 124.58, 231.59, 191.22, 208.58,\n",
       "       226.79, 148.26, 214.25, 165.92, 201.28, 185.52, 498.97, 158.35,\n",
       "       135.22, 191.96, 175.47, 348.42, 127.86, 226.02, 118.47, 168.5 ,\n",
       "       278.29, 354.8 , 166.4 , 247.44, 211.08, 100.28, 177.81, 174.97,\n",
       "       895.97, 160.91, 483.36, 253.92, 170.08, 333.5 , 444.32, 271.47,\n",
       "       230.88, 177.84, 179.09, 815.56, 318.06, 199.82, 118.19, 335.95,\n",
       "       346.14, 380.81, 147.58, 179.93, 193.7 , 213.11, 232.49, 264.92,\n",
       "       108.85, 225.72, 143.28, 221.81, 209.36, 251.45, 207.11, 293.03,\n",
       "       173.55, 253.56, 330.84, 253.92, 204.67, 230.9 , 143.65, 107.89,\n",
       "       166.01, 210.69, 179.49, 242.29, 148.11, 324.67, 224.15, 186.7 ,\n",
       "       123.16, 203.25, 250.76, 174.02, 150.33, 297.81, 126.75, 174.68,\n",
       "       241.34, 411.21, 287.41, 192.05, 160.99, 108.83, 583.57, 178.69,\n",
       "       286.36, 291.2 , 179.96, 152.33, 224.29, 205.06, 210.95, 147.44,\n",
       "       210.69, 323.16, 164.85, 189.55, 158.77, 231.38, 165.92, 199.89,\n",
       "       182.22, 208.32, 361.03, 224.48, 177.86, 246.05, 339.31, 213.42,\n",
       "       142.72, 458.44, 252.81, 234.68, 180.67, 108.05, 345.61, 221.74,\n",
       "       153.46, 147.69, 541.03, 447.73, 245.26, 243.39, 118.19, 231.38,\n",
       "       604.72, 316.24, 190.4 , 206.1 , 149.6 , 293.76, 246.23, 207.09,\n",
       "       148.18, 214.56, 278.39, 179.29, 154.75, 144.21, 193.02, 155.12,\n",
       "       260.28, 107.95, 231.81, 193.08, 138.13, 239.95, 162.6 , 143.57,\n",
       "       311.71, 336.88, 343.95, 185.52, 147.65, 199.9 , 165.42, 238.12,\n",
       "       343.78, 163.35, 213.95, 193.79, 197.23, 189.29, 193.38, 193.02,\n",
       "       160.52, 182.99, 240.39, 349.24, 204.06, 215.25, 126.37, 187.15,\n",
       "       152.33, 229.9 , 384.01, 439.8 , 188.87, 131.29, 232.35, 214.32,\n",
       "       196.46, 179.45, 253.96, 369.01, 221.26, 148.26, 261.16, 204.45,\n",
       "       205.06, 123.16, 142.73, 183.75, 351.22, 108.05, 226.28, 566.67,\n",
       "       344.9 , 241.03, 190.52, 220.48, 179.52, 203.52, 148.23, 174.18,\n",
       "       195.2 , 150.25, 197.96, 571.23, 270.64, 178.97, 340.79, 299.52,\n",
       "       193.52, 240.34, 281.1 , 386.29, 210.45, 315.06, 102.2 , 182.18,\n",
       "       202.64, 328.94, 424.37, 180.25, 438.26, 386.08, 181.49, 179.52,\n",
       "       195.85, 153.29, 122.12, 320.71, 239.66, 309.61, 159.84, 201.89,\n",
       "       176.39, 234.9 , 167.95, 242.04, 264.92, 231.99, 234.9 , 341.45,\n",
       "       208.32, 149.5 , 192.96, 191.4 , 192.9 , 155.29, 202.59, 370.14,\n",
       "       239.59, 153.05, 177.8 , 210.79, 175.01, 192.16, 142.99, 815.56,\n",
       "       223.26, 406.12, 232.42, 210.69, 227.11, 402.28, 376.16, 253.37,\n",
       "       130.14, 215.74, 238.72, 137.41, 233.77, 262.95, 186.8 , 197.7 ,\n",
       "       212.16, 157.29, 212.13, 208.1 , 216.63, 199.74, 249.61, 248.75,\n",
       "       165.92, 191.96, 181.65, 198.94, 239.92, 183.22, 432.29, 173.79,\n",
       "       163.35, 168.61, 254.41, 331.96, 185.17, 187.79, 247.01, 141.16,\n",
       "       119.85, 385.55, 223.9 , 358.12, 188.16, 306.75, 163.3 , 187.25,\n",
       "       210.  , 213.19, 312.67, 231.65, 196.75, 160.34, 322.91, 226.61,\n",
       "       429.4 , 124.47, 478.13, 161.79, 281.36, 192.45, 182.65, 144.11,\n",
       "       108.85, 177.7 , 302.06, 401.89, 127.25, 184.09, 211.41, 485.61,\n",
       "       221.83, 138.9 , 144.51, 228.53, 157.12, 346.96, 596.19, 188.91,\n",
       "       179.09, 291.86, 314.41, 449.75, 177.93, 201.7 , 219.9 , 224.28,\n",
       "       197.5 , 198.23, 200.84, 137.42, 226.27, 148.07, 263.31, 189.94,\n",
       "       208.88, 148.77, 235.8 , 253.92, 429.4 , 350.02, 145.13, 173.99,\n",
       "       215.65, 193.49, 226.01, 289.82, 231.38, 123.16, 204.06, 229.08,\n",
       "       177.16, 241.3 , 167.72, 481.47, 168.19, 214.42, 248.99, 282.39,\n",
       "       534.98, 278.65, 897.8 , 161.59, 166.99, 148.83, 173.55, 224.15,\n",
       "       313.74, 156.93, 160.52, 208.1 , 344.96, 243.19, 153.29, 175.51,\n",
       "       148.9 , 124.03, 412.59, 383.45, 287.17, 483.36, 188.91, 245.8 ,\n",
       "       231.15, 203.52, 123.39, 144.05, 208.88, 150.25, 275.74, 541.03,\n",
       "       370.19, 280.88, 231.6 , 198.98, 184.28, 279.6 , 342.45, 197.96,\n",
       "       184.36, 166.4 , 278.09, 232.9 , 208.73, 173.75, 248.75, 344.62,\n",
       "       224.65, 152.2 , 185.17, 188.23, 346.23, 163.22, 818.38, 155.28,\n",
       "       185.58, 190.07, 282.6 , 223.19, 178.84, 287.62, 550.22, 344.96,\n",
       "       259.69, 186.94, 229.48, 895.97, 518.24, 278.53, 229.78, 826.53,\n",
       "       165.92, 149.48, 214.65, 144.86, 329.17, 246.05, 153.29, 144.82,\n",
       "       386.61, 200.02, 478.2 , 496.03, 156.6 , 293.15, 209.32, 180.74,\n",
       "       263.31, 182.09, 159.95, 138.16, 221.48, 193.76, 402.28, 370.75,\n",
       "       342.87, 162.85, 346.43, 238.33, 195.42, 292.11, 312.38, 433.27,\n",
       "       167.22, 181.8 , 182.93, 242.86, 441.32, 211.32, 212.58, 218.18,\n",
       "       241.17, 170.74, 193.06, 208.1 , 457.06, 177.35, 137.66, 119.85,\n",
       "       245.25, 234.65, 242.18, 262.26, 355.33, 171.33, 188.87, 192.17,\n",
       "       224.15, 193.38, 280.99, 179.96, 346.14, 161.28, 175.94, 158.  ,\n",
       "       146.08, 366.52, 232.61, 163.21, 213.24, 255.32, 109.29, 604.62,\n",
       "       213.21, 147.94, 264.92, 246.05, 316.16, 137.95, 213.72, 150.92,\n",
       "       166.35, 319.48, 571.23, 325.3 , 596.34, 177.8 , 234.2 , 283.48,\n",
       "       193.45, 234.03, 132.58, 223.72, 221.68, 252.79, 145.26, 177.5 ,\n",
       "       287.62, 147.9 , 786.14, 200.25, 550.22, 241.96, 161.79, 713.34,\n",
       "       166.11, 142.73, 192.89, 256.35, 278.4 , 132.12, 160.17, 430.91,\n",
       "       150.71, 243.19, 137.92, 148.27, 269.98, 216.13, 148.26, 455.1 ,\n",
       "       248.75, 415.37, 108.05, 483.98, 285.63, 181.95, 212.94, 695.11,\n",
       "       379.31, 243.39, 355.14, 231.48, 192.45, 161.79, 200.68, 259.19,\n",
       "       145.08, 326.41, 314.44, 165.1 , 127.93, 129.36, 289.76, 177.86,\n",
       "       267.66, 377.69, 464.01, 564.95, 369.53, 169.68, 224.03, 232.3 ,\n",
       "       279.17, 196.03, 178.22, 179.2 , 180.87, 232.09, 177.38, 178.32,\n",
       "       513.76, 212.33, 321.67, 178.9 , 208.08, 193.38, 177.79, 282.03,\n",
       "       168.26, 217.49, 287.59, 156.39, 304.68, 239.61, 241.31, 192.96,\n",
       "       158.71, 150.71, 154.09, 167.18, 172.44, 301.87, 181.65, 185.17,\n",
       "       747.75, 314.41, 179.32, 147.9 , 449.75, 181.82, 424.19, 232.42,\n",
       "       183.4 , 261.15, 173.79, 225.04, 192.59, 340.53, 176.9 , 205.06,\n",
       "       210.44, 145.68, 172.86, 233.45, 545.  , 145.68, 134.05, 149.72,\n",
       "       197.47, 237.77, 176.27, 169.99, 377.21, 162.81, 109.29, 156.37,\n",
       "       242.92, 144.21, 163.54, 167.18, 313.07, 278.16, 162.57, 108.33,\n",
       "       187.96, 461.84, 247.92, 144.06, 167.21, 134.74,  96.2 , 167.42,\n",
       "       836.24, 157.12, 251.31, 421.06, 254.96, 535.41, 404.59, 233.62,\n",
       "       205.06, 179.08, 346.43, 263.31, 180.4 , 340.04, 142.41, 188.38,\n",
       "       208.1 ,  99.58, 193.02, 201.82, 428.01, 183.11, 338.53, 216.33,\n",
       "       173.77, 237.72, 297.91, 166.4 , 118.19, 207.27, 181.75, 277.95,\n",
       "       141.32, 153.05, 200.13, 247.01, 323.64, 216.38, 160.17, 135.8 ,\n",
       "       142.79, 229.48, 147.84, 248.75, 278.39, 269.85, 100.6 , 348.87,\n",
       "       116.72, 160.03, 156.93, 187.64, 201.8 , 172.12, 232.62, 193.18,\n",
       "       235.99, 253.92, 151.74, 150.33, 143.65, 152.01, 226.4 , 173.99,\n",
       "       196.33, 250.24])"
      ]
     },
     "execution_count": 203,
     "metadata": {},
     "output_type": "execute_result"
    }
   ],
   "source": [
    "np.round(diaria_RF, 2)"
   ]
  },
  {
   "cell_type": "code",
   "execution_count": 204,
   "metadata": {},
   "outputs": [
    {
     "data": {
      "text/plain": [
       "842"
      ]
     },
     "execution_count": 204,
     "metadata": {},
     "output_type": "execute_result"
    }
   ],
   "source": [
    "len(np.round(diaria_RF, 2))"
   ]
  },
  {
   "cell_type": "markdown",
   "metadata": {},
   "source": [
    "## 5.8. Comparação entre os modelos Decision Tree e Random Forest"
   ]
  },
  {
   "cell_type": "code",
   "execution_count": 205,
   "metadata": {},
   "outputs": [],
   "source": [
    "def error_metrics(predict_results, name='Name of model'):\n",
    "    mse = np.mean((y_test_ - predict_results)**2)\n",
    "    mae = np.mean(abs(y_test_ - predict_results))\n",
    "    mape = 100*np.mean(abs(y_test_ - predict_results)/ y_test_)\n",
    "    print(f'Errors: {name}')\n",
    "    print(f'MSE: {round(mse, 4)}')\n",
    "    print(f'MAE: {round(mae, 4)}')\n",
    "    print(f'MAPE: {round(mape, 4)}')"
   ]
  },
  {
   "cell_type": "code",
   "execution_count": 206,
   "metadata": {},
   "outputs": [
    {
     "name": "stdout",
     "output_type": "stream",
     "text": [
      "Errors: Decision Tree\n",
      "MSE: 0.0003\n",
      "MAE: 0.0113\n",
      "MAPE: 0.5981\n"
     ]
    }
   ],
   "source": [
    "error_metrics(result_Dtree, name='Decision Tree')"
   ]
  },
  {
   "cell_type": "code",
   "execution_count": 207,
   "metadata": {},
   "outputs": [
    {
     "name": "stdout",
     "output_type": "stream",
     "text": [
      "Errors: Random Forest\n",
      "MSE: 0.0002\n",
      "MAE: 0.0099\n",
      "MAPE: 0.5237\n"
     ]
    }
   ],
   "source": [
    "error_metrics(result_RF, name='Random Forest')"
   ]
  },
  {
   "cell_type": "markdown",
   "metadata": {},
   "source": [
    "### Random Forest obteve o menor erro"
   ]
  },
  {
   "cell_type": "markdown",
   "metadata": {},
   "source": [
    "# 5.9 Modelagem com Dados de Teste utilizando Random Forest Regressor"
   ]
  },
  {
   "cell_type": "code",
   "execution_count": 286,
   "metadata": {},
   "outputs": [],
   "source": [
    "df_test = pd.read_csv(DATA_TEST_INPUT)"
   ]
  },
  {
   "cell_type": "code",
   "execution_count": 295,
   "metadata": {},
   "outputs": [
    {
     "data": {
      "text/plain": [
       "(1053, 14)"
      ]
     },
     "execution_count": 295,
     "metadata": {},
     "output_type": "execute_result"
    }
   ],
   "source": [
    "df_test.shape"
   ]
  },
  {
   "cell_type": "code",
   "execution_count": 287,
   "metadata": {},
   "outputs": [
    {
     "data": {
      "text/html": [
       "<div>\n",
       "<style scoped>\n",
       "    .dataframe tbody tr th:only-of-type {\n",
       "        vertical-align: middle;\n",
       "    }\n",
       "\n",
       "    .dataframe tbody tr th {\n",
       "        vertical-align: top;\n",
       "    }\n",
       "\n",
       "    .dataframe thead th {\n",
       "        text-align: right;\n",
       "    }\n",
       "</style>\n",
       "<table border=\"1\" class=\"dataframe\">\n",
       "  <thead>\n",
       "    <tr style=\"text-align: right;\">\n",
       "      <th></th>\n",
       "      <th>Unnamed: 0</th>\n",
       "      <th>Mes</th>\n",
       "      <th>Número Banheiros</th>\n",
       "      <th>Número Camas</th>\n",
       "      <th>Número Comentários</th>\n",
       "      <th>Número Hóspedes</th>\n",
       "      <th>Taxa</th>\n",
       "      <th>Semana_do_ano</th>\n",
       "      <th>Jacuzzi</th>\n",
       "      <th>Academia</th>\n",
       "      <th>Secadora</th>\n",
       "      <th>Localização</th>\n",
       "      <th>Piscina</th>\n",
       "      <th>Permitido animais</th>\n",
       "      <th>Preço/Noite</th>\n",
       "    </tr>\n",
       "  </thead>\n",
       "  <tbody>\n",
       "    <tr>\n",
       "      <th>0</th>\n",
       "      <td>0</td>\n",
       "      <td>2</td>\n",
       "      <td>3</td>\n",
       "      <td>8</td>\n",
       "      <td>3</td>\n",
       "      <td>16</td>\n",
       "      <td>100.0</td>\n",
       "      <td>7</td>\n",
       "      <td>0</td>\n",
       "      <td>0</td>\n",
       "      <td>0</td>\n",
       "      <td>0.007597</td>\n",
       "      <td>1</td>\n",
       "      <td>0</td>\n",
       "      <td>870.0</td>\n",
       "    </tr>\n",
       "    <tr>\n",
       "      <th>1</th>\n",
       "      <td>1</td>\n",
       "      <td>3</td>\n",
       "      <td>2</td>\n",
       "      <td>9</td>\n",
       "      <td>7</td>\n",
       "      <td>12</td>\n",
       "      <td>50.0</td>\n",
       "      <td>9</td>\n",
       "      <td>0</td>\n",
       "      <td>0</td>\n",
       "      <td>1</td>\n",
       "      <td>0.013295</td>\n",
       "      <td>1</td>\n",
       "      <td>0</td>\n",
       "      <td>338.0</td>\n",
       "    </tr>\n",
       "    <tr>\n",
       "      <th>2</th>\n",
       "      <td>2</td>\n",
       "      <td>4</td>\n",
       "      <td>1</td>\n",
       "      <td>2</td>\n",
       "      <td>14</td>\n",
       "      <td>4</td>\n",
       "      <td>50.0</td>\n",
       "      <td>14</td>\n",
       "      <td>0</td>\n",
       "      <td>0</td>\n",
       "      <td>0</td>\n",
       "      <td>0.025641</td>\n",
       "      <td>0</td>\n",
       "      <td>0</td>\n",
       "      <td>127.0</td>\n",
       "    </tr>\n",
       "    <tr>\n",
       "      <th>3</th>\n",
       "      <td>3</td>\n",
       "      <td>4</td>\n",
       "      <td>2</td>\n",
       "      <td>3</td>\n",
       "      <td>4</td>\n",
       "      <td>6</td>\n",
       "      <td>0.0</td>\n",
       "      <td>13</td>\n",
       "      <td>0</td>\n",
       "      <td>0</td>\n",
       "      <td>0</td>\n",
       "      <td>0.014245</td>\n",
       "      <td>0</td>\n",
       "      <td>0</td>\n",
       "      <td>169.0</td>\n",
       "    </tr>\n",
       "    <tr>\n",
       "      <th>4</th>\n",
       "      <td>4</td>\n",
       "      <td>4</td>\n",
       "      <td>1</td>\n",
       "      <td>2</td>\n",
       "      <td>8</td>\n",
       "      <td>4</td>\n",
       "      <td>60.0</td>\n",
       "      <td>15</td>\n",
       "      <td>0</td>\n",
       "      <td>0</td>\n",
       "      <td>0</td>\n",
       "      <td>0.010446</td>\n",
       "      <td>0</td>\n",
       "      <td>0</td>\n",
       "      <td>111.0</td>\n",
       "    </tr>\n",
       "  </tbody>\n",
       "</table>\n",
       "</div>"
      ],
      "text/plain": [
       "   Unnamed: 0  Mes  Número Banheiros  Número Camas  Número Comentários  \\\n",
       "0           0    2                 3             8                   3   \n",
       "1           1    3                 2             9                   7   \n",
       "2           2    4                 1             2                  14   \n",
       "3           3    4                 2             3                   4   \n",
       "4           4    4                 1             2                   8   \n",
       "\n",
       "   Número Hóspedes   Taxa  Semana_do_ano  Jacuzzi  Academia  Secadora  \\\n",
       "0               16  100.0              7        0         0         0   \n",
       "1               12   50.0              9        0         0         1   \n",
       "2                4   50.0             14        0         0         0   \n",
       "3                6    0.0             13        0         0         0   \n",
       "4                4   60.0             15        0         0         0   \n",
       "\n",
       "   Localização  Piscina  Permitido animais  Preço/Noite  \n",
       "0     0.007597        1                  0        870.0  \n",
       "1     0.013295        1                  0        338.0  \n",
       "2     0.025641        0                  0        127.0  \n",
       "3     0.014245        0                  0        169.0  \n",
       "4     0.010446        0                  0        111.0  "
      ]
     },
     "execution_count": 287,
     "metadata": {},
     "output_type": "execute_result"
    }
   ],
   "source": [
    "df_test.head()"
   ]
  },
  {
   "cell_type": "code",
   "execution_count": 288,
   "metadata": {},
   "outputs": [],
   "source": [
    "df_test = df_test.drop('Unnamed: 0', axis=1)"
   ]
  },
  {
   "cell_type": "code",
   "execution_count": 254,
   "metadata": {},
   "outputs": [],
   "source": [
    "X__test = df_test.drop('Preço/Noite', axis=1)\n",
    "y__test = df_test['Preço/Noite']"
   ]
  },
  {
   "cell_type": "code",
   "execution_count": 255,
   "metadata": {},
   "outputs": [],
   "source": [
    "# transformação do y de teste\n",
    "transformed_y_test, lambda_found_test = scipy.stats.boxcox(y__test)"
   ]
  },
  {
   "cell_type": "markdown",
   "metadata": {},
   "source": [
    "### Melhor modelo - Random Forest"
   ]
  },
  {
   "cell_type": "markdown",
   "metadata": {},
   "source": [
    "**Fit nos dados de treino**"
   ]
  },
  {
   "cell_type": "code",
   "execution_count": 289,
   "metadata": {},
   "outputs": [
    {
     "data": {
      "text/plain": [
       "Pipeline(steps=[('scaler', RobustScaler()),\n",
       "                ('model',\n",
       "                 RandomForestRegressor(criterion='mae', max_depth=10,\n",
       "                                       min_samples_leaf=2, min_samples_split=7,\n",
       "                                       random_state=123))])"
      ]
     },
     "execution_count": 289,
     "metadata": {},
     "output_type": "execute_result"
    }
   ],
   "source": [
    "best_RF.fit(X_, y_)"
   ]
  },
  {
   "cell_type": "markdown",
   "metadata": {},
   "source": [
    "**Predict nos dados de Test**"
   ]
  },
  {
   "cell_type": "code",
   "execution_count": 290,
   "metadata": {},
   "outputs": [],
   "source": [
    "previsao = best_RF.predict(X__test)"
   ]
  },
  {
   "cell_type": "markdown",
   "metadata": {},
   "source": [
    "**Transformação Inversa da previsão**"
   ]
  },
  {
   "cell_type": "code",
   "execution_count": 291,
   "metadata": {},
   "outputs": [],
   "source": [
    "previsao_preco_noite = scipy.special.inv_boxcox(previsao, lambda_found)"
   ]
  },
  {
   "cell_type": "code",
   "execution_count": 292,
   "metadata": {},
   "outputs": [
    {
     "data": {
      "text/plain": [
       "array([654.37, 283.97, 184.39, ..., 580.43, 213.96, 208.9 ])"
      ]
     },
     "execution_count": 292,
     "metadata": {},
     "output_type": "execute_result"
    }
   ],
   "source": [
    "np.round(previsao_preco_noite, 2)"
   ]
  },
  {
   "cell_type": "code",
   "execution_count": 294,
   "metadata": {},
   "outputs": [
    {
     "data": {
      "text/plain": [
       "1053"
      ]
     },
     "execution_count": 294,
     "metadata": {},
     "output_type": "execute_result"
    }
   ],
   "source": [
    "len(previsao)"
   ]
  },
  {
   "cell_type": "markdown",
   "metadata": {},
   "source": [
    "# 5.10. Avaliação de Performance"
   ]
  },
  {
   "cell_type": "code",
   "execution_count": 297,
   "metadata": {},
   "outputs": [
    {
     "name": "stdout",
     "output_type": "stream",
     "text": [
      "MSE: 6474.15\n"
     ]
    }
   ],
   "source": [
    "# Erro médio Quadratico\n",
    "mse = np.mean((y__test - previsao_preco_noite)**2)\n",
    "print(f'MSE: {round(mse, 2)}')"
   ]
  },
  {
   "cell_type": "code",
   "execution_count": 298,
   "metadata": {},
   "outputs": [
    {
     "name": "stdout",
     "output_type": "stream",
     "text": [
      "MAE: 50.45\n"
     ]
    }
   ],
   "source": [
    "# Erro Médio Absoluto\n",
    "mae = np.mean(abs(y__test - previsao_preco_noite))\n",
    "print(f'MAE: {round(mae, 2)}')"
   ]
  },
  {
   "cell_type": "code",
   "execution_count": 299,
   "metadata": {},
   "outputs": [
    {
     "name": "stdout",
     "output_type": "stream",
     "text": [
      "MAPE: 19.13\n"
     ]
    }
   ],
   "source": [
    "# Porcentagem do Erro médio Absoluto\n",
    "mape = 100*np.mean(abs(y__test - previsao_preco_noite)/ y__test)\n",
    "print(f'MAPE: {round(mape, 2)}')"
   ]
  },
  {
   "cell_type": "markdown",
   "metadata": {},
   "source": [
    "# Exportando o modelo usando o Pickle"
   ]
  },
  {
   "cell_type": "code",
   "execution_count": 391,
   "metadata": {},
   "outputs": [],
   "source": [
    "MODEL_OUTPUT_PATH = '../models'\n",
    "MODEL_OUPUT_NAME = 'model_v0.pkl'"
   ]
  },
  {
   "cell_type": "code",
   "execution_count": 385,
   "metadata": {},
   "outputs": [],
   "source": [
    "pickle.dump(best_RF, open(os.path.join(MODEL_OUTPUT_PATH, MODEL_OUPUT_NAME ), 'wb'))"
   ]
  },
  {
   "cell_type": "markdown",
   "metadata": {},
   "source": [
    "# 6. Feature Importance"
   ]
  },
  {
   "cell_type": "markdown",
   "metadata": {},
   "source": [
    "## 6.1. SHAP feature importance"
   ]
  },
  {
   "cell_type": "markdown",
   "metadata": {},
   "source": [
    "Vamos utilizar a biblioteca Shap para esta análise"
   ]
  },
  {
   "cell_type": "code",
   "execution_count": 333,
   "metadata": {},
   "outputs": [],
   "source": [
    "X_importance = df_train.drop('Preço/Noite', axis=1)"
   ]
  },
  {
   "cell_type": "code",
   "execution_count": 334,
   "metadata": {},
   "outputs": [],
   "source": [
    "explainer = shap.Explainer(best_RF.predict, X_importance)"
   ]
  },
  {
   "cell_type": "code",
   "execution_count": 335,
   "metadata": {},
   "outputs": [
    {
     "data": {
      "text/plain": [
       "<shap.explainers._permutation.Permutation at 0x17d7eec5bb0>"
      ]
     },
     "execution_count": 335,
     "metadata": {},
     "output_type": "execute_result"
    }
   ],
   "source": [
    "explainer"
   ]
  },
  {
   "cell_type": "code",
   "execution_count": 336,
   "metadata": {},
   "outputs": [
    {
     "name": "stderr",
     "output_type": "stream",
     "text": [
      "Permutation explainer: 4210it [09:06,  7.70it/s]                                                                       \n"
     ]
    }
   ],
   "source": [
    "shap_values = explainer(X_importance)"
   ]
  },
  {
   "cell_type": "code",
   "execution_count": 339,
   "metadata": {},
   "outputs": [
    {
     "data": {
      "image/png": "[encoded data removed]",
      "text/plain": [
       "<Figure size 576x482.4 with 1 Axes>"
      ]
     },
     "metadata": {
      "needs_background": "light"
     },
     "output_type": "display_data"
    }
   ],
   "source": [
    "shap.summary_plot(shap_values, X_importance, plot_type=\"bar\")"
   ]
  },
  {
   "cell_type": "code",
   "execution_count": 340,
   "metadata": {},
   "outputs": [
    {
     "data": {
      "image/png": "[encoded data removed]",
      "text/plain": [
       "<Figure size 576x482.4 with 2 Axes>"
      ]
     },
     "metadata": {
      "needs_background": "light"
     },
     "output_type": "display_data"
    }
   ],
   "source": [
    "shap.summary_plot(shap_values, X_importance)"
   ]
  },
  {
   "cell_type": "markdown",
   "metadata": {},
   "source": [
    "As features que mais explicam o modelo são: Número de hóspedes e número de banheiros seguindo essa ordem de importência. <br>\n",
    "E as que menos explicam são os meses e semana do ano, ou seja, o período da estadia.<br>\n",
    "Isso nos lea a concluir a capacidade do imóvel afeta muito mais do que a data seleciodada para o preço por noite!"
   ]
  }
 ],
 "metadata": {
  "kernelspec": {
   "display_name": "Python 3",
   "language": "python",
   "name": "python3"
  },
  "language_info": {
   "codemirror_mode": {
    "name": "ipython",
    "version": 3
   },
   "file_extension": ".py",
   "mimetype": "text/x-python",
   "name": "python",
   "nbconvert_exporter": "python",
   "pygments_lexer": "ipython3",
   "version": "3.8.3"
  }
 },
 "nbformat": 4,
 "nbformat_minor": 4
}
