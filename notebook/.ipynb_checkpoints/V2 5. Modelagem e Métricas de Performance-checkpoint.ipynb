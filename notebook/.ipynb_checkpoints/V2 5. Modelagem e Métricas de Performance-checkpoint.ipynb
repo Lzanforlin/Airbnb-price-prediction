{
 "cells": [
  {
   "cell_type": "markdown",
   "metadata": {},
   "source": [
    "# 5. Modelagem e Métricas de Performance"
   ]
  },
  {
   "cell_type": "code",
   "execution_count": 1,
   "metadata": {},
   "outputs": [],
   "source": [
    "# Libs:\n",
    "import pandas as pd\n",
    "import numpy as np\n",
    "pd.set_option('display.max_columns',30)\n",
    "import matplotlib.pyplot as plt\n",
    "import seaborn as sns\n",
    "\n",
    "from statsmodels.graphics.gofplots import qqplot\n",
    "import statsmodels.api as sm\n",
    "import scipy\n",
    "\n",
    "from sklearn.model_selection import RandomizedSearchCV\n",
    "from sklearn.model_selection import train_test_split, cross_validate, StratifiedKFold, RandomizedSearchCV, learning_curve\n",
    "from sklearn.model_selection import cross_val_score\n",
    "\n",
    "# Transformações:\n",
    "from sklearn.impute import SimpleImputer\n",
    "from sklearn.preprocessing import RobustScaler\n",
    "from sklearn.compose import ColumnTransformer\n",
    "from sklearn.pipeline import Pipeline\n",
    "\n",
    "# Modelos de regressão\n",
    "import statsmodels.api as sm\n",
    "import scipy.stats\n",
    "from sklearn.linear_model import LinearRegression\n",
    "from sklearn.neighbors import KNeighborsRegressor\n",
    "from sklearn.svm import SVR\n",
    "from sklearn.tree import DecisionTreeRegressor\n",
    "from sklearn.ensemble import RandomForestRegressor\n",
    "from lightgbm import LGBMRegressor\n",
    "\n",
    "# Métricas\n",
    "from sklearn.metrics import accuracy_score, precision_score, recall_score, fbeta_score, roc_auc_score, log_loss\n",
    "\n",
    "import warnings\n",
    "warnings.filterwarnings(\"ignore\")"
   ]
  },
  {
   "cell_type": "markdown",
   "metadata": {},
   "source": [
    "## Dados Constantes"
   ]
  },
  {
   "cell_type": "code",
   "execution_count": 2,
   "metadata": {},
   "outputs": [],
   "source": [
    "DATA_INPUT = '../data/DATA_feature_selected_V2.csv'\n",
    "SEED = 123"
   ]
  },
  {
   "cell_type": "code",
   "execution_count": 3,
   "metadata": {},
   "outputs": [],
   "source": [
    "df_train = pd.read_csv(DATA_INPUT)"
   ]
  },
  {
   "cell_type": "code",
   "execution_count": 4,
   "metadata": {},
   "outputs": [
    {
     "data": {
      "text/html": [
       "<div>\n",
       "<style scoped>\n",
       "    .dataframe tbody tr th:only-of-type {\n",
       "        vertical-align: middle;\n",
       "    }\n",
       "\n",
       "    .dataframe tbody tr th {\n",
       "        vertical-align: top;\n",
       "    }\n",
       "\n",
       "    .dataframe thead th {\n",
       "        text-align: right;\n",
       "    }\n",
       "</style>\n",
       "<table border=\"1\" class=\"dataframe\">\n",
       "  <thead>\n",
       "    <tr style=\"text-align: right;\">\n",
       "      <th></th>\n",
       "      <th>Unnamed: 0</th>\n",
       "      <th>Mes</th>\n",
       "      <th>Número Banheiros</th>\n",
       "      <th>Número Camas</th>\n",
       "      <th>Número Comentários</th>\n",
       "      <th>Número Hóspedes</th>\n",
       "      <th>Taxa</th>\n",
       "      <th>Raridade</th>\n",
       "      <th>Novo preço mais baixo</th>\n",
       "      <th>Permitido animais</th>\n",
       "      <th>Jacuzzi</th>\n",
       "      <th>Semana_do_ano</th>\n",
       "      <th>Localização</th>\n",
       "      <th>Academia</th>\n",
       "      <th>É outilier</th>\n",
       "      <th>Piscina</th>\n",
       "      <th>Preço/Noite</th>\n",
       "    </tr>\n",
       "  </thead>\n",
       "  <tbody>\n",
       "    <tr>\n",
       "      <th>0</th>\n",
       "      <td>0</td>\n",
       "      <td>3</td>\n",
       "      <td>1</td>\n",
       "      <td>3</td>\n",
       "      <td>18</td>\n",
       "      <td>4</td>\n",
       "      <td>60.0</td>\n",
       "      <td>0</td>\n",
       "      <td>1</td>\n",
       "      <td>0</td>\n",
       "      <td>0</td>\n",
       "      <td>9</td>\n",
       "      <td>0.029461</td>\n",
       "      <td>0</td>\n",
       "      <td>0</td>\n",
       "      <td>1</td>\n",
       "      <td>184.0</td>\n",
       "    </tr>\n",
       "    <tr>\n",
       "      <th>1</th>\n",
       "      <td>1</td>\n",
       "      <td>3</td>\n",
       "      <td>1</td>\n",
       "      <td>4</td>\n",
       "      <td>41</td>\n",
       "      <td>4</td>\n",
       "      <td>30.0</td>\n",
       "      <td>1</td>\n",
       "      <td>0</td>\n",
       "      <td>0</td>\n",
       "      <td>0</td>\n",
       "      <td>11</td>\n",
       "      <td>0.042766</td>\n",
       "      <td>0</td>\n",
       "      <td>0</td>\n",
       "      <td>1</td>\n",
       "      <td>198.0</td>\n",
       "    </tr>\n",
       "    <tr>\n",
       "      <th>2</th>\n",
       "      <td>2</td>\n",
       "      <td>3</td>\n",
       "      <td>2</td>\n",
       "      <td>8</td>\n",
       "      <td>7</td>\n",
       "      <td>10</td>\n",
       "      <td>0.0</td>\n",
       "      <td>1</td>\n",
       "      <td>0</td>\n",
       "      <td>0</td>\n",
       "      <td>0</td>\n",
       "      <td>9</td>\n",
       "      <td>0.003089</td>\n",
       "      <td>0</td>\n",
       "      <td>0</td>\n",
       "      <td>0</td>\n",
       "      <td>351.0</td>\n",
       "    </tr>\n",
       "    <tr>\n",
       "      <th>3</th>\n",
       "      <td>3</td>\n",
       "      <td>3</td>\n",
       "      <td>1</td>\n",
       "      <td>2</td>\n",
       "      <td>5</td>\n",
       "      <td>4</td>\n",
       "      <td>60.0</td>\n",
       "      <td>1</td>\n",
       "      <td>0</td>\n",
       "      <td>1</td>\n",
       "      <td>0</td>\n",
       "      <td>12</td>\n",
       "      <td>0.018769</td>\n",
       "      <td>0</td>\n",
       "      <td>0</td>\n",
       "      <td>0</td>\n",
       "      <td>191.0</td>\n",
       "    </tr>\n",
       "    <tr>\n",
       "      <th>4</th>\n",
       "      <td>4</td>\n",
       "      <td>2</td>\n",
       "      <td>1</td>\n",
       "      <td>4</td>\n",
       "      <td>3</td>\n",
       "      <td>4</td>\n",
       "      <td>58.0</td>\n",
       "      <td>0</td>\n",
       "      <td>1</td>\n",
       "      <td>1</td>\n",
       "      <td>0</td>\n",
       "      <td>8</td>\n",
       "      <td>0.018769</td>\n",
       "      <td>0</td>\n",
       "      <td>0</td>\n",
       "      <td>0</td>\n",
       "      <td>124.0</td>\n",
       "    </tr>\n",
       "  </tbody>\n",
       "</table>\n",
       "</div>"
      ],
      "text/plain": [
       "   Unnamed: 0  Mes  Número Banheiros  Número Camas  Número Comentários  \\\n",
       "0           0    3                 1             3                  18   \n",
       "1           1    3                 1             4                  41   \n",
       "2           2    3                 2             8                   7   \n",
       "3           3    3                 1             2                   5   \n",
       "4           4    2                 1             4                   3   \n",
       "\n",
       "   Número Hóspedes  Taxa  Raridade  Novo preço mais baixo  Permitido animais  \\\n",
       "0                4  60.0         0                      1                  0   \n",
       "1                4  30.0         1                      0                  0   \n",
       "2               10   0.0         1                      0                  0   \n",
       "3                4  60.0         1                      0                  1   \n",
       "4                4  58.0         0                      1                  1   \n",
       "\n",
       "   Jacuzzi  Semana_do_ano  Localização  Academia  É outilier  Piscina  \\\n",
       "0        0              9     0.029461         0           0        1   \n",
       "1        0             11     0.042766         0           0        1   \n",
       "2        0              9     0.003089         0           0        0   \n",
       "3        0             12     0.018769         0           0        0   \n",
       "4        0              8     0.018769         0           0        0   \n",
       "\n",
       "   Preço/Noite  \n",
       "0        184.0  \n",
       "1        198.0  \n",
       "2        351.0  \n",
       "3        191.0  \n",
       "4        124.0  "
      ]
     },
     "execution_count": 4,
     "metadata": {},
     "output_type": "execute_result"
    }
   ],
   "source": [
    "df_train.head()"
   ]
  },
  {
   "cell_type": "code",
   "execution_count": 5,
   "metadata": {},
   "outputs": [],
   "source": [
    "df_train = df_train.drop('Unnamed: 0', axis=1)"
   ]
  },
  {
   "cell_type": "code",
   "execution_count": 6,
   "metadata": {},
   "outputs": [
    {
     "data": {
      "text/plain": [
       "(4209, 16)"
      ]
     },
     "execution_count": 6,
     "metadata": {},
     "output_type": "execute_result"
    }
   ],
   "source": [
    "df_train.shape"
   ]
  },
  {
   "cell_type": "code",
   "execution_count": 7,
   "metadata": {},
   "outputs": [
    {
     "data": {
      "text/plain": [
       "Mes                        int64\n",
       "Número Banheiros           int64\n",
       "Número Camas               int64\n",
       "Número Comentários         int64\n",
       "Número Hóspedes            int64\n",
       "Taxa                     float64\n",
       "Raridade                   int64\n",
       "Novo preço mais baixo      int64\n",
       "Permitido animais          int64\n",
       "Jacuzzi                    int64\n",
       "Semana_do_ano              int64\n",
       "Localização              float64\n",
       "Academia                   int64\n",
       "É outilier                 int64\n",
       "Piscina                    int64\n",
       "Preço/Noite              float64\n",
       "dtype: object"
      ]
     },
     "execution_count": 7,
     "metadata": {},
     "output_type": "execute_result"
    }
   ],
   "source": [
    "df_train.dtypes"
   ]
  },
  {
   "cell_type": "code",
   "execution_count": 8,
   "metadata": {},
   "outputs": [],
   "source": [
    "X = df_train.drop('Preço/Noite', axis=1)\n",
    "y = df_train['Preço/Noite']"
   ]
  },
  {
   "cell_type": "code",
   "execution_count": 9,
   "metadata": {},
   "outputs": [],
   "source": [
    "coluns = X.columns.tolist()"
   ]
  },
  {
   "cell_type": "markdown",
   "metadata": {},
   "source": [
    "## Tabela Regressão Linear"
   ]
  },
  {
   "cell_type": "code",
   "execution_count": 10,
   "metadata": {},
   "outputs": [],
   "source": [
    "X = sm.add_constant(X)"
   ]
  },
  {
   "cell_type": "code",
   "execution_count": 11,
   "metadata": {},
   "outputs": [],
   "source": [
    "# Descobrindo os betas\n",
    "modelo_linear_multiplo = sm.OLS(y,X)\n",
    "modelo_linear_multiplo = modelo_linear_multiplo.fit()"
   ]
  },
  {
   "cell_type": "code",
   "execution_count": 12,
   "metadata": {},
   "outputs": [
    {
     "name": "stdout",
     "output_type": "stream",
     "text": [
      "                            OLS Regression Results                            \n",
      "==============================================================================\n",
      "Dep. Variable:            Preço/Noite   R-squared:                       0.529\n",
      "Model:                            OLS   Adj. R-squared:                  0.527\n",
      "Method:                 Least Squares   F-statistic:                     336.0\n",
      "Date:                Mon, 03 May 2021   Prob (F-statistic):               0.00\n",
      "Time:                        13:27:11   Log-Likelihood:                -25408.\n",
      "No. Observations:                4209   AIC:                         5.085e+04\n",
      "Df Residuals:                    4194   BIC:                         5.094e+04\n",
      "Df Model:                          14                                         \n",
      "Covariance Type:            nonrobust                                         \n",
      "=========================================================================================\n",
      "                            coef    std err          t      P>|t|      [0.025      0.975]\n",
      "-----------------------------------------------------------------------------------------\n",
      "const                    58.8389      5.882     10.003      0.000      47.307      70.371\n",
      "Mes                     -17.6237      5.783     -3.047      0.002     -28.962      -6.285\n",
      "Número Banheiros         77.5654      3.036     25.547      0.000      71.613      83.518\n",
      "Número Camas             -5.8629      0.992     -5.912      0.000      -7.807      -3.919\n",
      "Número Comentários       -0.1509      0.044     -3.411      0.001      -0.238      -0.064\n",
      "Número Hóspedes          17.1457      0.958     17.895      0.000      15.267      19.024\n",
      "Taxa                      0.7655      0.060     12.819      0.000       0.648       0.883\n",
      "Raridade                 32.1882      3.886      8.282      0.000      24.569      39.808\n",
      "Novo preço mais baixo    26.6507      2.903      9.181      0.000      20.959      32.342\n",
      "Permitido animais       -33.5115      4.456     -7.520      0.000     -42.248     -24.775\n",
      "Jacuzzi                 107.5493     13.780      7.805      0.000      80.533     134.566\n",
      "Semana_do_ano            -2.1279      1.505     -1.414      0.157      -5.078       0.822\n",
      "Localização             380.4047     63.945      5.949      0.000     255.038     505.771\n",
      "Academia                 -6.5984      7.854     -0.840      0.401     -21.996       8.799\n",
      "É outilier              -91.1240     14.486     -6.290      0.000    -119.524     -62.724\n",
      "Piscina                  73.7733      3.719     19.837      0.000      66.482      81.064\n",
      "==============================================================================\n",
      "Omnibus:                     1385.271   Durbin-Watson:                   1.982\n",
      "Prob(Omnibus):                  0.000   Jarque-Bera (JB):             8187.092\n",
      "Skew:                           1.442   Prob(JB):                         0.00\n",
      "Kurtosis:                       9.194   Cond. No.                     4.68e+17\n",
      "==============================================================================\n",
      "\n",
      "Warnings:\n",
      "[1] Standard Errors assume that the covariance matrix of the errors is correctly specified.\n",
      "[2] The smallest eigenvalue is 9.23e-29. This might indicate that there are\n",
      "strong multicollinearity problems or that the design matrix is singular.\n"
     ]
    }
   ],
   "source": [
    "# Sumary\n",
    "print(modelo_linear_multiplo.summary())"
   ]
  },
  {
   "cell_type": "markdown",
   "metadata": {},
   "source": [
    "**Considerações do Sumário:**<br>\n",
    "O Beta 0 é igual a: -58.8389 E o R2 do modelo reultou em 52,90% <br>\n",
    "P-valor da Academia e Semana do Ano não são significante <br>\n",
    "Durbin-Watson 1.98 - temos uma correlação positiva"
   ]
  },
  {
   "cell_type": "code",
   "execution_count": 13,
   "metadata": {},
   "outputs": [],
   "source": [
    "predictions = modelo_linear_multiplo.predict(X)"
   ]
  },
  {
   "cell_type": "code",
   "execution_count": 14,
   "metadata": {},
   "outputs": [
    {
     "name": "stdout",
     "output_type": "stream",
     "text": [
      "MSE: 10251.73\n"
     ]
    }
   ],
   "source": [
    "# Erro médio Quadratico\n",
    "mse = np.mean((y - predictions)**2)\n",
    "print(f'MSE: {round(mse, 2)}')"
   ]
  },
  {
   "cell_type": "code",
   "execution_count": 15,
   "metadata": {},
   "outputs": [
    {
     "name": "stdout",
     "output_type": "stream",
     "text": [
      "MAE: 71.85\n"
     ]
    }
   ],
   "source": [
    "# Erro Médio Absoluto\n",
    "mae = np.mean(abs(y - predictions))\n",
    "print(f'MAE: {round(mae, 2)}')"
   ]
  },
  {
   "cell_type": "code",
   "execution_count": 16,
   "metadata": {},
   "outputs": [
    {
     "name": "stdout",
     "output_type": "stream",
     "text": [
      "MAPE: 29.99\n"
     ]
    }
   ],
   "source": [
    "# Porcentagem do Erro médio Absoluto\n",
    "mape = 100*np.mean(abs(y - predictions)/ y)\n",
    "print(f'MAPE: {round(mape, 2)}')"
   ]
  },
  {
   "cell_type": "code",
   "execution_count": 17,
   "metadata": {},
   "outputs": [],
   "source": [
    "def errors(X, y):\n",
    "    predictions = modelo_linear_multiplo.predict(X)\n",
    "    mse = np.mean((y - predictions)**2)\n",
    "    mae = np.mean(abs(y - predictions))\n",
    "    mape = 100*np.mean(abs(y - predictions)/ y)\n",
    "    print(f'Regression Model - Errors:')\n",
    "    print(f'MSE: {round(mse, 2)}')\n",
    "    print(f'MAE: {round(mae, 2)}')\n",
    "    print(f'MAPE: {round(mape, 2)}')"
   ]
  },
  {
   "cell_type": "code",
   "execution_count": 18,
   "metadata": {},
   "outputs": [
    {
     "name": "stdout",
     "output_type": "stream",
     "text": [
      "Regression Model - Errors:\n",
      "MSE: 10251.73\n",
      "MAE: 71.85\n",
      "MAPE: 29.99\n"
     ]
    }
   ],
   "source": [
    "errors(X, y)"
   ]
  },
  {
   "cell_type": "code",
   "execution_count": 19,
   "metadata": {},
   "outputs": [],
   "source": [
    "def summary_linear_regression(X, y):\n",
    "    X = sm.add_constant(X)\n",
    "    # Descobrindo os betas\n",
    "    modelo_linear_multiplo = sm.OLS(y,X)\n",
    "    modelo_linear_multiplo = modelo_linear_multiplo.fit()\n",
    "    print(modelo_linear_multiplo.summary())"
   ]
  },
  {
   "cell_type": "markdown",
   "metadata": {},
   "source": [
    "## Teste de Normalidade"
   ]
  },
  {
   "cell_type": "markdown",
   "metadata": {},
   "source": [
    "**QQ Plot**"
   ]
  },
  {
   "cell_type": "code",
   "execution_count": 20,
   "metadata": {},
   "outputs": [
    {
     "data": {
      "image/png": "[encoded data removed]",
      "text/plain": [
       "<Figure size 432x288 with 1 Axes>"
      ]
     },
     "metadata": {
      "needs_background": "light"
     },
     "output_type": "display_data"
    }
   ],
   "source": [
    "# qq plot\n",
    "qqplot(y, line='s')\n",
    "plt.show()"
   ]
  },
  {
   "cell_type": "markdown",
   "metadata": {},
   "source": [
    "**Teste Shapiro Wilk**"
   ]
  },
  {
   "cell_type": "code",
   "execution_count": 21,
   "metadata": {},
   "outputs": [],
   "source": [
    "def shapiro_test(df, alpha=0.05):\n",
    "    \"\"\"\n",
    "    Shapiro Wilk test\n",
    "    df = Dataframe\n",
    "    alpha = indice of significancy. Default is 0.05\n",
    "    \"\"\"\n",
    "    stat, p = scipy.stats.shapiro(df)\n",
    "    print('p-valor: p=%.3f' % (p))\n",
    "    # interpret\n",
    "    alpha = alpha\n",
    "    if p > alpha:\n",
    "        print('A amostra parece ser normalmente distribuiída Gaussian. Não rejeitamos H0')\n",
    "    else:\n",
    "        print('A amostra NÃO parece ser normalmente distribuiída Gaussian. Rejeitamos H0')\n",
    "    return stat, p"
   ]
  },
  {
   "cell_type": "code",
   "execution_count": 22,
   "metadata": {},
   "outputs": [
    {
     "name": "stdout",
     "output_type": "stream",
     "text": [
      "p-valor: p=0.000\n",
      "A amostra NÃO parece ser normalmente distribuiída Gaussian. Rejeitamos H0\n"
     ]
    },
    {
     "data": {
      "text/plain": [
       "(0.3452373743057251, 0.0)"
      ]
     },
     "execution_count": 22,
     "metadata": {},
     "output_type": "execute_result"
    }
   ],
   "source": [
    "shapiro_test(df_train)"
   ]
  },
  {
   "cell_type": "markdown",
   "metadata": {},
   "source": [
    "Verificamos que o Target não possui uma distruição Normal, neste caso vamos transforma-la"
   ]
  },
  {
   "cell_type": "markdown",
   "metadata": {},
   "source": [
    "### Transformação para uma Normal"
   ]
  },
  {
   "cell_type": "markdown",
   "metadata": {},
   "source": [
    "**Box Cos**"
   ]
  },
  {
   "cell_type": "code",
   "execution_count": 23,
   "metadata": {},
   "outputs": [],
   "source": [
    "# transformando os dados\n",
    "\n",
    "transformed_y, lambda_found = scipy.stats.boxcox(y)"
   ]
  },
  {
   "cell_type": "code",
   "execution_count": 24,
   "metadata": {},
   "outputs": [
    {
     "name": "stdout",
     "output_type": "stream",
     "text": [
      "Melhor lambda: -0.4897796628352117\n"
     ]
    }
   ],
   "source": [
    "print(f'Melhor lambda: {lambda_found}')"
   ]
  },
  {
   "cell_type": "markdown",
   "metadata": {},
   "source": [
    "Agora vamos plotar o histograma dos nossos dados transformados!"
   ]
  },
  {
   "cell_type": "code",
   "execution_count": 25,
   "metadata": {},
   "outputs": [
    {
     "data": {
      "image/png": "[encoded data removed]",
      "text/plain": [
       "<Figure size 576x576 with 1 Axes>"
      ]
     },
     "metadata": {
      "needs_background": "light"
     },
     "output_type": "display_data"
    }
   ],
   "source": [
    "plt.figure(figsize = (8, 8))\n",
    "sns.distplot(transformed_y)\n",
    "plt.title(f'Variável transformada - Lambda: {lambda_found}')\n",
    "plt.show()"
   ]
  },
  {
   "cell_type": "code",
   "execution_count": 26,
   "metadata": {},
   "outputs": [
    {
     "data": {
      "image/png": "[encoded data removed]",
      "text/plain": [
       "<Figure size 432x288 with 1 Axes>"
      ]
     },
     "metadata": {
      "needs_background": "light"
     },
     "output_type": "display_data"
    }
   ],
   "source": [
    "# qq plot\n",
    "qqplot(transformed_y, line='s')\n",
    "plt.show()"
   ]
  },
  {
   "cell_type": "code",
   "execution_count": 27,
   "metadata": {},
   "outputs": [],
   "source": [
    "# Após realizar alguma previsão para essa variável, preciso aplicar a transformação inversa!"
   ]
  },
  {
   "cell_type": "code",
   "execution_count": 28,
   "metadata": {},
   "outputs": [
    {
     "data": {
      "image/png": "[encoded data removed]",
      "text/plain": [
       "<Figure size 576x576 with 1 Axes>"
      ]
     },
     "metadata": {
      "needs_background": "light"
     },
     "output_type": "display_data"
    }
   ],
   "source": [
    "plt.figure(figsize=(8,8))\n",
    "inverse_data = scipy.special.inv_boxcox(transformed_y, lambda_found)\n",
    "sns.distplot(inverse_data)\n",
    "plt.title('Inversão dos Dados')\n",
    "plt.show()"
   ]
  },
  {
   "cell_type": "code",
   "execution_count": 29,
   "metadata": {},
   "outputs": [
    {
     "name": "stdout",
     "output_type": "stream",
     "text": [
      "Transformação inversa: -9.47517641575783e-16\n"
     ]
    }
   ],
   "source": [
    "print(f'Transformação inversa: {np.mean(((inverse_data - y)/y))*100}')"
   ]
  },
  {
   "cell_type": "markdown",
   "metadata": {},
   "source": [
    "### Yeo-Jhonson"
   ]
  },
  {
   "cell_type": "code",
   "execution_count": 30,
   "metadata": {},
   "outputs": [],
   "source": [
    "# transformando os dados\n",
    "\n",
    "transformed_y_yeo, lambda_found_yeo = scipy.stats.yeojohnson(y)"
   ]
  },
  {
   "cell_type": "code",
   "execution_count": 31,
   "metadata": {},
   "outputs": [
    {
     "name": "stdout",
     "output_type": "stream",
     "text": [
      "Melhor lambda: -0.4961478291897588\n"
     ]
    }
   ],
   "source": [
    "print(f'Melhor lambda: {lambda_found_yeo}')"
   ]
  },
  {
   "cell_type": "code",
   "execution_count": 32,
   "metadata": {},
   "outputs": [
    {
     "data": {
      "image/png": "[encoded data removed]",
      "text/plain": [
       "<Figure size 576x576 with 1 Axes>"
      ]
     },
     "metadata": {
      "needs_background": "light"
     },
     "output_type": "display_data"
    }
   ],
   "source": [
    "plt.figure(figsize = (8, 8))\n",
    "sns.distplot(transformed_y_yeo)\n",
    "plt.title(f'Variável Transformada - Lambda: {lambda_found_yeo}')\n",
    "plt.show()"
   ]
  },
  {
   "cell_type": "code",
   "execution_count": null,
   "metadata": {},
   "outputs": [],
   "source": []
  },
  {
   "cell_type": "markdown",
   "metadata": {},
   "source": [
    "## Data Prep"
   ]
  },
  {
   "cell_type": "code",
   "execution_count": 33,
   "metadata": {},
   "outputs": [],
   "source": [
    "# Vamos utilizar o RobustScaler pois como ele trabalha com os quartis, neutraliza o efeito dos outli\n",
    "pipe = Pipeline(steps=[('scaler', RobustScaler())])"
   ]
  },
  {
   "cell_type": "code",
   "execution_count": 34,
   "metadata": {},
   "outputs": [],
   "source": [
    "X = pipe.fit_transform(X)"
   ]
  },
  {
   "cell_type": "markdown",
   "metadata": {},
   "source": [
    "## Divisão em treino e teste"
   ]
  },
  {
   "cell_type": "code",
   "execution_count": 35,
   "metadata": {},
   "outputs": [],
   "source": [
    "# Validação Cruzada:\n",
    "skf = StratifiedKFold(n_splits=5, shuffle=True, random_state=123)"
   ]
  },
  {
   "cell_type": "code",
   "execution_count": 36,
   "metadata": {},
   "outputs": [],
   "source": [
    "X_train, X_test, y_train, y_test = train_test_split(X,\n",
    "                                                    y,\n",
    "                                                    test_size=0.2,\n",
    "                                                    random_state=123)"
   ]
  },
  {
   "cell_type": "markdown",
   "metadata": {},
   "source": [
    "## Modelos de Regressão"
   ]
  },
  {
   "cell_type": "code",
   "execution_count": 37,
   "metadata": {},
   "outputs": [],
   "source": [
    "def create_pipe(model, transformers_pipeline):\n",
    "    \"\"\"\n",
    "    model = Model funccion\n",
    "    Return a pipeline with model and transformations\n",
    "    \"\"\"\n",
    "    pipe = Pipeline(steps=[('scaler', RobustScaler()),\n",
    "                            ('model', model)])\n",
    "    return pipe"
   ]
  },
  {
   "cell_type": "code",
   "execution_count": 38,
   "metadata": {},
   "outputs": [],
   "source": [
    "def cv_scores(estimator, X, y, cv=5, scoring='neg_mean_absolute_error'):\n",
    "    \"\"\"\n",
    "    Cros Validation \n",
    "    estimatior = create_pipe funccion with model and transformation\n",
    "    X = X\n",
    "    y = target\n",
    "    scoring = score of model. Default is neg_mean_absolute_error for Regression Models\n",
    "    cv = Default is 5 fold. Stratified K Fold is also possible.\n",
    "    Print the score from train and test of modeling\n",
    "    \"\"\"\n",
    "    cv_scores = cross_validate(estimator=estimator,\n",
    "                                X = X,\n",
    "                                y = y,\n",
    "                                scoring =scoring,\n",
    "                                cv = cv,\n",
    "                                return_train_score=True)\n",
    "    print(f'{scoring} no Treino: {np.mean(cv_scores[\"train_score\"]):.4f}')\n",
    "    print(f'{scoring} no Teste: {np.mean(cv_scores[\"test_score\"]):.4f}')"
   ]
  },
  {
   "cell_type": "markdown",
   "metadata": {},
   "source": [
    "r2 = igual Variância Total sem modelo - Variância não explicada pelo modelo / pela Variância não explicada pelo modelo <br>\n",
    "Próximo de 1 explica bem. Próximo de zero não."
   ]
  },
  {
   "cell_type": "markdown",
   "metadata": {},
   "source": [
    "**Linear Regression**"
   ]
  },
  {
   "cell_type": "code",
   "execution_count": 39,
   "metadata": {},
   "outputs": [],
   "source": [
    "pipe_LR = create_pipe(LinearRegression(), pipe)"
   ]
  },
  {
   "cell_type": "code",
   "execution_count": 40,
   "metadata": {},
   "outputs": [
    {
     "name": "stdout",
     "output_type": "stream",
     "text": [
      "neg_mean_absolute_error no Treino: -71.4699\n",
      "neg_mean_absolute_error no Teste: -71.9054\n"
     ]
    }
   ],
   "source": [
    "cv_scores(pipe_LR, X_train, y_train, cv=skf, scoring='neg_mean_absolute_error')"
   ]
  },
  {
   "cell_type": "markdown",
   "metadata": {},
   "source": [
    "**K Neighbors Regressor**"
   ]
  },
  {
   "cell_type": "code",
   "execution_count": 41,
   "metadata": {},
   "outputs": [],
   "source": [
    "pipe_KNR = create_pipe(KNeighborsRegressor(n_neighbors=int(np.sqrt(len(df_train)))), pipe)"
   ]
  },
  {
   "cell_type": "code",
   "execution_count": 42,
   "metadata": {},
   "outputs": [
    {
     "name": "stdout",
     "output_type": "stream",
     "text": [
      "neg_mean_absolute_error no Treino: -67.7496\n",
      "neg_mean_absolute_error no Teste: -68.6244\n"
     ]
    }
   ],
   "source": [
    "cv_scores(pipe_KNR, X_train, y_train, cv=skf, scoring='neg_mean_absolute_error')"
   ]
  },
  {
   "cell_type": "markdown",
   "metadata": {},
   "source": [
    "**SVR**"
   ]
  },
  {
   "cell_type": "code",
   "execution_count": 43,
   "metadata": {},
   "outputs": [],
   "source": [
    "pipe_SVR = create_pipe(SVR(), pipe)"
   ]
  },
  {
   "cell_type": "code",
   "execution_count": 44,
   "metadata": {},
   "outputs": [
    {
     "name": "stdout",
     "output_type": "stream",
     "text": [
      "neg_mean_absolute_error no Treino: -78.7924\n",
      "neg_mean_absolute_error no Teste: -79.2436\n"
     ]
    }
   ],
   "source": [
    "cv_scores(pipe_SVR, X_train, y_train, cv=skf, scoring='neg_mean_absolute_error')"
   ]
  },
  {
   "cell_type": "markdown",
   "metadata": {},
   "source": [
    "**Decision Tree**"
   ]
  },
  {
   "cell_type": "code",
   "execution_count": 45,
   "metadata": {},
   "outputs": [],
   "source": [
    "pipe_Dtree = create_pipe(DecisionTreeRegressor(random_state=123, max_depth=5), pipe)"
   ]
  },
  {
   "cell_type": "code",
   "execution_count": 46,
   "metadata": {},
   "outputs": [
    {
     "name": "stdout",
     "output_type": "stream",
     "text": [
      "neg_mean_absolute_error no Treino: -62.3008\n",
      "neg_mean_absolute_error no Teste: -65.1721\n"
     ]
    }
   ],
   "source": [
    "cv_scores(pipe_Dtree, X_train, y_train, cv=skf, scoring='neg_mean_absolute_error')"
   ]
  },
  {
   "cell_type": "markdown",
   "metadata": {},
   "source": [
    "**Random Forest**"
   ]
  },
  {
   "cell_type": "code",
   "execution_count": 47,
   "metadata": {},
   "outputs": [],
   "source": [
    "pipe_RF = create_pipe(RandomForestRegressor(random_state=123, max_depth=5), pipe)"
   ]
  },
  {
   "cell_type": "code",
   "execution_count": 48,
   "metadata": {},
   "outputs": [
    {
     "name": "stdout",
     "output_type": "stream",
     "text": [
      "neg_mean_absolute_error no Treino: -57.6838\n",
      "neg_mean_absolute_error no Teste: -59.9848\n"
     ]
    }
   ],
   "source": [
    "cv_scores(pipe_RF, X_train, y_train, cv=skf, scoring='neg_mean_absolute_error')"
   ]
  },
  {
   "cell_type": "markdown",
   "metadata": {},
   "source": [
    "**LGBM Regressor**"
   ]
  },
  {
   "cell_type": "code",
   "execution_count": 49,
   "metadata": {},
   "outputs": [],
   "source": [
    "pipe_LGBM = create_pipe(LGBMRegressor(random_state=123), pipe)"
   ]
  },
  {
   "cell_type": "code",
   "execution_count": 50,
   "metadata": {},
   "outputs": [
    {
     "name": "stdout",
     "output_type": "stream",
     "text": [
      "neg_mean_absolute_error no Treino: -26.1177\n",
      "neg_mean_absolute_error no Teste: -35.7881\n"
     ]
    }
   ],
   "source": [
    "cv_scores(pipe_LGBM, X_train, y_train, cv=skf, scoring='neg_mean_absolute_error')"
   ]
  },
  {
   "cell_type": "markdown",
   "metadata": {},
   "source": [
    "LGBM é possivel perceber uma tendência para overfitting"
   ]
  },
  {
   "cell_type": "markdown",
   "metadata": {},
   "source": [
    "## Top 3 modelos"
   ]
  },
  {
   "cell_type": "markdown",
   "metadata": {},
   "source": [
    "* Random Forest <br>\n",
    "* Decision Tree <br>\n",
    "* K Neighbors Regressor <br>"
   ]
  },
  {
   "cell_type": "markdown",
   "metadata": {},
   "source": [
    "# Modelo de regressão com Y normalizado - Box Cos"
   ]
  },
  {
   "cell_type": "code",
   "execution_count": 51,
   "metadata": {},
   "outputs": [
    {
     "data": {
      "text/plain": [
       "array([1.88297573, 1.88857655, 1.92602744, ..., 1.86626801, 1.83079755,\n",
       "       1.92386877])"
      ]
     },
     "execution_count": 51,
     "metadata": {},
     "output_type": "execute_result"
    }
   ],
   "source": [
    "transformed_y"
   ]
  },
  {
   "cell_type": "code",
   "execution_count": 52,
   "metadata": {},
   "outputs": [],
   "source": [
    "df_train_transformed = df_train.copy()"
   ]
  },
  {
   "cell_type": "code",
   "execution_count": 53,
   "metadata": {},
   "outputs": [],
   "source": [
    "df_train_transformed['Preço/Noite_Normalizado'] = transformed_y"
   ]
  },
  {
   "cell_type": "code",
   "execution_count": 54,
   "metadata": {},
   "outputs": [
    {
     "data": {
      "text/html": [
       "<div>\n",
       "<style scoped>\n",
       "    .dataframe tbody tr th:only-of-type {\n",
       "        vertical-align: middle;\n",
       "    }\n",
       "\n",
       "    .dataframe tbody tr th {\n",
       "        vertical-align: top;\n",
       "    }\n",
       "\n",
       "    .dataframe thead th {\n",
       "        text-align: right;\n",
       "    }\n",
       "</style>\n",
       "<table border=\"1\" class=\"dataframe\">\n",
       "  <thead>\n",
       "    <tr style=\"text-align: right;\">\n",
       "      <th></th>\n",
       "      <th>Mes</th>\n",
       "      <th>Número Banheiros</th>\n",
       "      <th>Número Camas</th>\n",
       "      <th>Número Comentários</th>\n",
       "      <th>Número Hóspedes</th>\n",
       "      <th>Taxa</th>\n",
       "      <th>Raridade</th>\n",
       "      <th>Novo preço mais baixo</th>\n",
       "      <th>Permitido animais</th>\n",
       "      <th>Jacuzzi</th>\n",
       "      <th>Semana_do_ano</th>\n",
       "      <th>Localização</th>\n",
       "      <th>Academia</th>\n",
       "      <th>É outilier</th>\n",
       "      <th>Piscina</th>\n",
       "      <th>Preço/Noite</th>\n",
       "      <th>Preço/Noite_Normalizado</th>\n",
       "    </tr>\n",
       "  </thead>\n",
       "  <tbody>\n",
       "    <tr>\n",
       "      <th>0</th>\n",
       "      <td>3</td>\n",
       "      <td>1</td>\n",
       "      <td>3</td>\n",
       "      <td>18</td>\n",
       "      <td>4</td>\n",
       "      <td>60.0</td>\n",
       "      <td>0</td>\n",
       "      <td>1</td>\n",
       "      <td>0</td>\n",
       "      <td>0</td>\n",
       "      <td>9</td>\n",
       "      <td>0.029461</td>\n",
       "      <td>0</td>\n",
       "      <td>0</td>\n",
       "      <td>1</td>\n",
       "      <td>184.0</td>\n",
       "      <td>1.882976</td>\n",
       "    </tr>\n",
       "    <tr>\n",
       "      <th>1</th>\n",
       "      <td>3</td>\n",
       "      <td>1</td>\n",
       "      <td>4</td>\n",
       "      <td>41</td>\n",
       "      <td>4</td>\n",
       "      <td>30.0</td>\n",
       "      <td>1</td>\n",
       "      <td>0</td>\n",
       "      <td>0</td>\n",
       "      <td>0</td>\n",
       "      <td>11</td>\n",
       "      <td>0.042766</td>\n",
       "      <td>0</td>\n",
       "      <td>0</td>\n",
       "      <td>1</td>\n",
       "      <td>198.0</td>\n",
       "      <td>1.888577</td>\n",
       "    </tr>\n",
       "    <tr>\n",
       "      <th>2</th>\n",
       "      <td>3</td>\n",
       "      <td>2</td>\n",
       "      <td>8</td>\n",
       "      <td>7</td>\n",
       "      <td>10</td>\n",
       "      <td>0.0</td>\n",
       "      <td>1</td>\n",
       "      <td>0</td>\n",
       "      <td>0</td>\n",
       "      <td>0</td>\n",
       "      <td>9</td>\n",
       "      <td>0.003089</td>\n",
       "      <td>0</td>\n",
       "      <td>0</td>\n",
       "      <td>0</td>\n",
       "      <td>351.0</td>\n",
       "      <td>1.926027</td>\n",
       "    </tr>\n",
       "    <tr>\n",
       "      <th>3</th>\n",
       "      <td>3</td>\n",
       "      <td>1</td>\n",
       "      <td>2</td>\n",
       "      <td>5</td>\n",
       "      <td>4</td>\n",
       "      <td>60.0</td>\n",
       "      <td>1</td>\n",
       "      <td>0</td>\n",
       "      <td>1</td>\n",
       "      <td>0</td>\n",
       "      <td>12</td>\n",
       "      <td>0.018769</td>\n",
       "      <td>0</td>\n",
       "      <td>0</td>\n",
       "      <td>0</td>\n",
       "      <td>191.0</td>\n",
       "      <td>1.885853</td>\n",
       "    </tr>\n",
       "    <tr>\n",
       "      <th>4</th>\n",
       "      <td>2</td>\n",
       "      <td>1</td>\n",
       "      <td>4</td>\n",
       "      <td>3</td>\n",
       "      <td>4</td>\n",
       "      <td>58.0</td>\n",
       "      <td>0</td>\n",
       "      <td>1</td>\n",
       "      <td>1</td>\n",
       "      <td>0</td>\n",
       "      <td>8</td>\n",
       "      <td>0.018769</td>\n",
       "      <td>0</td>\n",
       "      <td>0</td>\n",
       "      <td>0</td>\n",
       "      <td>124.0</td>\n",
       "      <td>1.849122</td>\n",
       "    </tr>\n",
       "    <tr>\n",
       "      <th>...</th>\n",
       "      <td>...</td>\n",
       "      <td>...</td>\n",
       "      <td>...</td>\n",
       "      <td>...</td>\n",
       "      <td>...</td>\n",
       "      <td>...</td>\n",
       "      <td>...</td>\n",
       "      <td>...</td>\n",
       "      <td>...</td>\n",
       "      <td>...</td>\n",
       "      <td>...</td>\n",
       "      <td>...</td>\n",
       "      <td>...</td>\n",
       "      <td>...</td>\n",
       "      <td>...</td>\n",
       "      <td>...</td>\n",
       "      <td>...</td>\n",
       "    </tr>\n",
       "    <tr>\n",
       "      <th>4204</th>\n",
       "      <td>3</td>\n",
       "      <td>3</td>\n",
       "      <td>4</td>\n",
       "      <td>34</td>\n",
       "      <td>10</td>\n",
       "      <td>75.0</td>\n",
       "      <td>1</td>\n",
       "      <td>0</td>\n",
       "      <td>0</td>\n",
       "      <td>0</td>\n",
       "      <td>11</td>\n",
       "      <td>0.005940</td>\n",
       "      <td>0</td>\n",
       "      <td>0</td>\n",
       "      <td>1</td>\n",
       "      <td>581.0</td>\n",
       "      <td>1.951336</td>\n",
       "    </tr>\n",
       "    <tr>\n",
       "      <th>4205</th>\n",
       "      <td>3</td>\n",
       "      <td>1</td>\n",
       "      <td>3</td>\n",
       "      <td>16</td>\n",
       "      <td>4</td>\n",
       "      <td>49.5</td>\n",
       "      <td>0</td>\n",
       "      <td>1</td>\n",
       "      <td>1</td>\n",
       "      <td>0</td>\n",
       "      <td>9</td>\n",
       "      <td>0.003326</td>\n",
       "      <td>0</td>\n",
       "      <td>0</td>\n",
       "      <td>0</td>\n",
       "      <td>247.0</td>\n",
       "      <td>1.904297</td>\n",
       "    </tr>\n",
       "    <tr>\n",
       "      <th>4206</th>\n",
       "      <td>3</td>\n",
       "      <td>1</td>\n",
       "      <td>2</td>\n",
       "      <td>6</td>\n",
       "      <td>6</td>\n",
       "      <td>10.0</td>\n",
       "      <td>0</td>\n",
       "      <td>1</td>\n",
       "      <td>1</td>\n",
       "      <td>0</td>\n",
       "      <td>9</td>\n",
       "      <td>0.011879</td>\n",
       "      <td>0</td>\n",
       "      <td>0</td>\n",
       "      <td>0</td>\n",
       "      <td>150.0</td>\n",
       "      <td>1.866268</td>\n",
       "    </tr>\n",
       "    <tr>\n",
       "      <th>4207</th>\n",
       "      <td>3</td>\n",
       "      <td>1</td>\n",
       "      <td>6</td>\n",
       "      <td>38</td>\n",
       "      <td>6</td>\n",
       "      <td>10.0</td>\n",
       "      <td>0</td>\n",
       "      <td>1</td>\n",
       "      <td>0</td>\n",
       "      <td>0</td>\n",
       "      <td>11</td>\n",
       "      <td>0.009979</td>\n",
       "      <td>0</td>\n",
       "      <td>0</td>\n",
       "      <td>0</td>\n",
       "      <td>103.0</td>\n",
       "      <td>1.830798</td>\n",
       "    </tr>\n",
       "    <tr>\n",
       "      <th>4208</th>\n",
       "      <td>3</td>\n",
       "      <td>2</td>\n",
       "      <td>9</td>\n",
       "      <td>7</td>\n",
       "      <td>12</td>\n",
       "      <td>50.0</td>\n",
       "      <td>1</td>\n",
       "      <td>0</td>\n",
       "      <td>0</td>\n",
       "      <td>0</td>\n",
       "      <td>12</td>\n",
       "      <td>0.009028</td>\n",
       "      <td>0</td>\n",
       "      <td>0</td>\n",
       "      <td>1</td>\n",
       "      <td>338.0</td>\n",
       "      <td>1.923869</td>\n",
       "    </tr>\n",
       "  </tbody>\n",
       "</table>\n",
       "<p>4209 rows × 17 columns</p>\n",
       "</div>"
      ],
      "text/plain": [
       "      Mes  Número Banheiros  Número Camas  Número Comentários  \\\n",
       "0       3                 1             3                  18   \n",
       "1       3                 1             4                  41   \n",
       "2       3                 2             8                   7   \n",
       "3       3                 1             2                   5   \n",
       "4       2                 1             4                   3   \n",
       "...   ...               ...           ...                 ...   \n",
       "4204    3                 3             4                  34   \n",
       "4205    3                 1             3                  16   \n",
       "4206    3                 1             2                   6   \n",
       "4207    3                 1             6                  38   \n",
       "4208    3                 2             9                   7   \n",
       "\n",
       "      Número Hóspedes  Taxa  Raridade  Novo preço mais baixo  \\\n",
       "0                   4  60.0         0                      1   \n",
       "1                   4  30.0         1                      0   \n",
       "2                  10   0.0         1                      0   \n",
       "3                   4  60.0         1                      0   \n",
       "4                   4  58.0         0                      1   \n",
       "...               ...   ...       ...                    ...   \n",
       "4204               10  75.0         1                      0   \n",
       "4205                4  49.5         0                      1   \n",
       "4206                6  10.0         0                      1   \n",
       "4207                6  10.0         0                      1   \n",
       "4208               12  50.0         1                      0   \n",
       "\n",
       "      Permitido animais  Jacuzzi  Semana_do_ano  Localização  Academia  \\\n",
       "0                     0        0              9     0.029461         0   \n",
       "1                     0        0             11     0.042766         0   \n",
       "2                     0        0              9     0.003089         0   \n",
       "3                     1        0             12     0.018769         0   \n",
       "4                     1        0              8     0.018769         0   \n",
       "...                 ...      ...            ...          ...       ...   \n",
       "4204                  0        0             11     0.005940         0   \n",
       "4205                  1        0              9     0.003326         0   \n",
       "4206                  1        0              9     0.011879         0   \n",
       "4207                  0        0             11     0.009979         0   \n",
       "4208                  0        0             12     0.009028         0   \n",
       "\n",
       "      É outilier  Piscina  Preço/Noite  Preço/Noite_Normalizado  \n",
       "0              0        1        184.0                 1.882976  \n",
       "1              0        1        198.0                 1.888577  \n",
       "2              0        0        351.0                 1.926027  \n",
       "3              0        0        191.0                 1.885853  \n",
       "4              0        0        124.0                 1.849122  \n",
       "...          ...      ...          ...                      ...  \n",
       "4204           0        1        581.0                 1.951336  \n",
       "4205           0        0        247.0                 1.904297  \n",
       "4206           0        0        150.0                 1.866268  \n",
       "4207           0        0        103.0                 1.830798  \n",
       "4208           0        1        338.0                 1.923869  \n",
       "\n",
       "[4209 rows x 17 columns]"
      ]
     },
     "execution_count": 54,
     "metadata": {},
     "output_type": "execute_result"
    }
   ],
   "source": [
    "df_train_transformed"
   ]
  },
  {
   "cell_type": "code",
   "execution_count": 55,
   "metadata": {},
   "outputs": [],
   "source": [
    "df_train_transformed = df_train_transformed.drop('Preço/Noite', axis=1)\n",
    "X_ = df_train_transformed.drop('Preço/Noite_Normalizado', axis=1)\n",
    "y_ = df_train_transformed['Preço/Noite_Normalizado']"
   ]
  },
  {
   "cell_type": "markdown",
   "metadata": {},
   "source": [
    "### Data Prep"
   ]
  },
  {
   "cell_type": "code",
   "execution_count": 56,
   "metadata": {},
   "outputs": [],
   "source": [
    "X_ = pipe.fit_transform(X_)"
   ]
  },
  {
   "cell_type": "markdown",
   "metadata": {},
   "source": [
    "### Divisão em treino e teste"
   ]
  },
  {
   "cell_type": "code",
   "execution_count": 57,
   "metadata": {},
   "outputs": [],
   "source": [
    "X_train_, X_test_, y_train_, y_test_ = train_test_split(X_,\n",
    "                                                        y_,\n",
    "                                                        test_size=0.2,\n",
    "                                                        random_state=123)"
   ]
  },
  {
   "cell_type": "code",
   "execution_count": 106,
   "metadata": {},
   "outputs": [
    {
     "data": {
      "text/plain": [
       "((3367, 15), (842, 15))"
      ]
     },
     "execution_count": 106,
     "metadata": {},
     "output_type": "execute_result"
    }
   ],
   "source": [
    "X_train_.shape, X_test_.shape"
   ]
  },
  {
   "cell_type": "markdown",
   "metadata": {},
   "source": [
    "## Modelos de Regressão com o Y normalizado"
   ]
  },
  {
   "cell_type": "markdown",
   "metadata": {},
   "source": [
    "**Linear Regression**"
   ]
  },
  {
   "cell_type": "code",
   "execution_count": 59,
   "metadata": {},
   "outputs": [
    {
     "name": "stdout",
     "output_type": "stream",
     "text": [
      "neg_mean_absolute_error no Treino: -0.0185\n",
      "neg_mean_absolute_error no Teste: -0.0186\n"
     ]
    }
   ],
   "source": [
    "cv_scores(pipe_LR, X_train_, y_train_, cv = 5, scoring='neg_mean_absolute_error')"
   ]
  },
  {
   "cell_type": "markdown",
   "metadata": {},
   "source": [
    "**K Nearest Neighbors Regressor**"
   ]
  },
  {
   "cell_type": "code",
   "execution_count": 60,
   "metadata": {},
   "outputs": [
    {
     "name": "stdout",
     "output_type": "stream",
     "text": [
      "neg_mean_absolute_error no Treino: -0.0176\n",
      "neg_mean_absolute_error no Teste: -0.0179\n"
     ]
    }
   ],
   "source": [
    "cv_scores(pipe_KNR, X_train_, y_train_, cv = 5, scoring='neg_mean_absolute_error')"
   ]
  },
  {
   "cell_type": "markdown",
   "metadata": {},
   "source": [
    "**SVR**"
   ]
  },
  {
   "cell_type": "code",
   "execution_count": 61,
   "metadata": {},
   "outputs": [
    {
     "name": "stdout",
     "output_type": "stream",
     "text": [
      "neg_mean_absolute_error no Treino: -0.0262\n",
      "neg_mean_absolute_error no Teste: -0.0262\n"
     ]
    }
   ],
   "source": [
    "cv_scores(pipe_SVR, X_train_, y_train_, cv = 5, scoring='neg_mean_absolute_error')"
   ]
  },
  {
   "cell_type": "markdown",
   "metadata": {},
   "source": [
    "**Decision Tree**"
   ]
  },
  {
   "cell_type": "code",
   "execution_count": 62,
   "metadata": {},
   "outputs": [
    {
     "name": "stdout",
     "output_type": "stream",
     "text": [
      "neg_mean_absolute_error no Treino: -0.0161\n",
      "neg_mean_absolute_error no Teste: -0.0167\n"
     ]
    }
   ],
   "source": [
    "cv_scores(pipe_Dtree, X_train_, y_train_, cv = 5, scoring='neg_mean_absolute_error')"
   ]
  },
  {
   "cell_type": "markdown",
   "metadata": {},
   "source": [
    "**Random Forest**"
   ]
  },
  {
   "cell_type": "code",
   "execution_count": 63,
   "metadata": {},
   "outputs": [
    {
     "name": "stdout",
     "output_type": "stream",
     "text": [
      "neg_mean_absolute_error no Treino: -0.0152\n",
      "neg_mean_absolute_error no Teste: -0.0159\n"
     ]
    }
   ],
   "source": [
    "cv_scores(pipe_RF, X_train_, y_train_, cv = 5, scoring='neg_mean_absolute_error')"
   ]
  },
  {
   "cell_type": "markdown",
   "metadata": {},
   "source": [
    "**LGBM Regressor**"
   ]
  },
  {
   "cell_type": "code",
   "execution_count": 64,
   "metadata": {},
   "outputs": [
    {
     "name": "stdout",
     "output_type": "stream",
     "text": [
      "neg_mean_absolute_error no Treino: -0.0066\n",
      "neg_mean_absolute_error no Teste: -0.0093\n"
     ]
    }
   ],
   "source": [
    "cv_scores(pipe_LGBM, X_train_, y_train_, cv=5, scoring='neg_mean_absolute_error')"
   ]
  },
  {
   "cell_type": "markdown",
   "metadata": {},
   "source": [
    "### Top 3 modelos com target normalizado"
   ]
  },
  {
   "cell_type": "code",
   "execution_count": 147,
   "metadata": {},
   "outputs": [
    {
     "name": "stdout",
     "output_type": "stream",
     "text": [
      "[-0.0262, -0.0186, -0.0179, -0.0167, -0.0159, 0]\n"
     ]
    }
   ],
   "source": [
    "# Modelos que tiveram os menores erros são aquela que estão próximos a 0.\n",
    "\n",
    "neg_mae_test = [0,-0.0186, -0.0179, -0.0262, -0.0167, -0.0159]\n",
    "print(sorted(neg_mae_test))"
   ]
  },
  {
   "cell_type": "markdown",
   "metadata": {},
   "source": [
    "* Random Forest <br>\n",
    "* Decision Tree <br>\n",
    "* K Nearest Neighbors Regressor <br>"
   ]
  },
  {
   "cell_type": "markdown",
   "metadata": {},
   "source": [
    "## Escolha dos Hiperparâmetros - Target Normalizado"
   ]
  },
  {
   "cell_type": "markdown",
   "metadata": {},
   "source": [
    "### K Nearest Neighbors Regressor"
   ]
  },
  {
   "cell_type": "code",
   "execution_count": 65,
   "metadata": {},
   "outputs": [],
   "source": [
    "param_grid_KNR = {\n",
    "                    'model__n_neighbors' : range(1, 200),\n",
    "                    'model__weights' : ['uniform', 'distance'],\n",
    "                    'model__p': range(1,11),\n",
    "                    'model__metric': ['euclidean', 'manhattan', 'chebyshev', 'minkowski', 'wminkowski', 'seuclidean', 'mahalanobis']\n",
    "                    }"
   ]
  },
  {
   "cell_type": "code",
   "execution_count": 66,
   "metadata": {},
   "outputs": [],
   "source": [
    "random_search_KNR = RandomizedSearchCV(estimator=pipe_KNR,\n",
    "                                        param_distributions=param_grid_KNR,\n",
    "                                        scoring='neg_mean_absolute_error',\n",
    "                                        random_state=123,\n",
    "                                        cv=5,\n",
    "                                        n_iter=1000,\n",
    "                                        n_jobs=-1,\n",
    "                                        verbose=1)"
   ]
  },
  {
   "cell_type": "code",
   "execution_count": 67,
   "metadata": {},
   "outputs": [
    {
     "name": "stdout",
     "output_type": "stream",
     "text": [
      "Fitting 5 folds for each of 1000 candidates, totalling 5000 fits\n"
     ]
    },
    {
     "name": "stderr",
     "output_type": "stream",
     "text": [
      "[Parallel(n_jobs=-1)]: Using backend LokyBackend with 8 concurrent workers.\n",
      "[Parallel(n_jobs=-1)]: Done  34 tasks      | elapsed:    4.2s\n",
      "[Parallel(n_jobs=-1)]: Done 184 tasks      | elapsed:    9.1s\n",
      "[Parallel(n_jobs=-1)]: Done 1128 tasks      | elapsed:   23.0s\n",
      "[Parallel(n_jobs=-1)]: Done 2528 tasks      | elapsed:   45.2s\n",
      "[Parallel(n_jobs=-1)]: Done 4068 tasks      | elapsed:  1.2min\n",
      "[Parallel(n_jobs=-1)]: Done 5000 out of 5000 | elapsed:  1.5min finished\n"
     ]
    },
    {
     "data": {
      "text/plain": [
       "RandomizedSearchCV(cv=5,\n",
       "                   estimator=Pipeline(steps=[('scaler', RobustScaler()),\n",
       "                                             ('model',\n",
       "                                              KNeighborsRegressor(n_neighbors=64))]),\n",
       "                   n_iter=1000, n_jobs=-1,\n",
       "                   param_distributions={'model__metric': ['euclidean',\n",
       "                                                          'manhattan',\n",
       "                                                          'chebyshev',\n",
       "                                                          'minkowski',\n",
       "                                                          'wminkowski',\n",
       "                                                          'seuclidean',\n",
       "                                                          'mahalanobis'],\n",
       "                                        'model__n_neighbors': range(1, 200),\n",
       "                                        'model__p': range(1, 11),\n",
       "                                        'model__weights': ['uniform',\n",
       "                                                           'distance']},\n",
       "                   random_state=123, scoring='neg_mean_absolute_error',\n",
       "                   verbose=1)"
      ]
     },
     "execution_count": 67,
     "metadata": {},
     "output_type": "execute_result"
    }
   ],
   "source": [
    "random_search_KNR.fit(X_train_, y_train_)"
   ]
  },
  {
   "cell_type": "code",
   "execution_count": 68,
   "metadata": {},
   "outputs": [
    {
     "name": "stdout",
     "output_type": "stream",
     "text": [
      "Melhor Score do KNRegression: 0.0054\n"
     ]
    }
   ],
   "source": [
    "print(f'Melhor Score do KNRegression: {-random_search_KNR.best_score_:.4f}')"
   ]
  },
  {
   "cell_type": "code",
   "execution_count": 69,
   "metadata": {},
   "outputs": [
    {
     "name": "stdout",
     "output_type": "stream",
     "text": [
      "Mean Absolute Error KNRegression no Teste 0.0054\n"
     ]
    }
   ],
   "source": [
    "best_KNR = random_search_KNR.best_estimator_\n",
    "y_pred_KNR = best_KNR.predict(X_test_)\n",
    "print(f'Mean Absolute Error KNRegression no Teste {np.mean(abs(y_test_ - y_pred_KNR)):.4f}')"
   ]
  },
  {
   "cell_type": "code",
   "execution_count": 70,
   "metadata": {},
   "outputs": [
    {
     "data": {
      "text/plain": [
       "{'model__weights': 'distance',\n",
       " 'model__p': 5,\n",
       " 'model__n_neighbors': 1,\n",
       " 'model__metric': 'manhattan'}"
      ]
     },
     "execution_count": 70,
     "metadata": {},
     "output_type": "execute_result"
    }
   ],
   "source": [
    "random_search_KNR.best_params_"
   ]
  },
  {
   "cell_type": "markdown",
   "metadata": {},
   "source": [
    "Houve overfitting, pois o KNN Regression resultou em k = 1 "
   ]
  },
  {
   "cell_type": "markdown",
   "metadata": {},
   "source": [
    "### Decision Tree"
   ]
  },
  {
   "cell_type": "code",
   "execution_count": 71,
   "metadata": {},
   "outputs": [],
   "source": [
    "param_grid_Dtree = {\n",
    "                'model__criterion' : ['mae'],\n",
    "                'model__max_depth' : range(1, 11),\n",
    "                'model__min_samples_split' : range(2, 41, 5),\n",
    "                'model__min_samples_leaf' : range(2, 21, 2),\n",
    "                }"
   ]
  },
  {
   "cell_type": "code",
   "execution_count": 72,
   "metadata": {},
   "outputs": [],
   "source": [
    "random_search_Dtree = RandomizedSearchCV(estimator=pipe_Dtree,\n",
    "                                        param_distributions=param_grid_Dtree,\n",
    "                                        scoring='neg_mean_absolute_error',\n",
    "                                        random_state=123,\n",
    "                                        cv=5,\n",
    "                                        n_jobs=-1,\n",
    "                                        verbose=1,\n",
    "                                        n_iter=1000)"
   ]
  },
  {
   "cell_type": "code",
   "execution_count": 73,
   "metadata": {},
   "outputs": [
    {
     "name": "stderr",
     "output_type": "stream",
     "text": [
      "[Parallel(n_jobs=-1)]: Using backend LokyBackend with 8 concurrent workers.\n"
     ]
    },
    {
     "name": "stdout",
     "output_type": "stream",
     "text": [
      "Fitting 5 folds for each of 800 candidates, totalling 4000 fits\n"
     ]
    },
    {
     "name": "stderr",
     "output_type": "stream",
     "text": [
      "[Parallel(n_jobs=-1)]: Done  52 tasks      | elapsed:    1.6s\n",
      "[Parallel(n_jobs=-1)]: Done 352 tasks      | elapsed:    9.9s\n",
      "[Parallel(n_jobs=-1)]: Done 852 tasks      | elapsed:   31.2s\n",
      "[Parallel(n_jobs=-1)]: Done 1552 tasks      | elapsed:  1.2min\n",
      "[Parallel(n_jobs=-1)]: Done 2082 tasks      | elapsed:  1.7min\n",
      "[Parallel(n_jobs=-1)]: Done 2632 tasks      | elapsed:  2.3min\n",
      "[Parallel(n_jobs=-1)]: Done 3282 tasks      | elapsed:  3.1min\n",
      "[Parallel(n_jobs=-1)]: Done 4000 out of 4000 | elapsed:  4.0min finished\n"
     ]
    },
    {
     "data": {
      "text/plain": [
       "RandomizedSearchCV(cv=5,\n",
       "                   estimator=Pipeline(steps=[('scaler', RobustScaler()),\n",
       "                                             ('model',\n",
       "                                              DecisionTreeRegressor(max_depth=5,\n",
       "                                                                    random_state=123))]),\n",
       "                   n_iter=1000, n_jobs=-1,\n",
       "                   param_distributions={'model__criterion': ['mae'],\n",
       "                                        'model__max_depth': range(1, 11),\n",
       "                                        'model__min_samples_leaf': range(2, 21, 2),\n",
       "                                        'model__min_samples_split': range(2, 41, 5)},\n",
       "                   random_state=123, scoring='neg_mean_absolute_error',\n",
       "                   verbose=1)"
      ]
     },
     "execution_count": 73,
     "metadata": {},
     "output_type": "execute_result"
    }
   ],
   "source": [
    "random_search_Dtree.fit(X_train_, y_train_)"
   ]
  },
  {
   "cell_type": "code",
   "execution_count": 74,
   "metadata": {},
   "outputs": [
    {
     "name": "stdout",
     "output_type": "stream",
     "text": [
      "Melhor Score do Decision Tree Regression: 0.0113\n"
     ]
    }
   ],
   "source": [
    "print(f'Melhor Score do Decision Tree Regression: {-random_search_Dtree.best_score_:.4f}')"
   ]
  },
  {
   "cell_type": "code",
   "execution_count": 75,
   "metadata": {},
   "outputs": [
    {
     "name": "stdout",
     "output_type": "stream",
     "text": [
      "Mean Absolute Error Decision Tree Regression no Teste 0.0109\n"
     ]
    }
   ],
   "source": [
    "best_Dtree = random_search_Dtree.best_estimator_\n",
    "y_pred_Dtree = best_Dtree.predict(X_test_)\n",
    "print(f'Mean Absolute Error Decision Tree Regression no Teste {np.mean(abs(y_test_ - y_pred_Dtree)):.4f}')"
   ]
  },
  {
   "cell_type": "code",
   "execution_count": 76,
   "metadata": {},
   "outputs": [
    {
     "data": {
      "text/plain": [
       "{'model__min_samples_split': 2,\n",
       " 'model__min_samples_leaf': 2,\n",
       " 'model__max_depth': 10,\n",
       " 'model__criterion': 'mae'}"
      ]
     },
     "execution_count": 76,
     "metadata": {},
     "output_type": "execute_result"
    }
   ],
   "source": [
    "random_search_Dtree.best_params_"
   ]
  },
  {
   "cell_type": "markdown",
   "metadata": {},
   "source": [
    "### Random Forest"
   ]
  },
  {
   "cell_type": "code",
   "execution_count": 86,
   "metadata": {},
   "outputs": [],
   "source": [
    "param_grid_RF = {\n",
    "                'model__n_estimators': [25, 50, 75, 100, 150],# 200,500,700,1000\n",
    "                'model__criterion' : ['mae'],\n",
    "                'model__max_depth' : range(1, 11),\n",
    "                'model__min_samples_split' : range(2, 41, 5),\n",
    "                'model__min_samples_leaf' : range(2, 21, 2),\n",
    "                'model__max_features': ['auto', 'sqrt', 'log2'],\n",
    "                }"
   ]
  },
  {
   "cell_type": "code",
   "execution_count": 87,
   "metadata": {},
   "outputs": [],
   "source": [
    "random_search_RF = RandomizedSearchCV(estimator=pipe_RF,\n",
    "                                        param_distributions=param_grid_RF,\n",
    "                                        scoring='neg_mean_absolute_error',\n",
    "                                        random_state=123,\n",
    "                                        cv=5,\n",
    "                                        n_jobs=-1,\n",
    "                                        verbose=1,\n",
    "                                        n_iter=250)"
   ]
  },
  {
   "cell_type": "code",
   "execution_count": 88,
   "metadata": {},
   "outputs": [
    {
     "name": "stdout",
     "output_type": "stream",
     "text": [
      "Fitting 5 folds for each of 250 candidates, totalling 1250 fits\n"
     ]
    },
    {
     "name": "stderr",
     "output_type": "stream",
     "text": [
      "[Parallel(n_jobs=-1)]: Using backend LokyBackend with 8 concurrent workers.\n",
      "[Parallel(n_jobs=-1)]: Done  34 tasks      | elapsed:  6.7min\n",
      "[Parallel(n_jobs=-1)]: Done 184 tasks      | elapsed: 15.4min\n",
      "[Parallel(n_jobs=-1)]: Done 434 tasks      | elapsed: 30.6min\n",
      "[Parallel(n_jobs=-1)]: Done 784 tasks      | elapsed: 62.6min\n",
      "[Parallel(n_jobs=-1)]: Done 1234 tasks      | elapsed: 93.7min\n",
      "[Parallel(n_jobs=-1)]: Done 1250 out of 1250 | elapsed: 96.1min finished\n"
     ]
    },
    {
     "data": {
      "text/plain": [
       "RandomizedSearchCV(cv=5,\n",
       "                   estimator=Pipeline(steps=[('scaler', RobustScaler()),\n",
       "                                             ('model',\n",
       "                                              RandomForestRegressor(max_depth=5,\n",
       "                                                                    random_state=123))]),\n",
       "                   n_iter=250, n_jobs=-1,\n",
       "                   param_distributions={'model__criterion': ['mae'],\n",
       "                                        'model__max_depth': range(1, 11),\n",
       "                                        'model__max_features': ['auto', 'sqrt',\n",
       "                                                                'log2'],\n",
       "                                        'model__min_samples_leaf': range(2, 21, 2),\n",
       "                                        'model__min_samples_split': range(2, 41, 5),\n",
       "                                        'model__n_estimators': [25, 50, 100,\n",
       "                                                                200, 500, 700,\n",
       "                                                                1000]},\n",
       "                   random_state=123, scoring='neg_mean_absolute_error',\n",
       "                   verbose=1)"
      ]
     },
     "execution_count": 88,
     "metadata": {},
     "output_type": "execute_result"
    }
   ],
   "source": [
    "random_search_RF.fit(X_train_, y_train_)"
   ]
  },
  {
   "cell_type": "code",
   "execution_count": 89,
   "metadata": {},
   "outputs": [
    {
     "name": "stdout",
     "output_type": "stream",
     "text": [
      "Melhor Score do Random Forest Regression: 0.0105\n"
     ]
    }
   ],
   "source": [
    "print(f'Melhor Score do Random Forest Regression: {-random_search_RF.best_score_:.4f}')"
   ]
  },
  {
   "cell_type": "code",
   "execution_count": 90,
   "metadata": {},
   "outputs": [
    {
     "name": "stdout",
     "output_type": "stream",
     "text": [
      "Mean Absolute Error Random Forest Regression no Teste 0.0097\n"
     ]
    }
   ],
   "source": [
    "best_RF = random_search_RF.best_estimator_\n",
    "y_pred_RF = best_RF.predict(X_test_)\n",
    "print(f'Mean Absolute Error Random Forest Regression no Teste {np.mean(abs(y_test_ - y_pred_RF)):.4f}')"
   ]
  },
  {
   "cell_type": "code",
   "execution_count": 91,
   "metadata": {},
   "outputs": [
    {
     "data": {
      "text/plain": [
       "{'model__n_estimators': 1000,\n",
       " 'model__min_samples_split': 7,\n",
       " 'model__min_samples_leaf': 2,\n",
       " 'model__max_features': 'auto',\n",
       " 'model__max_depth': 10,\n",
       " 'model__criterion': 'mae'}"
      ]
     },
     "execution_count": 91,
     "metadata": {},
     "output_type": "execute_result"
    }
   ],
   "source": [
    "random_search_RF.best_params_"
   ]
  },
  {
   "cell_type": "code",
   "execution_count": null,
   "metadata": {},
   "outputs": [],
   "source": []
  },
  {
   "cell_type": "markdown",
   "metadata": {},
   "source": [
    "## Curva de Aprendizado"
   ]
  },
  {
   "cell_type": "markdown",
   "metadata": {},
   "source": [
    "**KNR**"
   ]
  },
  {
   "cell_type": "code",
   "execution_count": 77,
   "metadata": {},
   "outputs": [],
   "source": [
    "train_sizes= np.linspace(0.5, 1, 5)\n",
    "train_sizes, train_scores, test_scores, fit_times, _ = \\\n",
    "    learning_curve(estimator=best_KNR, \n",
    "                   X=X_train_, \n",
    "                   y=y_train_, \n",
    "                   cv=5, \n",
    "                   scoring='neg_mean_absolute_error',\n",
    "                   n_jobs=-1,\n",
    "                   train_sizes=train_sizes,\n",
    "                   return_times=True)"
   ]
  },
  {
   "cell_type": "code",
   "execution_count": 78,
   "metadata": {},
   "outputs": [],
   "source": [
    "train_scores_mean = -np.mean(train_scores, axis=1)\n",
    "train_scores_std = -np.std(train_scores, axis=1)\n",
    "test_scores_mean = -np.mean(test_scores, axis=1)\n",
    "test_scores_std = -np.std(test_scores, axis=1)\n",
    "fit_times_mean = -np.mean(fit_times, axis=1)\n",
    "fit_times_std = -np.std(fit_times, axis=1)"
   ]
  },
  {
   "cell_type": "code",
   "execution_count": 79,
   "metadata": {},
   "outputs": [
    {
     "data": {
      "image/png": "[encoded data removed]",
      "text/plain": [
       "<Figure size 1440x360 with 1 Axes>"
      ]
     },
     "metadata": {
      "needs_background": "light"
     },
     "output_type": "display_data"
    }
   ],
   "source": [
    "# Plot learning curve\n",
    "fig = plt.figure(figsize=(20, 5))\n",
    "\n",
    "plt.title('Learning Curve - K Neighbors Regression')\n",
    "plt.xlabel(\"Training examples\")\n",
    "plt.ylabel(\"Score\")\n",
    "plt.grid()\n",
    "#plt.ylim((0,1))\n",
    "plt.fill_between(train_sizes, train_scores_mean - train_scores_std,\n",
    "                     train_scores_mean + train_scores_std, alpha=0.1, color=\"r\")\n",
    "plt.fill_between(train_sizes, test_scores_mean - test_scores_std, test_scores_mean + test_scores_std, alpha=0.1, color=\"g\")\n",
    "\n",
    "plt.plot(train_sizes, train_scores_mean, 'o-', color=\"r\", label=\"Training score\")\n",
    "plt.plot(train_sizes, test_scores_mean, 'o-', color=\"g\", label=\"Cross-validation score\")\n",
    "plt.legend(loc=\"best\")\n",
    "plt.show()"
   ]
  },
  {
   "cell_type": "code",
   "execution_count": 136,
   "metadata": {},
   "outputs": [],
   "source": [
    "def learning_curve(modelo_best, X, y):\n",
    "    train_sizes= np.linspace(0.5, 1, 5)\n",
    "    train_sizes, train_scores, test_scores, fit_times, _ = \\\n",
    "        learning_curve(estimator=modelo_best, \n",
    "                       X=X, \n",
    "                       y=y, \n",
    "                       cv=5, \n",
    "                       scoring='mean_absolute_error',\n",
    "                       n_jobs=-1,\n",
    "                       train_sizes=train_sizes,\n",
    "                       return_times=True)\n",
    "    \n",
    "    train_scores_mean = -np.mean(train_scores, axis=1)\n",
    "    train_scores_std = -np.std(train_scores, axis=1)\n",
    "    test_scores_mean = -np.mean(test_scores, axis=1)\n",
    "    test_scores_std = -np.std(test_scores, axis=1)\n",
    "    fit_times_mean = -np.mean(fit_times, axis=1)\n",
    "    fit_times_std = -np.std(fit_times, axis=1)\n",
    "    \n",
    "    # Plot learning curve\n",
    "    fig = plt.figure(figsize=(20, 5))\n",
    "\n",
    "    plt.title(f'Learning Curve')\n",
    "    plt.xlabel(\"Training examples\")\n",
    "    plt.ylabel(\"Score\")\n",
    "    plt.grid()\n",
    "    #plt.ylim((0,1))\n",
    "    plt.fill_between(train_sizes, train_scores_mean - train_scores_std,\n",
    "                         train_scores_mean + train_scores_std, alpha=0.1,\n",
    "                         color=\"r\")\n",
    "    plt.fill_between(train_sizes, test_scores_mean - test_scores_std,\n",
    "                         test_scores_mean + test_scores_std, alpha=0.1,\n",
    "                         color=\"g\")\n",
    "    plt.plot(train_sizes, train_scores_mean, 'o-', color=\"r\",\n",
    "                 label=\"Training score\")\n",
    "    plt.plot(train_sizes, test_scores_mean, 'o-', color=\"g\",\n",
    "                 label=\"Cross-validation score\")\n",
    "    plt.legend(loc=\"best\")\n",
    "    plt.show()"
   ]
  },
  {
   "cell_type": "code",
   "execution_count": null,
   "metadata": {},
   "outputs": [],
   "source": []
  },
  {
   "cell_type": "markdown",
   "metadata": {},
   "source": [
    "# Modelagem"
   ]
  },
  {
   "cell_type": "markdown",
   "metadata": {},
   "source": [
    "**Decision Tree**"
   ]
  },
  {
   "cell_type": "code",
   "execution_count": 102,
   "metadata": {},
   "outputs": [
    {
     "data": {
      "text/plain": [
       "Pipeline(steps=[('scaler', RobustScaler()),\n",
       "                ('model',\n",
       "                 DecisionTreeRegressor(criterion='mae', max_depth=10,\n",
       "                                       min_samples_leaf=2, random_state=123))])"
      ]
     },
     "execution_count": 102,
     "metadata": {},
     "output_type": "execute_result"
    }
   ],
   "source": [
    "best_Dtree.fit(X_train_, y_train_)"
   ]
  },
  {
   "cell_type": "code",
   "execution_count": 110,
   "metadata": {},
   "outputs": [],
   "source": [
    "result_Dtree = best_Dtree.predict(X_test_)"
   ]
  },
  {
   "cell_type": "code",
   "execution_count": 111,
   "metadata": {},
   "outputs": [
    {
     "data": {
      "text/plain": [
       "842"
      ]
     },
     "execution_count": 111,
     "metadata": {},
     "output_type": "execute_result"
    }
   ],
   "source": [
    "len(result_Dtree)"
   ]
  },
  {
   "cell_type": "code",
   "execution_count": 115,
   "metadata": {},
   "outputs": [],
   "source": [
    "# reconversão da variável\n",
    "diaria = scipy.special.inv_boxcox(result_Dtree, lambda_found)"
   ]
  },
  {
   "cell_type": "code",
   "execution_count": 118,
   "metadata": {},
   "outputs": [
    {
     "data": {
      "text/plain": [
       "array([ 177.  ,  150.  ,  177.  ,  219.46,  187.  ,  353.  ,  334.99,\n",
       "        218.  ,  251.  ,  165.  ,  180.  ,  251.  ,  158.  ,  166.  ,\n",
       "        180.  ,  559.  ,  114.  ,  232.  ,  193.  ,  226.  ,  180.  ,\n",
       "        180.  ,  206.  ,  158.  ,  218.  ,  206.  ,  211.  ,  218.  ,\n",
       "        175.  ,  629.  ,  353.  ,  251.  ,  180.  ,  180.  ,  298.  ,\n",
       "        219.46,  166.  ,  123.  ,  187.  ,  263.  ,  247.  ,  226.  ,\n",
       "        158.  ,  118.  ,  251.  ,  425.  ,  218.  ,  145.  ,  180.  ,\n",
       "        187.  ,  118.  ,  457.  ,  237.  ,   99.  ,  226.  ,  158.  ,\n",
       "        807.  ,  263.  ,  240.  ,  251.  ,  177.  ,  149.  ,  180.  ,\n",
       "        251.  ,  182.  ,  149.  ,  326.  ,  177.  ,  218.  ,  237.  ,\n",
       "        344.  ,  218.  ,  219.46,  218.  ,  144.34,  180.  ,  158.  ,\n",
       "        353.  ,  263.  ,  427.  ,  293.  ,  247.63,  683.39,  182.  ,\n",
       "         94.  ,  207.  ,  194.  ,  206.  ,  218.  ,  158.  ,  218.  ,\n",
       "        180.  ,  193.  ,  187.  ,  460.48,  206.  ,  124.  ,  180.  ,\n",
       "        206.  ,  344.  ,  124.  ,  226.  ,  180.  ,  219.  ,  272.  ,\n",
       "        410.  ,  171.  ,  251.  ,  184.  ,   99.  ,  182.  ,  180.  ,\n",
       "        913.  ,  166.  ,  460.48,  263.  ,  183.33,  336.  ,  457.  ,\n",
       "        425.  ,  218.  ,  180.  ,  180.  ,  807.  ,  353.  ,  187.  ,\n",
       "        110.  ,  351.  ,  356.  ,  610.  ,  149.  ,  180.  ,  187.  ,\n",
       "        193.  ,  232.  ,  263.  ,  107.5 ,  203.  ,  218.45,  237.  ,\n",
       "        226.  ,  251.  ,  206.  ,  309.76,  180.  ,  245.  ,  285.  ,\n",
       "        263.  ,  218.  ,  206.  ,  149.  ,  107.  ,  185.  ,  187.  ,\n",
       "        263.  ,  263.  ,  150.  ,  327.  ,  187.  ,  180.  ,  123.  ,\n",
       "        240.  ,  119.49,  166.  ,  175.  ,  298.  ,  131.33,  163.  ,\n",
       "        251.  ,  380.  ,  293.  ,  182.  ,  199.3 ,  108.  ,  578.  ,\n",
       "        180.  ,  278.  ,  294.  ,  171.  ,  158.  ,  226.  ,  187.  ,\n",
       "        211.  ,  145.  ,  187.  ,  284.91,  185.  ,  193.  ,  119.49,\n",
       "        226.  ,  180.  ,  218.  ,  218.  ,  187.  ,  278.  ,  226.  ,\n",
       "        149.  ,  251.  ,  338.  ,  320.  ,  110.  ,  559.  ,  218.  ,\n",
       "        238.93,  180.  ,  107.5 ,  437.12,  226.  ,  158.  ,  139.  ,\n",
       "        575.  ,  462.  ,  226.  ,  226.  ,  110.  ,  226.  ,  696.  ,\n",
       "        335.  ,  218.  ,  191.  ,  149.  ,  252.  ,  181.  ,  206.  ,\n",
       "        149.  ,  211.  ,  315.  ,  180.  ,  180.  ,  145.  ,  187.  ,\n",
       "        164.  ,  226.  ,  108.  ,  237.  ,  206.  ,  137.  ,  206.  ,\n",
       "        149.  ,  218.45,  326.  ,  351.  ,  344.  ,  187.  ,  166.  ,\n",
       "        177.  ,  149.  ,  320.  ,  344.  ,  130.  ,  203.  ,  187.  ,\n",
       "        206.  ,  206.  ,  226.  ,  187.  ,  164.  ,  177.  ,  242.  ,\n",
       "        344.  ,  226.  ,  233.  ,  108.  ,  206.  ,  158.  ,  218.  ,\n",
       "        437.12,  523.81,  177.  ,  130.  ,  219.46,  233.  ,  187.  ,\n",
       "        180.  ,  251.  ,  410.  ,  226.  ,  149.  ,  218.  ,  247.  ,\n",
       "        187.  ,  123.  ,  166.  ,  180.  ,  348.  ,  108.  ,  187.  ,\n",
       "        629.  ,  344.  ,  206.  ,  143.03,  206.  ,  177.  ,  180.  ,\n",
       "        139.  ,  183.33,  187.  ,  134.  ,  177.  ,  559.  ,  304.  ,\n",
       "        180.  ,  457.  ,  314.  ,  232.  ,  251.  ,  353.  ,  314.  ,\n",
       "        218.  ,  334.99,  124.  ,  171.  ,  206.  ,  336.  ,  619.64,\n",
       "        183.33,  559.  ,  437.12,  182.  ,  177.  ,  206.  ,  156.  ,\n",
       "        118.  ,  311.81,  206.  ,  314.  ,  185.  ,  193.  ,  233.  ,\n",
       "        187.  ,  180.  ,  242.  ,  263.  ,  237.  ,  187.  ,  344.  ,\n",
       "        187.  ,  150.  ,  187.  ,  180.  ,  187.  ,  180.  ,  180.  ,\n",
       "        492.  ,  206.  ,  158.  ,  177.  ,  182.  ,  187.  ,  180.  ,\n",
       "        139.  ,  807.  ,  187.  ,  437.12,  226.  ,  187.  ,  251.  ,\n",
       "        410.  ,  559.  ,  187.  ,  127.  ,  187.  ,  234.  ,  114.  ,\n",
       "        232.  ,  218.  ,  254.  ,  234.  ,  226.  ,  158.  ,  218.  ,\n",
       "        211.  ,  166.  ,  218.  ,  219.46,  251.  ,  180.  ,  180.  ,\n",
       "        180.  ,  193.  ,  263.  ,  180.  ,  457.  ,  180.  ,  180.  ,\n",
       "        179.  ,  262.  ,  314.  ,  180.  ,  166.  ,  218.  ,  149.  ,\n",
       "        108.  ,  348.  ,  286.  ,  619.64,  180.  ,  344.  ,  166.  ,\n",
       "        180.  ,  206.  ,  206.  ,  284.91,  226.  ,  247.  ,  166.  ,\n",
       "        425.31,  291.  ,  575.  ,  131.  ,  353.  ,  149.  ,  218.  ,\n",
       "        180.  ,  171.  ,  142.95,  108.  ,  180.  ,  289.  ,  492.  ,\n",
       "        108.  ,  247.  ,  187.  ,  559.  ,  219.46,  108.  ,  121.  ,\n",
       "        237.  ,  158.  ,  351.  ,  683.39,  187.  ,  180.  ,  218.  ,\n",
       "        353.  ,  457.  ,  180.  ,  382.  ,  226.  ,  218.  ,  166.  ,\n",
       "        164.  ,  206.  ,  119.49,  221.  ,  102.  ,  263.  ,  298.  ,\n",
       "        211.  ,  147.  ,  193.  ,  263.  ,  575.  ,  348.  ,  124.  ,\n",
       "        180.  ,  218.  ,  177.  ,  166.  ,  559.  ,  226.  ,  123.  ,\n",
       "        226.  ,  187.  ,  159.41,  219.46,  130.  ,  629.  ,  175.  ,\n",
       "        234.  ,  251.  ,  275.  ,  575.  ,  251.  ,  913.  ,  149.  ,\n",
       "        180.  ,  149.  ,  180.  ,  187.  ,  334.99,  158.  ,  164.  ,\n",
       "        211.  ,  344.  ,  251.  ,  156.  ,  180.  ,  139.  ,  134.  ,\n",
       "        410.  ,  295.  ,  284.  ,  460.48,  187.  ,  263.  ,  238.  ,\n",
       "        206.  ,  145.  ,  149.  ,  211.  ,  134.  ,  272.  ,  575.  ,\n",
       "        492.  ,  275.  ,  286.  ,  158.  ,  180.  ,  314.  ,  338.  ,\n",
       "        177.  ,  263.  ,  171.  ,  275.  ,  262.  ,  226.  ,  187.  ,\n",
       "        251.  ,  344.  ,  238.  ,  119.49,  180.  ,  187.  ,  350.  ,\n",
       "        240.  , 1045.07,  110.  ,  206.  ,  139.  ,  218.  ,  218.  ,\n",
       "        180.  ,  293.  ,  559.  ,  344.  ,  261.  ,  177.  ,  226.  ,\n",
       "        913.  ,  559.  ,  290.98,  218.  , 1045.07,  180.  ,  149.  ,\n",
       "        218.  ,  166.  ,  336.  ,  251.  ,  156.  ,  150.  ,  460.48,\n",
       "        219.46,  701.36,  545.  ,  165.  ,  353.  ,  206.  ,  180.  ,\n",
       "        263.  ,  180.  ,  164.  ,  124.  ,  206.  ,  197.23,  410.  ,\n",
       "        492.  ,  357.  ,  180.  ,  344.  ,  237.  ,  187.  ,  314.  ,\n",
       "        701.36,  457.  ,  164.  ,  177.  ,  183.  ,  232.  ,  410.  ,\n",
       "        218.  ,  206.  ,  232.  ,  206.  ,  158.  ,  206.  ,  211.  ,\n",
       "        460.48,  180.  ,  171.  ,  108.  ,  226.  ,  219.46,  274.  ,\n",
       "        263.  ,  356.  ,  105.62,  177.  ,  191.  ,  187.  ,  226.  ,\n",
       "        218.  ,  171.  ,  356.  ,  149.  ,  187.  ,  158.  ,  145.  ,\n",
       "        353.  ,  206.  ,  263.  ,  182.  ,  218.  ,  108.  ,  705.  ,\n",
       "        206.  ,  149.  ,  263.  ,  251.  ,  344.  ,  163.47,  184.  ,\n",
       "        158.  ,  180.  ,  344.  ,  559.  ,  275.  ,  683.39,  177.  ,\n",
       "        206.  ,  285.  ,  191.  ,  218.  ,  135.  ,  226.  ,  237.  ,\n",
       "        218.  ,  145.  ,  206.  ,  293.  ,  142.95,  749.  ,  203.  ,\n",
       "        559.  ,  226.  ,  149.  ,  760.  ,  163.  ,  166.  ,  193.  ,\n",
       "        206.  ,  285.  ,  166.  ,  164.  ,  559.  ,  150.  ,  251.  ,\n",
       "        136.  ,  149.  ,  263.  ,  296.  ,  149.  ,  457.  ,  251.  ,\n",
       "        353.  ,  108.  ,  554.  ,  218.  ,  180.  ,  233.  ,  760.  ,\n",
       "        460.48,  226.  ,  199.  ,  218.  ,  180.  ,  149.  ,  164.89,\n",
       "        251.  ,  145.  ,  425.31,  326.  ,  272.69,  144.34,  127.  ,\n",
       "        293.  ,  149.  ,  218.  ,  298.  ,  559.  ,  559.  ,  425.31,\n",
       "        180.  ,  234.  ,  234.  ,  263.  ,  218.  ,  149.  ,  263.  ,\n",
       "        180.  ,  218.  ,  226.  ,  180.  ,  760.  ,  206.  ,  298.  ,\n",
       "        182.  ,  226.  ,  226.  ,  171.  ,  275.  ,  263.  ,  218.  ,\n",
       "        237.  ,  149.  ,  272.  ,  237.  ,  263.  ,  187.  ,  180.  ,\n",
       "        150.  ,  127.  ,  171.  ,  180.  ,  289.  ,  182.  ,  180.  ,\n",
       "        705.  ,  353.  ,  180.  ,  142.95,  457.  ,  180.  ,  460.48,\n",
       "        226.  ,  226.  ,  251.  ,  180.  ,  187.  ,  206.  ,  425.  ,\n",
       "        166.  ,  187.  ,  251.  ,  124.  ,  179.  ,  226.  ,  545.  ,\n",
       "        124.  ,  129.93,  149.  ,  263.  ,  219.46,  187.  ,  180.  ,\n",
       "        360.  ,  180.  ,  108.  ,  158.  ,  251.  ,  145.  ,  180.  ,\n",
       "        171.  ,  374.  ,  237.  ,  158.  ,   86.  ,  164.89,  559.  ,\n",
       "        251.  ,  145.  ,  171.  ,  183.33,   86.  ,  183.33,  952.  ,\n",
       "        158.  ,  219.46,  353.  ,  218.  ,  760.  ,  404.2 ,  237.  ,\n",
       "        187.  ,  180.  ,  344.  ,  263.  ,  182.  ,  353.  ,  137.  ,\n",
       "        263.  ,  211.  ,   96.45,  187.  ,  206.  ,  523.81,  180.  ,\n",
       "        344.  ,  193.  ,  180.  ,  237.  ,  171.  ,  171.  ,  110.  ,\n",
       "        218.  ,  206.  ,  275.  ,  110.  ,  145.  ,  164.89,  218.  ,\n",
       "        311.81,  232.  ,  164.  ,  127.  ,  139.  ,  206.  ,  124.  ,\n",
       "        251.  ,  315.  ,  251.  ,   99.  ,  353.  ,  104.  ,  149.  ,\n",
       "        158.  ,  180.  ,  206.  ,  166.  ,  206.  ,  206.  ,  263.  ,\n",
       "        263.  ,  143.03,  175.  ,  149.  ,  158.  ,  237.  ,  180.  ,\n",
       "        226.  ,  251.  ])"
      ]
     },
     "execution_count": 118,
     "metadata": {},
     "output_type": "execute_result"
    }
   ],
   "source": [
    "np.round(diaria,2)"
   ]
  },
  {
   "cell_type": "markdown",
   "metadata": {},
   "source": [
    "**Random Forest**"
   ]
  },
  {
   "cell_type": "code",
   "execution_count": 120,
   "metadata": {},
   "outputs": [
    {
     "data": {
      "text/plain": [
       "Pipeline(steps=[('scaler', RobustScaler()),\n",
       "                ('model',\n",
       "                 RandomForestRegressor(criterion='mae', max_depth=10,\n",
       "                                       min_samples_leaf=2, min_samples_split=7,\n",
       "                                       n_estimators=1000, random_state=123))])"
      ]
     },
     "execution_count": 120,
     "metadata": {},
     "output_type": "execute_result"
    }
   ],
   "source": [
    "best_RF.fit(X_train_, y_train_)"
   ]
  },
  {
   "cell_type": "code",
   "execution_count": 121,
   "metadata": {},
   "outputs": [],
   "source": [
    "result_RF = best_RF.predict(X_test_)"
   ]
  },
  {
   "cell_type": "code",
   "execution_count": 125,
   "metadata": {},
   "outputs": [],
   "source": [
    "diaria_RF = scipy.special.inv_boxcox(result_RF, lambda_found)"
   ]
  },
  {
   "cell_type": "code",
   "execution_count": 126,
   "metadata": {},
   "outputs": [
    {
     "data": {
      "text/plain": [
       "array([180.12, 158.11, 192.56, 232.66, 211.19, 312.09, 308.04, 201.79,\n",
       "       214.52, 162.79, 183.44, 248.48, 175.12, 159.81, 172.45, 576.91,\n",
       "       130.41, 212.69, 194.38, 196.28, 168.68, 175.77, 196.15, 184.8 ,\n",
       "       228.47, 218.45, 194.89, 208.13, 197.65, 498.79, 310.48, 243.62,\n",
       "       183.67, 176.65, 295.16, 200.2 , 171.85, 124.43, 249.96, 238.26,\n",
       "       197.13, 255.34, 148.46, 123.14, 248.45, 244.27, 188.86, 143.19,\n",
       "       149.94, 211.19, 123.21, 442.35, 221.53, 101.87, 226.36, 157.63,\n",
       "       795.43, 182.33, 226.54, 248.49, 196.85, 149.28, 163.33, 210.4 ,\n",
       "       176.01, 149.11, 313.19, 181.5 , 263.77, 237.53, 335.57, 212.68,\n",
       "       203.12, 270.32, 128.68, 165.73, 158.13, 403.43, 262.14, 326.59,\n",
       "       290.79, 178.37, 568.81, 194.24, 127.96, 226.96, 192.97, 206.1 ,\n",
       "       227.44, 148.22, 217.01, 163.01, 204.86, 184.91, 509.66, 159.66,\n",
       "       129.23, 190.06, 182.44, 349.32, 127.1 , 229.81, 149.48, 173.39,\n",
       "       271.35, 356.71, 165.47, 246.97, 212.51, 101.47, 180.82, 179.65,\n",
       "       886.49, 162.24, 494.97, 251.22, 178.12, 334.05, 445.1 , 276.14,\n",
       "       232.46, 176.65, 177.35, 810.51, 312.09, 203.84, 117.36, 328.44,\n",
       "       351.95, 401.78, 148.01, 179.09, 195.65, 206.22, 223.27, 264.53,\n",
       "       108.5 , 222.48, 140.74, 221.9 , 223.62, 249.63, 204.98, 295.02,\n",
       "       174.37, 259.67, 330.48, 251.71, 201.79, 225.95, 144.52, 107.77,\n",
       "       178.61, 211.09, 177.01, 243.95, 149.68, 326.85, 211.19, 185.25,\n",
       "       124.11, 205.72, 235.8 , 173.2 , 148.1 , 294.89, 127.81, 173.89,\n",
       "       243.62, 408.1 , 290.08, 188.07, 163.36, 109.  , 579.56, 178.97,\n",
       "       285.53, 291.33, 181.54, 152.2 , 226.86, 204.82, 210.83, 147.08,\n",
       "       211.19, 316.72, 178.29, 189.79, 160.65, 237.25, 162.09, 206.13,\n",
       "       180.14, 209.01, 346.52, 226.59, 173.73, 245.77, 339.86, 211.58,\n",
       "       141.05, 452.39, 251.18, 236.24, 177.99, 107.81, 382.11, 223.57,\n",
       "       153.52, 145.72, 542.96, 443.16, 237.87, 246.28, 116.93, 237.24,\n",
       "       586.84, 307.45, 198.13, 203.06, 149.63, 305.33, 240.64, 207.37,\n",
       "       149.27, 209.85, 288.27, 178.18, 149.5 , 144.18, 195.11, 156.25,\n",
       "       245.05, 108.13, 235.93, 192.96, 138.27, 244.03, 162.94, 140.78,\n",
       "       320.71, 329.06, 345.4 , 184.88, 144.31, 203.23, 162.35, 241.61,\n",
       "       345.92, 153.73, 219.08, 198.03, 197.2 , 189.04, 193.44, 195.11,\n",
       "       159.84, 180.12, 243.25, 349.75, 199.93, 206.52, 116.53, 188.35,\n",
       "       152.2 , 227.55, 408.38, 442.8 , 188.5 , 130.63, 234.08, 212.58,\n",
       "       202.77, 175.37, 246.  , 366.41, 224.04, 149.11, 264.65, 208.34,\n",
       "       204.78, 124.09, 143.69, 183.67, 350.27, 108.98, 228.01, 575.18,\n",
       "       344.92, 248.07, 184.15, 218.43, 179.81, 198.61, 147.49, 174.53,\n",
       "       197.15, 148.78, 196.76, 590.68, 273.39, 178.96, 351.88, 297.29,\n",
       "       187.21, 238.32, 296.55, 363.29, 211.1 , 319.84, 105.03, 184.62,\n",
       "       202.93, 332.24, 503.63, 184.82, 439.7 , 416.45, 182.77, 179.81,\n",
       "       195.69, 154.98, 123.21, 317.69, 245.63, 302.62, 173.25, 199.53,\n",
       "       172.69, 230.51, 167.92, 242.38, 264.53, 233.29, 230.51, 346.07,\n",
       "       208.82, 143.27, 195.04, 187.16, 195.09, 157.84, 199.78, 373.96,\n",
       "       234.46, 153.25, 177.64, 213.  , 176.1 , 189.2 , 141.87, 810.51,\n",
       "       218.92, 417.3 , 237.44, 211.19, 228.24, 389.42, 363.77, 250.16,\n",
       "       131.31, 219.37, 255.26, 125.83, 234.35, 244.34, 189.58, 199.91,\n",
       "       212.42, 157.87, 210.78, 207.5 , 216.33, 202.51, 253.3 , 248.43,\n",
       "       163.01, 190.06, 178.6 , 195.54, 236.54, 182.12, 432.66, 171.43,\n",
       "       165.73, 168.11, 255.24, 328.01, 184.07, 172.92, 236.12, 145.12,\n",
       "       114.88, 355.11, 220.42, 425.22, 178.55, 316.86, 163.69, 185.73,\n",
       "       207.73, 208.16, 310.62, 236.38, 199.66, 158.14, 323.  , 243.25,\n",
       "       425.65, 125.85, 466.42, 160.55, 264.57, 190.15, 184.79, 142.43,\n",
       "       109.67, 175.93, 297.2 , 391.12, 117.44, 186.29, 210.08, 487.24,\n",
       "       222.02, 143.9 , 142.16, 229.98, 157.71, 349.26, 571.52, 188.44,\n",
       "       177.35, 270.03, 311.56, 449.16, 176.  , 194.51, 220.05, 223.62,\n",
       "       198.62, 203.43, 199.35, 137.19, 226.72, 142.82, 262.49, 199.72,\n",
       "       207.96, 143.37, 231.06, 251.77, 425.65, 340.49, 143.55, 174.77,\n",
       "       213.52, 194.44, 224.81, 297.26, 237.24, 124.09, 199.87, 223.16,\n",
       "       172.28, 243.43, 157.08, 512.62, 164.04, 224.61, 247.32, 283.33,\n",
       "       533.16, 264.71, 889.55, 160.52, 162.77, 148.28, 174.44, 211.19,\n",
       "       314.94, 157.75, 159.84, 207.53, 345.51, 244.12, 154.69, 172.58,\n",
       "       145.67, 125.76, 422.98, 388.43, 287.31, 494.97, 188.44, 242.75,\n",
       "       229.94, 201.28, 134.42, 149.05, 207.96, 148.85, 269.84, 542.96,\n",
       "       375.27, 280.78, 224.08, 194.98, 178.08, 283.03, 341.96, 196.76,\n",
       "       182.13, 165.47, 287.9 , 235.6 , 206.43, 175.09, 248.46, 341.29,\n",
       "       221.39, 150.4 , 182.31, 188.32, 340.65, 170.02, 812.59, 146.64,\n",
       "       184.6 , 189.6 , 274.76, 224.78, 179.41, 290.09, 557.21, 345.02,\n",
       "       260.2 , 187.01, 231.2 , 886.97, 527.48, 262.01, 220.93, 829.22,\n",
       "       162.09, 150.32, 213.07, 142.66, 330.62, 245.8 , 154.69, 142.72,\n",
       "       397.54, 201.64, 479.63, 475.49, 158.44, 295.87, 208.84, 179.79,\n",
       "       262.14, 180.27, 159.91, 139.37, 226.46, 196.75, 389.42, 380.78,\n",
       "       343.68, 163.03, 346.75, 237.53, 202.7 , 295.25, 310.3 , 433.38,\n",
       "       167.51, 183.27, 182.64, 240.3 , 449.91, 209.55, 207.86, 214.17,\n",
       "       237.11, 171.26, 191.41, 207.53, 434.05, 175.83, 142.01, 114.88,\n",
       "       242.74, 234.16, 247.64, 257.62, 358.3 , 168.58, 188.5 , 191.  ,\n",
       "       211.19, 193.54, 266.73, 181.54, 351.95, 160.36, 179.35, 158.15,\n",
       "       146.66, 371.55, 239.44, 166.13, 214.29, 244.5 , 110.22, 537.23,\n",
       "       218.  , 148.3 , 264.53, 245.8 , 319.03, 144.07, 212.15, 149.42,\n",
       "       164.55, 311.8 , 574.25, 326.72, 568.6 , 177.59, 243.47, 283.07,\n",
       "       191.38, 221.77, 135.6 , 226.69, 222.26, 240.82, 145.64, 175.05,\n",
       "       290.14, 147.  , 768.1 , 204.3 , 556.16, 255.34, 160.55, 706.41,\n",
       "       171.11, 143.67, 189.28, 264.65, 281.33, 137.01, 160.09, 426.63,\n",
       "       152.86, 244.12, 139.33, 149.25, 263.95, 215.49, 149.11, 458.8 ,\n",
       "       248.47, 423.43, 108.98, 469.31, 271.23, 179.62, 212.26, 698.35,\n",
       "       384.72, 246.19, 369.21, 227.95, 190.15, 160.69, 197.58, 257.22,\n",
       "       145.59, 324.98, 322.31, 183.11, 128.68, 129.05, 290.33, 174.26,\n",
       "       244.34, 390.18, 458.24, 576.31, 363.28, 171.97, 236.29, 238.39,\n",
       "       278.48, 196.61, 174.48, 176.82, 180.1 , 228.7 , 174.97, 178.36,\n",
       "       520.7 , 223.29, 327.04, 181.18, 206.5 , 193.44, 179.39, 282.42,\n",
       "       167.77, 219.25, 280.5 , 155.91, 289.01, 240.19, 243.01, 195.01,\n",
       "       155.8 , 152.86, 146.48, 168.35, 170.29, 298.08, 183.16, 182.19,\n",
       "       735.55, 311.28, 177.47, 147.  , 448.51, 183.9 , 430.78, 237.44,\n",
       "       183.46, 264.23, 171.43, 227.81, 190.87, 320.21, 177.66, 205.1 ,\n",
       "       215.04, 143.8 , 174.6 , 235.07, 543.07, 143.8 , 140.27, 150.45,\n",
       "       195.02, 236.74, 174.61, 169.1 , 378.63, 165.67, 110.25, 154.28,\n",
       "       245.72, 144.18, 158.13, 168.35, 324.5 , 276.43, 162.21,  94.76,\n",
       "       193.59, 478.1 , 247.32, 143.6 , 167.1 , 175.43,  94.86, 177.57,\n",
       "       817.8 , 157.71, 250.62, 403.43, 243.89, 557.31, 409.88, 243.72,\n",
       "       205.1 , 179.42, 339.75, 262.14, 177.82, 328.55, 142.67, 186.62,\n",
       "       207.5 ,  99.04, 195.08, 192.89, 421.11, 183.78, 343.65, 213.18,\n",
       "       174.64, 238.08, 276.85, 165.47, 117.07, 212.68, 187.04, 286.95,\n",
       "       140.76, 150.83, 201.4 , 236.12, 332.72, 215.51, 159.86, 134.95,\n",
       "       141.7 , 226.67, 143.84, 248.46, 288.34, 265.21, 101.82, 325.38,\n",
       "       117.2 , 162.88, 157.75, 185.67, 201.34, 173.05, 228.05, 195.87,\n",
       "       246.45, 251.17, 147.89, 148.11, 144.25, 151.74, 225.49, 174.77,\n",
       "       197.64, 250.24])"
      ]
     },
     "execution_count": 126,
     "metadata": {},
     "output_type": "execute_result"
    }
   ],
   "source": [
    "np.round(diaria_RF, 2)"
   ]
  },
  {
   "cell_type": "code",
   "execution_count": 135,
   "metadata": {},
   "outputs": [
    {
     "data": {
      "text/plain": [
       "842"
      ]
     },
     "execution_count": 135,
     "metadata": {},
     "output_type": "execute_result"
    }
   ],
   "source": [
    "len(np.round(diaria_RF, 2))"
   ]
  },
  {
   "cell_type": "markdown",
   "metadata": {},
   "source": [
    "## Métricas"
   ]
  },
  {
   "cell_type": "code",
   "execution_count": 162,
   "metadata": {},
   "outputs": [],
   "source": [
    "def error_metrics(predict_results):\n",
    "    mse = np.mean((y_test_ - predict_results)**2)\n",
    "    mae = np.mean(abs(y_test_ - predict_results))\n",
    "    mape = 100*np.mean(abs(y_test_ - predict_results)/ y_test_)\n",
    "    print(f'Errors:')\n",
    "    print(f'MSE: {round(mse, 4)}')\n",
    "    print(f'MAE: {round(mae, 4)}')\n",
    "    print(f'MAPE: {round(mape, 4)}')"
   ]
  },
  {
   "cell_type": "code",
   "execution_count": 163,
   "metadata": {},
   "outputs": [
    {
     "name": "stdout",
     "output_type": "stream",
     "text": [
      "Errors:\n",
      "MSE: 0.0003\n",
      "MAE: 0.0109\n",
      "MAPE: 0.577\n"
     ]
    }
   ],
   "source": [
    "error_metrics(result_Dtree)"
   ]
  },
  {
   "cell_type": "code",
   "execution_count": 164,
   "metadata": {},
   "outputs": [
    {
     "name": "stdout",
     "output_type": "stream",
     "text": [
      "Errors:\n",
      "MSE: 0.0002\n",
      "MAE: 0.0097\n",
      "MAPE: 0.5112\n"
     ]
    }
   ],
   "source": [
    "error_metrics(result_RF)"
   ]
  },
  {
   "cell_type": "markdown",
   "metadata": {},
   "source": [
    "# Modelagem com Dados de Teste"
   ]
  },
  {
   "cell_type": "code",
   "execution_count": null,
   "metadata": {},
   "outputs": [],
   "source": []
  },
  {
   "cell_type": "markdown",
   "metadata": {},
   "source": [
    "Escolha do threshold e métricas"
   ]
  },
  {
   "cell_type": "markdown",
   "metadata": {},
   "source": [
    "Feature Importance"
   ]
  }
 ],
 "metadata": {
  "kernelspec": {
   "display_name": "Python 3",
   "language": "python",
   "name": "python3"
  },
  "language_info": {
   "codemirror_mode": {
    "name": "ipython",
    "version": 3
   },
   "file_extension": ".py",
   "mimetype": "text/x-python",
   "name": "python",
   "nbconvert_exporter": "python",
   "pygments_lexer": "ipython3",
   "version": "3.8.3"
  }
 },
 "nbformat": 4,
 "nbformat_minor": 4
}
