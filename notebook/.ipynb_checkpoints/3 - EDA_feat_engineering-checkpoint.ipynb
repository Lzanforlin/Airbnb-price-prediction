{
 "cells": [
  {
   "cell_type": "markdown",
   "metadata": {},
   "source": [
    "# 3. Análise Exploratória (EDA) e Feature Engineering"
   ]
  },
  {
   "cell_type": "code",
   "execution_count": 1,
   "metadata": {},
   "outputs": [],
   "source": [
    "# libs:\n",
    "import pandas as pd\n",
    "import numpy as np\n",
    "import matplotlib.pyplot as plt\n",
    "import seaborn as sns\n",
    "pd.set_option('display.max_columns',60)\n",
    "\n",
    "#Testes estatísticos\n",
    "import scipy\n",
    "from scipy.stats import stats\n",
    "import statsmodels.api as sm\n",
    "\n",
    "from feature_engine.categorical_encoders import CountFrequencyCategoricalEncoder\n",
    "from sklearn.preprocessing import MinMaxScaler\n",
    "from sklearn.compose import ColumnTransformer\n",
    "from sklearn.pipeline import Pipeline\n",
    "\n",
    "#Clusterização\n",
    "from sklearn.cluster import DBSCAN\n",
    "from sklearn.neighbors import NearestNeighbors\n",
    "from kneed import KneeLocator\n",
    "\n",
    "#fearture selection:\n",
    "from sklearn.feature_selection import f_classif, chi2\n",
    "from statsmodels.stats.outliers_influence import variance_inflation_factor\n",
    "\n",
    "import warnings\n",
    "warnings.filterwarnings(\"ignore\")"
   ]
  },
  {
   "cell_type": "markdown",
   "metadata": {},
   "source": [
    "## Dados Constantes"
   ]
  },
  {
   "cell_type": "code",
   "execution_count": 2,
   "metadata": {},
   "outputs": [],
   "source": [
    "DATA_INPUT_CLEANED = '../data/DATA_train_cleaned.csv'\n",
    "DATA_OUTPUT_TRAIN_ENG = '../data/DATA_train_eng.csv'"
   ]
  },
  {
   "cell_type": "code",
   "execution_count": 3,
   "metadata": {},
   "outputs": [],
   "source": [
    "df_train = pd.read_csv(DATA_INPUT_CLEANED)"
   ]
  },
  {
   "cell_type": "code",
   "execution_count": 4,
   "metadata": {},
   "outputs": [
    {
     "data": {
      "text/html": [
       "<div>\n",
       "<style scoped>\n",
       "    .dataframe tbody tr th:only-of-type {\n",
       "        vertical-align: middle;\n",
       "    }\n",
       "\n",
       "    .dataframe tbody tr th {\n",
       "        vertical-align: top;\n",
       "    }\n",
       "\n",
       "    .dataframe thead th {\n",
       "        text-align: right;\n",
       "    }\n",
       "</style>\n",
       "<table border=\"1\" class=\"dataframe\">\n",
       "  <thead>\n",
       "    <tr style=\"text-align: right;\">\n",
       "      <th></th>\n",
       "      <th>Unnamed: 0</th>\n",
       "      <th>ID</th>\n",
       "      <th>Check-In</th>\n",
       "      <th>Check-Out</th>\n",
       "      <th>Localização</th>\n",
       "      <th>Número Hóspedes</th>\n",
       "      <th>Número Quartos</th>\n",
       "      <th>Número Camas</th>\n",
       "      <th>Número Banheiros</th>\n",
       "      <th>Avaliação</th>\n",
       "      <th>Número Comentários</th>\n",
       "      <th>Preço/Noite</th>\n",
       "      <th>Preço com taxas</th>\n",
       "      <th>Vista para o mar</th>\n",
       "      <th>Piscina</th>\n",
       "      <th>Lava-louças</th>\n",
       "      <th>Wi-Fi</th>\n",
       "      <th>Café da Manhã</th>\n",
       "      <th>Máquina de Lavar</th>\n",
       "      <th>Estacionamento gratuito</th>\n",
       "      <th>Academia</th>\n",
       "      <th>Jacuzzi</th>\n",
       "      <th>Secadora</th>\n",
       "      <th>Entrada/saída para esquis</th>\n",
       "      <th>Cozinha</th>\n",
       "      <th>Vista para as águas</th>\n",
       "      <th>Permitido animais</th>\n",
       "      <th>Lareira interna</th>\n",
       "      <th>Ar-condicionado</th>\n",
       "      <th>Self check-In</th>\n",
       "      <th>Elevador</th>\n",
       "      <th>Novo preço mais baixo</th>\n",
       "      <th>Raridade</th>\n",
       "      <th>Banheiro Compartilhado</th>\n",
       "    </tr>\n",
       "  </thead>\n",
       "  <tbody>\n",
       "    <tr>\n",
       "      <th>0</th>\n",
       "      <td>550</td>\n",
       "      <td>39499342</td>\n",
       "      <td>2021-03-05</td>\n",
       "      <td>2021-03-07</td>\n",
       "      <td>Praia Grande</td>\n",
       "      <td>4</td>\n",
       "      <td>1</td>\n",
       "      <td>3</td>\n",
       "      <td>1</td>\n",
       "      <td>5.00</td>\n",
       "      <td>18</td>\n",
       "      <td>184.0</td>\n",
       "      <td>488.0</td>\n",
       "      <td>0</td>\n",
       "      <td>1</td>\n",
       "      <td>0</td>\n",
       "      <td>1</td>\n",
       "      <td>0</td>\n",
       "      <td>0</td>\n",
       "      <td>0</td>\n",
       "      <td>0</td>\n",
       "      <td>0</td>\n",
       "      <td>0</td>\n",
       "      <td>0</td>\n",
       "      <td>1</td>\n",
       "      <td>0</td>\n",
       "      <td>0</td>\n",
       "      <td>0</td>\n",
       "      <td>1</td>\n",
       "      <td>0</td>\n",
       "      <td>0</td>\n",
       "      <td>0</td>\n",
       "      <td>0</td>\n",
       "      <td>False</td>\n",
       "    </tr>\n",
       "    <tr>\n",
       "      <th>1</th>\n",
       "      <td>682</td>\n",
       "      <td>40945881</td>\n",
       "      <td>2021-03-19</td>\n",
       "      <td>2021-03-21</td>\n",
       "      <td>Guarujá</td>\n",
       "      <td>4</td>\n",
       "      <td>1</td>\n",
       "      <td>4</td>\n",
       "      <td>1</td>\n",
       "      <td>4.83</td>\n",
       "      <td>41</td>\n",
       "      <td>198.0</td>\n",
       "      <td>456.0</td>\n",
       "      <td>0</td>\n",
       "      <td>1</td>\n",
       "      <td>0</td>\n",
       "      <td>1</td>\n",
       "      <td>0</td>\n",
       "      <td>0</td>\n",
       "      <td>0</td>\n",
       "      <td>0</td>\n",
       "      <td>0</td>\n",
       "      <td>0</td>\n",
       "      <td>0</td>\n",
       "      <td>1</td>\n",
       "      <td>0</td>\n",
       "      <td>0</td>\n",
       "      <td>0</td>\n",
       "      <td>1</td>\n",
       "      <td>0</td>\n",
       "      <td>0</td>\n",
       "      <td>0</td>\n",
       "      <td>0</td>\n",
       "      <td>False</td>\n",
       "    </tr>\n",
       "    <tr>\n",
       "      <th>2</th>\n",
       "      <td>5224</td>\n",
       "      <td>46875225</td>\n",
       "      <td>2021-03-05</td>\n",
       "      <td>2021-03-07</td>\n",
       "      <td>Casa inteira em Parque Balneario Oasis</td>\n",
       "      <td>10</td>\n",
       "      <td>3</td>\n",
       "      <td>8</td>\n",
       "      <td>2</td>\n",
       "      <td>4.43</td>\n",
       "      <td>7</td>\n",
       "      <td>351.0</td>\n",
       "      <td>702.0</td>\n",
       "      <td>0</td>\n",
       "      <td>0</td>\n",
       "      <td>0</td>\n",
       "      <td>1</td>\n",
       "      <td>0</td>\n",
       "      <td>1</td>\n",
       "      <td>1</td>\n",
       "      <td>0</td>\n",
       "      <td>0</td>\n",
       "      <td>0</td>\n",
       "      <td>0</td>\n",
       "      <td>1</td>\n",
       "      <td>0</td>\n",
       "      <td>0</td>\n",
       "      <td>0</td>\n",
       "      <td>0</td>\n",
       "      <td>0</td>\n",
       "      <td>0</td>\n",
       "      <td>0</td>\n",
       "      <td>0</td>\n",
       "      <td>False</td>\n",
       "    </tr>\n",
       "    <tr>\n",
       "      <th>3</th>\n",
       "      <td>1172</td>\n",
       "      <td>46743206</td>\n",
       "      <td>2021-03-26</td>\n",
       "      <td>2021-03-28</td>\n",
       "      <td>Vila Tupi</td>\n",
       "      <td>4</td>\n",
       "      <td>1</td>\n",
       "      <td>2</td>\n",
       "      <td>1</td>\n",
       "      <td>4.40</td>\n",
       "      <td>5</td>\n",
       "      <td>191.0</td>\n",
       "      <td>502.0</td>\n",
       "      <td>0</td>\n",
       "      <td>0</td>\n",
       "      <td>0</td>\n",
       "      <td>1</td>\n",
       "      <td>0</td>\n",
       "      <td>0</td>\n",
       "      <td>1</td>\n",
       "      <td>0</td>\n",
       "      <td>0</td>\n",
       "      <td>0</td>\n",
       "      <td>0</td>\n",
       "      <td>1</td>\n",
       "      <td>0</td>\n",
       "      <td>1</td>\n",
       "      <td>0</td>\n",
       "      <td>0</td>\n",
       "      <td>0</td>\n",
       "      <td>0</td>\n",
       "      <td>0</td>\n",
       "      <td>0</td>\n",
       "      <td>False</td>\n",
       "    </tr>\n",
       "    <tr>\n",
       "      <th>4</th>\n",
       "      <td>3857</td>\n",
       "      <td>46866361</td>\n",
       "      <td>2021-02-26</td>\n",
       "      <td>2021-02-28</td>\n",
       "      <td>Vila Tupi</td>\n",
       "      <td>4</td>\n",
       "      <td>1</td>\n",
       "      <td>4</td>\n",
       "      <td>1</td>\n",
       "      <td>5.00</td>\n",
       "      <td>3</td>\n",
       "      <td>124.0</td>\n",
       "      <td>364.0</td>\n",
       "      <td>0</td>\n",
       "      <td>0</td>\n",
       "      <td>0</td>\n",
       "      <td>1</td>\n",
       "      <td>0</td>\n",
       "      <td>0</td>\n",
       "      <td>1</td>\n",
       "      <td>0</td>\n",
       "      <td>0</td>\n",
       "      <td>0</td>\n",
       "      <td>0</td>\n",
       "      <td>1</td>\n",
       "      <td>0</td>\n",
       "      <td>1</td>\n",
       "      <td>0</td>\n",
       "      <td>0</td>\n",
       "      <td>0</td>\n",
       "      <td>0</td>\n",
       "      <td>0</td>\n",
       "      <td>0</td>\n",
       "      <td>False</td>\n",
       "    </tr>\n",
       "  </tbody>\n",
       "</table>\n",
       "</div>"
      ],
      "text/plain": [
       "   Unnamed: 0        ID    Check-In   Check-Out  \\\n",
       "0         550  39499342  2021-03-05  2021-03-07   \n",
       "1         682  40945881  2021-03-19  2021-03-21   \n",
       "2        5224  46875225  2021-03-05  2021-03-07   \n",
       "3        1172  46743206  2021-03-26  2021-03-28   \n",
       "4        3857  46866361  2021-02-26  2021-02-28   \n",
       "\n",
       "                              Localização  Número Hóspedes  Número Quartos  \\\n",
       "0                            Praia Grande                4               1   \n",
       "1                                 Guarujá                4               1   \n",
       "2  Casa inteira em Parque Balneario Oasis               10               3   \n",
       "3                               Vila Tupi                4               1   \n",
       "4                               Vila Tupi                4               1   \n",
       "\n",
       "   Número Camas  Número Banheiros  Avaliação  Número Comentários  Preço/Noite  \\\n",
       "0             3                 1       5.00                  18        184.0   \n",
       "1             4                 1       4.83                  41        198.0   \n",
       "2             8                 2       4.43                   7        351.0   \n",
       "3             2                 1       4.40                   5        191.0   \n",
       "4             4                 1       5.00                   3        124.0   \n",
       "\n",
       "   Preço com taxas  Vista para o mar  Piscina  Lava-louças  Wi-Fi  \\\n",
       "0            488.0                 0        1            0      1   \n",
       "1            456.0                 0        1            0      1   \n",
       "2            702.0                 0        0            0      1   \n",
       "3            502.0                 0        0            0      1   \n",
       "4            364.0                 0        0            0      1   \n",
       "\n",
       "   Café da Manhã  Máquina de Lavar  Estacionamento gratuito  Academia  \\\n",
       "0              0                 0                        0         0   \n",
       "1              0                 0                        0         0   \n",
       "2              0                 1                        1         0   \n",
       "3              0                 0                        1         0   \n",
       "4              0                 0                        1         0   \n",
       "\n",
       "   Jacuzzi  Secadora  Entrada/saída para esquis  Cozinha  Vista para as águas  \\\n",
       "0        0         0                          0        1                    0   \n",
       "1        0         0                          0        1                    0   \n",
       "2        0         0                          0        1                    0   \n",
       "3        0         0                          0        1                    0   \n",
       "4        0         0                          0        1                    0   \n",
       "\n",
       "   Permitido animais  Lareira interna  Ar-condicionado  Self check-In  \\\n",
       "0                  0                0                1              0   \n",
       "1                  0                0                1              0   \n",
       "2                  0                0                0              0   \n",
       "3                  1                0                0              0   \n",
       "4                  1                0                0              0   \n",
       "\n",
       "   Elevador  Novo preço mais baixo  Raridade  Banheiro Compartilhado  \n",
       "0         0                      0         0                   False  \n",
       "1         0                      0         0                   False  \n",
       "2         0                      0         0                   False  \n",
       "3         0                      0         0                   False  \n",
       "4         0                      0         0                   False  "
      ]
     },
     "execution_count": 4,
     "metadata": {},
     "output_type": "execute_result"
    }
   ],
   "source": [
    "df_train.head()"
   ]
  },
  {
   "cell_type": "code",
   "execution_count": 5,
   "metadata": {},
   "outputs": [],
   "source": [
    "df_train = df_train.drop('Unnamed: 0', axis=1)"
   ]
  },
  {
   "cell_type": "code",
   "execution_count": 6,
   "metadata": {},
   "outputs": [
    {
     "data": {
      "text/plain": [
       "(4209, 33)"
      ]
     },
     "execution_count": 6,
     "metadata": {},
     "output_type": "execute_result"
    }
   ],
   "source": [
    "df_train.shape"
   ]
  },
  {
   "cell_type": "markdown",
   "metadata": {},
   "source": [
    "**Base de dados:**<br>\n",
    "Base de treino com 4209 observações, sendo 849 imóveis da baixada santista.<br>\n",
    "Cidades: Santos, São Vicente, Guarujá, Praia grande, Mongaguá, Itanhaém, Peruíbe e Bertioga."
   ]
  },
  {
   "cell_type": "markdown",
   "metadata": {},
   "source": [
    "# 3.1 Análise Exploratória (EDA)"
   ]
  },
  {
   "cell_type": "markdown",
   "metadata": {},
   "source": [
    "### Classificação de variáveis"
   ]
  },
  {
   "cell_type": "code",
   "execution_count": 7,
   "metadata": {},
   "outputs": [
    {
     "data": {
      "text/plain": [
       "ID                             int64\n",
       "Check-In                      object\n",
       "Check-Out                     object\n",
       "Localização                   object\n",
       "Número Hóspedes                int64\n",
       "Número Quartos                 int64\n",
       "Número Camas                   int64\n",
       "Número Banheiros               int64\n",
       "Avaliação                    float64\n",
       "Número Comentários             int64\n",
       "Preço/Noite                  float64\n",
       "Preço com taxas              float64\n",
       "Vista para o mar               int64\n",
       "Piscina                        int64\n",
       "Lava-louças                    int64\n",
       "Wi-Fi                          int64\n",
       "Café da Manhã                  int64\n",
       "Máquina de Lavar               int64\n",
       "Estacionamento gratuito        int64\n",
       "Academia                       int64\n",
       "Jacuzzi                        int64\n",
       "Secadora                       int64\n",
       "Entrada/saída para esquis      int64\n",
       "Cozinha                        int64\n",
       "Vista para as águas            int64\n",
       "Permitido animais              int64\n",
       "Lareira interna                int64\n",
       "Ar-condicionado                int64\n",
       "Self check-In                  int64\n",
       "Elevador                       int64\n",
       "Novo preço mais baixo          int64\n",
       "Raridade                       int64\n",
       "Banheiro Compartilhado          bool\n",
       "dtype: object"
      ]
     },
     "execution_count": 7,
     "metadata": {},
     "output_type": "execute_result"
    }
   ],
   "source": [
    "df_train.dtypes"
   ]
  },
  {
   "cell_type": "code",
   "execution_count": 8,
   "metadata": {},
   "outputs": [],
   "source": [
    "# Transformação de Object para dateTime\n",
    "def para_datetime(df):\n",
    "    df['Check-In'] = pd.to_datetime(df_train['Check-In'], format ='%Y-%m-%d')\n",
    "    df['Check-Out'] = pd.to_datetime(df_train['Check-Out'], format ='%Y-%m-%d')\n",
    "    return df"
   ]
  },
  {
   "cell_type": "code",
   "execution_count": 9,
   "metadata": {},
   "outputs": [],
   "source": [
    "df_train = para_datetime(df_train)"
   ]
  },
  {
   "cell_type": "code",
   "execution_count": 10,
   "metadata": {},
   "outputs": [],
   "source": [
    "col_num = ['Número Hóspedes', 'Número Quartos', 'Número Camas', 'Número Banheiros', 'Avaliação', 'Número Comentários', 'Preço com taxas']\n",
    "col_cat = ['Academia', 'Ar-condicionado', 'Cozinha', 'Elevador', 'Estacionamento gratuito', 'Máquina de Lavar', 'Permitido animais',\n",
    "                   'Piscina', 'Secadora', 'Self check-In', 'Vista para as águas', 'Vista para o mar', 'Wi-Fi', 'Café da Manhã', \n",
    "                   'Entrada/saída para esquis', 'Jacuzzi', 'Lareira interna','Lava-louças', 'Novo preço mais baixo', 'Raridade', 'Localização']\n",
    "col_date = ['Check-In', 'Check-Out']\n",
    "Target = ['Preço/Noite']"
   ]
  },
  {
   "cell_type": "code",
   "execution_count": 11,
   "metadata": {},
   "outputs": [
    {
     "name": "stdout",
     "output_type": "stream",
     "text": [
      "Total de ID únicos: 849\n"
     ]
    }
   ],
   "source": [
    "# Número de ID\n",
    "print(f'Total de ID únicos: {len(df_train[\"ID\"].unique())}')"
   ]
  },
  {
   "cell_type": "code",
   "execution_count": 12,
   "metadata": {},
   "outputs": [],
   "source": [
    "# Transformar tudo para letras maíusculas.\n",
    "\n",
    "df_train['Localização'] = df_train['Localização'].apply(lambda x: x.upper())"
   ]
  },
  {
   "cell_type": "markdown",
   "metadata": {},
   "source": [
    "## Histograma Númericas e categóricas"
   ]
  },
  {
   "cell_type": "code",
   "execution_count": 13,
   "metadata": {},
   "outputs": [
    {
     "data": {
      "image/png": "[encoded data removed]",
      "text/plain": [
       "<Figure size 432x288 with 1 Axes>"
      ]
     },
     "metadata": {
      "needs_background": "light"
     },
     "output_type": "display_data"
    },
    {
     "data": {
      "image/png": "[encoded data removed]",
      "text/plain": [
       "<Figure size 432x288 with 1 Axes>"
      ]
     },
     "metadata": {
      "needs_background": "light"
     },
     "output_type": "display_data"
    },
    {
     "data": {
      "image/png": "[encoded data removed]",
      "text/plain": [
       "<Figure size 432x288 with 1 Axes>"
      ]
     },
     "metadata": {
      "needs_background": "light"
     },
     "output_type": "display_data"
    },
    {
     "data": {
      "image/png": "[encoded data removed]",
      "text/plain": [
       "<Figure size 432x288 with 1 Axes>"
      ]
     },
     "metadata": {
      "needs_background": "light"
     },
     "output_type": "display_data"
    },
    {
     "data": {
      "image/png": "[encoded data removed]",
      "text/plain": [
       "<Figure size 432x288 with 1 Axes>"
      ]
     },
     "metadata": {
      "needs_background": "light"
     },
     "output_type": "display_data"
    },
    {
     "data": {
      "image/png": "[encoded data removed]",
      "text/plain": [
       "<Figure size 432x288 with 1 Axes>"
      ]
     },
     "metadata": {
      "needs_background": "light"
     },
     "output_type": "display_data"
    },
    {
     "data": {
      "image/png": "[encoded data removed]",
      "text/plain": [
       "<Figure size 432x288 with 1 Axes>"
      ]
     },
     "metadata": {
      "needs_background": "light"
     },
     "output_type": "display_data"
    },
    {
     "data": {
      "image/png": "[encoded data removed]",
      "text/plain": [
       "<Figure size 432x288 with 1 Axes>"
      ]
     },
     "metadata": {
      "needs_background": "light"
     },
     "output_type": "display_data"
    },
    {
     "data": {
      "image/png": "[encoded data removed]",
      "text/plain": [
       "<Figure size 432x288 with 1 Axes>"
      ]
     },
     "metadata": {
      "needs_background": "light"
     },
     "output_type": "display_data"
    },
    {
     "data": {
      "image/png": "[encoded data removed]",
      "text/plain": [
       "<Figure size 432x288 with 1 Axes>"
      ]
     },
     "metadata": {
      "needs_background": "light"
     },
     "output_type": "display_data"
    },
    {
     "data": {
      "image/png": "[encoded data removed]",
      "text/plain": [
       "<Figure size 432x288 with 1 Axes>"
      ]
     },
     "metadata": {
      "needs_background": "light"
     },
     "output_type": "display_data"
    },
    {
     "data": {
      "image/png": "[encoded data removed]",
      "text/plain": [
       "<Figure size 432x288 with 1 Axes>"
      ]
     },
     "metadata": {
      "needs_background": "light"
     },
     "output_type": "display_data"
    },
    {
     "data": {
      "image/png": "[encoded data removed]",
      "text/plain": [
       "<Figure size 432x288 with 1 Axes>"
      ]
     },
     "metadata": {
      "needs_background": "light"
     },
     "output_type": "display_data"
    },
    {
     "data": {
      "image/png": "[encoded data removed]",
      "text/plain": [
       "<Figure size 432x288 with 1 Axes>"
      ]
     },
     "metadata": {
      "needs_background": "light"
     },
     "output_type": "display_data"
    },
    {
     "data": {
      "image/png": "[encoded data removed]",
      "text/plain": [
       "<Figure size 432x288 with 1 Axes>"
      ]
     },
     "metadata": {
      "needs_background": "light"
     },
     "output_type": "display_data"
    },
    {
     "data": {
      "image/png": "[encoded data removed]",
      "text/plain": [
       "<Figure size 432x288 with 1 Axes>"
      ]
     },
     "metadata": {
      "needs_background": "light"
     },
     "output_type": "display_data"
    },
    {
     "data": {
      "image/png": "[encoded data removed]",
      "text/plain": [
       "<Figure size 432x288 with 1 Axes>"
      ]
     },
     "metadata": {
      "needs_background": "light"
     },
     "output_type": "display_data"
    },
    {
     "data": {
      "image/png": "[encoded data removed]",
      "text/plain": [
       "<Figure size 432x288 with 1 Axes>"
      ]
     },
     "metadata": {
      "needs_background": "light"
     },
     "output_type": "display_data"
    },
    {
     "data": {
      "image/png": "[encoded data removed]",
      "text/plain": [
       "<Figure size 432x288 with 1 Axes>"
      ]
     },
     "metadata": {
      "needs_background": "light"
     },
     "output_type": "display_data"
    },
    {
     "data": {
      "image/png": "[encoded data removed]",
      "text/plain": [
       "<Figure size 432x288 with 1 Axes>"
      ]
     },
     "metadata": {
      "needs_background": "light"
     },
     "output_type": "display_data"
    },
    {
     "data": {
      "image/png": "[encoded data removed]",
      "text/plain": [
       "<Figure size 432x288 with 1 Axes>"
      ]
     },
     "metadata": {
      "needs_background": "light"
     },
     "output_type": "display_data"
    },
    {
     "data": {
      "image/png": "[encoded data removed]",
      "text/plain": [
       "<Figure size 432x288 with 1 Axes>"
      ]
     },
     "metadata": {
      "needs_background": "light"
     },
     "output_type": "display_data"
    },
    {
     "data": {
      "image/png": "[encoded data removed]",
      "text/plain": [
       "<Figure size 432x288 with 1 Axes>"
      ]
     },
     "metadata": {
      "needs_background": "light"
     },
     "output_type": "display_data"
    },
    {
     "data": {
      "image/png": "[encoded data removed]",
      "text/plain": [
       "<Figure size 432x288 with 1 Axes>"
      ]
     },
     "metadata": {
      "needs_background": "light"
     },
     "output_type": "display_data"
    },
    {
     "data": {
      "image/png": "[encoded data removed]",
      "text/plain": [
       "<Figure size 432x288 with 1 Axes>"
      ]
     },
     "metadata": {
      "needs_background": "light"
     },
     "output_type": "display_data"
    },
    {
     "data": {
      "image/png": "[encoded data removed]",
      "text/plain": [
       "<Figure size 432x288 with 1 Axes>"
      ]
     },
     "metadata": {
      "needs_background": "light"
     },
     "output_type": "display_data"
    },
    {
     "data": {
      "image/png": "[encoded data removed]",
      "text/plain": [
       "<Figure size 432x288 with 1 Axes>"
      ]
     },
     "metadata": {
      "needs_background": "light"
     },
     "output_type": "display_data"
    },
    {
     "data": {
      "image/png": "[encoded data removed]",
      "text/plain": [
       "<Figure size 432x288 with 1 Axes>"
      ]
     },
     "metadata": {
      "needs_background": "light"
     },
     "output_type": "display_data"
    }
   ],
   "source": [
    "col_cat.remove('Localização')\n",
    "\n",
    "for colunas in col_num + col_cat + Target:\n",
    "    \n",
    "    plt.figure(figsize=(6, 4))\n",
    "    plt.hist(df_train[colunas])\n",
    "    \n",
    "    plt.title(f'Histograma de {colunas}', fontsize=12, fontweight='bold')\n",
    "    plt.xlabel(f'Valores de {colunas}')\n",
    "    plt.ylabel(f'Frequência')\n",
    "    \n",
    "    #plt.savefig(f'../img/hist_{colunas}.png')\n",
    "    \n",
    "    plt.show()"
   ]
  },
  {
   "cell_type": "markdown",
   "metadata": {},
   "source": [
    "**Considerações:**"
   ]
  },
  {
   "cell_type": "markdown",
   "metadata": {},
   "source": [
    "**Número de hóspedes:** Frequência entre 4 e 6 – distribuição assimétrica à direita<br>\n",
    "**Número de quartos:**  Frequência 1, seguido de 2 e 3 – distribuição assimétrica à direita<br>\n",
    "**Número de camas:** 2 é a maior frequência disparado, depois 1, 3 camas -distribuição assimétrica à direita.<br>\n",
    "**Número de banheiros:** maior frequência 1, depois bem longe 2.<br>\n",
    "**Avaliação:** distribuição assimétrica à esquerda e maior frequência de notas 5, seguidos de 4,75.<br>\n",
    "**Número de comentários:** assimétrica à direita e maior frequência 25.<br>\n",
    "**Preço com taxas:** distribuição assimétrica à direita e maior frequência de preços totais (duas diárias) entre 500 e 1000 reais.<br><br>\n",
    "**Preço/Noite:** distribuição assimétrica à direita e maior frequência na faixa de 100 a 200 reais.<br><br>\n",
    "\n",
    "**Academia:** maioria não tem. Proporção ≈ 4000/250 <br>\n",
    "**Ar-condicionado:** praticamente empatados entre ter e não.<br>\n",
    "**Cozinha:** Maioria tem. Proporção ≈ 2700/1500 <br>\n",
    "**Elevador:** Maioria não tem. Proporção ≈ 3000/1400 <br>\n",
    "**Estacionamento gratuíto:** ligeiramente maior para sim. Proporção ≈ 2400/1800 <br>\n",
    "**Máquina de lavar:** Maioria não tem. Proporção ≈ 3700/500 <br>\n",
    "**Permitidos animais:** A maioria não permite. Proporção ≈ 3500/800 <br>\n",
    "**Piscina:** A maioria não tem. Proporção ≈ 3000/1200 <br>\n",
    "**Secadora:** Imensa maioria não tem. Proporção ≈ 4000/100 <br>\n",
    "**Self check-in:** A maioria não tem. Proporção ≈ 3300/1000 <br>\n",
    "**Vista para águas:** maioria não tem. Proporção ≈ 4000/100 <br>\n",
    "**Vista para o mar:** maioria não tem. Proporção ≈ 3400/800 <br>\n",
    "**Wi-fi:** Maioria tem. Proporção ≈ 3600/500 <br>\n",
    "**Oferece café da manhã:** Não tem em 100% das observações <br>\n",
    "**Entrada e saída de esqui:** Não tem em 100% das observações <br>\n",
    "**Jacuzzi:** Não tem em praticamente 100% das observações. <br>\n",
    "**Lareira interna:** Não tem em praticamente 100% das observações <br>\n",
    "**Lava-louças:** Não tem em praticamente 100% das observações. <br>\n",
    "**Tag Preço Novo Mais baixo:** Praticamente dividido. <br>\n",
    "**Tag Raridade:** Praticamente dividido. <br>"
   ]
  },
  {
   "cell_type": "markdown",
   "metadata": {},
   "source": [
    "### Raio-X  - Imóveis mais frequentes na base de dados.\n",
    "<br>\n",
    "Imóvel localizado em Santos com capacidade de 4 a 6 hospedes, sendo 1 quarto, 2 camas, 1 banheiro, avaliação acima de 4,75 (notas de 1-5), com no máximo 25 comentários no anúncio e preço/noite na faixa entre 100 e 200 reais."
   ]
  },
  {
   "cell_type": "markdown",
   "metadata": {},
   "source": [
    "## Matriz de Correlação:"
   ]
  },
  {
   "cell_type": "code",
   "execution_count": 14,
   "metadata": {},
   "outputs": [
    {
     "data": {
      "text/plain": [
       "Preço/Noite           1.000000\n",
       "Preço com taxas       0.978862\n",
       "Número Banheiros      0.597221\n",
       "Número Quartos        0.583973\n",
       "Número Hóspedes       0.520954\n",
       "Número Camas          0.372299\n",
       "Avaliação             0.104718\n",
       "Número Comentários   -0.129706\n",
       "Name: Preço/Noite, dtype: float64"
      ]
     },
     "execution_count": 14,
     "metadata": {},
     "output_type": "execute_result"
    }
   ],
   "source": [
    "# Correção entre as variáveis numéricas\n",
    "correlacao_num = df_train[col_num + Target].corr()['Preço/Noite'].sort_values(ascending=False)\n",
    "correlacao_num"
   ]
  },
  {
   "cell_type": "code",
   "execution_count": 15,
   "metadata": {},
   "outputs": [
    {
     "data": {
      "image/png": "[encoded data removed]",
      "text/plain": [
       "<Figure size 576x432 with 2 Axes>"
      ]
     },
     "metadata": {
      "needs_background": "light"
     },
     "output_type": "display_data"
    }
   ],
   "source": [
    "# Matriz de Correlação\n",
    "\n",
    "correlacao = df_train[col_num + Target].corr()\n",
    "plt.figure(figsize=(8,6))\n",
    "sns.heatmap(correlacao, cmap=\"YlGnBu\", annot=True)\n",
    "plt.savefig(f'../img/matriz_correlacao.png')\n",
    "plt.show()"
   ]
  },
  {
   "cell_type": "code",
   "execution_count": 16,
   "metadata": {},
   "outputs": [
    {
     "name": "stdout",
     "output_type": "stream",
     "text": [
      "p-value: 6.623876109521824e-188,  correlation: 0.4288234209127937\n",
      "Existe correlação entre Número Hóspedes e ['Preço/Noite'].\n",
      "------------------------------------------------------------\n",
      "p-value: 5.19620215557542e-226,  correlation: 0.46604714774207756\n",
      "Existe correlação entre Número Quartos e ['Preço/Noite'].\n",
      "------------------------------------------------------------\n",
      "p-value: 5.751401084000197e-79,  correlation: 0.28409140272357275\n",
      "Existe correlação entre Número Camas e ['Preço/Noite'].\n",
      "------------------------------------------------------------\n",
      "p-value: 5.559706477507899e-225,  correlation: 0.4651001524381476\n",
      "Existe correlação entre Número Banheiros e ['Preço/Noite'].\n",
      "------------------------------------------------------------\n",
      "p-value: 6.461844436581712e-12,  correlation: 0.10561393105023931\n",
      "Existe correlação entre Avaliação e ['Preço/Noite'].\n",
      "------------------------------------------------------------\n",
      "p-value: 3.035135545539631e-11,  correlation: -0.10218483438753917\n",
      "Existe correlação entre Número Comentários e ['Preço/Noite'].\n",
      "------------------------------------------------------------\n"
     ]
    }
   ],
   "source": [
    "# Estatísticamente\n",
    "colunas = ['Número Hóspedes', 'Número Quartos', 'Número Camas', 'Número Banheiros', 'Avaliação', 'Número Comentários']\n",
    "correlation_features = []\n",
    "for col in colunas:\n",
    "    cor, p = stats.spearmanr(df_train[col],df_train[Target])\n",
    "    if p <= 0.5:\n",
    "        correlation_features.append(col)\n",
    "        print(f'p-value: {p},  correlation: {cor}')\n",
    "        print(f'Existe correlação entre {col} e {Target}.')\n",
    "        print('--'*30)\n",
    "    else:\n",
    "        print(f'p-value: {p},  correlation: {cor}')\n",
    "        print(f'Não há correlação entre {col} e {Target}.')\n",
    "        print('--'*30)"
   ]
  },
  {
   "cell_type": "markdown",
   "metadata": {},
   "source": [
    "**Considerações:**"
   ]
  },
  {
   "cell_type": "markdown",
   "metadata": {},
   "source": [
    "**Matriz de Correlação**<br>\n",
    "Correlações positiva em Número de banheiros, número de quartos e número de hospedes. 0.59, 0.58 e 0.52 respectivamente.<br> Seguido de Número de camas 0.37.\n",
    "Sendo assim O preço/Noite aumenta quanto maior for o número de banheiros, quartos e hospedes o que nos remete que quanto maior o imóvel mais caro será a diária dele. <br>\n",
    "<br>\n",
    "Baixa correlação em avaliação e números de comentários. Este sendo negativa. (Conforme abaixa o preço aumenta o número de comentários.\n",
    "\n",
    "**Correlação entre as features.**<br>\n",
    "Alta correlação positiva entre as variáveis número de hospedes com número de quartos, camas e banheiros, o que sustenta uma das argumentações de quanto maior estes itens maior será a diária (Preço/Noite)."
   ]
  },
  {
   "cell_type": "markdown",
   "metadata": {},
   "source": [
    "## Hipóteses"
   ]
  },
  {
   "cell_type": "code",
   "execution_count": 17,
   "metadata": {},
   "outputs": [],
   "source": [
    "atributos = ['Número Hóspedes', 'Número Quartos', 'Número Camas', 'Número Banheiros']"
   ]
  },
  {
   "cell_type": "markdown",
   "metadata": {},
   "source": [
    "### H1"
   ]
  },
  {
   "cell_type": "code",
   "execution_count": 18,
   "metadata": {},
   "outputs": [
    {
     "data": {
      "image/png": "[encoded data removed]",
      "text/plain": [
       "<Figure size 720x576 with 1 Axes>"
      ]
     },
     "metadata": {
      "needs_background": "light"
     },
     "output_type": "display_data"
    },
    {
     "data": {
      "image/png": "[encoded data removed]",
      "text/plain": [
       "<Figure size 720x576 with 1 Axes>"
      ]
     },
     "metadata": {
      "needs_background": "light"
     },
     "output_type": "display_data"
    },
    {
     "data": {
      "image/png": "[encoded data removed]",
      "text/plain": [
       "<Figure size 720x576 with 1 Axes>"
      ]
     },
     "metadata": {
      "needs_background": "light"
     },
     "output_type": "display_data"
    },
    {
     "data": {
      "image/png": "[encoded data removed]",
      "text/plain": [
       "<Figure size 720x576 with 1 Axes>"
      ]
     },
     "metadata": {
      "needs_background": "light"
     },
     "output_type": "display_data"
    }
   ],
   "source": [
    "# H1: Imóveis com maior número de atributos (número de Hospedes, Quartos, Camas e banheiro) possuem maior preço/noite maior?\n",
    "\n",
    "for colunas in atributos:\n",
    "    plt.figure(figsize=(10,8))\n",
    "    sns.boxplot(x=df_train[colunas], \n",
    "                y= 'Preço/Noite', \n",
    "                data=df_train, \n",
    "                showfliers=False)\n",
    "    \n",
    "    plt.title(f'Box Plot {colunas}')\n",
    "    plt.xlabel(colunas)\n",
    "    plt.ylabel('Preço/Noite')\n",
    "    \n",
    "    #plt.savefig(f'../img/box_plot_atributos_{colunas}.png')\n",
    "    \n",
    "    plt.show()"
   ]
  },
  {
   "cell_type": "markdown",
   "metadata": {},
   "source": [
    "**Considerações:**<br>\n",
    "Graficamente é possível ver a tendência de crescimento. Quanto maior é número desses itens maior será o preço/Noite"
   ]
  },
  {
   "cell_type": "markdown",
   "metadata": {},
   "source": [
    "### H2"
   ]
  },
  {
   "cell_type": "code",
   "execution_count": 19,
   "metadata": {},
   "outputs": [
    {
     "data": {
      "image/png": "[encoded data removed]",
      "text/plain": [
       "<Figure size 432x432 with 1 Axes>"
      ]
     },
     "metadata": {
      "needs_background": "light"
     },
     "output_type": "display_data"
    },
    {
     "data": {
      "image/png": "[encoded data removed]",
      "text/plain": [
       "<Figure size 432x432 with 1 Axes>"
      ]
     },
     "metadata": {
      "needs_background": "light"
     },
     "output_type": "display_data"
    },
    {
     "data": {
      "image/png": "[encoded data removed]",
      "text/plain": [
       "<Figure size 432x432 with 1 Axes>"
      ]
     },
     "metadata": {
      "needs_background": "light"
     },
     "output_type": "display_data"
    },
    {
     "data": {
      "image/png": "[encoded data removed]",
      "text/plain": [
       "<Figure size 432x432 with 1 Axes>"
      ]
     },
     "metadata": {
      "needs_background": "light"
     },
     "output_type": "display_data"
    },
    {
     "data": {
      "image/png": "[encoded data removed]",
      "text/plain": [
       "<Figure size 432x432 with 1 Axes>"
      ]
     },
     "metadata": {
      "needs_background": "light"
     },
     "output_type": "display_data"
    },
    {
     "data": {
      "image/png": "[encoded data removed]",
      "text/plain": [
       "<Figure size 432x432 with 1 Axes>"
      ]
     },
     "metadata": {
      "needs_background": "light"
     },
     "output_type": "display_data"
    },
    {
     "data": {
      "image/png": "[encoded data removed]",
      "text/plain": [
       "<Figure size 432x432 with 1 Axes>"
      ]
     },
     "metadata": {
      "needs_background": "light"
     },
     "output_type": "display_data"
    },
    {
     "data": {
      "image/png": "[encoded data removed]",
      "text/plain": [
       "<Figure size 432x432 with 1 Axes>"
      ]
     },
     "metadata": {
      "needs_background": "light"
     },
     "output_type": "display_data"
    },
    {
     "data": {
      "image/png": "[encoded data removed]",
      "text/plain": [
       "<Figure size 432x432 with 1 Axes>"
      ]
     },
     "metadata": {
      "needs_background": "light"
     },
     "output_type": "display_data"
    },
    {
     "data": {
      "image/png": "[encoded data removed]",
      "text/plain": [
       "<Figure size 432x432 with 1 Axes>"
      ]
     },
     "metadata": {
      "needs_background": "light"
     },
     "output_type": "display_data"
    },
    {
     "data": {
      "image/png": "[encoded data removed]",
      "text/plain": [
       "<Figure size 432x432 with 1 Axes>"
      ]
     },
     "metadata": {
      "needs_background": "light"
     },
     "output_type": "display_data"
    },
    {
     "data": {
      "image/png": "[encoded data removed]",
      "text/plain": [
       "<Figure size 432x432 with 1 Axes>"
      ]
     },
     "metadata": {
      "needs_background": "light"
     },
     "output_type": "display_data"
    },
    {
     "data": {
      "image/png": "[encoded data removed]",
      "text/plain": [
       "<Figure size 432x432 with 1 Axes>"
      ]
     },
     "metadata": {
      "needs_background": "light"
     },
     "output_type": "display_data"
    },
    {
     "data": {
      "image/png": "[encoded data removed]",
      "text/plain": [
       "<Figure size 432x432 with 1 Axes>"
      ]
     },
     "metadata": {
      "needs_background": "light"
     },
     "output_type": "display_data"
    },
    {
     "data": {
      "image/png": "[encoded data removed]",
      "text/plain": [
       "<Figure size 432x432 with 1 Axes>"
      ]
     },
     "metadata": {
      "needs_background": "light"
     },
     "output_type": "display_data"
    },
    {
     "data": {
      "image/png": "[encoded data removed]",
      "text/plain": [
       "<Figure size 432x432 with 1 Axes>"
      ]
     },
     "metadata": {
      "needs_background": "light"
     },
     "output_type": "display_data"
    },
    {
     "data": {
      "image/png": "[encoded data removed]",
      "text/plain": [
       "<Figure size 432x432 with 1 Axes>"
      ]
     },
     "metadata": {
      "needs_background": "light"
     },
     "output_type": "display_data"
    },
    {
     "data": {
      "image/png": "[encoded data removed]",
      "text/plain": [
       "<Figure size 432x432 with 1 Axes>"
      ]
     },
     "metadata": {
      "needs_background": "light"
     },
     "output_type": "display_data"
    },
    {
     "data": {
      "image/png": "[encoded data removed]",
      "text/plain": [
       "<Figure size 432x432 with 1 Axes>"
      ]
     },
     "metadata": {
      "needs_background": "light"
     },
     "output_type": "display_data"
    },
    {
     "data": {
      "image/png": "[encoded data removed]",
      "text/plain": [
       "<Figure size 432x432 with 1 Axes>"
      ]
     },
     "metadata": {
      "needs_background": "light"
     },
     "output_type": "display_data"
    }
   ],
   "source": [
    "# H2: Imóveis com Comodidades tem o preço/noite maior?\n",
    "\n",
    "for colunas in col_cat:\n",
    "    plt.figure(figsize=(6,6))\n",
    "    sns.boxplot(x=df_train[colunas], \n",
    "                y='Preço/Noite', \n",
    "                data=df_train, \n",
    "                showfliers=False)\n",
    "    \n",
    "    plt.title(f'Box Plot {colunas}')\n",
    "    plt.xlabel(colunas)\n",
    "    plt.ylabel('Preço/Noite')\n",
    "    \n",
    "    #plt.savefig(f'../img/box_plot_comodidades_{colunas}.png')\n",
    "    plt.show()"
   ]
  },
  {
   "cell_type": "markdown",
   "metadata": {},
   "source": [
    "## Testes das Hipóteses H1 e H2:"
   ]
  },
  {
   "cell_type": "code",
   "execution_count": 20,
   "metadata": {},
   "outputs": [],
   "source": [
    "def teste_t(df, features, target='0', alpha=0.05):\n",
    "    \"\"\"\n",
    "    Teste T-Student\n",
    "    df = DataFrame\n",
    "    fearures = List of columns to be tested\n",
    "    target = 'Target'\n",
    "    alpha = significance index. Default is 0.05\n",
    "    \"\"\"   \n",
    "    import scipy\n",
    "    for colunas in features:\n",
    "        true_target = df.loc[df[colunas] == 1, [target]]\n",
    "        false_target = df.loc[df[colunas]==0, [target]]\n",
    "        teste_T_result = scipy.stats.ttest_ind(true_target, false_target, equal_var=False)\n",
    "        if teste_T_result[1] < alpha:\n",
    "            print(f'{colunas}: ')\n",
    "            print(f'{teste_T_result}')\n",
    "            print(f'Não')\n",
    "            print('-'*30)\n",
    "        else:\n",
    "            print(f'{colunas}: ')\n",
    "            print(f'{teste_T_result}')\n",
    "            print(f'Sim - O preço é maior')\n",
    "            print('-'*30)"
   ]
  },
  {
   "cell_type": "code",
   "execution_count": 591,
   "metadata": {},
   "outputs": [
    {
     "name": "stdout",
     "output_type": "stream",
     "text": [
      "Número Hóspedes: \n",
      "Ttest_indResult(statistic=array([nan]), pvalue=array([nan]))\n",
      "Sim - O preço é maior\n",
      "------------------------------\n",
      "Número Quartos: \n",
      "Ttest_indResult(statistic=array([nan]), pvalue=array([nan]))\n",
      "Sim - O preço é maior\n",
      "------------------------------\n",
      "Número Camas: \n",
      "Ttest_indResult(statistic=array([0.20198042]), pvalue=array([0.84178474]))\n",
      "Sim - O preço é maior\n",
      "------------------------------\n",
      "Número Banheiros: \n",
      "Ttest_indResult(statistic=array([-0.41358328]), pvalue=array([0.67920837]))\n",
      "Sim - O preço é maior\n",
      "------------------------------\n"
     ]
    }
   ],
   "source": [
    "# H1: Imóveis com maior número de atributos (número de Hospesdes, Quartos, Camas e banheiro) possuem maior preço/noite maior?\n",
    "teste_t(df_train, atributos, target='Preço/Noite')"
   ]
  },
  {
   "cell_type": "markdown",
   "metadata": {},
   "source": [
    "**Considerações:**<br>\n",
    "É estatisticamente comprovado pelo teste t-student de que quanto maior for o tamanho do imóvel maior será o preço dele."
   ]
  },
  {
   "cell_type": "code",
   "execution_count": 21,
   "metadata": {},
   "outputs": [
    {
     "name": "stdout",
     "output_type": "stream",
     "text": [
      "Academia: \n",
      "Ttest_indResult(statistic=array([-2.04011699]), pvalue=array([0.04266947]))\n",
      "Não\n",
      "------------------------------\n",
      "Ar-condicionado: \n",
      "Ttest_indResult(statistic=array([1.9791777]), pvalue=array([0.04786125]))\n",
      "Não\n",
      "------------------------------\n",
      "Cozinha: \n",
      "Ttest_indResult(statistic=array([4.1373094]), pvalue=array([3.59416842e-05]))\n",
      "Não\n",
      "------------------------------\n",
      "Elevador: \n",
      "Ttest_indResult(statistic=array([-17.06749817]), pvalue=array([5.08097563e-63]))\n",
      "Não\n",
      "------------------------------\n",
      "Estacionamento gratuito: \n",
      "Ttest_indResult(statistic=array([-0.90894358]), pvalue=array([0.36343889]))\n",
      "Sim - O preço é maior\n",
      "------------------------------\n",
      "Máquina de Lavar: \n",
      "Ttest_indResult(statistic=array([-1.24409889]), pvalue=array([0.21396324]))\n",
      "Sim - O preço é maior\n",
      "------------------------------\n",
      "Permitido animais: \n",
      "Ttest_indResult(statistic=array([-11.28474957]), pvalue=array([5.30645242e-28]))\n",
      "Não\n",
      "------------------------------\n",
      "Piscina: \n",
      "Ttest_indResult(statistic=array([19.40450262]), pvalue=array([3.35987321e-75]))\n",
      "Não\n",
      "------------------------------\n",
      "Secadora: \n",
      "Ttest_indResult(statistic=array([1.91078605]), pvalue=array([0.05745774]))\n",
      "Sim - O preço é maior\n",
      "------------------------------\n",
      "Self check-In: \n",
      "Ttest_indResult(statistic=array([-9.72963491]), pvalue=array([5.59752902e-22]))\n",
      "Não\n",
      "------------------------------\n",
      "Vista para as águas: \n",
      "Ttest_indResult(statistic=array([-1.15786276]), pvalue=array([0.24810592]))\n",
      "Sim - O preço é maior\n",
      "------------------------------\n",
      "Vista para o mar: \n",
      "Ttest_indResult(statistic=array([-8.80590041]), pvalue=array([3.70878473e-18]))\n",
      "Não\n",
      "------------------------------\n",
      "Wi-Fi: \n",
      "Ttest_indResult(statistic=array([6.87587315]), pvalue=array([1.29321065e-11]))\n",
      "Não\n",
      "------------------------------\n",
      "Café da Manhã: \n",
      "Ttest_indResult(statistic=array([-5.77656846]), pvalue=array([6.15574438e-06]))\n",
      "Não\n",
      "------------------------------\n",
      "Entrada/saída para esquis: \n",
      "Ttest_indResult(statistic=array([-0.26163455]), pvalue=array([0.81050166]))\n",
      "Sim - O preço é maior\n",
      "------------------------------\n",
      "Jacuzzi: \n",
      "Ttest_indResult(statistic=array([7.11528731]), pvalue=array([1.36042142e-09]))\n",
      "Não\n",
      "------------------------------\n",
      "Lareira interna: \n",
      "Ttest_indResult(statistic=array([5.75807653]), pvalue=array([0.00027015]))\n",
      "Não\n",
      "------------------------------\n",
      "Lava-louças: \n",
      "Ttest_indResult(statistic=array([2.18167626]), pvalue=array([0.04971726]))\n",
      "Não\n",
      "------------------------------\n",
      "Novo preço mais baixo: \n",
      "Ttest_indResult(statistic=array([nan]), pvalue=array([nan]))\n",
      "Sim - O preço é maior\n",
      "------------------------------\n",
      "Raridade: \n",
      "Ttest_indResult(statistic=array([nan]), pvalue=array([nan]))\n",
      "Sim - O preço é maior\n",
      "------------------------------\n"
     ]
    }
   ],
   "source": [
    "# H2: Imóveis com Comodidades tem o preço/noite maior? \n",
    "teste_t(df_train, col_cat, target='Preço/Noite')"
   ]
  },
  {
   "cell_type": "markdown",
   "metadata": {},
   "source": [
    "**Considerações do teste:**<br>\n",
    "Academia, Ar-condicionado, cozinha, elevador, permitido animais, piscina, self- Check-In, Vista para o mar, wi-fi, café da manhã, Jacuzzi, lareira interna e lava-louças. Não possuem a diária maior (Preço/Noite) estatisticamente de acordo com o teste t-student.\n",
    "<br><br>\n",
    "Estacionamento gratuito, máquina de lavar, secadora, vista para águas, entrada/saída para esquis, Tag novo preço mais baixo e Raridade. Possuem o preço maior (Preço/Noite) estatisticamente de acordo com o teste t-student.<br>\n",
    "\n",
    "**Observação:**<br>\n",
    "Piscina, Wi-fi, Jacuzzi e Lava-louças embora graficamente apontaram como tendo maior preço/noite, elas não foram estatisticamente significantes no teste t-student.\n",
    "<br><br>\n",
    "Vamos entender o porquê de vista para águas tem o preço mais alto do que vista para o mar. \n",
    "Graficamente: Na vista para o mar. A caixa que possui maior tanho e maior cauda é aquela que o preço é menor. Em relação a vista para águas. O tamanho das caixas e a cauda são parecidos.\n",
    "<br>\n",
    "Neste caso o ideal seria agrupar as duas fatures. E testar novamente para saber se ter água a frente influencia no preço/noite."
   ]
  },
  {
   "cell_type": "markdown",
   "metadata": {},
   "source": [
    "## H3 - Localização"
   ]
  },
  {
   "cell_type": "code",
   "execution_count": 22,
   "metadata": {},
   "outputs": [
    {
     "data": {
      "text/plain": [
       "210"
      ]
     },
     "execution_count": 22,
     "metadata": {},
     "output_type": "execute_result"
    }
   ],
   "source": [
    "len(df_train['Localização'].unique())"
   ]
  },
  {
   "cell_type": "code",
   "execution_count": 24,
   "metadata": {},
   "outputs": [
    {
     "data": {
      "image/png": "[encoded data removed]",
      "text/plain": [
       "<Figure size 864x576 with 1 Axes>"
      ]
     },
     "metadata": {
      "needs_background": "light"
     },
     "output_type": "display_data"
    }
   ],
   "source": [
    "# vmmos observar a distribuição:\n",
    "plt.figure(figsize=(12,8))\n",
    "df_train['Localização'].hist()\n",
    "plt.show()"
   ]
  },
  {
   "cell_type": "code",
   "execution_count": 25,
   "metadata": {},
   "outputs": [
    {
     "data": {
      "text/plain": [
       "SANTOS                                           374\n",
       "JOSÉ MENINO                                      266\n",
       "GONZAGA                                          240\n",
       "CENTRO                                           219\n",
       "GUARUJÁ                                          180\n",
       "                                                ... \n",
       "MUNICÍPIO DE PRAIA GRANDE                          1\n",
       "CASA INTEIRA EM JARDIM LUCIANA                     1\n",
       "CASA INTEIRA EM BALNEARIO PRAIA DO PERNAMBUCO      1\n",
       "CASA DE CAMPO INTEIRA EM CENTRO                    1\n",
       "JARDIM DOS PASSAROS                                1\n",
       "Name: Localização, Length: 210, dtype: int64"
      ]
     },
     "execution_count": 25,
     "metadata": {},
     "output_type": "execute_result"
    }
   ],
   "source": [
    "df_train['Localização'].value_counts()"
   ]
  },
  {
   "cell_type": "markdown",
   "metadata": {},
   "source": [
    "Para facilitar, vamos transformar essa variável categórica em frequência.\n",
    "**Neste caso teremos pontos com maior concentração**"
   ]
  },
  {
   "cell_type": "code",
   "execution_count": 26,
   "metadata": {},
   "outputs": [],
   "source": [
    "# Usando o transformador de Frequency Encounder.\n",
    "cfce = CountFrequencyCategoricalEncoder(encoding_method='frequency', variables=['Localização'])"
   ]
  },
  {
   "cell_type": "code",
   "execution_count": 27,
   "metadata": {},
   "outputs": [],
   "source": [
    "df_train_transf = cfce.fit_transform(df_train)"
   ]
  },
  {
   "cell_type": "code",
   "execution_count": 28,
   "metadata": {},
   "outputs": [
    {
     "data": {
      "image/png": "[encoded data removed]",
      "text/plain": [
       "<Figure size 576x432 with 1 Axes>"
      ]
     },
     "metadata": {
      "needs_background": "light"
     },
     "output_type": "display_data"
    }
   ],
   "source": [
    "plt.figure(figsize=(8,6))\n",
    "df_train_transf['Localização'].hist()\n",
    "plt.show()"
   ]
  },
  {
   "cell_type": "markdown",
   "metadata": {},
   "source": [
    "Agora é posível ver melhor a sua distribuição.<br>\n",
    "Temos um local de maior concentração e depois alguns outros locais. Seria possível dizer que pode até haver duas modas."
   ]
  },
  {
   "cell_type": "code",
   "execution_count": 29,
   "metadata": {},
   "outputs": [
    {
     "data": {
      "text/plain": [
       "Localização   -0.102477\n",
       "Preço/Noite    1.000000\n",
       "Name: Preço/Noite, dtype: float64"
      ]
     },
     "execution_count": 29,
     "metadata": {},
     "output_type": "execute_result"
    }
   ],
   "source": [
    "# H3: Existe Correlação entre a localização e o Preço/Noite?\n",
    "local = ['Localização', 'Preço/Noite']\n",
    "correlacao_local = df_train_transf[local].corr()['Preço/Noite']\n",
    "correlacao_local"
   ]
  },
  {
   "cell_type": "code",
   "execution_count": 30,
   "metadata": {},
   "outputs": [
    {
     "name": "stdout",
     "output_type": "stream",
     "text": [
      "p-value: 4.3741112668780545e-08,  correlation: -0.08426624393023412\n",
      "Existe correlação.\n"
     ]
    }
   ],
   "source": [
    "# vamos testar estatísticamente:\n",
    "cor, p = stats.spearmanr(df_train_transf['Localização'],df_train_transf['Preço/Noite'])\n",
    "if p <= 0.5:\n",
    "    print(f'p-value: {p},  correlation: {cor}')\n",
    "    print(f'Existe correlação.')\n",
    "else:\n",
    "    print(f'p-value: {p},  correlation: {cor}')\n",
    "    print(f'Não há correlação.')"
   ]
  },
  {
   "cell_type": "markdown",
   "metadata": {},
   "source": [
    "**Considerações:**<br>\n",
    "É possível observar que 95% de confiança que o preço/noite tende a ser menor em locais com maior concentração de imóveis disponíveis. <br>\n",
    "Ou seja, quanto maior a oferta menor o preço."
   ]
  },
  {
   "cell_type": "markdown",
   "metadata": {},
   "source": [
    "**Feature Engineering:**<br>\n",
    "Criar uma coluna sinalizando se o local tem alta demanda naquele local."
   ]
  },
  {
   "cell_type": "markdown",
   "metadata": {},
   "source": [
    "## Comportamento Preço/Noite ao longo do período de coleta"
   ]
  },
  {
   "cell_type": "code",
   "execution_count": 31,
   "metadata": {},
   "outputs": [
    {
     "data": {
      "image/png": "[encoded data removed]",
      "text/plain": [
       "<Figure size 432x288 with 1 Axes>"
      ]
     },
     "metadata": {
      "needs_background": "light"
     },
     "output_type": "display_data"
    }
   ],
   "source": [
    "df_train.pivot_table(values='Preço/Noite', columns='Check-In',aggfunc='mean').T.plot()\n",
    "plt.show()"
   ]
  },
  {
   "cell_type": "code",
   "execution_count": 32,
   "metadata": {},
   "outputs": [],
   "source": [
    "# Primeiro, vamos gerar um dataframe agrupado por mês, com a média, desvio padrão, min e máximo.\n",
    "df_preco_medio = df_train.groupby('Check-In').agg(Mean = ('Preço/Noite', 'mean'),\n",
    "                                            Desvio = ('Preço/Noite', 'std'),\n",
    "                                             Median = ('Preço/Noite', 'median'),\n",
    "                                             Min = ('Preço/Noite', 'min'),\n",
    "                                             Max = ('Preço/Noite', 'max')).reset_index()"
   ]
  },
  {
   "cell_type": "code",
   "execution_count": 33,
   "metadata": {},
   "outputs": [
    {
     "data": {
      "text/html": [
       "<div>\n",
       "<style scoped>\n",
       "    .dataframe tbody tr th:only-of-type {\n",
       "        vertical-align: middle;\n",
       "    }\n",
       "\n",
       "    .dataframe tbody tr th {\n",
       "        vertical-align: top;\n",
       "    }\n",
       "\n",
       "    .dataframe thead th {\n",
       "        text-align: right;\n",
       "    }\n",
       "</style>\n",
       "<table border=\"1\" class=\"dataframe\">\n",
       "  <thead>\n",
       "    <tr style=\"text-align: right;\">\n",
       "      <th></th>\n",
       "      <th>Check-In</th>\n",
       "      <th>Mean</th>\n",
       "      <th>Desvio</th>\n",
       "      <th>Median</th>\n",
       "      <th>Min</th>\n",
       "      <th>Max</th>\n",
       "    </tr>\n",
       "  </thead>\n",
       "  <tbody>\n",
       "    <tr>\n",
       "      <th>0</th>\n",
       "      <td>2021-01-29</td>\n",
       "      <td>292.918367</td>\n",
       "      <td>146.781098</td>\n",
       "      <td>263.0</td>\n",
       "      <td>117.0</td>\n",
       "      <td>975.0</td>\n",
       "    </tr>\n",
       "    <tr>\n",
       "      <th>1</th>\n",
       "      <td>2021-02-12</td>\n",
       "      <td>317.579832</td>\n",
       "      <td>190.984591</td>\n",
       "      <td>264.0</td>\n",
       "      <td>119.0</td>\n",
       "      <td>1495.0</td>\n",
       "    </tr>\n",
       "    <tr>\n",
       "      <th>2</th>\n",
       "      <td>2021-02-19</td>\n",
       "      <td>293.511952</td>\n",
       "      <td>171.692894</td>\n",
       "      <td>242.5</td>\n",
       "      <td>94.0</td>\n",
       "      <td>1472.0</td>\n",
       "    </tr>\n",
       "    <tr>\n",
       "      <th>3</th>\n",
       "      <td>2021-02-26</td>\n",
       "      <td>271.535787</td>\n",
       "      <td>150.647629</td>\n",
       "      <td>232.0</td>\n",
       "      <td>82.0</td>\n",
       "      <td>989.0</td>\n",
       "    </tr>\n",
       "    <tr>\n",
       "      <th>4</th>\n",
       "      <td>2021-03-05</td>\n",
       "      <td>249.417112</td>\n",
       "      <td>150.699609</td>\n",
       "      <td>206.0</td>\n",
       "      <td>87.0</td>\n",
       "      <td>1106.0</td>\n",
       "    </tr>\n",
       "    <tr>\n",
       "      <th>5</th>\n",
       "      <td>2021-03-12</td>\n",
       "      <td>236.064298</td>\n",
       "      <td>132.816514</td>\n",
       "      <td>201.0</td>\n",
       "      <td>87.0</td>\n",
       "      <td>952.0</td>\n",
       "    </tr>\n",
       "    <tr>\n",
       "      <th>6</th>\n",
       "      <td>2021-03-19</td>\n",
       "      <td>247.151822</td>\n",
       "      <td>147.743416</td>\n",
       "      <td>210.0</td>\n",
       "      <td>82.0</td>\n",
       "      <td>952.0</td>\n",
       "    </tr>\n",
       "    <tr>\n",
       "      <th>7</th>\n",
       "      <td>2021-03-26</td>\n",
       "      <td>242.226601</td>\n",
       "      <td>141.023484</td>\n",
       "      <td>203.0</td>\n",
       "      <td>69.0</td>\n",
       "      <td>1106.0</td>\n",
       "    </tr>\n",
       "    <tr>\n",
       "      <th>8</th>\n",
       "      <td>2021-04-02</td>\n",
       "      <td>191.443478</td>\n",
       "      <td>59.600894</td>\n",
       "      <td>183.0</td>\n",
       "      <td>86.0</td>\n",
       "      <td>365.0</td>\n",
       "    </tr>\n",
       "    <tr>\n",
       "      <th>9</th>\n",
       "      <td>2021-04-09</td>\n",
       "      <td>204.313869</td>\n",
       "      <td>76.732801</td>\n",
       "      <td>183.0</td>\n",
       "      <td>108.0</td>\n",
       "      <td>545.0</td>\n",
       "    </tr>\n",
       "    <tr>\n",
       "      <th>10</th>\n",
       "      <td>2021-04-16</td>\n",
       "      <td>215.535714</td>\n",
       "      <td>82.505575</td>\n",
       "      <td>187.0</td>\n",
       "      <td>108.0</td>\n",
       "      <td>488.0</td>\n",
       "    </tr>\n",
       "    <tr>\n",
       "      <th>11</th>\n",
       "      <td>2021-04-23</td>\n",
       "      <td>212.416058</td>\n",
       "      <td>86.314459</td>\n",
       "      <td>187.0</td>\n",
       "      <td>86.0</td>\n",
       "      <td>503.0</td>\n",
       "    </tr>\n",
       "    <tr>\n",
       "      <th>12</th>\n",
       "      <td>2021-04-30</td>\n",
       "      <td>208.678571</td>\n",
       "      <td>76.859204</td>\n",
       "      <td>200.5</td>\n",
       "      <td>105.0</td>\n",
       "      <td>347.0</td>\n",
       "    </tr>\n",
       "  </tbody>\n",
       "</table>\n",
       "</div>"
      ],
      "text/plain": [
       "     Check-In        Mean      Desvio  Median    Min     Max\n",
       "0  2021-01-29  292.918367  146.781098   263.0  117.0   975.0\n",
       "1  2021-02-12  317.579832  190.984591   264.0  119.0  1495.0\n",
       "2  2021-02-19  293.511952  171.692894   242.5   94.0  1472.0\n",
       "3  2021-02-26  271.535787  150.647629   232.0   82.0   989.0\n",
       "4  2021-03-05  249.417112  150.699609   206.0   87.0  1106.0\n",
       "5  2021-03-12  236.064298  132.816514   201.0   87.0   952.0\n",
       "6  2021-03-19  247.151822  147.743416   210.0   82.0   952.0\n",
       "7  2021-03-26  242.226601  141.023484   203.0   69.0  1106.0\n",
       "8  2021-04-02  191.443478   59.600894   183.0   86.0   365.0\n",
       "9  2021-04-09  204.313869   76.732801   183.0  108.0   545.0\n",
       "10 2021-04-16  215.535714   82.505575   187.0  108.0   488.0\n",
       "11 2021-04-23  212.416058   86.314459   187.0   86.0   503.0\n",
       "12 2021-04-30  208.678571   76.859204   200.5  105.0   347.0"
      ]
     },
     "execution_count": 33,
     "metadata": {},
     "output_type": "execute_result"
    }
   ],
   "source": [
    "df_preco_medio"
   ]
  },
  {
   "cell_type": "code",
   "execution_count": 34,
   "metadata": {},
   "outputs": [
    {
     "data": {
      "image/png": "[encoded data removed]",
      "text/plain": [
       "<Figure size 1152x288 with 1 Axes>"
      ]
     },
     "metadata": {
      "needs_background": "light"
     },
     "output_type": "display_data"
    }
   ],
   "source": [
    "plt.figure(figsize=(16, 4))\n",
    "\n",
    "#faz o plot da linha\n",
    "plt.plot(df_preco_medio['Check-In'],\n",
    "        df_preco_medio['Mean'],\n",
    "        'o-',\n",
    "        label='Média')\n",
    "\n",
    "plt.plot(df_preco_medio['Check-In'],\n",
    "        df_preco_medio['Desvio'],\n",
    "        'o--',\n",
    "        label='Desvio')\n",
    "\n",
    "# Adiciona títulos\n",
    "plt.title(\n",
    "    'Gráfico da média e desvio-padrão Preço/Noite no período',\n",
    "    fontsize=15,\n",
    "    fontweight='bold')\n",
    "\n",
    "plt.xlabel('Check-In')\n",
    "plt.ylabel('Valor de Preço/Noite (R$)')\n",
    "\n",
    "plt.legend()\n",
    "\n",
    "plt.savefig(f'../img/media_preço_noite_por_periodo.png')\n",
    "\n",
    "plt.show()"
   ]
  },
  {
   "cell_type": "markdown",
   "metadata": {},
   "source": [
    "**Considerações**"
   ]
  },
  {
   "cell_type": "markdown",
   "metadata": {},
   "source": [
    "É possível notar uma queda acentuada no dia 02/04 - motivo - Feriado Sexta-feira Santa.<br>\n",
    "Não é possível afirmar pois faltam mais dados de outros períodos, mas sendo o check-in no dia do feriado o preço a priori seria menor.\n",
    "<br><br>\n",
    "Considerando ser uma região litoranea, o preços podem ser mais altos na meses mais quentes do ano.<br>\n",
    "Verão: Janeiro, Fevereiro e Março"
   ]
  },
  {
   "cell_type": "markdown",
   "metadata": {},
   "source": [
    "### Lista de Feriados"
   ]
  },
  {
   "cell_type": "code",
   "execution_count": 35,
   "metadata": {},
   "outputs": [],
   "source": [
    "# Importar lista de feriados\n",
    "df_feriados = pd.read_csv('../data/feriados_nacionais_2021.csv', sep=';')"
   ]
  },
  {
   "cell_type": "code",
   "execution_count": 36,
   "metadata": {},
   "outputs": [
    {
     "data": {
      "text/html": [
       "<div>\n",
       "<style scoped>\n",
       "    .dataframe tbody tr th:only-of-type {\n",
       "        vertical-align: middle;\n",
       "    }\n",
       "\n",
       "    .dataframe tbody tr th {\n",
       "        vertical-align: top;\n",
       "    }\n",
       "\n",
       "    .dataframe thead th {\n",
       "        text-align: right;\n",
       "    }\n",
       "</style>\n",
       "<table border=\"1\" class=\"dataframe\">\n",
       "  <thead>\n",
       "    <tr style=\"text-align: right;\">\n",
       "      <th></th>\n",
       "      <th>data</th>\n",
       "      <th>evento</th>\n",
       "      <th>status</th>\n",
       "    </tr>\n",
       "  </thead>\n",
       "  <tbody>\n",
       "    <tr>\n",
       "      <th>0</th>\n",
       "      <td>2021-01-01</td>\n",
       "      <td>Ano Novo</td>\n",
       "      <td>feriado nacional</td>\n",
       "    </tr>\n",
       "    <tr>\n",
       "      <th>1</th>\n",
       "      <td>2021-02-15</td>\n",
       "      <td>Carnaval</td>\n",
       "      <td>ponto facultativo</td>\n",
       "    </tr>\n",
       "    <tr>\n",
       "      <th>2</th>\n",
       "      <td>2021-02-16</td>\n",
       "      <td>Carnaval</td>\n",
       "      <td>ponto facultativo</td>\n",
       "    </tr>\n",
       "    <tr>\n",
       "      <th>3</th>\n",
       "      <td>2021-02-17</td>\n",
       "      <td>Quarta-feira de Cinzas</td>\n",
       "      <td>ponto facultativo</td>\n",
       "    </tr>\n",
       "    <tr>\n",
       "      <th>4</th>\n",
       "      <td>2021-04-02</td>\n",
       "      <td>Sexta-Feira Santa</td>\n",
       "      <td>feriado nacional</td>\n",
       "    </tr>\n",
       "    <tr>\n",
       "      <th>5</th>\n",
       "      <td>2021-04-21</td>\n",
       "      <td>Tiradentes</td>\n",
       "      <td>feriado nacional</td>\n",
       "    </tr>\n",
       "    <tr>\n",
       "      <th>6</th>\n",
       "      <td>2021-05-01</td>\n",
       "      <td>Dia Mundial do Trabalho</td>\n",
       "      <td>feriado nacional</td>\n",
       "    </tr>\n",
       "    <tr>\n",
       "      <th>7</th>\n",
       "      <td>2021-06-03</td>\n",
       "      <td>Corpus Christi</td>\n",
       "      <td>feriado nacional</td>\n",
       "    </tr>\n",
       "    <tr>\n",
       "      <th>8</th>\n",
       "      <td>2021-09-07</td>\n",
       "      <td>Independência do Brasil</td>\n",
       "      <td>feriado nacional</td>\n",
       "    </tr>\n",
       "    <tr>\n",
       "      <th>9</th>\n",
       "      <td>2021-10-12</td>\n",
       "      <td>Nossa Senhora Aparecida</td>\n",
       "      <td>feriado nacional</td>\n",
       "    </tr>\n",
       "    <tr>\n",
       "      <th>10</th>\n",
       "      <td>2021-11-02</td>\n",
       "      <td>Finados</td>\n",
       "      <td>feriado nacional</td>\n",
       "    </tr>\n",
       "    <tr>\n",
       "      <th>11</th>\n",
       "      <td>2021-11-15</td>\n",
       "      <td>Proclamação da República</td>\n",
       "      <td>feriado nacional</td>\n",
       "    </tr>\n",
       "    <tr>\n",
       "      <th>12</th>\n",
       "      <td>2021-12-24</td>\n",
       "      <td>Véspera de Natal</td>\n",
       "      <td>ponto facultativo</td>\n",
       "    </tr>\n",
       "    <tr>\n",
       "      <th>13</th>\n",
       "      <td>2021-12-25</td>\n",
       "      <td>Natal</td>\n",
       "      <td>feriado nacional</td>\n",
       "    </tr>\n",
       "    <tr>\n",
       "      <th>14</th>\n",
       "      <td>2021-12-31</td>\n",
       "      <td>Véspera de Ano Novo</td>\n",
       "      <td>ponto facultativo</td>\n",
       "    </tr>\n",
       "  </tbody>\n",
       "</table>\n",
       "</div>"
      ],
      "text/plain": [
       "          data                    evento             status\n",
       "0   2021-01-01                  Ano Novo   feriado nacional\n",
       "1   2021-02-15                  Carnaval  ponto facultativo\n",
       "2   2021-02-16                  Carnaval  ponto facultativo\n",
       "3   2021-02-17    Quarta-feira de Cinzas  ponto facultativo\n",
       "4   2021-04-02         Sexta-Feira Santa   feriado nacional\n",
       "5   2021-04-21                Tiradentes   feriado nacional\n",
       "6   2021-05-01   Dia Mundial do Trabalho   feriado nacional\n",
       "7   2021-06-03            Corpus Christi   feriado nacional\n",
       "8   2021-09-07   Independência do Brasil   feriado nacional\n",
       "9   2021-10-12   Nossa Senhora Aparecida   feriado nacional\n",
       "10  2021-11-02                   Finados   feriado nacional\n",
       "11  2021-11-15  Proclamação da República   feriado nacional\n",
       "12  2021-12-24          Véspera de Natal  ponto facultativo\n",
       "13  2021-12-25                     Natal   feriado nacional\n",
       "14  2021-12-31       Véspera de Ano Novo  ponto facultativo"
      ]
     },
     "execution_count": 36,
     "metadata": {},
     "output_type": "execute_result"
    }
   ],
   "source": [
    "df_feriados"
   ]
  },
  {
   "cell_type": "code",
   "execution_count": 37,
   "metadata": {},
   "outputs": [],
   "source": [
    "def transform_holiday_table(df):\n",
    "    df.replace({'feriado nacional' : '1', 'ponto facultativo': '1'}, inplace=True)\n",
    "    df.rename(columns={'status': 'É_feriado'}, inplace=True)\n",
    "    df.rename(columns={'data': 'Check-In' }, inplace=True)\n",
    "    df['Check-In'] = pd.to_datetime(df_feriados['Check-In'], format ='%Y-%m-%d')\n",
    "    return df"
   ]
  },
  {
   "cell_type": "code",
   "execution_count": 38,
   "metadata": {},
   "outputs": [
    {
     "data": {
      "text/html": [
       "<div>\n",
       "<style scoped>\n",
       "    .dataframe tbody tr th:only-of-type {\n",
       "        vertical-align: middle;\n",
       "    }\n",
       "\n",
       "    .dataframe tbody tr th {\n",
       "        vertical-align: top;\n",
       "    }\n",
       "\n",
       "    .dataframe thead th {\n",
       "        text-align: right;\n",
       "    }\n",
       "</style>\n",
       "<table border=\"1\" class=\"dataframe\">\n",
       "  <thead>\n",
       "    <tr style=\"text-align: right;\">\n",
       "      <th></th>\n",
       "      <th>Check-In</th>\n",
       "      <th>evento</th>\n",
       "      <th>É_feriado</th>\n",
       "    </tr>\n",
       "  </thead>\n",
       "  <tbody>\n",
       "    <tr>\n",
       "      <th>0</th>\n",
       "      <td>2021-01-01</td>\n",
       "      <td>Ano Novo</td>\n",
       "      <td>1</td>\n",
       "    </tr>\n",
       "    <tr>\n",
       "      <th>1</th>\n",
       "      <td>2021-02-15</td>\n",
       "      <td>Carnaval</td>\n",
       "      <td>1</td>\n",
       "    </tr>\n",
       "    <tr>\n",
       "      <th>2</th>\n",
       "      <td>2021-02-16</td>\n",
       "      <td>Carnaval</td>\n",
       "      <td>1</td>\n",
       "    </tr>\n",
       "    <tr>\n",
       "      <th>3</th>\n",
       "      <td>2021-02-17</td>\n",
       "      <td>Quarta-feira de Cinzas</td>\n",
       "      <td>1</td>\n",
       "    </tr>\n",
       "    <tr>\n",
       "      <th>4</th>\n",
       "      <td>2021-04-02</td>\n",
       "      <td>Sexta-Feira Santa</td>\n",
       "      <td>1</td>\n",
       "    </tr>\n",
       "    <tr>\n",
       "      <th>5</th>\n",
       "      <td>2021-04-21</td>\n",
       "      <td>Tiradentes</td>\n",
       "      <td>1</td>\n",
       "    </tr>\n",
       "    <tr>\n",
       "      <th>6</th>\n",
       "      <td>2021-05-01</td>\n",
       "      <td>Dia Mundial do Trabalho</td>\n",
       "      <td>1</td>\n",
       "    </tr>\n",
       "    <tr>\n",
       "      <th>7</th>\n",
       "      <td>2021-06-03</td>\n",
       "      <td>Corpus Christi</td>\n",
       "      <td>1</td>\n",
       "    </tr>\n",
       "    <tr>\n",
       "      <th>8</th>\n",
       "      <td>2021-09-07</td>\n",
       "      <td>Independência do Brasil</td>\n",
       "      <td>1</td>\n",
       "    </tr>\n",
       "    <tr>\n",
       "      <th>9</th>\n",
       "      <td>2021-10-12</td>\n",
       "      <td>Nossa Senhora Aparecida</td>\n",
       "      <td>1</td>\n",
       "    </tr>\n",
       "    <tr>\n",
       "      <th>10</th>\n",
       "      <td>2021-11-02</td>\n",
       "      <td>Finados</td>\n",
       "      <td>1</td>\n",
       "    </tr>\n",
       "    <tr>\n",
       "      <th>11</th>\n",
       "      <td>2021-11-15</td>\n",
       "      <td>Proclamação da República</td>\n",
       "      <td>1</td>\n",
       "    </tr>\n",
       "    <tr>\n",
       "      <th>12</th>\n",
       "      <td>2021-12-24</td>\n",
       "      <td>Véspera de Natal</td>\n",
       "      <td>1</td>\n",
       "    </tr>\n",
       "    <tr>\n",
       "      <th>13</th>\n",
       "      <td>2021-12-25</td>\n",
       "      <td>Natal</td>\n",
       "      <td>1</td>\n",
       "    </tr>\n",
       "    <tr>\n",
       "      <th>14</th>\n",
       "      <td>2021-12-31</td>\n",
       "      <td>Véspera de Ano Novo</td>\n",
       "      <td>1</td>\n",
       "    </tr>\n",
       "  </tbody>\n",
       "</table>\n",
       "</div>"
      ],
      "text/plain": [
       "     Check-In                    evento É_feriado\n",
       "0  2021-01-01                  Ano Novo         1\n",
       "1  2021-02-15                  Carnaval         1\n",
       "2  2021-02-16                  Carnaval         1\n",
       "3  2021-02-17    Quarta-feira de Cinzas         1\n",
       "4  2021-04-02         Sexta-Feira Santa         1\n",
       "5  2021-04-21                Tiradentes         1\n",
       "6  2021-05-01   Dia Mundial do Trabalho         1\n",
       "7  2021-06-03            Corpus Christi         1\n",
       "8  2021-09-07   Independência do Brasil         1\n",
       "9  2021-10-12   Nossa Senhora Aparecida         1\n",
       "10 2021-11-02                   Finados         1\n",
       "11 2021-11-15  Proclamação da República         1\n",
       "12 2021-12-24          Véspera de Natal         1\n",
       "13 2021-12-25                     Natal         1\n",
       "14 2021-12-31       Véspera de Ano Novo         1"
      ]
     },
     "execution_count": 38,
     "metadata": {},
     "output_type": "execute_result"
    }
   ],
   "source": [
    "df_feriados = transform_holiday_table(df_feriados)\n",
    "df_feriados"
   ]
  },
  {
   "cell_type": "code",
   "execution_count": 39,
   "metadata": {},
   "outputs": [],
   "source": [
    "# Vamos juntar as duas tabelas Preço Médio e Feriados\n",
    "df_preco_medio = df_preco_medio.merge(df_feriados, left_on='Check-In', right_on='Check-In', how='left')"
   ]
  },
  {
   "cell_type": "code",
   "execution_count": 40,
   "metadata": {},
   "outputs": [
    {
     "data": {
      "text/html": [
       "<div>\n",
       "<style scoped>\n",
       "    .dataframe tbody tr th:only-of-type {\n",
       "        vertical-align: middle;\n",
       "    }\n",
       "\n",
       "    .dataframe tbody tr th {\n",
       "        vertical-align: top;\n",
       "    }\n",
       "\n",
       "    .dataframe thead th {\n",
       "        text-align: right;\n",
       "    }\n",
       "</style>\n",
       "<table border=\"1\" class=\"dataframe\">\n",
       "  <thead>\n",
       "    <tr style=\"text-align: right;\">\n",
       "      <th></th>\n",
       "      <th>Check-In</th>\n",
       "      <th>Mean</th>\n",
       "      <th>Desvio</th>\n",
       "      <th>Median</th>\n",
       "      <th>Min</th>\n",
       "      <th>Max</th>\n",
       "      <th>evento</th>\n",
       "      <th>É_feriado</th>\n",
       "    </tr>\n",
       "  </thead>\n",
       "  <tbody>\n",
       "    <tr>\n",
       "      <th>0</th>\n",
       "      <td>2021-01-29</td>\n",
       "      <td>292.918367</td>\n",
       "      <td>146.781098</td>\n",
       "      <td>263.0</td>\n",
       "      <td>117.0</td>\n",
       "      <td>975.0</td>\n",
       "      <td>0</td>\n",
       "      <td>0</td>\n",
       "    </tr>\n",
       "    <tr>\n",
       "      <th>1</th>\n",
       "      <td>2021-02-12</td>\n",
       "      <td>317.579832</td>\n",
       "      <td>190.984591</td>\n",
       "      <td>264.0</td>\n",
       "      <td>119.0</td>\n",
       "      <td>1495.0</td>\n",
       "      <td>0</td>\n",
       "      <td>0</td>\n",
       "    </tr>\n",
       "    <tr>\n",
       "      <th>2</th>\n",
       "      <td>2021-02-19</td>\n",
       "      <td>293.511952</td>\n",
       "      <td>171.692894</td>\n",
       "      <td>242.5</td>\n",
       "      <td>94.0</td>\n",
       "      <td>1472.0</td>\n",
       "      <td>0</td>\n",
       "      <td>0</td>\n",
       "    </tr>\n",
       "    <tr>\n",
       "      <th>3</th>\n",
       "      <td>2021-02-26</td>\n",
       "      <td>271.535787</td>\n",
       "      <td>150.647629</td>\n",
       "      <td>232.0</td>\n",
       "      <td>82.0</td>\n",
       "      <td>989.0</td>\n",
       "      <td>0</td>\n",
       "      <td>0</td>\n",
       "    </tr>\n",
       "    <tr>\n",
       "      <th>4</th>\n",
       "      <td>2021-03-05</td>\n",
       "      <td>249.417112</td>\n",
       "      <td>150.699609</td>\n",
       "      <td>206.0</td>\n",
       "      <td>87.0</td>\n",
       "      <td>1106.0</td>\n",
       "      <td>0</td>\n",
       "      <td>0</td>\n",
       "    </tr>\n",
       "    <tr>\n",
       "      <th>5</th>\n",
       "      <td>2021-03-12</td>\n",
       "      <td>236.064298</td>\n",
       "      <td>132.816514</td>\n",
       "      <td>201.0</td>\n",
       "      <td>87.0</td>\n",
       "      <td>952.0</td>\n",
       "      <td>0</td>\n",
       "      <td>0</td>\n",
       "    </tr>\n",
       "    <tr>\n",
       "      <th>6</th>\n",
       "      <td>2021-03-19</td>\n",
       "      <td>247.151822</td>\n",
       "      <td>147.743416</td>\n",
       "      <td>210.0</td>\n",
       "      <td>82.0</td>\n",
       "      <td>952.0</td>\n",
       "      <td>0</td>\n",
       "      <td>0</td>\n",
       "    </tr>\n",
       "    <tr>\n",
       "      <th>7</th>\n",
       "      <td>2021-03-26</td>\n",
       "      <td>242.226601</td>\n",
       "      <td>141.023484</td>\n",
       "      <td>203.0</td>\n",
       "      <td>69.0</td>\n",
       "      <td>1106.0</td>\n",
       "      <td>0</td>\n",
       "      <td>0</td>\n",
       "    </tr>\n",
       "    <tr>\n",
       "      <th>8</th>\n",
       "      <td>2021-04-02</td>\n",
       "      <td>191.443478</td>\n",
       "      <td>59.600894</td>\n",
       "      <td>183.0</td>\n",
       "      <td>86.0</td>\n",
       "      <td>365.0</td>\n",
       "      <td>Sexta-Feira Santa</td>\n",
       "      <td>1</td>\n",
       "    </tr>\n",
       "    <tr>\n",
       "      <th>9</th>\n",
       "      <td>2021-04-09</td>\n",
       "      <td>204.313869</td>\n",
       "      <td>76.732801</td>\n",
       "      <td>183.0</td>\n",
       "      <td>108.0</td>\n",
       "      <td>545.0</td>\n",
       "      <td>0</td>\n",
       "      <td>0</td>\n",
       "    </tr>\n",
       "    <tr>\n",
       "      <th>10</th>\n",
       "      <td>2021-04-16</td>\n",
       "      <td>215.535714</td>\n",
       "      <td>82.505575</td>\n",
       "      <td>187.0</td>\n",
       "      <td>108.0</td>\n",
       "      <td>488.0</td>\n",
       "      <td>0</td>\n",
       "      <td>0</td>\n",
       "    </tr>\n",
       "    <tr>\n",
       "      <th>11</th>\n",
       "      <td>2021-04-23</td>\n",
       "      <td>212.416058</td>\n",
       "      <td>86.314459</td>\n",
       "      <td>187.0</td>\n",
       "      <td>86.0</td>\n",
       "      <td>503.0</td>\n",
       "      <td>0</td>\n",
       "      <td>0</td>\n",
       "    </tr>\n",
       "    <tr>\n",
       "      <th>12</th>\n",
       "      <td>2021-04-30</td>\n",
       "      <td>208.678571</td>\n",
       "      <td>76.859204</td>\n",
       "      <td>200.5</td>\n",
       "      <td>105.0</td>\n",
       "      <td>347.0</td>\n",
       "      <td>0</td>\n",
       "      <td>0</td>\n",
       "    </tr>\n",
       "  </tbody>\n",
       "</table>\n",
       "</div>"
      ],
      "text/plain": [
       "     Check-In        Mean      Desvio  Median    Min     Max  \\\n",
       "0  2021-01-29  292.918367  146.781098   263.0  117.0   975.0   \n",
       "1  2021-02-12  317.579832  190.984591   264.0  119.0  1495.0   \n",
       "2  2021-02-19  293.511952  171.692894   242.5   94.0  1472.0   \n",
       "3  2021-02-26  271.535787  150.647629   232.0   82.0   989.0   \n",
       "4  2021-03-05  249.417112  150.699609   206.0   87.0  1106.0   \n",
       "5  2021-03-12  236.064298  132.816514   201.0   87.0   952.0   \n",
       "6  2021-03-19  247.151822  147.743416   210.0   82.0   952.0   \n",
       "7  2021-03-26  242.226601  141.023484   203.0   69.0  1106.0   \n",
       "8  2021-04-02  191.443478   59.600894   183.0   86.0   365.0   \n",
       "9  2021-04-09  204.313869   76.732801   183.0  108.0   545.0   \n",
       "10 2021-04-16  215.535714   82.505575   187.0  108.0   488.0   \n",
       "11 2021-04-23  212.416058   86.314459   187.0   86.0   503.0   \n",
       "12 2021-04-30  208.678571   76.859204   200.5  105.0   347.0   \n",
       "\n",
       "               evento É_feriado  \n",
       "0                   0         0  \n",
       "1                   0         0  \n",
       "2                   0         0  \n",
       "3                   0         0  \n",
       "4                   0         0  \n",
       "5                   0         0  \n",
       "6                   0         0  \n",
       "7                   0         0  \n",
       "8   Sexta-Feira Santa         1  \n",
       "9                   0         0  \n",
       "10                  0         0  \n",
       "11                  0         0  \n",
       "12                  0         0  "
      ]
     },
     "execution_count": 40,
     "metadata": {},
     "output_type": "execute_result"
    }
   ],
   "source": [
    "df_preco_medio = df_preco_medio.fillna(0)\n",
    "df_preco_medio"
   ]
  },
  {
   "cell_type": "markdown",
   "metadata": {},
   "source": [
    "**Considerações**<br>\n",
    "É possível perceber que quando a data de check-In coincide no mesmo dia do feriado temos uma redução de preço médio.\n",
    "\n",
    "**Featuring Engineering:**<br>\n",
    "Criar uma coluna informando se o feriado no dia do check-In e na semana <br>"
   ]
  },
  {
   "cell_type": "markdown",
   "metadata": {},
   "source": [
    "### Valor da taxa"
   ]
  },
  {
   "cell_type": "code",
   "execution_count": null,
   "metadata": {},
   "outputs": [],
   "source": [
    "def create_taxa(df):\n",
    "    df['Diária com taxas'] = df['Preço com taxas'] / 2\n",
    "    df['Taxa'] = df['Diária com taxas'] - df['Preço/Noite']\n",
    "    # Tratando Valores Negativos\n",
    "    df['Taxa'] = df['Taxa'].mask(df['Taxa'].lt(0)).ffill().fillna(0).convert_dtypes()\n",
    "    return df"
   ]
  },
  {
   "cell_type": "code",
   "execution_count": 41,
   "metadata": {},
   "outputs": [],
   "source": [
    "# Criando coluna temporária diária com taxas.\n",
    "df_train['Diária com taxas'] = df_train['Preço com taxas'] / 2"
   ]
  },
  {
   "cell_type": "code",
   "execution_count": 612,
   "metadata": {},
   "outputs": [],
   "source": [
    "# Calculo da Taxa"
   ]
  },
  {
   "cell_type": "code",
   "execution_count": 42,
   "metadata": {},
   "outputs": [],
   "source": [
    "df_train['Taxa'] = df_train['Diária com taxas'] - df_train['Preço/Noite']"
   ]
  },
  {
   "cell_type": "code",
   "execution_count": 43,
   "metadata": {},
   "outputs": [
    {
     "data": {
      "text/html": [
       "<div>\n",
       "<style scoped>\n",
       "    .dataframe tbody tr th:only-of-type {\n",
       "        vertical-align: middle;\n",
       "    }\n",
       "\n",
       "    .dataframe tbody tr th {\n",
       "        vertical-align: top;\n",
       "    }\n",
       "\n",
       "    .dataframe thead th {\n",
       "        text-align: right;\n",
       "    }\n",
       "</style>\n",
       "<table border=\"1\" class=\"dataframe\">\n",
       "  <thead>\n",
       "    <tr style=\"text-align: right;\">\n",
       "      <th></th>\n",
       "      <th>ID</th>\n",
       "      <th>Check-In</th>\n",
       "      <th>Check-Out</th>\n",
       "      <th>Localização</th>\n",
       "      <th>Número Hóspedes</th>\n",
       "      <th>Número Quartos</th>\n",
       "      <th>Número Camas</th>\n",
       "      <th>Número Banheiros</th>\n",
       "      <th>Avaliação</th>\n",
       "      <th>Número Comentários</th>\n",
       "      <th>Preço/Noite</th>\n",
       "      <th>Preço com taxas</th>\n",
       "      <th>Vista para o mar</th>\n",
       "      <th>Piscina</th>\n",
       "      <th>Lava-louças</th>\n",
       "      <th>Wi-Fi</th>\n",
       "      <th>Café da Manhã</th>\n",
       "      <th>Máquina de Lavar</th>\n",
       "      <th>Estacionamento gratuito</th>\n",
       "      <th>Academia</th>\n",
       "      <th>Jacuzzi</th>\n",
       "      <th>Secadora</th>\n",
       "      <th>Entrada/saída para esquis</th>\n",
       "      <th>Cozinha</th>\n",
       "      <th>Vista para as águas</th>\n",
       "      <th>Permitido animais</th>\n",
       "      <th>Lareira interna</th>\n",
       "      <th>Ar-condicionado</th>\n",
       "      <th>Self check-In</th>\n",
       "      <th>Elevador</th>\n",
       "      <th>Novo preço mais baixo</th>\n",
       "      <th>Raridade</th>\n",
       "      <th>Banheiro Compartilhado</th>\n",
       "      <th>Diária com taxas</th>\n",
       "      <th>Taxa</th>\n",
       "    </tr>\n",
       "  </thead>\n",
       "  <tbody>\n",
       "    <tr>\n",
       "      <th>6</th>\n",
       "      <td>33166995</td>\n",
       "      <td>2021-03-12</td>\n",
       "      <td>2021-03-14</td>\n",
       "      <td>EMBARÉ</td>\n",
       "      <td>3</td>\n",
       "      <td>1</td>\n",
       "      <td>2</td>\n",
       "      <td>1</td>\n",
       "      <td>4.88</td>\n",
       "      <td>32</td>\n",
       "      <td>149.0</td>\n",
       "      <td>297.0</td>\n",
       "      <td>0</td>\n",
       "      <td>0</td>\n",
       "      <td>0</td>\n",
       "      <td>1</td>\n",
       "      <td>0</td>\n",
       "      <td>0</td>\n",
       "      <td>1</td>\n",
       "      <td>0</td>\n",
       "      <td>0</td>\n",
       "      <td>0</td>\n",
       "      <td>0</td>\n",
       "      <td>1</td>\n",
       "      <td>0</td>\n",
       "      <td>0</td>\n",
       "      <td>0</td>\n",
       "      <td>1</td>\n",
       "      <td>0</td>\n",
       "      <td>0</td>\n",
       "      <td>0</td>\n",
       "      <td>0</td>\n",
       "      <td>False</td>\n",
       "      <td>148.5</td>\n",
       "      <td>-0.5</td>\n",
       "    </tr>\n",
       "    <tr>\n",
       "      <th>16</th>\n",
       "      <td>42018906</td>\n",
       "      <td>2021-04-09</td>\n",
       "      <td>2021-04-11</td>\n",
       "      <td>PONTA DA PRAIA</td>\n",
       "      <td>5</td>\n",
       "      <td>1</td>\n",
       "      <td>3</td>\n",
       "      <td>1</td>\n",
       "      <td>4.92</td>\n",
       "      <td>74</td>\n",
       "      <td>126.0</td>\n",
       "      <td>251.0</td>\n",
       "      <td>1</td>\n",
       "      <td>0</td>\n",
       "      <td>0</td>\n",
       "      <td>1</td>\n",
       "      <td>0</td>\n",
       "      <td>0</td>\n",
       "      <td>1</td>\n",
       "      <td>0</td>\n",
       "      <td>0</td>\n",
       "      <td>0</td>\n",
       "      <td>0</td>\n",
       "      <td>1</td>\n",
       "      <td>0</td>\n",
       "      <td>0</td>\n",
       "      <td>0</td>\n",
       "      <td>0</td>\n",
       "      <td>0</td>\n",
       "      <td>0</td>\n",
       "      <td>0</td>\n",
       "      <td>0</td>\n",
       "      <td>False</td>\n",
       "      <td>125.5</td>\n",
       "      <td>-0.5</td>\n",
       "    </tr>\n",
       "    <tr>\n",
       "      <th>42</th>\n",
       "      <td>19679952</td>\n",
       "      <td>2021-03-12</td>\n",
       "      <td>2021-03-14</td>\n",
       "      <td>AVIAÇÃO</td>\n",
       "      <td>8</td>\n",
       "      <td>2</td>\n",
       "      <td>7</td>\n",
       "      <td>2</td>\n",
       "      <td>4.86</td>\n",
       "      <td>108</td>\n",
       "      <td>287.0</td>\n",
       "      <td>573.0</td>\n",
       "      <td>1</td>\n",
       "      <td>0</td>\n",
       "      <td>0</td>\n",
       "      <td>0</td>\n",
       "      <td>0</td>\n",
       "      <td>0</td>\n",
       "      <td>0</td>\n",
       "      <td>0</td>\n",
       "      <td>0</td>\n",
       "      <td>0</td>\n",
       "      <td>0</td>\n",
       "      <td>0</td>\n",
       "      <td>1</td>\n",
       "      <td>0</td>\n",
       "      <td>0</td>\n",
       "      <td>1</td>\n",
       "      <td>0</td>\n",
       "      <td>1</td>\n",
       "      <td>0</td>\n",
       "      <td>0</td>\n",
       "      <td>False</td>\n",
       "      <td>286.5</td>\n",
       "      <td>-0.5</td>\n",
       "    </tr>\n",
       "    <tr>\n",
       "      <th>43</th>\n",
       "      <td>46604376</td>\n",
       "      <td>2021-02-26</td>\n",
       "      <td>2021-02-28</td>\n",
       "      <td>ITARARÉ</td>\n",
       "      <td>4</td>\n",
       "      <td>1</td>\n",
       "      <td>2</td>\n",
       "      <td>1</td>\n",
       "      <td>5.00</td>\n",
       "      <td>10</td>\n",
       "      <td>180.0</td>\n",
       "      <td>240.0</td>\n",
       "      <td>1</td>\n",
       "      <td>0</td>\n",
       "      <td>0</td>\n",
       "      <td>1</td>\n",
       "      <td>0</td>\n",
       "      <td>1</td>\n",
       "      <td>0</td>\n",
       "      <td>0</td>\n",
       "      <td>0</td>\n",
       "      <td>0</td>\n",
       "      <td>0</td>\n",
       "      <td>1</td>\n",
       "      <td>0</td>\n",
       "      <td>0</td>\n",
       "      <td>0</td>\n",
       "      <td>0</td>\n",
       "      <td>0</td>\n",
       "      <td>0</td>\n",
       "      <td>0</td>\n",
       "      <td>0</td>\n",
       "      <td>False</td>\n",
       "      <td>120.0</td>\n",
       "      <td>-60.0</td>\n",
       "    </tr>\n",
       "    <tr>\n",
       "      <th>54</th>\n",
       "      <td>22868881</td>\n",
       "      <td>2021-02-26</td>\n",
       "      <td>2021-02-28</td>\n",
       "      <td>NOVA MIRIM</td>\n",
       "      <td>6</td>\n",
       "      <td>1</td>\n",
       "      <td>3</td>\n",
       "      <td>1</td>\n",
       "      <td>4.89</td>\n",
       "      <td>46</td>\n",
       "      <td>200.0</td>\n",
       "      <td>399.0</td>\n",
       "      <td>1</td>\n",
       "      <td>0</td>\n",
       "      <td>0</td>\n",
       "      <td>1</td>\n",
       "      <td>0</td>\n",
       "      <td>0</td>\n",
       "      <td>0</td>\n",
       "      <td>0</td>\n",
       "      <td>0</td>\n",
       "      <td>0</td>\n",
       "      <td>0</td>\n",
       "      <td>0</td>\n",
       "      <td>0</td>\n",
       "      <td>0</td>\n",
       "      <td>0</td>\n",
       "      <td>0</td>\n",
       "      <td>1</td>\n",
       "      <td>1</td>\n",
       "      <td>0</td>\n",
       "      <td>0</td>\n",
       "      <td>False</td>\n",
       "      <td>199.5</td>\n",
       "      <td>-0.5</td>\n",
       "    </tr>\n",
       "    <tr>\n",
       "      <th>...</th>\n",
       "      <td>...</td>\n",
       "      <td>...</td>\n",
       "      <td>...</td>\n",
       "      <td>...</td>\n",
       "      <td>...</td>\n",
       "      <td>...</td>\n",
       "      <td>...</td>\n",
       "      <td>...</td>\n",
       "      <td>...</td>\n",
       "      <td>...</td>\n",
       "      <td>...</td>\n",
       "      <td>...</td>\n",
       "      <td>...</td>\n",
       "      <td>...</td>\n",
       "      <td>...</td>\n",
       "      <td>...</td>\n",
       "      <td>...</td>\n",
       "      <td>...</td>\n",
       "      <td>...</td>\n",
       "      <td>...</td>\n",
       "      <td>...</td>\n",
       "      <td>...</td>\n",
       "      <td>...</td>\n",
       "      <td>...</td>\n",
       "      <td>...</td>\n",
       "      <td>...</td>\n",
       "      <td>...</td>\n",
       "      <td>...</td>\n",
       "      <td>...</td>\n",
       "      <td>...</td>\n",
       "      <td>...</td>\n",
       "      <td>...</td>\n",
       "      <td>...</td>\n",
       "      <td>...</td>\n",
       "      <td>...</td>\n",
       "    </tr>\n",
       "    <tr>\n",
       "      <th>4173</th>\n",
       "      <td>20193688</td>\n",
       "      <td>2021-03-05</td>\n",
       "      <td>2021-03-07</td>\n",
       "      <td>JARDIM LAS PALMAS</td>\n",
       "      <td>2</td>\n",
       "      <td>1</td>\n",
       "      <td>1</td>\n",
       "      <td>1</td>\n",
       "      <td>4.82</td>\n",
       "      <td>46</td>\n",
       "      <td>206.0</td>\n",
       "      <td>411.0</td>\n",
       "      <td>0</td>\n",
       "      <td>0</td>\n",
       "      <td>0</td>\n",
       "      <td>0</td>\n",
       "      <td>0</td>\n",
       "      <td>0</td>\n",
       "      <td>1</td>\n",
       "      <td>0</td>\n",
       "      <td>0</td>\n",
       "      <td>0</td>\n",
       "      <td>0</td>\n",
       "      <td>1</td>\n",
       "      <td>0</td>\n",
       "      <td>0</td>\n",
       "      <td>0</td>\n",
       "      <td>1</td>\n",
       "      <td>0</td>\n",
       "      <td>1</td>\n",
       "      <td>0</td>\n",
       "      <td>0</td>\n",
       "      <td>False</td>\n",
       "      <td>205.5</td>\n",
       "      <td>-0.5</td>\n",
       "    </tr>\n",
       "    <tr>\n",
       "      <th>4181</th>\n",
       "      <td>32401352</td>\n",
       "      <td>2021-03-05</td>\n",
       "      <td>2021-03-07</td>\n",
       "      <td>BARRA FUNDA</td>\n",
       "      <td>2</td>\n",
       "      <td>1</td>\n",
       "      <td>1</td>\n",
       "      <td>1</td>\n",
       "      <td>4.87</td>\n",
       "      <td>92</td>\n",
       "      <td>206.0</td>\n",
       "      <td>411.0</td>\n",
       "      <td>0</td>\n",
       "      <td>1</td>\n",
       "      <td>0</td>\n",
       "      <td>1</td>\n",
       "      <td>0</td>\n",
       "      <td>0</td>\n",
       "      <td>1</td>\n",
       "      <td>0</td>\n",
       "      <td>0</td>\n",
       "      <td>0</td>\n",
       "      <td>0</td>\n",
       "      <td>0</td>\n",
       "      <td>0</td>\n",
       "      <td>0</td>\n",
       "      <td>0</td>\n",
       "      <td>0</td>\n",
       "      <td>0</td>\n",
       "      <td>1</td>\n",
       "      <td>0</td>\n",
       "      <td>0</td>\n",
       "      <td>True</td>\n",
       "      <td>205.5</td>\n",
       "      <td>-0.5</td>\n",
       "    </tr>\n",
       "    <tr>\n",
       "      <th>4192</th>\n",
       "      <td>23175564</td>\n",
       "      <td>2021-02-19</td>\n",
       "      <td>2021-02-21</td>\n",
       "      <td>APARECIDA</td>\n",
       "      <td>4</td>\n",
       "      <td>1</td>\n",
       "      <td>2</td>\n",
       "      <td>1</td>\n",
       "      <td>4.79</td>\n",
       "      <td>84</td>\n",
       "      <td>160.0</td>\n",
       "      <td>240.0</td>\n",
       "      <td>0</td>\n",
       "      <td>0</td>\n",
       "      <td>0</td>\n",
       "      <td>1</td>\n",
       "      <td>0</td>\n",
       "      <td>1</td>\n",
       "      <td>0</td>\n",
       "      <td>1</td>\n",
       "      <td>0</td>\n",
       "      <td>1</td>\n",
       "      <td>0</td>\n",
       "      <td>0</td>\n",
       "      <td>0</td>\n",
       "      <td>0</td>\n",
       "      <td>0</td>\n",
       "      <td>0</td>\n",
       "      <td>0</td>\n",
       "      <td>0</td>\n",
       "      <td>0</td>\n",
       "      <td>0</td>\n",
       "      <td>False</td>\n",
       "      <td>120.0</td>\n",
       "      <td>-40.0</td>\n",
       "    </tr>\n",
       "    <tr>\n",
       "      <th>4199</th>\n",
       "      <td>38039978</td>\n",
       "      <td>2021-03-05</td>\n",
       "      <td>2021-03-07</td>\n",
       "      <td>SANTOS</td>\n",
       "      <td>4</td>\n",
       "      <td>1</td>\n",
       "      <td>2</td>\n",
       "      <td>1</td>\n",
       "      <td>4.64</td>\n",
       "      <td>50</td>\n",
       "      <td>300.0</td>\n",
       "      <td>599.0</td>\n",
       "      <td>0</td>\n",
       "      <td>1</td>\n",
       "      <td>0</td>\n",
       "      <td>1</td>\n",
       "      <td>0</td>\n",
       "      <td>0</td>\n",
       "      <td>1</td>\n",
       "      <td>0</td>\n",
       "      <td>0</td>\n",
       "      <td>0</td>\n",
       "      <td>0</td>\n",
       "      <td>0</td>\n",
       "      <td>0</td>\n",
       "      <td>0</td>\n",
       "      <td>0</td>\n",
       "      <td>1</td>\n",
       "      <td>0</td>\n",
       "      <td>0</td>\n",
       "      <td>0</td>\n",
       "      <td>0</td>\n",
       "      <td>False</td>\n",
       "      <td>299.5</td>\n",
       "      <td>-0.5</td>\n",
       "    </tr>\n",
       "    <tr>\n",
       "      <th>4207</th>\n",
       "      <td>22469373</td>\n",
       "      <td>2021-03-19</td>\n",
       "      <td>2021-03-21</td>\n",
       "      <td>VILA ASSUNCAO</td>\n",
       "      <td>6</td>\n",
       "      <td>1</td>\n",
       "      <td>6</td>\n",
       "      <td>1</td>\n",
       "      <td>4.63</td>\n",
       "      <td>38</td>\n",
       "      <td>103.0</td>\n",
       "      <td>205.0</td>\n",
       "      <td>1</td>\n",
       "      <td>0</td>\n",
       "      <td>0</td>\n",
       "      <td>1</td>\n",
       "      <td>0</td>\n",
       "      <td>0</td>\n",
       "      <td>0</td>\n",
       "      <td>0</td>\n",
       "      <td>0</td>\n",
       "      <td>0</td>\n",
       "      <td>0</td>\n",
       "      <td>0</td>\n",
       "      <td>0</td>\n",
       "      <td>0</td>\n",
       "      <td>0</td>\n",
       "      <td>0</td>\n",
       "      <td>1</td>\n",
       "      <td>1</td>\n",
       "      <td>0</td>\n",
       "      <td>0</td>\n",
       "      <td>False</td>\n",
       "      <td>102.5</td>\n",
       "      <td>-0.5</td>\n",
       "    </tr>\n",
       "  </tbody>\n",
       "</table>\n",
       "<p>573 rows × 35 columns</p>\n",
       "</div>"
      ],
      "text/plain": [
       "            ID   Check-In  Check-Out        Localização  Número Hóspedes  \\\n",
       "6     33166995 2021-03-12 2021-03-14             EMBARÉ                3   \n",
       "16    42018906 2021-04-09 2021-04-11     PONTA DA PRAIA                5   \n",
       "42    19679952 2021-03-12 2021-03-14            AVIAÇÃO                8   \n",
       "43    46604376 2021-02-26 2021-02-28            ITARARÉ                4   \n",
       "54    22868881 2021-02-26 2021-02-28         NOVA MIRIM                6   \n",
       "...        ...        ...        ...                ...              ...   \n",
       "4173  20193688 2021-03-05 2021-03-07  JARDIM LAS PALMAS                2   \n",
       "4181  32401352 2021-03-05 2021-03-07        BARRA FUNDA                2   \n",
       "4192  23175564 2021-02-19 2021-02-21          APARECIDA                4   \n",
       "4199  38039978 2021-03-05 2021-03-07             SANTOS                4   \n",
       "4207  22469373 2021-03-19 2021-03-21      VILA ASSUNCAO                6   \n",
       "\n",
       "      Número Quartos  Número Camas  Número Banheiros  Avaliação  \\\n",
       "6                  1             2                 1       4.88   \n",
       "16                 1             3                 1       4.92   \n",
       "42                 2             7                 2       4.86   \n",
       "43                 1             2                 1       5.00   \n",
       "54                 1             3                 1       4.89   \n",
       "...              ...           ...               ...        ...   \n",
       "4173               1             1                 1       4.82   \n",
       "4181               1             1                 1       4.87   \n",
       "4192               1             2                 1       4.79   \n",
       "4199               1             2                 1       4.64   \n",
       "4207               1             6                 1       4.63   \n",
       "\n",
       "      Número Comentários  Preço/Noite  Preço com taxas  Vista para o mar  \\\n",
       "6                     32        149.0            297.0                 0   \n",
       "16                    74        126.0            251.0                 1   \n",
       "42                   108        287.0            573.0                 1   \n",
       "43                    10        180.0            240.0                 1   \n",
       "54                    46        200.0            399.0                 1   \n",
       "...                  ...          ...              ...               ...   \n",
       "4173                  46        206.0            411.0                 0   \n",
       "4181                  92        206.0            411.0                 0   \n",
       "4192                  84        160.0            240.0                 0   \n",
       "4199                  50        300.0            599.0                 0   \n",
       "4207                  38        103.0            205.0                 1   \n",
       "\n",
       "      Piscina  Lava-louças  Wi-Fi  Café da Manhã  Máquina de Lavar  \\\n",
       "6           0            0      1              0                 0   \n",
       "16          0            0      1              0                 0   \n",
       "42          0            0      0              0                 0   \n",
       "43          0            0      1              0                 1   \n",
       "54          0            0      1              0                 0   \n",
       "...       ...          ...    ...            ...               ...   \n",
       "4173        0            0      0              0                 0   \n",
       "4181        1            0      1              0                 0   \n",
       "4192        0            0      1              0                 1   \n",
       "4199        1            0      1              0                 0   \n",
       "4207        0            0      1              0                 0   \n",
       "\n",
       "      Estacionamento gratuito  Academia  Jacuzzi  Secadora  \\\n",
       "6                           1         0        0         0   \n",
       "16                          1         0        0         0   \n",
       "42                          0         0        0         0   \n",
       "43                          0         0        0         0   \n",
       "54                          0         0        0         0   \n",
       "...                       ...       ...      ...       ...   \n",
       "4173                        1         0        0         0   \n",
       "4181                        1         0        0         0   \n",
       "4192                        0         1        0         1   \n",
       "4199                        1         0        0         0   \n",
       "4207                        0         0        0         0   \n",
       "\n",
       "      Entrada/saída para esquis  Cozinha  Vista para as águas  \\\n",
       "6                             0        1                    0   \n",
       "16                            0        1                    0   \n",
       "42                            0        0                    1   \n",
       "43                            0        1                    0   \n",
       "54                            0        0                    0   \n",
       "...                         ...      ...                  ...   \n",
       "4173                          0        1                    0   \n",
       "4181                          0        0                    0   \n",
       "4192                          0        0                    0   \n",
       "4199                          0        0                    0   \n",
       "4207                          0        0                    0   \n",
       "\n",
       "      Permitido animais  Lareira interna  Ar-condicionado  Self check-In  \\\n",
       "6                     0                0                1              0   \n",
       "16                    0                0                0              0   \n",
       "42                    0                0                1              0   \n",
       "43                    0                0                0              0   \n",
       "54                    0                0                0              1   \n",
       "...                 ...              ...              ...            ...   \n",
       "4173                  0                0                1              0   \n",
       "4181                  0                0                0              0   \n",
       "4192                  0                0                0              0   \n",
       "4199                  0                0                1              0   \n",
       "4207                  0                0                0              1   \n",
       "\n",
       "      Elevador  Novo preço mais baixo  Raridade  Banheiro Compartilhado  \\\n",
       "6            0                      0         0                   False   \n",
       "16           0                      0         0                   False   \n",
       "42           1                      0         0                   False   \n",
       "43           0                      0         0                   False   \n",
       "54           1                      0         0                   False   \n",
       "...        ...                    ...       ...                     ...   \n",
       "4173         1                      0         0                   False   \n",
       "4181         1                      0         0                    True   \n",
       "4192         0                      0         0                   False   \n",
       "4199         0                      0         0                   False   \n",
       "4207         1                      0         0                   False   \n",
       "\n",
       "      Diária com taxas  Taxa  \n",
       "6                148.5  -0.5  \n",
       "16               125.5  -0.5  \n",
       "42               286.5  -0.5  \n",
       "43               120.0 -60.0  \n",
       "54               199.5  -0.5  \n",
       "...                ...   ...  \n",
       "4173             205.5  -0.5  \n",
       "4181             205.5  -0.5  \n",
       "4192             120.0 -40.0  \n",
       "4199             299.5  -0.5  \n",
       "4207             102.5  -0.5  \n",
       "\n",
       "[573 rows x 35 columns]"
      ]
     },
     "execution_count": 43,
     "metadata": {},
     "output_type": "execute_result"
    }
   ],
   "source": [
    "# Percebemmos que surgiriam valores negativos que não fazem sentido.\n",
    "df_train.loc[df_train['Taxa'] < 0]"
   ]
  },
  {
   "cell_type": "code",
   "execution_count": 44,
   "metadata": {},
   "outputs": [],
   "source": [
    "# Transformação dos valores negativos em 0\n",
    "df_train['Taxa'] = df_train['Taxa'].mask(df_train['Taxa'].lt(0)).ffill().fillna(0).convert_dtypes()"
   ]
  },
  {
   "cell_type": "code",
   "execution_count": 45,
   "metadata": {},
   "outputs": [
    {
     "data": {
      "text/plain": [
       "0.0      501\n",
       "75.0     289\n",
       "60.0     257\n",
       "40.0     240\n",
       "39.5     189\n",
       "        ... \n",
       "77.0       1\n",
       "77.5       1\n",
       "97.5       1\n",
       "100.0      1\n",
       "97.0       1\n",
       "Name: Taxa, Length: 105, dtype: int64"
      ]
     },
     "execution_count": 45,
     "metadata": {},
     "output_type": "execute_result"
    }
   ],
   "source": [
    "df_train['Taxa'].value_counts()"
   ]
  },
  {
   "cell_type": "code",
   "execution_count": 46,
   "metadata": {},
   "outputs": [
    {
     "data": {
      "image/png": "[encoded data removed]",
      "text/plain": [
       "<Figure size 432x288 with 1 Axes>"
      ]
     },
     "metadata": {
      "needs_background": "light"
     },
     "output_type": "display_data"
    }
   ],
   "source": [
    "# Observando a distribuição da variável criada. \n",
    "df_train['Taxa'].hist()\n",
    "plt.show()"
   ]
  },
  {
   "cell_type": "markdown",
   "metadata": {},
   "source": [
    "**Conclusões:**<br>\n",
    "Apesar das transformações realizadas. Os valores são inconsistentes e não fazem sentido.<br>\n",
    "Dropar as colunas Preço com taxas, Diária com taxas e taxas"
   ]
  },
  {
   "cell_type": "code",
   "execution_count": 618,
   "metadata": {},
   "outputs": [],
   "source": []
  },
  {
   "cell_type": "markdown",
   "metadata": {},
   "source": [
    "### Será que há clusters?"
   ]
  },
  {
   "cell_type": "code",
   "execution_count": 619,
   "metadata": {},
   "outputs": [],
   "source": [
    "# Vamos usar o DBSCAN"
   ]
  },
  {
   "cell_type": "code",
   "execution_count": 47,
   "metadata": {},
   "outputs": [],
   "source": [
    "X = df_train.drop({'ID', 'Check-In', 'Check-Out'}, axis=1)"
   ]
  },
  {
   "cell_type": "code",
   "execution_count": 48,
   "metadata": {},
   "outputs": [],
   "source": [
    "cfce = CountFrequencyCategoricalEncoder(encoding_method='frequency', variables=['Localização'])\n",
    "pipe = Pipeline(steps=[('scaler', MinMaxScaler())])"
   ]
  },
  {
   "cell_type": "code",
   "execution_count": 49,
   "metadata": {},
   "outputs": [],
   "source": [
    "X = cfce.fit_transform(X)\n",
    "X = pipe.fit_transform(X)"
   ]
  },
  {
   "cell_type": "code",
   "execution_count": 50,
   "metadata": {},
   "outputs": [],
   "source": [
    "# DBSCAN\n",
    "# método para tunar o eps\n",
    "# trabalhando com o número de ouro 10 vizinhos\n",
    "nearest_neighbors = NearestNeighbors(n_neighbors=11)\n",
    "neighbors = nearest_neighbors.fit(X)"
   ]
  },
  {
   "cell_type": "code",
   "execution_count": 51,
   "metadata": {},
   "outputs": [],
   "source": [
    "distances, indices = neighbors.kneighbors(X)\n",
    "distances = np.sort(distances[:,10], axis=0)"
   ]
  },
  {
   "cell_type": "code",
   "execution_count": 52,
   "metadata": {},
   "outputs": [
    {
     "data": {
      "text/plain": [
       "<Figure size 360x360 with 0 Axes>"
      ]
     },
     "metadata": {},
     "output_type": "display_data"
    },
    {
     "data": {
      "image/png": "[encoded data removed]",
      "text/plain": [
       "<Figure size 432x432 with 1 Axes>"
      ]
     },
     "metadata": {
      "needs_background": "light"
     },
     "output_type": "display_data"
    },
    {
     "name": "stdout",
     "output_type": "stream",
     "text": [
      "2.2303311928721143\n"
     ]
    }
   ],
   "source": [
    "# Escolha do EPS\n",
    "i = np.arange(len(distances))\n",
    "knee = KneeLocator(i, distances, S=1, curve='convex', direction='increasing', interp_method='polynomial')\n",
    "fig = plt.figure(figsize=(5, 5))\n",
    "knee.plot_knee()\n",
    "plt.xlabel(\"Points\")\n",
    "plt.ylabel(\"Distance\")\n",
    "plt.show()\n",
    "print(distances[knee.knee])"
   ]
  },
  {
   "cell_type": "code",
   "execution_count": 53,
   "metadata": {},
   "outputs": [
    {
     "data": {
      "image/png": "[encoded data removed]",
      "text/plain": [
       "<Figure size 720x720 with 1 Axes>"
      ]
     },
     "metadata": {
      "needs_background": "light"
     },
     "output_type": "display_data"
    }
   ],
   "source": [
    "# trabalhando com o núemro de eps fornecido no gráfico.\n",
    "db = DBSCAN(eps=distances[knee.knee], min_samples=11).fit(X)\n",
    "labels = db.labels_\n",
    "fig = plt.figure(figsize=(10, 10))\n",
    "sns.scatterplot(X[:,0], X[:,1], hue=[\"cluster={}\".format(x) for x in labels])\n",
    "plt.show()"
   ]
  },
  {
   "cell_type": "markdown",
   "metadata": {},
   "source": [
    "**Conclusão:**<br>\n",
    "Podemos perceber que não há grupos, porem foi identificado outliers.\n",
    "Vamos criar uma coluna sinalizando quem são os outliers."
   ]
  },
  {
   "cell_type": "markdown",
   "metadata": {},
   "source": [
    "# 3.2 Feature Engineering"
   ]
  },
  {
   "cell_type": "markdown",
   "metadata": {},
   "source": [
    "**Ações:**<br>\n",
    "* Agrupar as variáveis vista para águas e vista para o mar\n",
    "* Criar uma coluna sinalizando se o local tem alta demanda oferta de locais disponíveis naquele local.\n",
    "* Criar uma coluna informando se é feriado no dia do check-In com peso negativo\n",
    "* Criar uma coluna informando se há feriado na semana do check-In.\n",
    "* Criar coluna é outlier\n",
    "* Transformar a coluna Check-in em dia, mês e ano."
   ]
  },
  {
   "cell_type": "markdown",
   "metadata": {},
   "source": [
    "### 1. Agrupar as variáveis vista para águas e vista para o mar em uma única variável."
   ]
  },
  {
   "cell_type": "code",
   "execution_count": 54,
   "metadata": {},
   "outputs": [],
   "source": [
    "# Agrupando as duas variáveis.\n",
    "df_train['Vista'] = df_train['Vista para as águas'] + df_train['Vista para o mar']"
   ]
  },
  {
   "cell_type": "code",
   "execution_count": 55,
   "metadata": {},
   "outputs": [],
   "source": [
    "df_train.drop({'Vista para as águas', 'Vista para o mar'}, axis=1, inplace=True)"
   ]
  },
  {
   "cell_type": "code",
   "execution_count": 56,
   "metadata": {},
   "outputs": [
    {
     "data": {
      "text/plain": [
       "0    3327\n",
       "1     779\n",
       "2     103\n",
       "Name: Vista, dtype: int64"
      ]
     },
     "execution_count": 56,
     "metadata": {},
     "output_type": "execute_result"
    }
   ],
   "source": [
    "# 0 não tem esse atributo\n",
    "# 1 tem uma ou outra vista.\n",
    "# 2 Tem as duas vistas.\n",
    "df_train['Vista'].value_counts()"
   ]
  },
  {
   "cell_type": "code",
   "execution_count": 57,
   "metadata": {},
   "outputs": [
    {
     "name": "stdout",
     "output_type": "stream",
     "text": [
      "Vista: \n",
      "Ttest_indResult(statistic=array([-8.93486633]), pvalue=array([1.1775944e-18]))\n",
      "Não\n",
      "------------------------------\n"
     ]
    }
   ],
   "source": [
    "# Vamos testar:\n",
    "features = ['Vista']\n",
    "teste_t(df_train, features , target='Preço/Noite')"
   ]
  },
  {
   "cell_type": "code",
   "execution_count": 58,
   "metadata": {},
   "outputs": [],
   "source": [
    "def create_vista(df):\n",
    "    \"\"\"\n",
    "    Create variable called Vista\n",
    "    df= Dataframe\n",
    "    \"\"\"\n",
    "    df['Vista'] = df_train['Vista para as águas'] + df['Vista para o mar']\n",
    "    return df"
   ]
  },
  {
   "cell_type": "markdown",
   "metadata": {},
   "source": [
    "A dúvida anterior era se as duas variáveis teriam melhor desempenho no teste t-studend. Porém não houve melhora na estatística."
   ]
  },
  {
   "cell_type": "markdown",
   "metadata": {},
   "source": [
    "### 2. Criar uma coluna sinalizando se o local tem alta demanda oferta de locais disponíveis naquele local"
   ]
  },
  {
   "cell_type": "code",
   "execution_count": 59,
   "metadata": {},
   "outputs": [],
   "source": [
    "def tranform_frequency(df, variables='Localização'):\n",
    "    \"\"\"\n",
    "    Transform categorical variable into frequency\n",
    "    df = dataset\n",
    "    variable = name of vaviable to be transformed\n",
    "    \"\"\"\n",
    "    from feature_engine.categorical_encoders import CountFrequencyCategoricalEncoder\n",
    "    cfce = CountFrequencyCategoricalEncoder(encoding_method='frequency', variables=[variables])\n",
    "    df = cfce.fit_transform(df)    \n",
    "    return df"
   ]
  },
  {
   "cell_type": "code",
   "execution_count": 60,
   "metadata": {},
   "outputs": [],
   "source": [
    "df_train = tranform_frequency(df_train, variables='Localização')"
   ]
  },
  {
   "cell_type": "code",
   "execution_count": 61,
   "metadata": {},
   "outputs": [
    {
     "data": {
      "text/plain": [
       "0.08885721073889286"
      ]
     },
     "execution_count": 61,
     "metadata": {},
     "output_type": "execute_result"
    }
   ],
   "source": [
    "df_train['Localização'].max()"
   ]
  },
  {
   "cell_type": "code",
   "execution_count": 62,
   "metadata": {},
   "outputs": [],
   "source": [
    "def eng_create_demand(df):\n",
    "    \"\"\"\n",
    "    Create new a column called Demanda from maximum localization\n",
    "    df= dataset\n",
    "    \"\"\"\n",
    "    df['Demanda'] = df['Localização']\n",
    "    df['Demanda'] = [1 if i == df['Localização'].max() else 0 for i in df['Demanda']]\n",
    "    return df"
   ]
  },
  {
   "cell_type": "code",
   "execution_count": 63,
   "metadata": {},
   "outputs": [],
   "source": [
    "df_train = eng_create_demand(df_train)"
   ]
  },
  {
   "cell_type": "code",
   "execution_count": 64,
   "metadata": {},
   "outputs": [
    {
     "data": {
      "text/plain": [
       "0    3835\n",
       "1     374\n",
       "Name: Demanda, dtype: int64"
      ]
     },
     "execution_count": 64,
     "metadata": {},
     "output_type": "execute_result"
    }
   ],
   "source": [
    "df_train['Demanda'].value_counts()"
   ]
  },
  {
   "cell_type": "markdown",
   "metadata": {},
   "source": [
    "### 3. Criar uma coluna informando se é feriado no dia do check-In"
   ]
  },
  {
   "cell_type": "code",
   "execution_count": 65,
   "metadata": {},
   "outputs": [],
   "source": [
    "df_feriados = pd.read_csv('../data/feriados_nacionais_2021.csv', sep=';')"
   ]
  },
  {
   "cell_type": "code",
   "execution_count": 66,
   "metadata": {},
   "outputs": [],
   "source": [
    "def eng_create_is_holiday(df , df_feriados):\n",
    "    \"\"\"\n",
    "    Create new column called É feriado.\n",
    "    df = Dataframe\n",
    "    df_feriados = Dafaframe contendo uma lista de feriados nacionais\n",
    "    \n",
    "    \"\"\"\n",
    "    #import da tabela feriado\n",
    "    df_feriados = df_feriados.drop('evento', axis=1)\n",
    "    df_feriados.replace({'feriado nacional' : '1', 'ponto facultativo': '1'}, inplace=True)\n",
    "    df_feriados.rename(columns={'status': 'É_feriado'}, inplace=True)\n",
    "    df_feriados.rename(columns={'data': 'Check-In' }, inplace=True)\n",
    "    df_feriados['Check-In'] = pd.to_datetime(df_feriados['Check-In'], format ='%Y-%m-%d')\n",
    "    \n",
    "    # Vamos juntar as duas tabelas Preço Médio e Feriados\n",
    "    df = df.merge(df_feriados, left_on='Check-In', right_on='Check-In', how='left')\n",
    "    \n",
    "    #preenche os nulos com 0\n",
    "    df = df.fillna(0)\n",
    "    \n",
    "    return df"
   ]
  },
  {
   "cell_type": "code",
   "execution_count": 67,
   "metadata": {},
   "outputs": [],
   "source": [
    "df_train = eng_create_is_holiday(df_train, df_feriados)"
   ]
  },
  {
   "cell_type": "code",
   "execution_count": 68,
   "metadata": {},
   "outputs": [
    {
     "data": {
      "text/plain": [
       "0    4094\n",
       "1     115\n",
       "Name: É_feriado, dtype: int64"
      ]
     },
     "execution_count": 68,
     "metadata": {},
     "output_type": "execute_result"
    }
   ],
   "source": [
    "df_train['É_feriado'].value_counts()"
   ]
  },
  {
   "cell_type": "markdown",
   "metadata": {},
   "source": [
    "### 4. Identificar os outliers"
   ]
  },
  {
   "cell_type": "code",
   "execution_count": 69,
   "metadata": {},
   "outputs": [
    {
     "data": {
      "text/plain": [
       "array([0, 0, 0, ..., 0, 0, 0], dtype=int64)"
      ]
     },
     "execution_count": 69,
     "metadata": {},
     "output_type": "execute_result"
    }
   ],
   "source": [
    "labels"
   ]
  },
  {
   "cell_type": "code",
   "execution_count": 70,
   "metadata": {},
   "outputs": [],
   "source": [
    "df_train['É outilier'] = labels"
   ]
  },
  {
   "cell_type": "code",
   "execution_count": 71,
   "metadata": {},
   "outputs": [
    {
     "data": {
      "text/plain": [
       "0    4209\n",
       "Name: É outilier, dtype: int64"
      ]
     },
     "execution_count": 71,
     "metadata": {},
     "output_type": "execute_result"
    }
   ],
   "source": [
    "df_train['É outilier'].value_counts()"
   ]
  },
  {
   "cell_type": "code",
   "execution_count": 72,
   "metadata": {},
   "outputs": [],
   "source": [
    "def eng_is_outlier(df, n_neighbors=11 ):\n",
    "    \"\"\"\n",
    "    Create column is outlier from DBSCAM model\n",
    "    df = DataFrame\n",
    "    n_neighbors = default is 11\n",
    "    \"\"\"\n",
    "    #libs\n",
    "    from feature_engine.categorical_encoders import CountFrequencyCategoricalEncoder\n",
    "    from sklearn.preprocessing import MinMaxScaler\n",
    "    from sklearn.compose import ColumnTransformer\n",
    "    from sklearn.pipeline import Pipeline\n",
    "    from sklearn.cluster import DBSCAN\n",
    "    from sklearn.neighbors import NearestNeighbors\n",
    "    from kneed import KneeLocator\n",
    "    \n",
    "    X = df.drop({'ID', 'Check-In', 'Check-Out'}, axis=1)\n",
    "\n",
    "    cfce = CountFrequencyCategoricalEncoder(encoding_method='frequency', variables=['É Feriado'])\n",
    "    pipe = Pipeline(steps=[('scaler', MinMaxScaler())])\n",
    "\n",
    "    X = cfce.fit_transform(X)\n",
    "    X = pipe.fit_transform(X)\n",
    "\n",
    "    nearest_neighbors = NearestNeighbors(n_neighbors=11)\n",
    "    neighbors = nearest_neighbors.fit(X)\n",
    "\n",
    "    distances, indices = neighbors.kneighbors(X)\n",
    "    distances = np.sort(distances[:,10], axis=0)\n",
    "\n",
    "    i = np.arange(len(distances))\n",
    "    knee = KneeLocator(i, distances, S=1, curve='convex', direction='increasing', interp_method='polynomial')\n",
    "\n",
    "    db = DBSCAN(eps=distances[knee.knee], min_samples=11).fit(X)\n",
    "    labels = db.labels_\n",
    "\n",
    "    df['É outilier'] = labels\n",
    "    \n",
    "    return df"
   ]
  },
  {
   "cell_type": "code",
   "execution_count": 646,
   "metadata": {},
   "outputs": [],
   "source": [
    "#df_train = eng_is_outlier(df_train)"
   ]
  },
  {
   "cell_type": "markdown",
   "metadata": {},
   "source": [
    "### 5. Transformar a coluna Check-in em dia, mês e ano."
   ]
  },
  {
   "cell_type": "code",
   "execution_count": 73,
   "metadata": {},
   "outputs": [
    {
     "data": {
      "text/plain": [
       "0       2021\n",
       "1       2021\n",
       "2       2021\n",
       "3       2021\n",
       "4       2021\n",
       "        ... \n",
       "4204    2021\n",
       "4205    2021\n",
       "4206    2021\n",
       "4207    2021\n",
       "4208    2021\n",
       "Name: Check-In, Length: 4209, dtype: int64"
      ]
     },
     "execution_count": 73,
     "metadata": {},
     "output_type": "execute_result"
    }
   ],
   "source": [
    "df_train['Check-In'].dt.year"
   ]
  },
  {
   "cell_type": "code",
   "execution_count": 74,
   "metadata": {},
   "outputs": [
    {
     "data": {
      "text/plain": [
       "0       4\n",
       "1       4\n",
       "2       4\n",
       "3       4\n",
       "4       4\n",
       "       ..\n",
       "4204    4\n",
       "4205    4\n",
       "4206    4\n",
       "4207    4\n",
       "4208    4\n",
       "Name: Check-In, Length: 4209, dtype: int64"
      ]
     },
     "execution_count": 74,
     "metadata": {},
     "output_type": "execute_result"
    }
   ],
   "source": [
    "df_train['Check-In'].dt.weekday"
   ]
  },
  {
   "cell_type": "markdown",
   "metadata": {},
   "source": [
    "As colunas ano e dia da semana são constantes, neste caso vamos colocar-las na funçao e processo de split."
   ]
  },
  {
   "cell_type": "code",
   "execution_count": 75,
   "metadata": {},
   "outputs": [],
   "source": [
    "def create_dates(df, date='Check-In'):\n",
    "    \"\"\"\n",
    "    Split date into year, month, day and day of year\n",
    "    df = DataFrame\n",
    "    date = put date column. Default is 'Check-In'\n",
    "    \n",
    "    In week, Monday is 0 and Sunday is 6. \n",
    "    \"\"\"\n",
    "    df['Mes'] = df[date].dt.month\n",
    "    df['Dia'] = df[date].dt.day\n",
    "    df['Semana_do_ano'] = df[date].dt.week\n",
    "    \n",
    "    return df"
   ]
  },
  {
   "cell_type": "code",
   "execution_count": 76,
   "metadata": {},
   "outputs": [],
   "source": [
    "df_train = create_dates(df_train)"
   ]
  },
  {
   "cell_type": "code",
   "execution_count": 77,
   "metadata": {},
   "outputs": [
    {
     "data": {
      "text/html": [
       "<div>\n",
       "<style scoped>\n",
       "    .dataframe tbody tr th:only-of-type {\n",
       "        vertical-align: middle;\n",
       "    }\n",
       "\n",
       "    .dataframe tbody tr th {\n",
       "        vertical-align: top;\n",
       "    }\n",
       "\n",
       "    .dataframe thead th {\n",
       "        text-align: right;\n",
       "    }\n",
       "</style>\n",
       "<table border=\"1\" class=\"dataframe\">\n",
       "  <thead>\n",
       "    <tr style=\"text-align: right;\">\n",
       "      <th></th>\n",
       "      <th>ID</th>\n",
       "      <th>Check-In</th>\n",
       "      <th>Check-Out</th>\n",
       "      <th>Localização</th>\n",
       "      <th>Número Hóspedes</th>\n",
       "      <th>Número Quartos</th>\n",
       "      <th>Número Camas</th>\n",
       "      <th>Número Banheiros</th>\n",
       "      <th>Avaliação</th>\n",
       "      <th>Número Comentários</th>\n",
       "      <th>Preço/Noite</th>\n",
       "      <th>Preço com taxas</th>\n",
       "      <th>Piscina</th>\n",
       "      <th>Lava-louças</th>\n",
       "      <th>Wi-Fi</th>\n",
       "      <th>Café da Manhã</th>\n",
       "      <th>Máquina de Lavar</th>\n",
       "      <th>Estacionamento gratuito</th>\n",
       "      <th>Academia</th>\n",
       "      <th>Jacuzzi</th>\n",
       "      <th>Secadora</th>\n",
       "      <th>Entrada/saída para esquis</th>\n",
       "      <th>Cozinha</th>\n",
       "      <th>Permitido animais</th>\n",
       "      <th>Lareira interna</th>\n",
       "      <th>Ar-condicionado</th>\n",
       "      <th>Self check-In</th>\n",
       "      <th>Elevador</th>\n",
       "      <th>Novo preço mais baixo</th>\n",
       "      <th>Raridade</th>\n",
       "      <th>Banheiro Compartilhado</th>\n",
       "      <th>Diária com taxas</th>\n",
       "      <th>Taxa</th>\n",
       "      <th>Vista</th>\n",
       "      <th>Demanda</th>\n",
       "      <th>É_feriado</th>\n",
       "      <th>É outilier</th>\n",
       "      <th>Mes</th>\n",
       "      <th>Dia</th>\n",
       "      <th>Semana_do_ano</th>\n",
       "    </tr>\n",
       "  </thead>\n",
       "  <tbody>\n",
       "    <tr>\n",
       "      <th>0</th>\n",
       "      <td>39499342</td>\n",
       "      <td>2021-03-05</td>\n",
       "      <td>2021-03-07</td>\n",
       "      <td>0.029461</td>\n",
       "      <td>4</td>\n",
       "      <td>1</td>\n",
       "      <td>3</td>\n",
       "      <td>1</td>\n",
       "      <td>5.00</td>\n",
       "      <td>18</td>\n",
       "      <td>184.0</td>\n",
       "      <td>488.0</td>\n",
       "      <td>1</td>\n",
       "      <td>0</td>\n",
       "      <td>1</td>\n",
       "      <td>0</td>\n",
       "      <td>0</td>\n",
       "      <td>0</td>\n",
       "      <td>0</td>\n",
       "      <td>0</td>\n",
       "      <td>0</td>\n",
       "      <td>0</td>\n",
       "      <td>1</td>\n",
       "      <td>0</td>\n",
       "      <td>0</td>\n",
       "      <td>1</td>\n",
       "      <td>0</td>\n",
       "      <td>0</td>\n",
       "      <td>0</td>\n",
       "      <td>0</td>\n",
       "      <td>False</td>\n",
       "      <td>244.0</td>\n",
       "      <td>60.0</td>\n",
       "      <td>0</td>\n",
       "      <td>0</td>\n",
       "      <td>0</td>\n",
       "      <td>0</td>\n",
       "      <td>3</td>\n",
       "      <td>5</td>\n",
       "      <td>9</td>\n",
       "    </tr>\n",
       "    <tr>\n",
       "      <th>1</th>\n",
       "      <td>40945881</td>\n",
       "      <td>2021-03-19</td>\n",
       "      <td>2021-03-21</td>\n",
       "      <td>0.042766</td>\n",
       "      <td>4</td>\n",
       "      <td>1</td>\n",
       "      <td>4</td>\n",
       "      <td>1</td>\n",
       "      <td>4.83</td>\n",
       "      <td>41</td>\n",
       "      <td>198.0</td>\n",
       "      <td>456.0</td>\n",
       "      <td>1</td>\n",
       "      <td>0</td>\n",
       "      <td>1</td>\n",
       "      <td>0</td>\n",
       "      <td>0</td>\n",
       "      <td>0</td>\n",
       "      <td>0</td>\n",
       "      <td>0</td>\n",
       "      <td>0</td>\n",
       "      <td>0</td>\n",
       "      <td>1</td>\n",
       "      <td>0</td>\n",
       "      <td>0</td>\n",
       "      <td>1</td>\n",
       "      <td>0</td>\n",
       "      <td>0</td>\n",
       "      <td>0</td>\n",
       "      <td>0</td>\n",
       "      <td>False</td>\n",
       "      <td>228.0</td>\n",
       "      <td>30.0</td>\n",
       "      <td>0</td>\n",
       "      <td>0</td>\n",
       "      <td>0</td>\n",
       "      <td>0</td>\n",
       "      <td>3</td>\n",
       "      <td>19</td>\n",
       "      <td>11</td>\n",
       "    </tr>\n",
       "    <tr>\n",
       "      <th>2</th>\n",
       "      <td>46875225</td>\n",
       "      <td>2021-03-05</td>\n",
       "      <td>2021-03-07</td>\n",
       "      <td>0.003089</td>\n",
       "      <td>10</td>\n",
       "      <td>3</td>\n",
       "      <td>8</td>\n",
       "      <td>2</td>\n",
       "      <td>4.43</td>\n",
       "      <td>7</td>\n",
       "      <td>351.0</td>\n",
       "      <td>702.0</td>\n",
       "      <td>0</td>\n",
       "      <td>0</td>\n",
       "      <td>1</td>\n",
       "      <td>0</td>\n",
       "      <td>1</td>\n",
       "      <td>1</td>\n",
       "      <td>0</td>\n",
       "      <td>0</td>\n",
       "      <td>0</td>\n",
       "      <td>0</td>\n",
       "      <td>1</td>\n",
       "      <td>0</td>\n",
       "      <td>0</td>\n",
       "      <td>0</td>\n",
       "      <td>0</td>\n",
       "      <td>0</td>\n",
       "      <td>0</td>\n",
       "      <td>0</td>\n",
       "      <td>False</td>\n",
       "      <td>351.0</td>\n",
       "      <td>0.0</td>\n",
       "      <td>0</td>\n",
       "      <td>0</td>\n",
       "      <td>0</td>\n",
       "      <td>0</td>\n",
       "      <td>3</td>\n",
       "      <td>5</td>\n",
       "      <td>9</td>\n",
       "    </tr>\n",
       "    <tr>\n",
       "      <th>3</th>\n",
       "      <td>46743206</td>\n",
       "      <td>2021-03-26</td>\n",
       "      <td>2021-03-28</td>\n",
       "      <td>0.018769</td>\n",
       "      <td>4</td>\n",
       "      <td>1</td>\n",
       "      <td>2</td>\n",
       "      <td>1</td>\n",
       "      <td>4.40</td>\n",
       "      <td>5</td>\n",
       "      <td>191.0</td>\n",
       "      <td>502.0</td>\n",
       "      <td>0</td>\n",
       "      <td>0</td>\n",
       "      <td>1</td>\n",
       "      <td>0</td>\n",
       "      <td>0</td>\n",
       "      <td>1</td>\n",
       "      <td>0</td>\n",
       "      <td>0</td>\n",
       "      <td>0</td>\n",
       "      <td>0</td>\n",
       "      <td>1</td>\n",
       "      <td>1</td>\n",
       "      <td>0</td>\n",
       "      <td>0</td>\n",
       "      <td>0</td>\n",
       "      <td>0</td>\n",
       "      <td>0</td>\n",
       "      <td>0</td>\n",
       "      <td>False</td>\n",
       "      <td>251.0</td>\n",
       "      <td>60.0</td>\n",
       "      <td>0</td>\n",
       "      <td>0</td>\n",
       "      <td>0</td>\n",
       "      <td>0</td>\n",
       "      <td>3</td>\n",
       "      <td>26</td>\n",
       "      <td>12</td>\n",
       "    </tr>\n",
       "    <tr>\n",
       "      <th>4</th>\n",
       "      <td>46866361</td>\n",
       "      <td>2021-02-26</td>\n",
       "      <td>2021-02-28</td>\n",
       "      <td>0.018769</td>\n",
       "      <td>4</td>\n",
       "      <td>1</td>\n",
       "      <td>4</td>\n",
       "      <td>1</td>\n",
       "      <td>5.00</td>\n",
       "      <td>3</td>\n",
       "      <td>124.0</td>\n",
       "      <td>364.0</td>\n",
       "      <td>0</td>\n",
       "      <td>0</td>\n",
       "      <td>1</td>\n",
       "      <td>0</td>\n",
       "      <td>0</td>\n",
       "      <td>1</td>\n",
       "      <td>0</td>\n",
       "      <td>0</td>\n",
       "      <td>0</td>\n",
       "      <td>0</td>\n",
       "      <td>1</td>\n",
       "      <td>1</td>\n",
       "      <td>0</td>\n",
       "      <td>0</td>\n",
       "      <td>0</td>\n",
       "      <td>0</td>\n",
       "      <td>0</td>\n",
       "      <td>0</td>\n",
       "      <td>False</td>\n",
       "      <td>182.0</td>\n",
       "      <td>58.0</td>\n",
       "      <td>0</td>\n",
       "      <td>0</td>\n",
       "      <td>0</td>\n",
       "      <td>0</td>\n",
       "      <td>2</td>\n",
       "      <td>26</td>\n",
       "      <td>8</td>\n",
       "    </tr>\n",
       "  </tbody>\n",
       "</table>\n",
       "</div>"
      ],
      "text/plain": [
       "         ID   Check-In  Check-Out  Localização  Número Hóspedes  \\\n",
       "0  39499342 2021-03-05 2021-03-07     0.029461                4   \n",
       "1  40945881 2021-03-19 2021-03-21     0.042766                4   \n",
       "2  46875225 2021-03-05 2021-03-07     0.003089               10   \n",
       "3  46743206 2021-03-26 2021-03-28     0.018769                4   \n",
       "4  46866361 2021-02-26 2021-02-28     0.018769                4   \n",
       "\n",
       "   Número Quartos  Número Camas  Número Banheiros  Avaliação  \\\n",
       "0               1             3                 1       5.00   \n",
       "1               1             4                 1       4.83   \n",
       "2               3             8                 2       4.43   \n",
       "3               1             2                 1       4.40   \n",
       "4               1             4                 1       5.00   \n",
       "\n",
       "   Número Comentários  Preço/Noite  Preço com taxas  Piscina  Lava-louças  \\\n",
       "0                  18        184.0            488.0        1            0   \n",
       "1                  41        198.0            456.0        1            0   \n",
       "2                   7        351.0            702.0        0            0   \n",
       "3                   5        191.0            502.0        0            0   \n",
       "4                   3        124.0            364.0        0            0   \n",
       "\n",
       "   Wi-Fi  Café da Manhã  Máquina de Lavar  Estacionamento gratuito  Academia  \\\n",
       "0      1              0                 0                        0         0   \n",
       "1      1              0                 0                        0         0   \n",
       "2      1              0                 1                        1         0   \n",
       "3      1              0                 0                        1         0   \n",
       "4      1              0                 0                        1         0   \n",
       "\n",
       "   Jacuzzi  Secadora  Entrada/saída para esquis  Cozinha  Permitido animais  \\\n",
       "0        0         0                          0        1                  0   \n",
       "1        0         0                          0        1                  0   \n",
       "2        0         0                          0        1                  0   \n",
       "3        0         0                          0        1                  1   \n",
       "4        0         0                          0        1                  1   \n",
       "\n",
       "   Lareira interna  Ar-condicionado  Self check-In  Elevador  \\\n",
       "0                0                1              0         0   \n",
       "1                0                1              0         0   \n",
       "2                0                0              0         0   \n",
       "3                0                0              0         0   \n",
       "4                0                0              0         0   \n",
       "\n",
       "   Novo preço mais baixo  Raridade  Banheiro Compartilhado  Diária com taxas  \\\n",
       "0                      0         0                   False             244.0   \n",
       "1                      0         0                   False             228.0   \n",
       "2                      0         0                   False             351.0   \n",
       "3                      0         0                   False             251.0   \n",
       "4                      0         0                   False             182.0   \n",
       "\n",
       "   Taxa  Vista  Demanda É_feriado  É outilier  Mes  Dia  Semana_do_ano  \n",
       "0  60.0      0        0         0           0    3    5              9  \n",
       "1  30.0      0        0         0           0    3   19             11  \n",
       "2   0.0      0        0         0           0    3    5              9  \n",
       "3  60.0      0        0         0           0    3   26             12  \n",
       "4  58.0      0        0         0           0    2   26              8  "
      ]
     },
     "execution_count": 77,
     "metadata": {},
     "output_type": "execute_result"
    }
   ],
   "source": [
    "df_train.head()"
   ]
  },
  {
   "cell_type": "markdown",
   "metadata": {},
   "source": [
    "### 6. Criar uma coluna informando se há feriado na semana do check-In"
   ]
  },
  {
   "cell_type": "code",
   "execution_count": 78,
   "metadata": {},
   "outputs": [
    {
     "data": {
      "text/html": [
       "<div>\n",
       "<style scoped>\n",
       "    .dataframe tbody tr th:only-of-type {\n",
       "        vertical-align: middle;\n",
       "    }\n",
       "\n",
       "    .dataframe tbody tr th {\n",
       "        vertical-align: top;\n",
       "    }\n",
       "\n",
       "    .dataframe thead th {\n",
       "        text-align: right;\n",
       "    }\n",
       "</style>\n",
       "<table border=\"1\" class=\"dataframe\">\n",
       "  <thead>\n",
       "    <tr style=\"text-align: right;\">\n",
       "      <th></th>\n",
       "      <th>data</th>\n",
       "      <th>evento</th>\n",
       "      <th>status</th>\n",
       "    </tr>\n",
       "  </thead>\n",
       "  <tbody>\n",
       "    <tr>\n",
       "      <th>0</th>\n",
       "      <td>2021-01-01</td>\n",
       "      <td>Ano Novo</td>\n",
       "      <td>feriado nacional</td>\n",
       "    </tr>\n",
       "    <tr>\n",
       "      <th>1</th>\n",
       "      <td>2021-02-15</td>\n",
       "      <td>Carnaval</td>\n",
       "      <td>ponto facultativo</td>\n",
       "    </tr>\n",
       "    <tr>\n",
       "      <th>2</th>\n",
       "      <td>2021-02-16</td>\n",
       "      <td>Carnaval</td>\n",
       "      <td>ponto facultativo</td>\n",
       "    </tr>\n",
       "    <tr>\n",
       "      <th>3</th>\n",
       "      <td>2021-02-17</td>\n",
       "      <td>Quarta-feira de Cinzas</td>\n",
       "      <td>ponto facultativo</td>\n",
       "    </tr>\n",
       "    <tr>\n",
       "      <th>4</th>\n",
       "      <td>2021-04-02</td>\n",
       "      <td>Sexta-Feira Santa</td>\n",
       "      <td>feriado nacional</td>\n",
       "    </tr>\n",
       "    <tr>\n",
       "      <th>5</th>\n",
       "      <td>2021-04-21</td>\n",
       "      <td>Tiradentes</td>\n",
       "      <td>feriado nacional</td>\n",
       "    </tr>\n",
       "    <tr>\n",
       "      <th>6</th>\n",
       "      <td>2021-05-01</td>\n",
       "      <td>Dia Mundial do Trabalho</td>\n",
       "      <td>feriado nacional</td>\n",
       "    </tr>\n",
       "    <tr>\n",
       "      <th>7</th>\n",
       "      <td>2021-06-03</td>\n",
       "      <td>Corpus Christi</td>\n",
       "      <td>feriado nacional</td>\n",
       "    </tr>\n",
       "    <tr>\n",
       "      <th>8</th>\n",
       "      <td>2021-09-07</td>\n",
       "      <td>Independência do Brasil</td>\n",
       "      <td>feriado nacional</td>\n",
       "    </tr>\n",
       "    <tr>\n",
       "      <th>9</th>\n",
       "      <td>2021-10-12</td>\n",
       "      <td>Nossa Senhora Aparecida</td>\n",
       "      <td>feriado nacional</td>\n",
       "    </tr>\n",
       "    <tr>\n",
       "      <th>10</th>\n",
       "      <td>2021-11-02</td>\n",
       "      <td>Finados</td>\n",
       "      <td>feriado nacional</td>\n",
       "    </tr>\n",
       "    <tr>\n",
       "      <th>11</th>\n",
       "      <td>2021-11-15</td>\n",
       "      <td>Proclamação da República</td>\n",
       "      <td>feriado nacional</td>\n",
       "    </tr>\n",
       "    <tr>\n",
       "      <th>12</th>\n",
       "      <td>2021-12-24</td>\n",
       "      <td>Véspera de Natal</td>\n",
       "      <td>ponto facultativo</td>\n",
       "    </tr>\n",
       "    <tr>\n",
       "      <th>13</th>\n",
       "      <td>2021-12-25</td>\n",
       "      <td>Natal</td>\n",
       "      <td>feriado nacional</td>\n",
       "    </tr>\n",
       "    <tr>\n",
       "      <th>14</th>\n",
       "      <td>2021-12-31</td>\n",
       "      <td>Véspera de Ano Novo</td>\n",
       "      <td>ponto facultativo</td>\n",
       "    </tr>\n",
       "  </tbody>\n",
       "</table>\n",
       "</div>"
      ],
      "text/plain": [
       "          data                    evento             status\n",
       "0   2021-01-01                  Ano Novo   feriado nacional\n",
       "1   2021-02-15                  Carnaval  ponto facultativo\n",
       "2   2021-02-16                  Carnaval  ponto facultativo\n",
       "3   2021-02-17    Quarta-feira de Cinzas  ponto facultativo\n",
       "4   2021-04-02         Sexta-Feira Santa   feriado nacional\n",
       "5   2021-04-21                Tiradentes   feriado nacional\n",
       "6   2021-05-01   Dia Mundial do Trabalho   feriado nacional\n",
       "7   2021-06-03            Corpus Christi   feriado nacional\n",
       "8   2021-09-07   Independência do Brasil   feriado nacional\n",
       "9   2021-10-12   Nossa Senhora Aparecida   feriado nacional\n",
       "10  2021-11-02                   Finados   feriado nacional\n",
       "11  2021-11-15  Proclamação da República   feriado nacional\n",
       "12  2021-12-24          Véspera de Natal  ponto facultativo\n",
       "13  2021-12-25                     Natal   feriado nacional\n",
       "14  2021-12-31       Véspera de Ano Novo  ponto facultativo"
      ]
     },
     "execution_count": 78,
     "metadata": {},
     "output_type": "execute_result"
    }
   ],
   "source": [
    "# Tabela de feriados\n",
    "df_feriados"
   ]
  },
  {
   "cell_type": "code",
   "execution_count": 79,
   "metadata": {},
   "outputs": [],
   "source": [
    "def eng_create_holiday_week(df , df_feriados):\n",
    "    \"\"\"\n",
    "    Create new column called Semana de feriado.\n",
    "    df = Dataframe\n",
    "    df_feriados = Dafaframe contendo uma lista de feriados nacionais\n",
    "    \n",
    "    \"\"\"\n",
    "    #import da tabela feriado\n",
    "    df_feriados = df_feriados.drop({'evento', 'status'}, axis=1)\n",
    "    df_feriados.rename(columns={'data': 'Check-In' }, inplace=True)\n",
    "    df_feriados['Check-In'] = pd.to_datetime(df_feriados['Check-In'], format ='%Y-%m-%d')\n",
    "    df_feriados['Semana de Feriado'] = df_feriados['Check-In'].dt.week\n",
    "    \n",
    "    # Vamos juntar as duas tabelas Preço Médio e Feriados\n",
    "    df = df.merge(df_feriados, left_on='Check-In', right_on='Check-In', how='left')\n",
    "    #preenche os nulos com 0\n",
    "    df = df.fillna(int(0))\n",
    "    \n",
    "    return df"
   ]
  },
  {
   "cell_type": "code",
   "execution_count": 80,
   "metadata": {},
   "outputs": [],
   "source": [
    "df_train = eng_create_holiday_week(df_train, df_feriados)"
   ]
  },
  {
   "cell_type": "code",
   "execution_count": 81,
   "metadata": {},
   "outputs": [
    {
     "data": {
      "text/plain": [
       "0.0     4094\n",
       "13.0     115\n",
       "Name: Semana de Feriado, dtype: int64"
      ]
     },
     "execution_count": 81,
     "metadata": {},
     "output_type": "execute_result"
    }
   ],
   "source": [
    "df_train['Semana de Feriado'].value_counts()"
   ]
  },
  {
   "cell_type": "code",
   "execution_count": 82,
   "metadata": {},
   "outputs": [
    {
     "data": {
      "text/html": [
       "<div>\n",
       "<style scoped>\n",
       "    .dataframe tbody tr th:only-of-type {\n",
       "        vertical-align: middle;\n",
       "    }\n",
       "\n",
       "    .dataframe tbody tr th {\n",
       "        vertical-align: top;\n",
       "    }\n",
       "\n",
       "    .dataframe thead th {\n",
       "        text-align: right;\n",
       "    }\n",
       "</style>\n",
       "<table border=\"1\" class=\"dataframe\">\n",
       "  <thead>\n",
       "    <tr style=\"text-align: right;\">\n",
       "      <th></th>\n",
       "      <th>ID</th>\n",
       "      <th>Check-In</th>\n",
       "      <th>Check-Out</th>\n",
       "      <th>Localização</th>\n",
       "      <th>Número Hóspedes</th>\n",
       "      <th>Número Quartos</th>\n",
       "      <th>Número Camas</th>\n",
       "      <th>Número Banheiros</th>\n",
       "      <th>Avaliação</th>\n",
       "      <th>Número Comentários</th>\n",
       "      <th>Preço/Noite</th>\n",
       "      <th>Preço com taxas</th>\n",
       "      <th>Piscina</th>\n",
       "      <th>Lava-louças</th>\n",
       "      <th>Wi-Fi</th>\n",
       "      <th>Café da Manhã</th>\n",
       "      <th>Máquina de Lavar</th>\n",
       "      <th>Estacionamento gratuito</th>\n",
       "      <th>Academia</th>\n",
       "      <th>Jacuzzi</th>\n",
       "      <th>Secadora</th>\n",
       "      <th>Entrada/saída para esquis</th>\n",
       "      <th>Cozinha</th>\n",
       "      <th>Permitido animais</th>\n",
       "      <th>Lareira interna</th>\n",
       "      <th>Ar-condicionado</th>\n",
       "      <th>Self check-In</th>\n",
       "      <th>Elevador</th>\n",
       "      <th>Novo preço mais baixo</th>\n",
       "      <th>Raridade</th>\n",
       "      <th>Banheiro Compartilhado</th>\n",
       "      <th>Diária com taxas</th>\n",
       "      <th>Taxa</th>\n",
       "      <th>Vista</th>\n",
       "      <th>Demanda</th>\n",
       "      <th>É_feriado</th>\n",
       "      <th>É outilier</th>\n",
       "      <th>Mes</th>\n",
       "      <th>Dia</th>\n",
       "      <th>Semana_do_ano</th>\n",
       "      <th>Semana de Feriado</th>\n",
       "    </tr>\n",
       "  </thead>\n",
       "  <tbody>\n",
       "    <tr>\n",
       "      <th>0</th>\n",
       "      <td>39499342</td>\n",
       "      <td>2021-03-05</td>\n",
       "      <td>2021-03-07</td>\n",
       "      <td>0.029461</td>\n",
       "      <td>4</td>\n",
       "      <td>1</td>\n",
       "      <td>3</td>\n",
       "      <td>1</td>\n",
       "      <td>5.00</td>\n",
       "      <td>18</td>\n",
       "      <td>184.0</td>\n",
       "      <td>488.0</td>\n",
       "      <td>1</td>\n",
       "      <td>0</td>\n",
       "      <td>1</td>\n",
       "      <td>0</td>\n",
       "      <td>0</td>\n",
       "      <td>0</td>\n",
       "      <td>0</td>\n",
       "      <td>0</td>\n",
       "      <td>0</td>\n",
       "      <td>0</td>\n",
       "      <td>1</td>\n",
       "      <td>0</td>\n",
       "      <td>0</td>\n",
       "      <td>1</td>\n",
       "      <td>0</td>\n",
       "      <td>0</td>\n",
       "      <td>0</td>\n",
       "      <td>0</td>\n",
       "      <td>False</td>\n",
       "      <td>244.0</td>\n",
       "      <td>60.0</td>\n",
       "      <td>0</td>\n",
       "      <td>0</td>\n",
       "      <td>0</td>\n",
       "      <td>0</td>\n",
       "      <td>3</td>\n",
       "      <td>5</td>\n",
       "      <td>9</td>\n",
       "      <td>0.0</td>\n",
       "    </tr>\n",
       "    <tr>\n",
       "      <th>1</th>\n",
       "      <td>40945881</td>\n",
       "      <td>2021-03-19</td>\n",
       "      <td>2021-03-21</td>\n",
       "      <td>0.042766</td>\n",
       "      <td>4</td>\n",
       "      <td>1</td>\n",
       "      <td>4</td>\n",
       "      <td>1</td>\n",
       "      <td>4.83</td>\n",
       "      <td>41</td>\n",
       "      <td>198.0</td>\n",
       "      <td>456.0</td>\n",
       "      <td>1</td>\n",
       "      <td>0</td>\n",
       "      <td>1</td>\n",
       "      <td>0</td>\n",
       "      <td>0</td>\n",
       "      <td>0</td>\n",
       "      <td>0</td>\n",
       "      <td>0</td>\n",
       "      <td>0</td>\n",
       "      <td>0</td>\n",
       "      <td>1</td>\n",
       "      <td>0</td>\n",
       "      <td>0</td>\n",
       "      <td>1</td>\n",
       "      <td>0</td>\n",
       "      <td>0</td>\n",
       "      <td>0</td>\n",
       "      <td>0</td>\n",
       "      <td>False</td>\n",
       "      <td>228.0</td>\n",
       "      <td>30.0</td>\n",
       "      <td>0</td>\n",
       "      <td>0</td>\n",
       "      <td>0</td>\n",
       "      <td>0</td>\n",
       "      <td>3</td>\n",
       "      <td>19</td>\n",
       "      <td>11</td>\n",
       "      <td>0.0</td>\n",
       "    </tr>\n",
       "    <tr>\n",
       "      <th>2</th>\n",
       "      <td>46875225</td>\n",
       "      <td>2021-03-05</td>\n",
       "      <td>2021-03-07</td>\n",
       "      <td>0.003089</td>\n",
       "      <td>10</td>\n",
       "      <td>3</td>\n",
       "      <td>8</td>\n",
       "      <td>2</td>\n",
       "      <td>4.43</td>\n",
       "      <td>7</td>\n",
       "      <td>351.0</td>\n",
       "      <td>702.0</td>\n",
       "      <td>0</td>\n",
       "      <td>0</td>\n",
       "      <td>1</td>\n",
       "      <td>0</td>\n",
       "      <td>1</td>\n",
       "      <td>1</td>\n",
       "      <td>0</td>\n",
       "      <td>0</td>\n",
       "      <td>0</td>\n",
       "      <td>0</td>\n",
       "      <td>1</td>\n",
       "      <td>0</td>\n",
       "      <td>0</td>\n",
       "      <td>0</td>\n",
       "      <td>0</td>\n",
       "      <td>0</td>\n",
       "      <td>0</td>\n",
       "      <td>0</td>\n",
       "      <td>False</td>\n",
       "      <td>351.0</td>\n",
       "      <td>0.0</td>\n",
       "      <td>0</td>\n",
       "      <td>0</td>\n",
       "      <td>0</td>\n",
       "      <td>0</td>\n",
       "      <td>3</td>\n",
       "      <td>5</td>\n",
       "      <td>9</td>\n",
       "      <td>0.0</td>\n",
       "    </tr>\n",
       "    <tr>\n",
       "      <th>3</th>\n",
       "      <td>46743206</td>\n",
       "      <td>2021-03-26</td>\n",
       "      <td>2021-03-28</td>\n",
       "      <td>0.018769</td>\n",
       "      <td>4</td>\n",
       "      <td>1</td>\n",
       "      <td>2</td>\n",
       "      <td>1</td>\n",
       "      <td>4.40</td>\n",
       "      <td>5</td>\n",
       "      <td>191.0</td>\n",
       "      <td>502.0</td>\n",
       "      <td>0</td>\n",
       "      <td>0</td>\n",
       "      <td>1</td>\n",
       "      <td>0</td>\n",
       "      <td>0</td>\n",
       "      <td>1</td>\n",
       "      <td>0</td>\n",
       "      <td>0</td>\n",
       "      <td>0</td>\n",
       "      <td>0</td>\n",
       "      <td>1</td>\n",
       "      <td>1</td>\n",
       "      <td>0</td>\n",
       "      <td>0</td>\n",
       "      <td>0</td>\n",
       "      <td>0</td>\n",
       "      <td>0</td>\n",
       "      <td>0</td>\n",
       "      <td>False</td>\n",
       "      <td>251.0</td>\n",
       "      <td>60.0</td>\n",
       "      <td>0</td>\n",
       "      <td>0</td>\n",
       "      <td>0</td>\n",
       "      <td>0</td>\n",
       "      <td>3</td>\n",
       "      <td>26</td>\n",
       "      <td>12</td>\n",
       "      <td>0.0</td>\n",
       "    </tr>\n",
       "    <tr>\n",
       "      <th>4</th>\n",
       "      <td>46866361</td>\n",
       "      <td>2021-02-26</td>\n",
       "      <td>2021-02-28</td>\n",
       "      <td>0.018769</td>\n",
       "      <td>4</td>\n",
       "      <td>1</td>\n",
       "      <td>4</td>\n",
       "      <td>1</td>\n",
       "      <td>5.00</td>\n",
       "      <td>3</td>\n",
       "      <td>124.0</td>\n",
       "      <td>364.0</td>\n",
       "      <td>0</td>\n",
       "      <td>0</td>\n",
       "      <td>1</td>\n",
       "      <td>0</td>\n",
       "      <td>0</td>\n",
       "      <td>1</td>\n",
       "      <td>0</td>\n",
       "      <td>0</td>\n",
       "      <td>0</td>\n",
       "      <td>0</td>\n",
       "      <td>1</td>\n",
       "      <td>1</td>\n",
       "      <td>0</td>\n",
       "      <td>0</td>\n",
       "      <td>0</td>\n",
       "      <td>0</td>\n",
       "      <td>0</td>\n",
       "      <td>0</td>\n",
       "      <td>False</td>\n",
       "      <td>182.0</td>\n",
       "      <td>58.0</td>\n",
       "      <td>0</td>\n",
       "      <td>0</td>\n",
       "      <td>0</td>\n",
       "      <td>0</td>\n",
       "      <td>2</td>\n",
       "      <td>26</td>\n",
       "      <td>8</td>\n",
       "      <td>0.0</td>\n",
       "    </tr>\n",
       "  </tbody>\n",
       "</table>\n",
       "</div>"
      ],
      "text/plain": [
       "         ID   Check-In  Check-Out  Localização  Número Hóspedes  \\\n",
       "0  39499342 2021-03-05 2021-03-07     0.029461                4   \n",
       "1  40945881 2021-03-19 2021-03-21     0.042766                4   \n",
       "2  46875225 2021-03-05 2021-03-07     0.003089               10   \n",
       "3  46743206 2021-03-26 2021-03-28     0.018769                4   \n",
       "4  46866361 2021-02-26 2021-02-28     0.018769                4   \n",
       "\n",
       "   Número Quartos  Número Camas  Número Banheiros  Avaliação  \\\n",
       "0               1             3                 1       5.00   \n",
       "1               1             4                 1       4.83   \n",
       "2               3             8                 2       4.43   \n",
       "3               1             2                 1       4.40   \n",
       "4               1             4                 1       5.00   \n",
       "\n",
       "   Número Comentários  Preço/Noite  Preço com taxas  Piscina  Lava-louças  \\\n",
       "0                  18        184.0            488.0        1            0   \n",
       "1                  41        198.0            456.0        1            0   \n",
       "2                   7        351.0            702.0        0            0   \n",
       "3                   5        191.0            502.0        0            0   \n",
       "4                   3        124.0            364.0        0            0   \n",
       "\n",
       "   Wi-Fi  Café da Manhã  Máquina de Lavar  Estacionamento gratuito  Academia  \\\n",
       "0      1              0                 0                        0         0   \n",
       "1      1              0                 0                        0         0   \n",
       "2      1              0                 1                        1         0   \n",
       "3      1              0                 0                        1         0   \n",
       "4      1              0                 0                        1         0   \n",
       "\n",
       "   Jacuzzi  Secadora  Entrada/saída para esquis  Cozinha  Permitido animais  \\\n",
       "0        0         0                          0        1                  0   \n",
       "1        0         0                          0        1                  0   \n",
       "2        0         0                          0        1                  0   \n",
       "3        0         0                          0        1                  1   \n",
       "4        0         0                          0        1                  1   \n",
       "\n",
       "   Lareira interna  Ar-condicionado  Self check-In  Elevador  \\\n",
       "0                0                1              0         0   \n",
       "1                0                1              0         0   \n",
       "2                0                0              0         0   \n",
       "3                0                0              0         0   \n",
       "4                0                0              0         0   \n",
       "\n",
       "   Novo preço mais baixo  Raridade  Banheiro Compartilhado  Diária com taxas  \\\n",
       "0                      0         0                   False             244.0   \n",
       "1                      0         0                   False             228.0   \n",
       "2                      0         0                   False             351.0   \n",
       "3                      0         0                   False             251.0   \n",
       "4                      0         0                   False             182.0   \n",
       "\n",
       "   Taxa  Vista  Demanda É_feriado  É outilier  Mes  Dia  Semana_do_ano  \\\n",
       "0  60.0      0        0         0           0    3    5              9   \n",
       "1  30.0      0        0         0           0    3   19             11   \n",
       "2   0.0      0        0         0           0    3    5              9   \n",
       "3  60.0      0        0         0           0    3   26             12   \n",
       "4  58.0      0        0         0           0    2   26              8   \n",
       "\n",
       "   Semana de Feriado  \n",
       "0                0.0  \n",
       "1                0.0  \n",
       "2                0.0  \n",
       "3                0.0  \n",
       "4                0.0  "
      ]
     },
     "execution_count": 82,
     "metadata": {},
     "output_type": "execute_result"
    }
   ],
   "source": [
    "df_train.head()"
   ]
  },
  {
   "cell_type": "markdown",
   "metadata": {},
   "source": [
    "# Exportar"
   ]
  },
  {
   "cell_type": "code",
   "execution_count": 83,
   "metadata": {},
   "outputs": [],
   "source": [
    "df_train.to_csv(DATA_OUTPUT_TRAIN_ENG)"
   ]
  }
 ],
 "metadata": {
  "kernelspec": {
   "display_name": "Python 3",
   "language": "python",
   "name": "python3"
  },
  "language_info": {
   "codemirror_mode": {
    "name": "ipython",
    "version": 3
   },
   "file_extension": ".py",
   "mimetype": "text/x-python",
   "name": "python",
   "nbconvert_exporter": "python",
   "pygments_lexer": "ipython3",
   "version": "3.8.3"
  }
 },
 "nbformat": 4,
 "nbformat_minor": 4
}
