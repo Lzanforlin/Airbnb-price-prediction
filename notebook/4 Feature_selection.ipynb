{
 "cells": [
  {
   "cell_type": "markdown",
   "metadata": {},
   "source": [
    "# 4. Feature Selection"
   ]
  },
  {
   "cell_type": "code",
   "execution_count": 1,
   "metadata": {},
   "outputs": [],
   "source": [
    "# libs:\n",
    "import pandas as pd\n",
    "import numpy as np\n",
    "pd.set_option('display.max_columns',60)\n",
    "\n",
    "#Testes estatísticos\n",
    "import scipy\n",
    "from scipy.stats import stats\n",
    "import statsmodels.api as sm\n",
    "\n",
    "from feature_engine.categorical_encoders import CountFrequencyCategoricalEncoder\n",
    "from sklearn.preprocessing import MinMaxScaler\n",
    "from sklearn.compose import ColumnTransformer\n",
    "from sklearn.pipeline import Pipeline\n",
    "\n",
    "#fearture selection:\n",
    "from sklearn.feature_selection import chi2\n",
    "from statsmodels.stats.outliers_influence import variance_inflation_factor\n",
    "from scipy.stats import chi2_contingency\n",
    "from boruta import BorutaPy\n",
    "from sklearn.feature_selection import RFECV\n",
    "from sklearn.ensemble import RandomForestRegressor\n",
    "\n",
    "import warnings\n",
    "warnings.filterwarnings(\"ignore\")"
   ]
  },
  {
   "cell_type": "markdown",
   "metadata": {},
   "source": [
    "Vamos utilizar o método de votação marjoritáia. 3 Propostas de seleção.\n",
    "<br>\n",
    "* Teste estatístico\n",
    "* RFECV\n",
    "* Boruta<br>\n",
    "\n",
    "As features que forem mantidas por pelo menos 2 algoritmos serão utilizadas no processo de modelagem"
   ]
  },
  {
   "cell_type": "markdown",
   "metadata": {},
   "source": [
    "## Dados Constantes"
   ]
  },
  {
   "cell_type": "code",
   "execution_count": 2,
   "metadata": {},
   "outputs": [],
   "source": [
    "DATA_INPUT_ENG = '../data/DATA_train_eng.csv'\n",
    "DATA_OUTPUT_FEAT_SELECTED = '../data/DATA_feature_selected.csv'"
   ]
  },
  {
   "cell_type": "code",
   "execution_count": 3,
   "metadata": {},
   "outputs": [],
   "source": [
    "df_train = pd.read_csv(DATA_INPUT_ENG)"
   ]
  },
  {
   "cell_type": "markdown",
   "metadata": {},
   "source": [
    "**Dropar variáveis que não vamos utilizar**"
   ]
  },
  {
   "cell_type": "code",
   "execution_count": 4,
   "metadata": {},
   "outputs": [],
   "source": [
    "# Vamos dropar algumas colunas\n",
    "df_train = df_train.drop({'Unnamed: 0','ID', 'Check-In', 'Check-Out', 'Preço com taxas', 'Diária com taxas'}, axis=1)"
   ]
  },
  {
   "cell_type": "code",
   "execution_count": 5,
   "metadata": {},
   "outputs": [
    {
     "data": {
      "text/html": [
       "<div>\n",
       "<style scoped>\n",
       "    .dataframe tbody tr th:only-of-type {\n",
       "        vertical-align: middle;\n",
       "    }\n",
       "\n",
       "    .dataframe tbody tr th {\n",
       "        vertical-align: top;\n",
       "    }\n",
       "\n",
       "    .dataframe thead th {\n",
       "        text-align: right;\n",
       "    }\n",
       "</style>\n",
       "<table border=\"1\" class=\"dataframe\">\n",
       "  <thead>\n",
       "    <tr style=\"text-align: right;\">\n",
       "      <th></th>\n",
       "      <th>Localização</th>\n",
       "      <th>Número Hóspedes</th>\n",
       "      <th>Número Quartos</th>\n",
       "      <th>Número Camas</th>\n",
       "      <th>Número Banheiros</th>\n",
       "      <th>Avaliação</th>\n",
       "      <th>Número Comentários</th>\n",
       "      <th>Preço/Noite</th>\n",
       "      <th>Piscina</th>\n",
       "      <th>Lava-louças</th>\n",
       "      <th>Wi-Fi</th>\n",
       "      <th>Café da Manhã</th>\n",
       "      <th>Máquina de Lavar</th>\n",
       "      <th>Estacionamento gratuito</th>\n",
       "      <th>Academia</th>\n",
       "      <th>Jacuzzi</th>\n",
       "      <th>Secadora</th>\n",
       "      <th>Entrada/saída para esquis</th>\n",
       "      <th>Cozinha</th>\n",
       "      <th>Permitido animais</th>\n",
       "      <th>Lareira interna</th>\n",
       "      <th>Ar-condicionado</th>\n",
       "      <th>Self check-In</th>\n",
       "      <th>Elevador</th>\n",
       "      <th>Novo preço mais baixo</th>\n",
       "      <th>Raridade</th>\n",
       "      <th>Banheiro Compartilhado</th>\n",
       "      <th>Taxa</th>\n",
       "      <th>Vista</th>\n",
       "      <th>Demanda</th>\n",
       "      <th>É_feriado</th>\n",
       "      <th>É outilier</th>\n",
       "      <th>Mes</th>\n",
       "      <th>Dia</th>\n",
       "      <th>Semana_do_ano</th>\n",
       "      <th>Semana de Feriado</th>\n",
       "    </tr>\n",
       "  </thead>\n",
       "  <tbody>\n",
       "    <tr>\n",
       "      <th>0</th>\n",
       "      <td>0.029461</td>\n",
       "      <td>4</td>\n",
       "      <td>1</td>\n",
       "      <td>3</td>\n",
       "      <td>1</td>\n",
       "      <td>5.00</td>\n",
       "      <td>18</td>\n",
       "      <td>184.0</td>\n",
       "      <td>1</td>\n",
       "      <td>0</td>\n",
       "      <td>1</td>\n",
       "      <td>0</td>\n",
       "      <td>0</td>\n",
       "      <td>0</td>\n",
       "      <td>0</td>\n",
       "      <td>0</td>\n",
       "      <td>0</td>\n",
       "      <td>0</td>\n",
       "      <td>1</td>\n",
       "      <td>0</td>\n",
       "      <td>0</td>\n",
       "      <td>1</td>\n",
       "      <td>0</td>\n",
       "      <td>0</td>\n",
       "      <td>0</td>\n",
       "      <td>0</td>\n",
       "      <td>False</td>\n",
       "      <td>60.0</td>\n",
       "      <td>0</td>\n",
       "      <td>0</td>\n",
       "      <td>0</td>\n",
       "      <td>0</td>\n",
       "      <td>3</td>\n",
       "      <td>5</td>\n",
       "      <td>9</td>\n",
       "      <td>0.0</td>\n",
       "    </tr>\n",
       "    <tr>\n",
       "      <th>1</th>\n",
       "      <td>0.042766</td>\n",
       "      <td>4</td>\n",
       "      <td>1</td>\n",
       "      <td>4</td>\n",
       "      <td>1</td>\n",
       "      <td>4.83</td>\n",
       "      <td>41</td>\n",
       "      <td>198.0</td>\n",
       "      <td>1</td>\n",
       "      <td>0</td>\n",
       "      <td>1</td>\n",
       "      <td>0</td>\n",
       "      <td>0</td>\n",
       "      <td>0</td>\n",
       "      <td>0</td>\n",
       "      <td>0</td>\n",
       "      <td>0</td>\n",
       "      <td>0</td>\n",
       "      <td>1</td>\n",
       "      <td>0</td>\n",
       "      <td>0</td>\n",
       "      <td>1</td>\n",
       "      <td>0</td>\n",
       "      <td>0</td>\n",
       "      <td>0</td>\n",
       "      <td>0</td>\n",
       "      <td>False</td>\n",
       "      <td>30.0</td>\n",
       "      <td>0</td>\n",
       "      <td>0</td>\n",
       "      <td>0</td>\n",
       "      <td>0</td>\n",
       "      <td>3</td>\n",
       "      <td>19</td>\n",
       "      <td>11</td>\n",
       "      <td>0.0</td>\n",
       "    </tr>\n",
       "    <tr>\n",
       "      <th>2</th>\n",
       "      <td>0.003089</td>\n",
       "      <td>10</td>\n",
       "      <td>3</td>\n",
       "      <td>8</td>\n",
       "      <td>2</td>\n",
       "      <td>4.43</td>\n",
       "      <td>7</td>\n",
       "      <td>351.0</td>\n",
       "      <td>0</td>\n",
       "      <td>0</td>\n",
       "      <td>1</td>\n",
       "      <td>0</td>\n",
       "      <td>1</td>\n",
       "      <td>1</td>\n",
       "      <td>0</td>\n",
       "      <td>0</td>\n",
       "      <td>0</td>\n",
       "      <td>0</td>\n",
       "      <td>1</td>\n",
       "      <td>0</td>\n",
       "      <td>0</td>\n",
       "      <td>0</td>\n",
       "      <td>0</td>\n",
       "      <td>0</td>\n",
       "      <td>0</td>\n",
       "      <td>0</td>\n",
       "      <td>False</td>\n",
       "      <td>0.0</td>\n",
       "      <td>0</td>\n",
       "      <td>0</td>\n",
       "      <td>0</td>\n",
       "      <td>0</td>\n",
       "      <td>3</td>\n",
       "      <td>5</td>\n",
       "      <td>9</td>\n",
       "      <td>0.0</td>\n",
       "    </tr>\n",
       "    <tr>\n",
       "      <th>3</th>\n",
       "      <td>0.018769</td>\n",
       "      <td>4</td>\n",
       "      <td>1</td>\n",
       "      <td>2</td>\n",
       "      <td>1</td>\n",
       "      <td>4.40</td>\n",
       "      <td>5</td>\n",
       "      <td>191.0</td>\n",
       "      <td>0</td>\n",
       "      <td>0</td>\n",
       "      <td>1</td>\n",
       "      <td>0</td>\n",
       "      <td>0</td>\n",
       "      <td>1</td>\n",
       "      <td>0</td>\n",
       "      <td>0</td>\n",
       "      <td>0</td>\n",
       "      <td>0</td>\n",
       "      <td>1</td>\n",
       "      <td>1</td>\n",
       "      <td>0</td>\n",
       "      <td>0</td>\n",
       "      <td>0</td>\n",
       "      <td>0</td>\n",
       "      <td>0</td>\n",
       "      <td>0</td>\n",
       "      <td>False</td>\n",
       "      <td>60.0</td>\n",
       "      <td>0</td>\n",
       "      <td>0</td>\n",
       "      <td>0</td>\n",
       "      <td>0</td>\n",
       "      <td>3</td>\n",
       "      <td>26</td>\n",
       "      <td>12</td>\n",
       "      <td>0.0</td>\n",
       "    </tr>\n",
       "    <tr>\n",
       "      <th>4</th>\n",
       "      <td>0.018769</td>\n",
       "      <td>4</td>\n",
       "      <td>1</td>\n",
       "      <td>4</td>\n",
       "      <td>1</td>\n",
       "      <td>5.00</td>\n",
       "      <td>3</td>\n",
       "      <td>124.0</td>\n",
       "      <td>0</td>\n",
       "      <td>0</td>\n",
       "      <td>1</td>\n",
       "      <td>0</td>\n",
       "      <td>0</td>\n",
       "      <td>1</td>\n",
       "      <td>0</td>\n",
       "      <td>0</td>\n",
       "      <td>0</td>\n",
       "      <td>0</td>\n",
       "      <td>1</td>\n",
       "      <td>1</td>\n",
       "      <td>0</td>\n",
       "      <td>0</td>\n",
       "      <td>0</td>\n",
       "      <td>0</td>\n",
       "      <td>0</td>\n",
       "      <td>0</td>\n",
       "      <td>False</td>\n",
       "      <td>58.0</td>\n",
       "      <td>0</td>\n",
       "      <td>0</td>\n",
       "      <td>0</td>\n",
       "      <td>0</td>\n",
       "      <td>2</td>\n",
       "      <td>26</td>\n",
       "      <td>8</td>\n",
       "      <td>0.0</td>\n",
       "    </tr>\n",
       "  </tbody>\n",
       "</table>\n",
       "</div>"
      ],
      "text/plain": [
       "   Localização  Número Hóspedes  Número Quartos  Número Camas  \\\n",
       "0     0.029461                4               1             3   \n",
       "1     0.042766                4               1             4   \n",
       "2     0.003089               10               3             8   \n",
       "3     0.018769                4               1             2   \n",
       "4     0.018769                4               1             4   \n",
       "\n",
       "   Número Banheiros  Avaliação  Número Comentários  Preço/Noite  Piscina  \\\n",
       "0                 1       5.00                  18        184.0        1   \n",
       "1                 1       4.83                  41        198.0        1   \n",
       "2                 2       4.43                   7        351.0        0   \n",
       "3                 1       4.40                   5        191.0        0   \n",
       "4                 1       5.00                   3        124.0        0   \n",
       "\n",
       "   Lava-louças  Wi-Fi  Café da Manhã  Máquina de Lavar  \\\n",
       "0            0      1              0                 0   \n",
       "1            0      1              0                 0   \n",
       "2            0      1              0                 1   \n",
       "3            0      1              0                 0   \n",
       "4            0      1              0                 0   \n",
       "\n",
       "   Estacionamento gratuito  Academia  Jacuzzi  Secadora  \\\n",
       "0                        0         0        0         0   \n",
       "1                        0         0        0         0   \n",
       "2                        1         0        0         0   \n",
       "3                        1         0        0         0   \n",
       "4                        1         0        0         0   \n",
       "\n",
       "   Entrada/saída para esquis  Cozinha  Permitido animais  Lareira interna  \\\n",
       "0                          0        1                  0                0   \n",
       "1                          0        1                  0                0   \n",
       "2                          0        1                  0                0   \n",
       "3                          0        1                  1                0   \n",
       "4                          0        1                  1                0   \n",
       "\n",
       "   Ar-condicionado  Self check-In  Elevador  Novo preço mais baixo  Raridade  \\\n",
       "0                1              0         0                      0         0   \n",
       "1                1              0         0                      0         0   \n",
       "2                0              0         0                      0         0   \n",
       "3                0              0         0                      0         0   \n",
       "4                0              0         0                      0         0   \n",
       "\n",
       "   Banheiro Compartilhado  Taxa  Vista  Demanda  É_feriado  É outilier  Mes  \\\n",
       "0                   False  60.0      0        0          0           0    3   \n",
       "1                   False  30.0      0        0          0           0    3   \n",
       "2                   False   0.0      0        0          0           0    3   \n",
       "3                   False  60.0      0        0          0           0    3   \n",
       "4                   False  58.0      0        0          0           0    2   \n",
       "\n",
       "   Dia  Semana_do_ano  Semana de Feriado  \n",
       "0    5              9                0.0  \n",
       "1   19             11                0.0  \n",
       "2    5              9                0.0  \n",
       "3   26             12                0.0  \n",
       "4   26              8                0.0  "
      ]
     },
     "execution_count": 5,
     "metadata": {},
     "output_type": "execute_result"
    }
   ],
   "source": [
    "df_train.head()"
   ]
  },
  {
   "cell_type": "code",
   "execution_count": 6,
   "metadata": {},
   "outputs": [
    {
     "data": {
      "text/plain": [
       "(4209, 36)"
      ]
     },
     "execution_count": 6,
     "metadata": {},
     "output_type": "execute_result"
    }
   ],
   "source": [
    "df_train.shape"
   ]
  },
  {
   "cell_type": "code",
   "execution_count": 7,
   "metadata": {},
   "outputs": [],
   "source": [
    "# Divisão para os testes Wrap methods\n",
    "X_train = df_train.drop('Preço/Noite', axis=1)\n",
    "y_train = df_train['Preço/Noite']"
   ]
  },
  {
   "cell_type": "markdown",
   "metadata": {},
   "source": [
    "**Tratamento de alguns tipos:**"
   ]
  },
  {
   "cell_type": "code",
   "execution_count": 8,
   "metadata": {},
   "outputs": [
    {
     "data": {
      "text/plain": [
       "Localização                  float64\n",
       "Número Hóspedes                int64\n",
       "Número Quartos                 int64\n",
       "Número Camas                   int64\n",
       "Número Banheiros               int64\n",
       "Avaliação                    float64\n",
       "Número Comentários             int64\n",
       "Preço/Noite                  float64\n",
       "Piscina                        int64\n",
       "Lava-louças                    int64\n",
       "Wi-Fi                          int64\n",
       "Café da Manhã                  int64\n",
       "Máquina de Lavar               int64\n",
       "Estacionamento gratuito        int64\n",
       "Academia                       int64\n",
       "Jacuzzi                        int64\n",
       "Secadora                       int64\n",
       "Entrada/saída para esquis      int64\n",
       "Cozinha                        int64\n",
       "Permitido animais              int64\n",
       "Lareira interna                int64\n",
       "Ar-condicionado                int64\n",
       "Self check-In                  int64\n",
       "Elevador                       int64\n",
       "Novo preço mais baixo          int64\n",
       "Raridade                       int64\n",
       "Banheiro Compartilhado          bool\n",
       "Taxa                         float64\n",
       "Vista                          int64\n",
       "Demanda                        int64\n",
       "É_feriado                      int64\n",
       "É outilier                     int64\n",
       "Mes                            int64\n",
       "Dia                            int64\n",
       "Semana_do_ano                  int64\n",
       "Semana de Feriado            float64\n",
       "dtype: object"
      ]
     },
     "execution_count": 8,
     "metadata": {},
     "output_type": "execute_result"
    }
   ],
   "source": [
    "df_train.dtypes"
   ]
  },
  {
   "cell_type": "markdown",
   "metadata": {},
   "source": [
    "**Divisão entre as variáveis númericas e categóricas**"
   ]
  },
  {
   "cell_type": "code",
   "execution_count": 9,
   "metadata": {},
   "outputs": [],
   "source": [
    "features_num = ['Número Hóspedes', 'Número Quartos', 'Número Camas','Número Banheiros', \n",
    "                 'Avaliação', 'Número Comentários', 'Taxa', 'Dia', 'Mes']"
   ]
  },
  {
   "cell_type": "code",
   "execution_count": 10,
   "metadata": {},
   "outputs": [],
   "source": [
    "features_cat = [ 'Localização', 'Academia','Ar-condicionado', 'Cozinha', 'Elevador',\n",
    "                       'Estacionamento gratuito', 'Máquina de Lavar', 'Permitido animais',\n",
    "                       'Piscina', 'Secadora', 'Self check-In', 'Wi-Fi', 'Café da Manhã',\n",
    "                       'Entrada/saída para esquis', 'Jacuzzi', 'Lareira interna',\n",
    "                       'Lava-louças', 'Novo preço mais baixo', 'Raridade',\n",
    "                       'Banheiro Compartilhado','Vista', 'Demanda', 'É_feriado',\n",
    "                       'É outilier', 'Semana_do_ano', 'Semana de Feriado']"
   ]
  },
  {
   "cell_type": "code",
   "execution_count": 11,
   "metadata": {},
   "outputs": [],
   "source": [
    "Target = ['Preço/Noite']"
   ]
  },
  {
   "cell_type": "code",
   "execution_count": 12,
   "metadata": {},
   "outputs": [],
   "source": [
    "# Conversão de Tipos\n",
    "for col in features_cat:\n",
    "    df_train[col] = df_train[col].astype(str)"
   ]
  },
  {
   "cell_type": "code",
   "execution_count": 13,
   "metadata": {},
   "outputs": [
    {
     "data": {
      "text/plain": [
       "Localização                   object\n",
       "Número Hóspedes                int64\n",
       "Número Quartos                 int64\n",
       "Número Camas                   int64\n",
       "Número Banheiros               int64\n",
       "Avaliação                    float64\n",
       "Número Comentários             int64\n",
       "Preço/Noite                  float64\n",
       "Piscina                       object\n",
       "Lava-louças                   object\n",
       "Wi-Fi                         object\n",
       "Café da Manhã                 object\n",
       "Máquina de Lavar              object\n",
       "Estacionamento gratuito       object\n",
       "Academia                      object\n",
       "Jacuzzi                       object\n",
       "Secadora                      object\n",
       "Entrada/saída para esquis     object\n",
       "Cozinha                       object\n",
       "Permitido animais             object\n",
       "Lareira interna               object\n",
       "Ar-condicionado               object\n",
       "Self check-In                 object\n",
       "Elevador                      object\n",
       "Novo preço mais baixo         object\n",
       "Raridade                      object\n",
       "Banheiro Compartilhado        object\n",
       "Taxa                         float64\n",
       "Vista                         object\n",
       "Demanda                       object\n",
       "É_feriado                     object\n",
       "É outilier                    object\n",
       "Mes                            int64\n",
       "Dia                            int64\n",
       "Semana_do_ano                 object\n",
       "Semana de Feriado             object\n",
       "dtype: object"
      ]
     },
     "execution_count": 13,
     "metadata": {},
     "output_type": "execute_result"
    }
   ],
   "source": [
    "df_train.dtypes"
   ]
  },
  {
   "cell_type": "markdown",
   "metadata": {},
   "source": [
    "Tudo Pronto!"
   ]
  },
  {
   "cell_type": "markdown",
   "metadata": {},
   "source": [
    "## 4.1 Testes Estatísticos:"
   ]
  },
  {
   "cell_type": "markdown",
   "metadata": {},
   "source": [
    "### Features Númericas:"
   ]
  },
  {
   "cell_type": "markdown",
   "metadata": {},
   "source": [
    "### 1. Teste de Correlação"
   ]
  },
  {
   "cell_type": "code",
   "execution_count": 14,
   "metadata": {},
   "outputs": [],
   "source": [
    "# Teste de correlação\n",
    "def teste_correlacao(df, Target, features, alpha=0.05):\n",
    "    \"\"\"\n",
    "    df = Dataframe\n",
    "    Target = target\n",
    "    features = numeric features to be tested\n",
    "    Return list of variable which are correlationed with target\n",
    "    \"\"\"\n",
    "    correlation = []\n",
    "    no_correlation = []\n",
    "    for col in features:\n",
    "        cor, p = stats.spearmanr(df_train[col],df_train[Target])\n",
    "        if p <= alpha:\n",
    "            correlation.append(col)\n",
    "        else:\n",
    "            no_correlation.append(col)\n",
    "            \n",
    "    return correlation"
   ]
  },
  {
   "cell_type": "code",
   "execution_count": 15,
   "metadata": {},
   "outputs": [
    {
     "data": {
      "text/plain": [
       "['Número Hóspedes',\n",
       " 'Número Quartos',\n",
       " 'Número Camas',\n",
       " 'Número Banheiros',\n",
       " 'Avaliação',\n",
       " 'Número Comentários',\n",
       " 'Taxa',\n",
       " 'Dia',\n",
       " 'Mes']"
      ]
     },
     "execution_count": 15,
     "metadata": {},
     "output_type": "execute_result"
    }
   ],
   "source": [
    "correlation = teste_correlacao(df_train, Target, features_num)\n",
    "correlation"
   ]
  },
  {
   "cell_type": "markdown",
   "metadata": {},
   "source": [
    "### Features categóricas:"
   ]
  },
  {
   "cell_type": "markdown",
   "metadata": {},
   "source": [
    "### Chi2"
   ]
  },
  {
   "cell_type": "code",
   "execution_count": 16,
   "metadata": {},
   "outputs": [],
   "source": [
    "def teste_chi2_(df, Target='Target', features_cat=features_cat, aplha=0.05):\n",
    "    \"\"\"\n",
    "    Chi2 test\n",
    "    df = DataFrame\n",
    "    Target = Target string\n",
    "    features = List of categorical features\n",
    "    aplha = indice of significance\n",
    "    Return a list of variable which has passed for Chi2 test\n",
    "    \"\"\"\n",
    "    from scipy.stats import chi2_contingency\n",
    "    p_values_cat_features = {}\n",
    "    for col in features_cat:\n",
    "        # Cria tabela de contingencia\n",
    "        df_cross = pd.crosstab(df[col], df[Target])\n",
    "        # Aplica o teste e extrai o p-valor\n",
    "        p_value = scipy.stats.chi2_contingency(df_cross)[1]\n",
    "        # Armazena coluna e p-valor em um dict\n",
    "        p_values_cat_features[col] = p_value\n",
    "        \n",
    "    p_values_cat_features = pd.Series(p_values_cat_features)\n",
    "    filter_cat_features = p_values_cat_features[p_values_cat_features < aplha].index.tolist()\n",
    "        \n",
    "    return filter_cat_features"
   ]
  },
  {
   "cell_type": "code",
   "execution_count": 17,
   "metadata": {},
   "outputs": [],
   "source": [
    "chi2 = teste_chi2_(df_train, Target = 'Preço/Noite', features_cat=features_cat)"
   ]
  },
  {
   "cell_type": "code",
   "execution_count": 18,
   "metadata": {},
   "outputs": [
    {
     "data": {
      "text/plain": [
       "['Localização',\n",
       " 'Academia',\n",
       " 'Ar-condicionado',\n",
       " 'Cozinha',\n",
       " 'Elevador',\n",
       " 'Estacionamento gratuito',\n",
       " 'Máquina de Lavar',\n",
       " 'Permitido animais',\n",
       " 'Piscina',\n",
       " 'Secadora',\n",
       " 'Self check-In',\n",
       " 'Wi-Fi',\n",
       " 'Café da Manhã',\n",
       " 'Entrada/saída para esquis',\n",
       " 'Jacuzzi',\n",
       " 'Lareira interna',\n",
       " 'Lava-louças',\n",
       " 'Banheiro Compartilhado',\n",
       " 'Vista',\n",
       " 'Demanda',\n",
       " 'É_feriado',\n",
       " 'Semana_do_ano',\n",
       " 'Semana de Feriado']"
      ]
     },
     "execution_count": 18,
     "metadata": {},
     "output_type": "execute_result"
    }
   ],
   "source": [
    "chi2"
   ]
  },
  {
   "cell_type": "markdown",
   "metadata": {},
   "source": [
    "Pelo processo de correlação, todas passaram pelo teste, porém pelo teste de Multicolinearidade. Número de quartos e número de hospedes não passaram."
   ]
  },
  {
   "cell_type": "markdown",
   "metadata": {},
   "source": [
    "## 4.2 RFECV"
   ]
  },
  {
   "cell_type": "markdown",
   "metadata": {},
   "source": [
    "Para este teste vamos utilizar o Dataframe encode"
   ]
  },
  {
   "cell_type": "code",
   "execution_count": 19,
   "metadata": {},
   "outputs": [],
   "source": [
    "def teste_rfe(X_train, y_train):\n",
    "    \"\"\"\n",
    "    RFE Test\n",
    "    X_train = Dataframe with all features to be tested and not target\n",
    "    y_train = Target\n",
    "    Return a list of varibales which has passed for the test\n",
    "    \"\"\"\n",
    "    from sklearn.feature_selection import RFECV\n",
    "    from sklearn.ensemble import RandomForestRegressor\n",
    "    rfecv_RFC = RFECV(estimator=RandomForestRegressor(n_jobs = -1, max_depth = 5), scoring='neg_mean_squared_error')\n",
    "    rfecv_RFC.fit(X_train,y_train)\n",
    "    mask_RFC = rfecv_RFC.support_\n",
    "    cols_selected_RFE = X_train.columns.tolist()\n",
    "    \n",
    "    return cols_selected_RFE"
   ]
  },
  {
   "cell_type": "code",
   "execution_count": 20,
   "metadata": {},
   "outputs": [],
   "source": [
    "rfe = teste_rfe(X_train, y_train)"
   ]
  },
  {
   "cell_type": "code",
   "execution_count": 21,
   "metadata": {},
   "outputs": [
    {
     "data": {
      "text/plain": [
       "['Localização',\n",
       " 'Número Hóspedes',\n",
       " 'Número Quartos',\n",
       " 'Número Camas',\n",
       " 'Número Banheiros',\n",
       " 'Avaliação',\n",
       " 'Número Comentários',\n",
       " 'Piscina',\n",
       " 'Lava-louças',\n",
       " 'Wi-Fi',\n",
       " 'Café da Manhã',\n",
       " 'Máquina de Lavar',\n",
       " 'Estacionamento gratuito',\n",
       " 'Academia',\n",
       " 'Jacuzzi',\n",
       " 'Secadora',\n",
       " 'Entrada/saída para esquis',\n",
       " 'Cozinha',\n",
       " 'Permitido animais',\n",
       " 'Lareira interna',\n",
       " 'Ar-condicionado',\n",
       " 'Self check-In',\n",
       " 'Elevador',\n",
       " 'Novo preço mais baixo',\n",
       " 'Raridade',\n",
       " 'Banheiro Compartilhado',\n",
       " 'Taxa',\n",
       " 'Vista',\n",
       " 'Demanda',\n",
       " 'É_feriado',\n",
       " 'É outilier',\n",
       " 'Mes',\n",
       " 'Dia',\n",
       " 'Semana_do_ano',\n",
       " 'Semana de Feriado']"
      ]
     },
     "execution_count": 21,
     "metadata": {},
     "output_type": "execute_result"
    }
   ],
   "source": [
    "rfe"
   ]
  },
  {
   "cell_type": "code",
   "execution_count": null,
   "metadata": {},
   "outputs": [],
   "source": []
  },
  {
   "cell_type": "markdown",
   "metadata": {},
   "source": [
    "## 4.3 Boruta"
   ]
  },
  {
   "cell_type": "code",
   "execution_count": 22,
   "metadata": {},
   "outputs": [],
   "source": [
    "def teste_boruta(X_train, y_train):\n",
    "    \"\"\"\n",
    "    Boruta Test - Return features which was aproved\n",
    "    X_train = Dataframe with all features to be tested and not target\n",
    "    y_train = Target\n",
    "    Return a list of varibales which has passed for the test\n",
    "    \"\"\"\n",
    "    from boruta import BorutaPy\n",
    "    from sklearn.ensemble import RandomForestRegressor\n",
    "    # -1 indica para o python usar todo o processador \n",
    "    boruta_selector = BorutaPy(RandomForestRegressor(n_jobs = -1, max_depth = 5), n_estimators = 50, max_iter=100, random_state = 0)\n",
    "    boruta_selector.fit(np.array(X_train), np.array(y_train))\n",
    "    boruta_selector.support_\n",
    "    boruta_selector.support_weak_\n",
    "    features_boruta = X_train.loc[:, boruta_selector.support_].columns.tolist()\n",
    "\n",
    "    return features_boruta "
   ]
  },
  {
   "cell_type": "code",
   "execution_count": 23,
   "metadata": {},
   "outputs": [],
   "source": [
    "boruta = teste_boruta(X_train, y_train)"
   ]
  },
  {
   "cell_type": "code",
   "execution_count": 24,
   "metadata": {},
   "outputs": [
    {
     "data": {
      "text/plain": [
       "['Localização',\n",
       " 'Número Hóspedes',\n",
       " 'Número Quartos',\n",
       " 'Número Camas',\n",
       " 'Número Banheiros',\n",
       " 'Avaliação',\n",
       " 'Número Comentários',\n",
       " 'Piscina',\n",
       " 'Academia',\n",
       " 'Jacuzzi',\n",
       " 'Secadora',\n",
       " 'Permitido animais',\n",
       " 'Taxa',\n",
       " 'Mes',\n",
       " 'Semana_do_ano']"
      ]
     },
     "execution_count": 24,
     "metadata": {},
     "output_type": "execute_result"
    }
   ],
   "source": [
    "boruta"
   ]
  },
  {
   "cell_type": "markdown",
   "metadata": {},
   "source": [
    "# 4.4 Variáveis Selecionadas"
   ]
  },
  {
   "cell_type": "markdown",
   "metadata": {},
   "source": [
    "### Testes estatísticos:"
   ]
  },
  {
   "cell_type": "code",
   "execution_count": 25,
   "metadata": {},
   "outputs": [
    {
     "data": {
      "text/plain": [
       "['Número Hóspedes',\n",
       " 'Número Quartos',\n",
       " 'Número Camas',\n",
       " 'Número Banheiros',\n",
       " 'Avaliação',\n",
       " 'Número Comentários',\n",
       " 'Taxa',\n",
       " 'Dia',\n",
       " 'Mes']"
      ]
     },
     "execution_count": 25,
     "metadata": {},
     "output_type": "execute_result"
    }
   ],
   "source": [
    "correlation"
   ]
  },
  {
   "cell_type": "code",
   "execution_count": 26,
   "metadata": {},
   "outputs": [
    {
     "data": {
      "text/plain": [
       "['Localização',\n",
       " 'Academia',\n",
       " 'Ar-condicionado',\n",
       " 'Cozinha',\n",
       " 'Elevador',\n",
       " 'Estacionamento gratuito',\n",
       " 'Máquina de Lavar',\n",
       " 'Permitido animais',\n",
       " 'Piscina',\n",
       " 'Secadora',\n",
       " 'Self check-In',\n",
       " 'Wi-Fi',\n",
       " 'Café da Manhã',\n",
       " 'Entrada/saída para esquis',\n",
       " 'Jacuzzi',\n",
       " 'Lareira interna',\n",
       " 'Lava-louças',\n",
       " 'Banheiro Compartilhado',\n",
       " 'Vista',\n",
       " 'Demanda',\n",
       " 'É_feriado',\n",
       " 'Semana_do_ano',\n",
       " 'Semana de Feriado']"
      ]
     },
     "execution_count": 26,
     "metadata": {},
     "output_type": "execute_result"
    }
   ],
   "source": [
    "chi2"
   ]
  },
  {
   "cell_type": "code",
   "execution_count": 70,
   "metadata": {},
   "outputs": [],
   "source": [
    "#vif"
   ]
  },
  {
   "cell_type": "code",
   "execution_count": 71,
   "metadata": {},
   "outputs": [],
   "source": [
    "#statistic_test_num = list(set(correlation).intersection(set(vif)))"
   ]
  },
  {
   "cell_type": "code",
   "execution_count": 72,
   "metadata": {},
   "outputs": [],
   "source": [
    "def feature_results___(correlation, chi2, rfe, boruta):\n",
    "    \n",
    "    # Junção dos testes de correlação e Chi2\n",
    "    statistic_test = correlation + chi2\n",
    "    # Interserção entre testes estatísticos e RFE\n",
    "    statistic_test_rfe = list(set(statistic_test).intersection(set(rfe)))\n",
    "    # Quem passou no primeiro que também passou no boruta\n",
    "    feature_selection = list(set(statistic_test_rfe).intersection(set(boruta)))\n",
    "    \n",
    "    return feature_selection"
   ]
  },
  {
   "cell_type": "code",
   "execution_count": 30,
   "metadata": {},
   "outputs": [],
   "source": [
    "def feature_results(correlation, chi2, rfe, boruta):\n",
    "    \"\"\"\n",
    "    Return a list which has passed for three testes\n",
    "    correlation = set of result from corrrelation teste\n",
    "    chi2 = set of features which has passed from chi2 teste\n",
    "    rfe = set of features which has passed from rfe teste\n",
    "    boruta = set of features which has passed from boruta teste\n",
    "    \"\"\"\n",
    "    # Junção dos testes de correlação e Chi2\n",
    "    statistic_test = correlation + chi2\n",
    "    # Interserção entre testes estatísticos e RFE\n",
    "    statistic_test_rfe = list(set(statistic_test).intersection(set(rfe)))\n",
    "    # Interserção entre testes estatísticos e boruta\n",
    "    statistic_test_boruta = list(set(statistic_test).intersection(set(boruta)))\n",
    "    # Interserção entre rfe e boruta\n",
    "    rfe_boruta = list(set(rfe).intersection(set(boruta)))\n",
    "    \n",
    "    # Quem passou no primeiro que também passou no boruta\n",
    "    feature_selection = set(statistic_test_rfe) & set(statistic_test_boruta) & set(rfe_boruta)\n",
    "    \n",
    "    return feature_selection"
   ]
  },
  {
   "cell_type": "code",
   "execution_count": 31,
   "metadata": {},
   "outputs": [
    {
     "data": {
      "text/plain": [
       "{'Academia',\n",
       " 'Avaliação',\n",
       " 'Jacuzzi',\n",
       " 'Localização',\n",
       " 'Mes',\n",
       " 'Número Banheiros',\n",
       " 'Número Camas',\n",
       " 'Número Comentários',\n",
       " 'Número Hóspedes',\n",
       " 'Número Quartos',\n",
       " 'Permitido animais',\n",
       " 'Piscina',\n",
       " 'Secadora',\n",
       " 'Semana_do_ano',\n",
       " 'Taxa'}"
      ]
     },
     "execution_count": 31,
     "metadata": {},
     "output_type": "execute_result"
    }
   ],
   "source": [
    "feature_results(correlation, chi2, rfe, boruta)"
   ]
  },
  {
   "cell_type": "code",
   "execution_count": 32,
   "metadata": {},
   "outputs": [],
   "source": [
    "feature_selection = feature_results(correlation, chi2, rfe, boruta)"
   ]
  },
  {
   "cell_type": "code",
   "execution_count": 33,
   "metadata": {},
   "outputs": [
    {
     "data": {
      "text/plain": [
       "{'Academia',\n",
       " 'Avaliação',\n",
       " 'Jacuzzi',\n",
       " 'Localização',\n",
       " 'Mes',\n",
       " 'Número Banheiros',\n",
       " 'Número Camas',\n",
       " 'Número Comentários',\n",
       " 'Número Hóspedes',\n",
       " 'Número Quartos',\n",
       " 'Permitido animais',\n",
       " 'Piscina',\n",
       " 'Secadora',\n",
       " 'Semana_do_ano',\n",
       " 'Taxa'}"
      ]
     },
     "execution_count": 33,
     "metadata": {},
     "output_type": "execute_result"
    }
   ],
   "source": [
    "feature_selection"
   ]
  },
  {
   "cell_type": "code",
   "execution_count": 34,
   "metadata": {},
   "outputs": [],
   "source": [
    "feature_selection_num = []\n",
    "feature_selection_cat = []\n",
    "count = 0\n",
    "for i in feature_selection:\n",
    "    if i in features_num:\n",
    "        feature_selection_num.append(i)\n",
    "    if i in features_cat:\n",
    "        feature_selection_cat.append(i)\n",
    "        count += 1"
   ]
  },
  {
   "cell_type": "code",
   "execution_count": 35,
   "metadata": {},
   "outputs": [
    {
     "data": {
      "text/plain": [
       "['Número Comentários',\n",
       " 'Número Camas',\n",
       " 'Número Quartos',\n",
       " 'Número Banheiros',\n",
       " 'Taxa',\n",
       " 'Mes',\n",
       " 'Número Hóspedes',\n",
       " 'Avaliação']"
      ]
     },
     "execution_count": 35,
     "metadata": {},
     "output_type": "execute_result"
    }
   ],
   "source": [
    "feature_selection_num"
   ]
  },
  {
   "cell_type": "code",
   "execution_count": 36,
   "metadata": {},
   "outputs": [
    {
     "data": {
      "text/plain": [
       "['Semana_do_ano',\n",
       " 'Jacuzzi',\n",
       " 'Academia',\n",
       " 'Secadora',\n",
       " 'Localização',\n",
       " 'Piscina',\n",
       " 'Permitido animais']"
      ]
     },
     "execution_count": 36,
     "metadata": {},
     "output_type": "execute_result"
    }
   ],
   "source": [
    "feature_selection_cat"
   ]
  },
  {
   "cell_type": "markdown",
   "metadata": {},
   "source": [
    "# 4.5 Teste de Multicolineariade"
   ]
  },
  {
   "cell_type": "code",
   "execution_count": 37,
   "metadata": {},
   "outputs": [],
   "source": [
    "def multicolinearidade(df, features):\n",
    "    \"\"\"\n",
    "    V-Cramer test\n",
    "    X = DataFrame without target\n",
    "    features = numerical features to be tested\n",
    "    Return a Dataframe with VIF score\n",
    "    \"\"\"  \n",
    "    # VIF dataframe \n",
    "    vif_data = pd.DataFrame() \n",
    "    vif_data[\"feature\"] = df.loc[:,features].columns \n",
    "    # calculando VIF \n",
    "    vif_data[\"VIF\"] = [variance_inflation_factor(df.loc[:,features].values, i) for i in range(len(df.loc[:,features].columns))] \n",
    "    \n",
    "    return vif_data.sort_values(by='VIF', ascending=False)"
   ]
  },
  {
   "cell_type": "code",
   "execution_count": 38,
   "metadata": {},
   "outputs": [
    {
     "data": {
      "text/html": [
       "<div>\n",
       "<style scoped>\n",
       "    .dataframe tbody tr th:only-of-type {\n",
       "        vertical-align: middle;\n",
       "    }\n",
       "\n",
       "    .dataframe tbody tr th {\n",
       "        vertical-align: top;\n",
       "    }\n",
       "\n",
       "    .dataframe thead th {\n",
       "        text-align: right;\n",
       "    }\n",
       "</style>\n",
       "<table border=\"1\" class=\"dataframe\">\n",
       "  <thead>\n",
       "    <tr style=\"text-align: right;\">\n",
       "      <th></th>\n",
       "      <th>feature</th>\n",
       "      <th>VIF</th>\n",
       "    </tr>\n",
       "  </thead>\n",
       "  <tbody>\n",
       "    <tr>\n",
       "      <th>7</th>\n",
       "      <td>Avaliação</td>\n",
       "      <td>24.386740</td>\n",
       "    </tr>\n",
       "    <tr>\n",
       "      <th>2</th>\n",
       "      <td>Número Quartos</td>\n",
       "      <td>18.434627</td>\n",
       "    </tr>\n",
       "    <tr>\n",
       "      <th>5</th>\n",
       "      <td>Mes</td>\n",
       "      <td>15.014006</td>\n",
       "    </tr>\n",
       "    <tr>\n",
       "      <th>3</th>\n",
       "      <td>Número Banheiros</td>\n",
       "      <td>14.024909</td>\n",
       "    </tr>\n",
       "    <tr>\n",
       "      <th>6</th>\n",
       "      <td>Número Hóspedes</td>\n",
       "      <td>12.705066</td>\n",
       "    </tr>\n",
       "    <tr>\n",
       "      <th>1</th>\n",
       "      <td>Número Camas</td>\n",
       "      <td>6.224634</td>\n",
       "    </tr>\n",
       "    <tr>\n",
       "      <th>4</th>\n",
       "      <td>Taxa</td>\n",
       "      <td>4.763461</td>\n",
       "    </tr>\n",
       "    <tr>\n",
       "      <th>0</th>\n",
       "      <td>Número Comentários</td>\n",
       "      <td>2.031651</td>\n",
       "    </tr>\n",
       "  </tbody>\n",
       "</table>\n",
       "</div>"
      ],
      "text/plain": [
       "              feature        VIF\n",
       "7           Avaliação  24.386740\n",
       "2      Número Quartos  18.434627\n",
       "5                 Mes  15.014006\n",
       "3    Número Banheiros  14.024909\n",
       "6     Número Hóspedes  12.705066\n",
       "1        Número Camas   6.224634\n",
       "4                Taxa   4.763461\n",
       "0  Número Comentários   2.031651"
      ]
     },
     "execution_count": 38,
     "metadata": {},
     "output_type": "execute_result"
    }
   ],
   "source": [
    "multicolinearidade(X_train, feature_selection_num)"
   ]
  },
  {
   "cell_type": "code",
   "execution_count": 41,
   "metadata": {},
   "outputs": [],
   "source": [
    "feature_selection_num.remove('Avaliação')"
   ]
  },
  {
   "cell_type": "code",
   "execution_count": 42,
   "metadata": {},
   "outputs": [
    {
     "data": {
      "text/html": [
       "<div>\n",
       "<style scoped>\n",
       "    .dataframe tbody tr th:only-of-type {\n",
       "        vertical-align: middle;\n",
       "    }\n",
       "\n",
       "    .dataframe tbody tr th {\n",
       "        vertical-align: top;\n",
       "    }\n",
       "\n",
       "    .dataframe thead th {\n",
       "        text-align: right;\n",
       "    }\n",
       "</style>\n",
       "<table border=\"1\" class=\"dataframe\">\n",
       "  <thead>\n",
       "    <tr style=\"text-align: right;\">\n",
       "      <th></th>\n",
       "      <th>feature</th>\n",
       "      <th>VIF</th>\n",
       "    </tr>\n",
       "  </thead>\n",
       "  <tbody>\n",
       "    <tr>\n",
       "      <th>2</th>\n",
       "      <td>Número Quartos</td>\n",
       "      <td>18.431163</td>\n",
       "    </tr>\n",
       "    <tr>\n",
       "      <th>3</th>\n",
       "      <td>Número Banheiros</td>\n",
       "      <td>13.868337</td>\n",
       "    </tr>\n",
       "    <tr>\n",
       "      <th>6</th>\n",
       "      <td>Número Hóspedes</td>\n",
       "      <td>12.101648</td>\n",
       "    </tr>\n",
       "    <tr>\n",
       "      <th>1</th>\n",
       "      <td>Número Camas</td>\n",
       "      <td>6.211218</td>\n",
       "    </tr>\n",
       "    <tr>\n",
       "      <th>5</th>\n",
       "      <td>Mes</td>\n",
       "      <td>5.797885</td>\n",
       "    </tr>\n",
       "    <tr>\n",
       "      <th>4</th>\n",
       "      <td>Taxa</td>\n",
       "      <td>4.320247</td>\n",
       "    </tr>\n",
       "    <tr>\n",
       "      <th>0</th>\n",
       "      <td>Número Comentários</td>\n",
       "      <td>1.935669</td>\n",
       "    </tr>\n",
       "  </tbody>\n",
       "</table>\n",
       "</div>"
      ],
      "text/plain": [
       "              feature        VIF\n",
       "2      Número Quartos  18.431163\n",
       "3    Número Banheiros  13.868337\n",
       "6     Número Hóspedes  12.101648\n",
       "1        Número Camas   6.211218\n",
       "5                 Mes   5.797885\n",
       "4                Taxa   4.320247\n",
       "0  Número Comentários   1.935669"
      ]
     },
     "execution_count": 42,
     "metadata": {},
     "output_type": "execute_result"
    }
   ],
   "source": [
    "multicolinearidade(X_train, feature_selection_num)"
   ]
  },
  {
   "cell_type": "code",
   "execution_count": 43,
   "metadata": {},
   "outputs": [],
   "source": [
    "feature_selection_num.remove('Número Quartos')"
   ]
  },
  {
   "cell_type": "code",
   "execution_count": 44,
   "metadata": {},
   "outputs": [
    {
     "data": {
      "text/html": [
       "<div>\n",
       "<style scoped>\n",
       "    .dataframe tbody tr th:only-of-type {\n",
       "        vertical-align: middle;\n",
       "    }\n",
       "\n",
       "    .dataframe tbody tr th {\n",
       "        vertical-align: top;\n",
       "    }\n",
       "\n",
       "    .dataframe thead th {\n",
       "        text-align: right;\n",
       "    }\n",
       "</style>\n",
       "<table border=\"1\" class=\"dataframe\">\n",
       "  <thead>\n",
       "    <tr style=\"text-align: right;\">\n",
       "      <th></th>\n",
       "      <th>feature</th>\n",
       "      <th>VIF</th>\n",
       "    </tr>\n",
       "  </thead>\n",
       "  <tbody>\n",
       "    <tr>\n",
       "      <th>5</th>\n",
       "      <td>Número Hóspedes</td>\n",
       "      <td>10.565242</td>\n",
       "    </tr>\n",
       "    <tr>\n",
       "      <th>2</th>\n",
       "      <td>Número Banheiros</td>\n",
       "      <td>8.419417</td>\n",
       "    </tr>\n",
       "    <tr>\n",
       "      <th>1</th>\n",
       "      <td>Número Camas</td>\n",
       "      <td>5.918743</td>\n",
       "    </tr>\n",
       "    <tr>\n",
       "      <th>4</th>\n",
       "      <td>Mes</td>\n",
       "      <td>5.793528</td>\n",
       "    </tr>\n",
       "    <tr>\n",
       "      <th>3</th>\n",
       "      <td>Taxa</td>\n",
       "      <td>4.267290</td>\n",
       "    </tr>\n",
       "    <tr>\n",
       "      <th>0</th>\n",
       "      <td>Número Comentários</td>\n",
       "      <td>1.933112</td>\n",
       "    </tr>\n",
       "  </tbody>\n",
       "</table>\n",
       "</div>"
      ],
      "text/plain": [
       "              feature        VIF\n",
       "5     Número Hóspedes  10.565242\n",
       "2    Número Banheiros   8.419417\n",
       "1        Número Camas   5.918743\n",
       "4                 Mes   5.793528\n",
       "3                Taxa   4.267290\n",
       "0  Número Comentários   1.933112"
      ]
     },
     "execution_count": 44,
     "metadata": {},
     "output_type": "execute_result"
    }
   ],
   "source": [
    "multicolinearidade(X_train, feature_selection_num)"
   ]
  },
  {
   "cell_type": "code",
   "execution_count": 45,
   "metadata": {},
   "outputs": [],
   "source": [
    "vif = multicolinearidade(X_train, feature_selection_num)"
   ]
  },
  {
   "cell_type": "code",
   "execution_count": 46,
   "metadata": {},
   "outputs": [],
   "source": [
    "def vif_list(vif):\n",
    "    \"\"\"\n",
    "    Tranforming resut VIF test into a list of variables\n",
    "    vif = DataFrame from teste_vif\n",
    "    Return a list of variables \n",
    "    \"\"\"\n",
    "    vif = vif.pivot_table(columns='feature')\n",
    "    vif = vif.columns.tolist()\n",
    "    \n",
    "    return vif"
   ]
  },
  {
   "cell_type": "code",
   "execution_count": 47,
   "metadata": {},
   "outputs": [],
   "source": [
    "vif = vif_list(vif)"
   ]
  },
  {
   "cell_type": "code",
   "execution_count": 48,
   "metadata": {},
   "outputs": [
    {
     "data": {
      "text/plain": [
       "['Mes',\n",
       " 'Número Banheiros',\n",
       " 'Número Camas',\n",
       " 'Número Comentários',\n",
       " 'Número Hóspedes',\n",
       " 'Taxa']"
      ]
     },
     "execution_count": 48,
     "metadata": {},
     "output_type": "execute_result"
    }
   ],
   "source": [
    "# Variáveis sem multicolinearidade\n",
    "vif"
   ]
  },
  {
   "cell_type": "code",
   "execution_count": null,
   "metadata": {},
   "outputs": [],
   "source": [
    "# Agora vamos juntar estas variáveis áquela que dropamos ante de passar no VIF."
   ]
  },
  {
   "cell_type": "markdown",
   "metadata": {},
   "source": [
    "Finalizado todos os testes, Temos um conjunto sem multicolinearidade para o modelo."
   ]
  },
  {
   "cell_type": "code",
   "execution_count": 49,
   "metadata": {},
   "outputs": [],
   "source": [
    "df_train = df_train[vif + feature_selection_cat + Target]"
   ]
  },
  {
   "cell_type": "code",
   "execution_count": 50,
   "metadata": {},
   "outputs": [
    {
     "data": {
      "text/html": [
       "<div>\n",
       "<style scoped>\n",
       "    .dataframe tbody tr th:only-of-type {\n",
       "        vertical-align: middle;\n",
       "    }\n",
       "\n",
       "    .dataframe tbody tr th {\n",
       "        vertical-align: top;\n",
       "    }\n",
       "\n",
       "    .dataframe thead th {\n",
       "        text-align: right;\n",
       "    }\n",
       "</style>\n",
       "<table border=\"1\" class=\"dataframe\">\n",
       "  <thead>\n",
       "    <tr style=\"text-align: right;\">\n",
       "      <th></th>\n",
       "      <th>Mes</th>\n",
       "      <th>Número Banheiros</th>\n",
       "      <th>Número Camas</th>\n",
       "      <th>Número Comentários</th>\n",
       "      <th>Número Hóspedes</th>\n",
       "      <th>Taxa</th>\n",
       "      <th>Semana_do_ano</th>\n",
       "      <th>Jacuzzi</th>\n",
       "      <th>Academia</th>\n",
       "      <th>Secadora</th>\n",
       "      <th>Localização</th>\n",
       "      <th>Piscina</th>\n",
       "      <th>Permitido animais</th>\n",
       "      <th>Preço/Noite</th>\n",
       "    </tr>\n",
       "  </thead>\n",
       "  <tbody>\n",
       "    <tr>\n",
       "      <th>0</th>\n",
       "      <td>3</td>\n",
       "      <td>1</td>\n",
       "      <td>3</td>\n",
       "      <td>18</td>\n",
       "      <td>4</td>\n",
       "      <td>60.0</td>\n",
       "      <td>9</td>\n",
       "      <td>0</td>\n",
       "      <td>0</td>\n",
       "      <td>0</td>\n",
       "      <td>0.02946067949631741</td>\n",
       "      <td>1</td>\n",
       "      <td>0</td>\n",
       "      <td>184.0</td>\n",
       "    </tr>\n",
       "    <tr>\n",
       "      <th>1</th>\n",
       "      <td>3</td>\n",
       "      <td>1</td>\n",
       "      <td>4</td>\n",
       "      <td>41</td>\n",
       "      <td>4</td>\n",
       "      <td>30.0</td>\n",
       "      <td>11</td>\n",
       "      <td>0</td>\n",
       "      <td>0</td>\n",
       "      <td>0</td>\n",
       "      <td>0.04276550249465432</td>\n",
       "      <td>1</td>\n",
       "      <td>0</td>\n",
       "      <td>198.0</td>\n",
       "    </tr>\n",
       "    <tr>\n",
       "      <th>2</th>\n",
       "      <td>3</td>\n",
       "      <td>2</td>\n",
       "      <td>8</td>\n",
       "      <td>7</td>\n",
       "      <td>10</td>\n",
       "      <td>0.0</td>\n",
       "      <td>9</td>\n",
       "      <td>0</td>\n",
       "      <td>0</td>\n",
       "      <td>0</td>\n",
       "      <td>0.0030886196246139226</td>\n",
       "      <td>0</td>\n",
       "      <td>0</td>\n",
       "      <td>351.0</td>\n",
       "    </tr>\n",
       "    <tr>\n",
       "      <th>3</th>\n",
       "      <td>3</td>\n",
       "      <td>1</td>\n",
       "      <td>2</td>\n",
       "      <td>5</td>\n",
       "      <td>4</td>\n",
       "      <td>60.0</td>\n",
       "      <td>12</td>\n",
       "      <td>0</td>\n",
       "      <td>0</td>\n",
       "      <td>0</td>\n",
       "      <td>0.01876930387265384</td>\n",
       "      <td>0</td>\n",
       "      <td>1</td>\n",
       "      <td>191.0</td>\n",
       "    </tr>\n",
       "    <tr>\n",
       "      <th>4</th>\n",
       "      <td>2</td>\n",
       "      <td>1</td>\n",
       "      <td>4</td>\n",
       "      <td>3</td>\n",
       "      <td>4</td>\n",
       "      <td>58.0</td>\n",
       "      <td>8</td>\n",
       "      <td>0</td>\n",
       "      <td>0</td>\n",
       "      <td>0</td>\n",
       "      <td>0.01876930387265384</td>\n",
       "      <td>0</td>\n",
       "      <td>1</td>\n",
       "      <td>124.0</td>\n",
       "    </tr>\n",
       "    <tr>\n",
       "      <th>...</th>\n",
       "      <td>...</td>\n",
       "      <td>...</td>\n",
       "      <td>...</td>\n",
       "      <td>...</td>\n",
       "      <td>...</td>\n",
       "      <td>...</td>\n",
       "      <td>...</td>\n",
       "      <td>...</td>\n",
       "      <td>...</td>\n",
       "      <td>...</td>\n",
       "      <td>...</td>\n",
       "      <td>...</td>\n",
       "      <td>...</td>\n",
       "      <td>...</td>\n",
       "    </tr>\n",
       "    <tr>\n",
       "      <th>4204</th>\n",
       "      <td>3</td>\n",
       "      <td>3</td>\n",
       "      <td>4</td>\n",
       "      <td>34</td>\n",
       "      <td>10</td>\n",
       "      <td>75.0</td>\n",
       "      <td>11</td>\n",
       "      <td>0</td>\n",
       "      <td>0</td>\n",
       "      <td>0</td>\n",
       "      <td>0.005939653124257543</td>\n",
       "      <td>1</td>\n",
       "      <td>0</td>\n",
       "      <td>581.0</td>\n",
       "    </tr>\n",
       "    <tr>\n",
       "      <th>4205</th>\n",
       "      <td>3</td>\n",
       "      <td>1</td>\n",
       "      <td>3</td>\n",
       "      <td>16</td>\n",
       "      <td>4</td>\n",
       "      <td>49.5</td>\n",
       "      <td>9</td>\n",
       "      <td>0</td>\n",
       "      <td>0</td>\n",
       "      <td>0</td>\n",
       "      <td>0.0033262057495842237</td>\n",
       "      <td>0</td>\n",
       "      <td>1</td>\n",
       "      <td>247.0</td>\n",
       "    </tr>\n",
       "    <tr>\n",
       "      <th>4206</th>\n",
       "      <td>3</td>\n",
       "      <td>1</td>\n",
       "      <td>2</td>\n",
       "      <td>6</td>\n",
       "      <td>6</td>\n",
       "      <td>10.0</td>\n",
       "      <td>9</td>\n",
       "      <td>0</td>\n",
       "      <td>0</td>\n",
       "      <td>0</td>\n",
       "      <td>0.011879306248515086</td>\n",
       "      <td>0</td>\n",
       "      <td>1</td>\n",
       "      <td>150.0</td>\n",
       "    </tr>\n",
       "    <tr>\n",
       "      <th>4207</th>\n",
       "      <td>3</td>\n",
       "      <td>1</td>\n",
       "      <td>6</td>\n",
       "      <td>38</td>\n",
       "      <td>6</td>\n",
       "      <td>10.0</td>\n",
       "      <td>11</td>\n",
       "      <td>0</td>\n",
       "      <td>0</td>\n",
       "      <td>0</td>\n",
       "      <td>0.009978617248752672</td>\n",
       "      <td>0</td>\n",
       "      <td>0</td>\n",
       "      <td>103.0</td>\n",
       "    </tr>\n",
       "    <tr>\n",
       "      <th>4208</th>\n",
       "      <td>3</td>\n",
       "      <td>2</td>\n",
       "      <td>9</td>\n",
       "      <td>7</td>\n",
       "      <td>12</td>\n",
       "      <td>50.0</td>\n",
       "      <td>12</td>\n",
       "      <td>0</td>\n",
       "      <td>0</td>\n",
       "      <td>0</td>\n",
       "      <td>0.009028272748871463</td>\n",
       "      <td>1</td>\n",
       "      <td>0</td>\n",
       "      <td>338.0</td>\n",
       "    </tr>\n",
       "  </tbody>\n",
       "</table>\n",
       "<p>4209 rows × 14 columns</p>\n",
       "</div>"
      ],
      "text/plain": [
       "      Mes  Número Banheiros  Número Camas  Número Comentários  \\\n",
       "0       3                 1             3                  18   \n",
       "1       3                 1             4                  41   \n",
       "2       3                 2             8                   7   \n",
       "3       3                 1             2                   5   \n",
       "4       2                 1             4                   3   \n",
       "...   ...               ...           ...                 ...   \n",
       "4204    3                 3             4                  34   \n",
       "4205    3                 1             3                  16   \n",
       "4206    3                 1             2                   6   \n",
       "4207    3                 1             6                  38   \n",
       "4208    3                 2             9                   7   \n",
       "\n",
       "      Número Hóspedes  Taxa Semana_do_ano Jacuzzi Academia Secadora  \\\n",
       "0                   4  60.0             9       0        0        0   \n",
       "1                   4  30.0            11       0        0        0   \n",
       "2                  10   0.0             9       0        0        0   \n",
       "3                   4  60.0            12       0        0        0   \n",
       "4                   4  58.0             8       0        0        0   \n",
       "...               ...   ...           ...     ...      ...      ...   \n",
       "4204               10  75.0            11       0        0        0   \n",
       "4205                4  49.5             9       0        0        0   \n",
       "4206                6  10.0             9       0        0        0   \n",
       "4207                6  10.0            11       0        0        0   \n",
       "4208               12  50.0            12       0        0        0   \n",
       "\n",
       "                Localização Piscina Permitido animais  Preço/Noite  \n",
       "0       0.02946067949631741       1                 0        184.0  \n",
       "1       0.04276550249465432       1                 0        198.0  \n",
       "2     0.0030886196246139226       0                 0        351.0  \n",
       "3       0.01876930387265384       0                 1        191.0  \n",
       "4       0.01876930387265384       0                 1        124.0  \n",
       "...                     ...     ...               ...          ...  \n",
       "4204   0.005939653124257543       1                 0        581.0  \n",
       "4205  0.0033262057495842237       0                 1        247.0  \n",
       "4206   0.011879306248515086       0                 1        150.0  \n",
       "4207   0.009978617248752672       0                 0        103.0  \n",
       "4208   0.009028272748871463       1                 0        338.0  \n",
       "\n",
       "[4209 rows x 14 columns]"
      ]
     },
     "execution_count": 50,
     "metadata": {},
     "output_type": "execute_result"
    }
   ],
   "source": [
    "df_train"
   ]
  },
  {
   "cell_type": "code",
   "execution_count": 51,
   "metadata": {
    "scrolled": true
   },
   "outputs": [
    {
     "name": "stdout",
     "output_type": "stream",
     "text": [
      "14\n"
     ]
    }
   ],
   "source": [
    "print(len(df_train.columns))"
   ]
  },
  {
   "cell_type": "code",
   "execution_count": null,
   "metadata": {},
   "outputs": [],
   "source": [
    "# criar função de junção das features selecionadas no dataframe"
   ]
  },
  {
   "cell_type": "markdown",
   "metadata": {},
   "source": [
    "# Export"
   ]
  },
  {
   "cell_type": "code",
   "execution_count": 52,
   "metadata": {},
   "outputs": [],
   "source": [
    "DATA_OUTPUT_FEAT_SELECTED_V2 = '../data/DATA_feature_selected_V2.csv'"
   ]
  },
  {
   "cell_type": "code",
   "execution_count": 53,
   "metadata": {},
   "outputs": [],
   "source": [
    "df_train.to_csv(DATA_OUTPUT_FEAT_SELECTED_V2)"
   ]
  }
 ],
 "metadata": {
  "kernelspec": {
   "display_name": "Python 3",
   "language": "python",
   "name": "python3"
  },
  "language_info": {
   "codemirror_mode": {
    "name": "ipython",
    "version": 3
   },
   "file_extension": ".py",
   "mimetype": "text/x-python",
   "name": "python",
   "nbconvert_exporter": "python",
   "pygments_lexer": "ipython3",
   "version": "3.8.3"
  }
 },
 "nbformat": 4,
 "nbformat_minor": 4
}
